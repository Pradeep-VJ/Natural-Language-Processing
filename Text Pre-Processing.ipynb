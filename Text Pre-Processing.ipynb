{
 "cells": [
  {
   "cell_type": "code",
   "execution_count": 1,
   "metadata": {},
   "outputs": [],
   "source": [
    "Example_File='SpamData/01_Processing/practice_email.txt'"
   ]
  },
  {
   "cell_type": "code",
   "execution_count": 2,
   "metadata": {},
   "outputs": [
    {
     "data": {
      "text/plain": [
       "'SpamData/01_Processing/practice_email.txt'"
      ]
     },
     "execution_count": 2,
     "metadata": {},
     "output_type": "execute_result"
    }
   ],
   "source": [
    "Example_File"
   ]
  },
  {
   "cell_type": "code",
   "execution_count": 3,
   "metadata": {},
   "outputs": [],
   "source": [
    "stream = open(Example_File)"
   ]
  },
  {
   "cell_type": "code",
   "execution_count": 4,
   "metadata": {},
   "outputs": [],
   "source": [
    "message=stream.read()"
   ]
  },
  {
   "cell_type": "code",
   "execution_count": 5,
   "metadata": {},
   "outputs": [],
   "source": [
    "stream.close()"
   ]
  },
  {
   "cell_type": "code",
   "execution_count": 6,
   "metadata": {},
   "outputs": [
    {
     "name": "stdout",
     "output_type": "stream",
     "text": [
      "From exmh-workers-admin@redhat.com  Thu Aug 22 12:36:23 2002\n",
      "Return-Path: <exmh-workers-admin@spamassassin.taint.org>\n",
      "Delivered-To: zzzz@localhost.netnoteinc.com\n",
      "Received: from localhost (localhost [127.0.0.1])\n",
      "\tby phobos.labs.netnoteinc.com (Postfix) with ESMTP id D03E543C36\n",
      "\tfor <zzzz@localhost>; Thu, 22 Aug 2002 07:36:16 -0400 (EDT)\n",
      "Received: from phobos [127.0.0.1]\n",
      "\tby localhost with IMAP (fetchmail-5.9.0)\n",
      "\tfor zzzz@localhost (single-drop); Thu, 22 Aug 2002 12:36:16 +0100 (IST)\n",
      "Received: from listman.spamassassin.taint.org (listman.spamassassin.taint.org [66.187.233.211]) by\n",
      "    dogma.slashnull.org (8.11.6/8.11.6) with ESMTP id g7MBYrZ04811 for\n",
      "    <zzzz-exmh@spamassassin.taint.org>; Thu, 22 Aug 2002 12:34:53 +0100\n",
      "Received: from listman.spamassassin.taint.org (localhost.localdomain [127.0.0.1]) by\n",
      "    listman.redhat.com (Postfix) with ESMTP id 8386540858; Thu, 22 Aug 2002\n",
      "    07:35:02 -0400 (EDT)\n",
      "Delivered-To: exmh-workers@listman.spamassassin.taint.org\n",
      "Received: from int-mx1.corp.spamassassin.taint.org (int-mx1.corp.spamassassin.taint.org\n",
      "    [172.16.52.254]) by listman.redhat.com (Postfix) with ESMTP id 10CF8406D7\n",
      "    for <exmh-workers@listman.redhat.com>; Thu, 22 Aug 2002 07:34:10 -0400\n",
      "    (EDT)\n",
      "Received: (from mail@localhost) by int-mx1.corp.spamassassin.taint.org (8.11.6/8.11.6)\n",
      "    id g7MBY7g11259 for exmh-workers@listman.redhat.com; Thu, 22 Aug 2002\n",
      "    07:34:07 -0400\n",
      "Received: from mx1.spamassassin.taint.org (mx1.spamassassin.taint.org [172.16.48.31]) by\n",
      "    int-mx1.corp.redhat.com (8.11.6/8.11.6) with SMTP id g7MBY7Y11255 for\n",
      "    <exmh-workers@redhat.com>; Thu, 22 Aug 2002 07:34:07 -0400\n",
      "Received: from ratree.psu.ac.th ([202.28.97.6]) by mx1.spamassassin.taint.org\n",
      "    (8.11.6/8.11.6) with SMTP id g7MBIhl25223 for <exmh-workers@redhat.com>;\n",
      "    Thu, 22 Aug 2002 07:18:55 -0400\n",
      "Received: from delta.cs.mu.OZ.AU (delta.coe.psu.ac.th [172.30.0.98]) by\n",
      "    ratree.psu.ac.th (8.11.6/8.11.6) with ESMTP id g7MBWel29762;\n",
      "    Thu, 22 Aug 2002 18:32:40 +0700 (ICT)\n",
      "Received: from munnari.OZ.AU (localhost [127.0.0.1]) by delta.cs.mu.OZ.AU\n",
      "    (8.11.6/8.11.6) with ESMTP id g7MBQPW13260; Thu, 22 Aug 2002 18:26:25\n",
      "    +0700 (ICT)\n",
      "From: Robert Elz <kre@munnari.OZ.AU>\n",
      "To: Chris Garrigues <cwg-dated-1030377287.06fa6d@DeepEddy.Com>\n",
      "Cc: exmh-workers@spamassassin.taint.org\n",
      "Subject: Re: New Sequences Window\n",
      "In-Reply-To: <1029945287.4797.TMDA@deepeddy.vircio.com>\n",
      "References: <1029945287.4797.TMDA@deepeddy.vircio.com>\n",
      "    <1029882468.3116.TMDA@deepeddy.vircio.com> <9627.1029933001@munnari.OZ.AU>\n",
      "    <1029943066.26919.TMDA@deepeddy.vircio.com>\n",
      "    <1029944441.398.TMDA@deepeddy.vircio.com>\n",
      "MIME-Version: 1.0\n",
      "Content-Type: text/plain; charset=us-ascii\n",
      "Message-Id: <13258.1030015585@munnari.OZ.AU>\n",
      "X-Loop: exmh-workers@spamassassin.taint.org\n",
      "Sender: exmh-workers-admin@spamassassin.taint.org\n",
      "Errors-To: exmh-workers-admin@spamassassin.taint.org\n",
      "X-Beenthere: exmh-workers@spamassassin.taint.org\n",
      "X-Mailman-Version: 2.0.1\n",
      "Precedence: bulk\n",
      "List-Help: <mailto:exmh-workers-request@spamassassin.taint.org?subject=help>\n",
      "List-Post: <mailto:exmh-workers@spamassassin.taint.org>\n",
      "List-Subscribe: <https://listman.spamassassin.taint.org/mailman/listinfo/exmh-workers>,\n",
      "    <mailto:exmh-workers-request@redhat.com?subject=subscribe>\n",
      "List-Id: Discussion list for EXMH developers <exmh-workers.spamassassin.taint.org>\n",
      "List-Unsubscribe: <https://listman.spamassassin.taint.org/mailman/listinfo/exmh-workers>,\n",
      "    <mailto:exmh-workers-request@redhat.com?subject=unsubscribe>\n",
      "List-Archive: <https://listman.spamassassin.taint.org/mailman/private/exmh-workers/>\n",
      "Date: Thu, 22 Aug 2002 18:26:25 +0700\n",
      "\n",
      "\n",
      "Dear Mr Still\n",
      "\n",
      "Good tidings to you and all your staff for the festive season ahead (Christmas).\n",
      "Now to the crux of the matter-in-hand: I am a fully qualified Santa Claus and am wondering whether you might consider me to run my own \"Santa's Grotto\" in your store.\n",
      "But WAIT! You're probably thinking: \"What makes him so special?\"\n",
      "Well, first of all, I have made several changes to the characterisation of Father Christmas. Rather than greeting the children with shouts of \"Ho, ho, ho!\" I prefer to whisper the phrase \"Dependence is not unfathomable in this cruel world we live in\". In addition, my gifts are ALL hand-made, ranging from felt hoops to vanilla-pod holders.\n",
      "You will note also, from the enclosed sketch, that I have radically redesigned Santa's outfit and have renamed my character \"Lord Buckles\". Would you be interested in employing me? I promise NEVER to let you down.\n",
      "I look forward to hearing from you.\n",
      "\n",
      "Best wishes\n",
      "Robin Cooper\n",
      "[Excerpt from the book: The Timewaster Letters by Robin Cooper]\n",
      "\n"
     ]
    }
   ],
   "source": [
    "print(message)"
   ]
  },
  {
   "cell_type": "code",
   "execution_count": 7,
   "metadata": {},
   "outputs": [],
   "source": [
    "import sys"
   ]
  },
  {
   "cell_type": "code",
   "execution_count": 8,
   "metadata": {},
   "outputs": [
    {
     "data": {
      "text/plain": [
       "'utf-8'"
      ]
     },
     "execution_count": 8,
     "metadata": {},
     "output_type": "execute_result"
    }
   ],
   "source": [
    "sys.getfilesystemencoding()"
   ]
  },
  {
   "cell_type": "code",
   "execution_count": 9,
   "metadata": {},
   "outputs": [],
   "source": [
    "stream=open(Example_File, encoding='latin-1')\n",
    "message=stream.read()\n",
    "stream.close()"
   ]
  },
  {
   "cell_type": "code",
   "execution_count": 10,
   "metadata": {},
   "outputs": [
    {
     "name": "stdout",
     "output_type": "stream",
     "text": [
      "From exmh-workers-admin@redhat.com  Thu Aug 22 12:36:23 2002\n",
      "Return-Path: <exmh-workers-admin@spamassassin.taint.org>\n",
      "Delivered-To: zzzz@localhost.netnoteinc.com\n",
      "Received: from localhost (localhost [127.0.0.1])\n",
      "\tby phobos.labs.netnoteinc.com (Postfix) with ESMTP id D03E543C36\n",
      "\tfor <zzzz@localhost>; Thu, 22 Aug 2002 07:36:16 -0400 (EDT)\n",
      "Received: from phobos [127.0.0.1]\n",
      "\tby localhost with IMAP (fetchmail-5.9.0)\n",
      "\tfor zzzz@localhost (single-drop); Thu, 22 Aug 2002 12:36:16 +0100 (IST)\n",
      "Received: from listman.spamassassin.taint.org (listman.spamassassin.taint.org [66.187.233.211]) by\n",
      "    dogma.slashnull.org (8.11.6/8.11.6) with ESMTP id g7MBYrZ04811 for\n",
      "    <zzzz-exmh@spamassassin.taint.org>; Thu, 22 Aug 2002 12:34:53 +0100\n",
      "Received: from listman.spamassassin.taint.org (localhost.localdomain [127.0.0.1]) by\n",
      "    listman.redhat.com (Postfix) with ESMTP id 8386540858; Thu, 22 Aug 2002\n",
      "    07:35:02 -0400 (EDT)\n",
      "Delivered-To: exmh-workers@listman.spamassassin.taint.org\n",
      "Received: from int-mx1.corp.spamassassin.taint.org (int-mx1.corp.spamassassin.taint.org\n",
      "    [172.16.52.254]) by listman.redhat.com (Postfix) with ESMTP id 10CF8406D7\n",
      "    for <exmh-workers@listman.redhat.com>; Thu, 22 Aug 2002 07:34:10 -0400\n",
      "    (EDT)\n",
      "Received: (from mail@localhost) by int-mx1.corp.spamassassin.taint.org (8.11.6/8.11.6)\n",
      "    id g7MBY7g11259 for exmh-workers@listman.redhat.com; Thu, 22 Aug 2002\n",
      "    07:34:07 -0400\n",
      "Received: from mx1.spamassassin.taint.org (mx1.spamassassin.taint.org [172.16.48.31]) by\n",
      "    int-mx1.corp.redhat.com (8.11.6/8.11.6) with SMTP id g7MBY7Y11255 for\n",
      "    <exmh-workers@redhat.com>; Thu, 22 Aug 2002 07:34:07 -0400\n",
      "Received: from ratree.psu.ac.th ([202.28.97.6]) by mx1.spamassassin.taint.org\n",
      "    (8.11.6/8.11.6) with SMTP id g7MBIhl25223 for <exmh-workers@redhat.com>;\n",
      "    Thu, 22 Aug 2002 07:18:55 -0400\n",
      "Received: from delta.cs.mu.OZ.AU (delta.coe.psu.ac.th [172.30.0.98]) by\n",
      "    ratree.psu.ac.th (8.11.6/8.11.6) with ESMTP id g7MBWel29762;\n",
      "    Thu, 22 Aug 2002 18:32:40 +0700 (ICT)\n",
      "Received: from munnari.OZ.AU (localhost [127.0.0.1]) by delta.cs.mu.OZ.AU\n",
      "    (8.11.6/8.11.6) with ESMTP id g7MBQPW13260; Thu, 22 Aug 2002 18:26:25\n",
      "    +0700 (ICT)\n",
      "From: Robert Elz <kre@munnari.OZ.AU>\n",
      "To: Chris Garrigues <cwg-dated-1030377287.06fa6d@DeepEddy.Com>\n",
      "Cc: exmh-workers@spamassassin.taint.org\n",
      "Subject: Re: New Sequences Window\n",
      "In-Reply-To: <1029945287.4797.TMDA@deepeddy.vircio.com>\n",
      "References: <1029945287.4797.TMDA@deepeddy.vircio.com>\n",
      "    <1029882468.3116.TMDA@deepeddy.vircio.com> <9627.1029933001@munnari.OZ.AU>\n",
      "    <1029943066.26919.TMDA@deepeddy.vircio.com>\n",
      "    <1029944441.398.TMDA@deepeddy.vircio.com>\n",
      "MIME-Version: 1.0\n",
      "Content-Type: text/plain; charset=us-ascii\n",
      "Message-Id: <13258.1030015585@munnari.OZ.AU>\n",
      "X-Loop: exmh-workers@spamassassin.taint.org\n",
      "Sender: exmh-workers-admin@spamassassin.taint.org\n",
      "Errors-To: exmh-workers-admin@spamassassin.taint.org\n",
      "X-Beenthere: exmh-workers@spamassassin.taint.org\n",
      "X-Mailman-Version: 2.0.1\n",
      "Precedence: bulk\n",
      "List-Help: <mailto:exmh-workers-request@spamassassin.taint.org?subject=help>\n",
      "List-Post: <mailto:exmh-workers@spamassassin.taint.org>\n",
      "List-Subscribe: <https://listman.spamassassin.taint.org/mailman/listinfo/exmh-workers>,\n",
      "    <mailto:exmh-workers-request@redhat.com?subject=subscribe>\n",
      "List-Id: Discussion list for EXMH developers <exmh-workers.spamassassin.taint.org>\n",
      "List-Unsubscribe: <https://listman.spamassassin.taint.org/mailman/listinfo/exmh-workers>,\n",
      "    <mailto:exmh-workers-request@redhat.com?subject=unsubscribe>\n",
      "List-Archive: <https://listman.spamassassin.taint.org/mailman/private/exmh-workers/>\n",
      "Date: Thu, 22 Aug 2002 18:26:25 +0700\n",
      "\n",
      "\n",
      "Dear Mr Still\n",
      "\n",
      "Good tidings to you and all your staff for the festive season ahead (Christmas).\n",
      "Now to the crux of the matter-in-hand: I am a fully qualified Santa Claus and am wondering whether you might consider me to run my own \"Santa's Grotto\" in your store.\n",
      "But WAIT! You're probably thinking: \"What makes him so special?\"\n",
      "Well, first of all, I have made several changes to the characterisation of Father Christmas. Rather than greeting the children with shouts of \"Ho, ho, ho!\" I prefer to whisper the phrase \"Dependence is not unfathomable in this cruel world we live in\". In addition, my gifts are ALL hand-made, ranging from felt hoops to vanilla-pod holders.\n",
      "You will note also, from the enclosed sketch, that I have radically redesigned Santa's outfit and have renamed my character \"Lord Buckles\". Would you be interested in employing me? I promise NEVER to let you down.\n",
      "I look forward to hearing from you.\n",
      "\n",
      "Best wishes\n",
      "Robin Cooper\n",
      "[Excerpt from the book: The Timewaster Letters by Robin Cooper]\n",
      "\n"
     ]
    }
   ],
   "source": [
    "print(message)"
   ]
  },
  {
   "cell_type": "code",
   "execution_count": 11,
   "metadata": {},
   "outputs": [],
   "source": [
    "stream=open(Example_File, encoding='latin-1')\n",
    "\n",
    "is_body=False\n",
    "\n",
    "lines= [] # Empty List\n",
    "\n",
    "for line in stream:\n",
    "    \n",
    "    if is_body:\n",
    "        #if is_body=True\n",
    "        lines.append(line)\n",
    "    elif line=='\\n':\n",
    "        is_body=True\n",
    "\n",
    "stream.close()"
   ]
  },
  {
   "cell_type": "code",
   "execution_count": 12,
   "metadata": {},
   "outputs": [
    {
     "data": {
      "text/plain": [
       "['\\n',\n",
       " 'Dear Mr Still\\n',\n",
       " '\\n',\n",
       " 'Good tidings to you and all your staff for the festive season ahead (Christmas).\\n',\n",
       " 'Now to the crux of the matter-in-hand: I am a fully qualified Santa Claus and am wondering whether you might consider me to run my own \"Santa\\'s Grotto\" in your store.\\n',\n",
       " 'But WAIT! You\\'re probably thinking: \"What makes him so special?\"\\n',\n",
       " 'Well, first of all, I have made several changes to the characterisation of Father Christmas. Rather than greeting the children with shouts of \"Ho, ho, ho!\" I prefer to whisper the phrase \"Dependence is not unfathomable in this cruel world we live in\". In addition, my gifts are ALL hand-made, ranging from felt hoops to vanilla-pod holders.\\n',\n",
       " 'You will note also, from the enclosed sketch, that I have radically redesigned Santa\\'s outfit and have renamed my character \"Lord Buckles\". Would you be interested in employing me? I promise NEVER to let you down.\\n',\n",
       " 'I look forward to hearing from you.\\n',\n",
       " '\\n',\n",
       " 'Best wishes\\n',\n",
       " 'Robin Cooper\\n',\n",
       " '[Excerpt from the book: The Timewaster Letters by Robin Cooper]\\n']"
      ]
     },
     "execution_count": 12,
     "metadata": {},
     "output_type": "execute_result"
    }
   ],
   "source": [
    "lines"
   ]
  },
  {
   "cell_type": "code",
   "execution_count": 13,
   "metadata": {},
   "outputs": [],
   "source": [
    "email_body='\\n'.join(lines)"
   ]
  },
  {
   "cell_type": "code",
   "execution_count": 14,
   "metadata": {},
   "outputs": [
    {
     "name": "stdout",
     "output_type": "stream",
     "text": [
      "\n",
      "\n",
      "Dear Mr Still\n",
      "\n",
      "\n",
      "\n",
      "Good tidings to you and all your staff for the festive season ahead (Christmas).\n",
      "\n",
      "Now to the crux of the matter-in-hand: I am a fully qualified Santa Claus and am wondering whether you might consider me to run my own \"Santa's Grotto\" in your store.\n",
      "\n",
      "But WAIT! You're probably thinking: \"What makes him so special?\"\n",
      "\n",
      "Well, first of all, I have made several changes to the characterisation of Father Christmas. Rather than greeting the children with shouts of \"Ho, ho, ho!\" I prefer to whisper the phrase \"Dependence is not unfathomable in this cruel world we live in\". In addition, my gifts are ALL hand-made, ranging from felt hoops to vanilla-pod holders.\n",
      "\n",
      "You will note also, from the enclosed sketch, that I have radically redesigned Santa's outfit and have renamed my character \"Lord Buckles\". Would you be interested in employing me? I promise NEVER to let you down.\n",
      "\n",
      "I look forward to hearing from you.\n",
      "\n",
      "\n",
      "\n",
      "Best wishes\n",
      "\n",
      "Robin Cooper\n",
      "\n",
      "[Excerpt from the book: The Timewaster Letters by Robin Cooper]\n",
      "\n"
     ]
    }
   ],
   "source": [
    "print(email_body)"
   ]
  },
  {
   "cell_type": "code",
   "execution_count": 15,
   "metadata": {},
   "outputs": [],
   "source": [
    "from os import walk\n",
    "from os.path import join"
   ]
  },
  {
   "cell_type": "code",
   "execution_count": 16,
   "metadata": {},
   "outputs": [],
   "source": [
    "SPAM_1_PATH = 'SpamData/01_Processing/spam_assassin_corpus/spam_1'\n",
    "SPAM_CAT = 1"
   ]
  },
  {
   "cell_type": "code",
   "execution_count": 17,
   "metadata": {},
   "outputs": [],
   "source": [
    "def email_body_generator(path):\n",
    "    \n",
    "    for root,dirnames,filenames in walk(path):\n",
    "        \n",
    "        print(root)\n",
    "        print(filenames[0])"
   ]
  },
  {
   "cell_type": "code",
   "execution_count": 18,
   "metadata": {},
   "outputs": [
    {
     "name": "stdout",
     "output_type": "stream",
     "text": [
      "SpamData/01_Processing/spam_assassin_corpus/spam_1\n",
      "00001.7848dde101aa985090474a91ec93fcf0\n"
     ]
    }
   ],
   "source": [
    "email_body_generator(SPAM_1_PATH)"
   ]
  },
  {
   "cell_type": "code",
   "execution_count": 19,
   "metadata": {},
   "outputs": [],
   "source": [
    "def email_body_generator(path):\n",
    "    \n",
    "    for root,dirnames,filenames in walk(path):\n",
    "        \n",
    "        for file_name in filenames:\n",
    "            \n",
    "            filepath=join(root,file_name)\n",
    "            print(filepath)"
   ]
  },
  {
   "cell_type": "code",
   "execution_count": 20,
   "metadata": {},
   "outputs": [
    {
     "name": "stdout",
     "output_type": "stream",
     "text": [
      "SpamData/01_Processing/spam_assassin_corpus/spam_1\\00001.7848dde101aa985090474a91ec93fcf0\n",
      "SpamData/01_Processing/spam_assassin_corpus/spam_1\\00002.d94f1b97e48ed3b553b3508d116e6a09\n",
      "SpamData/01_Processing/spam_assassin_corpus/spam_1\\00003.2ee33bc6eacdb11f38d052c44819ba6c\n",
      "SpamData/01_Processing/spam_assassin_corpus/spam_1\\00004.eac8de8d759b7e74154f142194282724\n",
      "SpamData/01_Processing/spam_assassin_corpus/spam_1\\00005.57696a39d7d84318ce497886896bf90d\n",
      "SpamData/01_Processing/spam_assassin_corpus/spam_1\\00006.5ab5620d3d7c6c0db76234556a16f6c1\n",
      "SpamData/01_Processing/spam_assassin_corpus/spam_1\\00007.d8521faf753ff9ee989122f6816f87d7\n",
      "SpamData/01_Processing/spam_assassin_corpus/spam_1\\00008.dfd941deb10f5eed78b1594b131c9266\n",
      "SpamData/01_Processing/spam_assassin_corpus/spam_1\\00009.027bf6e0b0c4ab34db3ce0ea4bf2edab\n",
      "SpamData/01_Processing/spam_assassin_corpus/spam_1\\00010.445affef4c70feec58f9198cfbc22997\n",
      "SpamData/01_Processing/spam_assassin_corpus/spam_1\\00011.61816b9ad167657773a427d890d0468e\n",
      "SpamData/01_Processing/spam_assassin_corpus/spam_1\\00012.381e4f512915109ba1e0853a7a8407b2\n",
      "SpamData/01_Processing/spam_assassin_corpus/spam_1\\00013.d3f0b591a65f116ea5d9d4ad919f83aa\n",
      "SpamData/01_Processing/spam_assassin_corpus/spam_1\\00014.7d38c46424f24fc8012ac15a95a2ac14\n",
      "SpamData/01_Processing/spam_assassin_corpus/spam_1\\00015.048434ab64c86cf890eda1326a5643f5\n",
      "SpamData/01_Processing/spam_assassin_corpus/spam_1\\00016.67fb281761ca1051a22ec3f21917e7c0\n",
      "SpamData/01_Processing/spam_assassin_corpus/spam_1\\00017.1a938ecddd047b93cbd7ed92c241e6d1\n",
      "SpamData/01_Processing/spam_assassin_corpus/spam_1\\00018.5b2765c42b7648d41c93b9b27140b23a\n",
      "SpamData/01_Processing/spam_assassin_corpus/spam_1\\00019.bbc97ad616ffd06e93ce0f821ca8c381\n",
      "SpamData/01_Processing/spam_assassin_corpus/spam_1\\00020.29725cf331fc21e18a1809e7d8b27332\n",
      "SpamData/01_Processing/spam_assassin_corpus/spam_1\\00021.effe1449462a9d7ad7af0f1c94b1a237\n",
      "SpamData/01_Processing/spam_assassin_corpus/spam_1\\00022.8203cdf03888f656dc0381701148f73d\n",
      "SpamData/01_Processing/spam_assassin_corpus/spam_1\\00023.b6d27c684f5fc803cfa1060adb2d0805\n",
      "SpamData/01_Processing/spam_assassin_corpus/spam_1\\00024.6b5437b14d403176c3f046c871b5b52f\n",
      "SpamData/01_Processing/spam_assassin_corpus/spam_1\\00025.619ab8051359048795e3cd09e82ad1a0\n",
      "SpamData/01_Processing/spam_assassin_corpus/spam_1\\00026.da18dbed27ae933172f7a70f860c6ad0\n",
      "SpamData/01_Processing/spam_assassin_corpus/spam_1\\00027.d1d0f97e096fe08fc80a4939355759e7\n",
      "SpamData/01_Processing/spam_assassin_corpus/spam_1\\00028.ace98eff213f4e6314b5571aece625e1\n",
      "SpamData/01_Processing/spam_assassin_corpus/spam_1\\00029.de865ad8d5ad0df985ae2f72388befba\n",
      "SpamData/01_Processing/spam_assassin_corpus/spam_1\\00030.0c9cdd9d4025bd55dac02719ec8d29dc\n",
      "SpamData/01_Processing/spam_assassin_corpus/spam_1\\00031.a78bb452b3a7376202b5e62a81530449\n",
      "SpamData/01_Processing/spam_assassin_corpus/spam_1\\00032.7b07a09236ce9feb12d80197144d3206\n",
      "SpamData/01_Processing/spam_assassin_corpus/spam_1\\00033.9babb58d9298daa2963d4f514193d7d6\n",
      "SpamData/01_Processing/spam_assassin_corpus/spam_1\\00034.8e582263070076dfe6000411d9b13ce6\n",
      "SpamData/01_Processing/spam_assassin_corpus/spam_1\\00035.7ce3307b56dd90453027a6630179282e\n",
      "SpamData/01_Processing/spam_assassin_corpus/spam_1\\00036.256602e2cb5a5b373bdd1fb631d9f452\n",
      "SpamData/01_Processing/spam_assassin_corpus/spam_1\\00037.21cc985cc36d931916863aed24de8c27\n",
      "SpamData/01_Processing/spam_assassin_corpus/spam_1\\00038.8d93819b95ff90bf2e2b141c2909bfc9\n",
      "SpamData/01_Processing/spam_assassin_corpus/spam_1\\00039.889d785885f092c269741b11f2124dce\n",
      "SpamData/01_Processing/spam_assassin_corpus/spam_1\\00040.949a3d300eadb91d8745f1c1dab51133\n",
      "SpamData/01_Processing/spam_assassin_corpus/spam_1\\00041.f1b3402799046db3c1f143a911dc085d\n",
      "SpamData/01_Processing/spam_assassin_corpus/spam_1\\00042.3e934ba4075f82283d755174d2642b76\n",
      "SpamData/01_Processing/spam_assassin_corpus/spam_1\\00043.548c447db5d9ba3f5546de96baa9b0e6\n",
      "SpamData/01_Processing/spam_assassin_corpus/spam_1\\00044.9eece8e53a8982c26558b9eb38230bb8\n",
      "SpamData/01_Processing/spam_assassin_corpus/spam_1\\00045.7282c2c4e009744f2f3450d370009235\n",
      "SpamData/01_Processing/spam_assassin_corpus/spam_1\\00046.e0fd04360622dbe9250380447f6465cc\n",
      "SpamData/01_Processing/spam_assassin_corpus/spam_1\\00047.0d7a240951e460b5884a8886ee64a8c3\n",
      "SpamData/01_Processing/spam_assassin_corpus/spam_1\\00048.8a64080dbd9d868358a22b655fb1b1cd\n",
      "SpamData/01_Processing/spam_assassin_corpus/spam_1\\00049.09e42d433e0661f264a25c7d4ed6e3ea\n",
      "SpamData/01_Processing/spam_assassin_corpus/spam_1\\00050.45de99e8c120fddafe7c89fb3de1c14f\n",
      "SpamData/01_Processing/spam_assassin_corpus/spam_1\\00051.fd20658f0e586d1f27f9396401f4981c\n",
      "SpamData/01_Processing/spam_assassin_corpus/spam_1\\00052.edb775ef7470f35cd593d07e5a0466a8\n",
      "SpamData/01_Processing/spam_assassin_corpus/spam_1\\00053.d88d8b162ca1b7108221fb338cd7d0a5\n",
      "SpamData/01_Processing/spam_assassin_corpus/spam_1\\00054.62863160db27f89df8c73275b6dae134\n",
      "SpamData/01_Processing/spam_assassin_corpus/spam_1\\00055.58adfd0c60ebc04370658a76b9352aa1\n",
      "SpamData/01_Processing/spam_assassin_corpus/spam_1\\00056.c56d61cadd81b4ade0030c8dee384704\n",
      "SpamData/01_Processing/spam_assassin_corpus/spam_1\\00057.0a2e17bde9485e999ac2259df38528e2\n",
      "SpamData/01_Processing/spam_assassin_corpus/spam_1\\00058.64bb1902c4e561fb3e521a6dbf8625be\n",
      "SpamData/01_Processing/spam_assassin_corpus/spam_1\\00059.dc5b9ea22c6848c97871f0d9576cc931\n",
      "SpamData/01_Processing/spam_assassin_corpus/spam_1\\00060.ec71d52a6f585ace52f4a2a2be2adfce\n",
      "SpamData/01_Processing/spam_assassin_corpus/spam_1\\00061.bec763248306fb3228141491856ed216\n",
      "SpamData/01_Processing/spam_assassin_corpus/spam_1\\00062.3019eac14dfe3c503c03e25e70e63091\n",
      "SpamData/01_Processing/spam_assassin_corpus/spam_1\\00063.2334fb4e465fc61e8406c75918ff72ed\n",
      "SpamData/01_Processing/spam_assassin_corpus/spam_1\\00064.65b95365450ebe5eef61e7f1c60edc5e\n",
      "SpamData/01_Processing/spam_assassin_corpus/spam_1\\00065.6203de135559b319326445aafd68dbca\n",
      "SpamData/01_Processing/spam_assassin_corpus/spam_1\\00066.6afbb1258bcf3e4d59d53c847a84e469\n",
      "SpamData/01_Processing/spam_assassin_corpus/spam_1\\00067.ec108870b01dc3ccb8fabc5def869ca5\n",
      "SpamData/01_Processing/spam_assassin_corpus/spam_1\\00068.d10af636a6082d5172ceb34a944486e6\n",
      "SpamData/01_Processing/spam_assassin_corpus/spam_1\\00069.066b1a012235d062a5da73eead4a6b35\n",
      "SpamData/01_Processing/spam_assassin_corpus/spam_1\\00070.ab34b6c044a55bef3d6c1f64b7521773\n",
      "SpamData/01_Processing/spam_assassin_corpus/spam_1\\00071.4b7e06d97286ec97820a0f8725878126\n",
      "SpamData/01_Processing/spam_assassin_corpus/spam_1\\00072.d519a73b92f487519c2bc5ba45f5eb2c\n",
      "SpamData/01_Processing/spam_assassin_corpus/spam_1\\00073.8dcd40346d48c69a9e075e935395e96d\n",
      "SpamData/01_Processing/spam_assassin_corpus/spam_1\\00074.51aab41b27a9ba7736803318a2e4c8de\n",
      "SpamData/01_Processing/spam_assassin_corpus/spam_1\\00075.28a918cd03a0ef5aa2f1e0551a798108\n",
      "SpamData/01_Processing/spam_assassin_corpus/spam_1\\00076.066bf704d9c4a3cf45da5ac7a6b684f8\n",
      "SpamData/01_Processing/spam_assassin_corpus/spam_1\\00077.c85b7442247d61308f15d86aa125ec28\n",
      "SpamData/01_Processing/spam_assassin_corpus/spam_1\\00078.6944f51ce9c0586d8f9137d2d2207df0\n",
      "SpamData/01_Processing/spam_assassin_corpus/spam_1\\00079.cc3fa7d977a44a09d450dde5db161c37\n",
      "SpamData/01_Processing/spam_assassin_corpus/spam_1\\00080.5a7386cb47846dfef68429241ad80354\n",
      "SpamData/01_Processing/spam_assassin_corpus/spam_1\\00081.123b29a781b2e8c83763e5d440e672a3\n",
      "SpamData/01_Processing/spam_assassin_corpus/spam_1\\00082.0341a767bbaca01fd89b6236ef681257\n",
      "SpamData/01_Processing/spam_assassin_corpus/spam_1\\00083.c1891c507954e5b75b72b16712e799bf\n",
      "SpamData/01_Processing/spam_assassin_corpus/spam_1\\00084.a9f5b3a9b7feb7070f25ae76320c8ec6\n",
      "SpamData/01_Processing/spam_assassin_corpus/spam_1\\00085.f63a9484ac582233db057dbb45dc0eaf\n",
      "SpamData/01_Processing/spam_assassin_corpus/spam_1\\00086.9c945bb90f76a8b76331599106c28429\n",
      "SpamData/01_Processing/spam_assassin_corpus/spam_1\\00087.f09438ca6392721e63696f4f753effbb\n",
      "SpamData/01_Processing/spam_assassin_corpus/spam_1\\00088.1673f91313df07da1a18b2fc458dd4c4\n",
      "SpamData/01_Processing/spam_assassin_corpus/spam_1\\00089.7e7baae6ef4a8fb945d7b3fe551329fe\n",
      "SpamData/01_Processing/spam_assassin_corpus/spam_1\\00090.52630c4c07cd069c7bc7658c1a7a7253\n",
      "SpamData/01_Processing/spam_assassin_corpus/spam_1\\00091.bcaf9648660ba372bc4d542aa06456ad\n",
      "SpamData/01_Processing/spam_assassin_corpus/spam_1\\00092.8ca54ce0c31e6149b5ef05c0108743be\n",
      "SpamData/01_Processing/spam_assassin_corpus/spam_1\\00093.ca4edc32d2ff8e1dbb5f9c0b15ec435b\n",
      "SpamData/01_Processing/spam_assassin_corpus/spam_1\\00094.7f704c47988221c18cb6a620409442b8\n",
      "SpamData/01_Processing/spam_assassin_corpus/spam_1\\00095.17594a58d6736a8f6a1990b0b92090cd\n",
      "SpamData/01_Processing/spam_assassin_corpus/spam_1\\00096.a791864be5f1205bf2cea0adf241b25a\n",
      "SpamData/01_Processing/spam_assassin_corpus/spam_1\\00097.013347cc91e7d0915074dccb0428883f\n",
      "SpamData/01_Processing/spam_assassin_corpus/spam_1\\00098.f1f1a3bd3ec32d8e967fba2a7a03e1e5\n",
      "SpamData/01_Processing/spam_assassin_corpus/spam_1\\00099.d41a21dc96bb3c3342292f7c9fa4db1e\n",
      "SpamData/01_Processing/spam_assassin_corpus/spam_1\\00100.81611d62ec1f172be947fda4af7caa2c\n",
      "SpamData/01_Processing/spam_assassin_corpus/spam_1\\00101.5a24bf3ba3962442179b1a0325a1d1cb\n",
      "SpamData/01_Processing/spam_assassin_corpus/spam_1\\00102.fb09d2f978a271fba5a3ffc172003ed9\n",
      "SpamData/01_Processing/spam_assassin_corpus/spam_1\\00103.2eef38789b4ecce796e7e8dbe718e3d2\n",
      "SpamData/01_Processing/spam_assassin_corpus/spam_1\\00104.04d165183bb8feab0956362c70591b3d\n",
      "SpamData/01_Processing/spam_assassin_corpus/spam_1\\00105.00951a21b8464f4eb4e106d6b14c68b6\n",
      "SpamData/01_Processing/spam_assassin_corpus/spam_1\\00106.f20a99365b7016f8e9dcd8620b472e74\n",
      "SpamData/01_Processing/spam_assassin_corpus/spam_1\\00107.e6cd2d9f49514710dc85db0fef5b8726\n",
      "SpamData/01_Processing/spam_assassin_corpus/spam_1\\00108.ce25a55c6b4cc9bcd32ed090ee20785a\n",
      "SpamData/01_Processing/spam_assassin_corpus/spam_1\\00109.eda1664dd3b3c31b67e5cd04553b6546\n",
      "SpamData/01_Processing/spam_assassin_corpus/spam_1\\00110.f3c4ebe14b439420b53212332326181f\n",
      "SpamData/01_Processing/spam_assassin_corpus/spam_1\\00111.ae6aba48f8aa83849be067076eea8ce5\n",
      "SpamData/01_Processing/spam_assassin_corpus/spam_1\\00112.be81f2f6f7940a9403c9809b4a9e243a\n",
      "SpamData/01_Processing/spam_assassin_corpus/spam_1\\00113.eebc11982ccc4730fb8759f94400ce19\n",
      "SpamData/01_Processing/spam_assassin_corpus/spam_1\\00114.e337195587d1dbb42e8a2b693e9fc938\n",
      "SpamData/01_Processing/spam_assassin_corpus/spam_1\\00115.c97af50ef7ccd816f95bbdc6f4d226b2\n",
      "SpamData/01_Processing/spam_assassin_corpus/spam_1\\00116.29e39a0064e2714681726ac28ff3fdef\n",
      "SpamData/01_Processing/spam_assassin_corpus/spam_1\\00117.b3ceb6525a1dc935463f3e3080110039\n",
      "SpamData/01_Processing/spam_assassin_corpus/spam_1\\00118.b31615605a37b4878bd1de4f829c89cb\n",
      "SpamData/01_Processing/spam_assassin_corpus/spam_1\\00119.7bd666ac52f079fb3b5ff0be83b55286\n",
      "SpamData/01_Processing/spam_assassin_corpus/spam_1\\00120.58579af867ff9a702cff23e7b8818a59\n",
      "SpamData/01_Processing/spam_assassin_corpus/spam_1\\00121.bf18a63d6e7d40409f8b722036eadd82\n",
      "SpamData/01_Processing/spam_assassin_corpus/spam_1\\00122.98bcaad36eb81e75911371f841f28dfc\n",
      "SpamData/01_Processing/spam_assassin_corpus/spam_1\\00123.a5ee0040ec9a30b3f32f61e547fa5f8f\n",
      "SpamData/01_Processing/spam_assassin_corpus/spam_1\\00124.db848e36f1b4c2705cbc16ef33a302d4\n",
      "SpamData/01_Processing/spam_assassin_corpus/spam_1\\00125.120d27c936362896c00a3db9d3a4571e\n",
      "SpamData/01_Processing/spam_assassin_corpus/spam_1\\00126.e98e1ba87a38e0cceeb55f3b86dbd4dd\n",
      "SpamData/01_Processing/spam_assassin_corpus/spam_1\\00127.3500d109361b544b0937523adb763588\n",
      "SpamData/01_Processing/spam_assassin_corpus/spam_1\\00128.721b6b20d5834d490662e2ae8c5c0684\n",
      "SpamData/01_Processing/spam_assassin_corpus/spam_1\\00129.1080cea3a532759b015dc071d033749d\n",
      "SpamData/01_Processing/spam_assassin_corpus/spam_1\\00130.c8128e89eff5b0e61aa864ebfd96afba\n",
      "SpamData/01_Processing/spam_assassin_corpus/spam_1\\00131.d955acc659fb151479460f9dd2f87efe\n",
      "SpamData/01_Processing/spam_assassin_corpus/spam_1\\00132.0ead3e293c6c41cbffb69670e8b85ae7\n",
      "SpamData/01_Processing/spam_assassin_corpus/spam_1\\00133.17dccf2499a4245b83890e0784c43499\n",
      "SpamData/01_Processing/spam_assassin_corpus/spam_1\\00134.9f41f4111a33dc1efca04de72e1a105a\n",
      "SpamData/01_Processing/spam_assassin_corpus/spam_1\\00135.00e388e3b23df6278a8845047ca25160\n",
      "SpamData/01_Processing/spam_assassin_corpus/spam_1\\00136.faa39d8e816c70f23b4bb8758d8a74f0\n",
      "SpamData/01_Processing/spam_assassin_corpus/spam_1\\00137.09969121c8540730f1020b5a700b4c42\n",
      "SpamData/01_Processing/spam_assassin_corpus/spam_1\\00138.c15973a4d40bed4333079296be2522ca\n",
      "SpamData/01_Processing/spam_assassin_corpus/spam_1\\00139.b2a205ac25d7d907cdfb3f865dbae1ae\n",
      "SpamData/01_Processing/spam_assassin_corpus/spam_1\\00140.eba666846fa0a138a90aeef51a627022\n",
      "SpamData/01_Processing/spam_assassin_corpus/spam_1\\00141.c30e993ea9a98743b0a98733bdfba8c2\n",
      "SpamData/01_Processing/spam_assassin_corpus/spam_1\\00142.eddc7114a8566cbf83fa8210bf0d3603\n",
      "SpamData/01_Processing/spam_assassin_corpus/spam_1\\00143.13c0751d4b9f10098bb3ac85a435d884\n",
      "SpamData/01_Processing/spam_assassin_corpus/spam_1\\00144.4eeba2f228a8658e0d2e3a64764f4f31\n",
      "SpamData/01_Processing/spam_assassin_corpus/spam_1\\00145.0ec326fee0570953d684e40edd3fa7b8\n",
      "SpamData/01_Processing/spam_assassin_corpus/spam_1\\00146.e9b64856c0cd982a64f47c9ab9084287\n",
      "SpamData/01_Processing/spam_assassin_corpus/spam_1\\00147.1782d51354c31ea53db25ea927d5c51d\n",
      "SpamData/01_Processing/spam_assassin_corpus/spam_1\\00148.21c30154aa358d903c10c5d8a3ef6ffd\n",
      "SpamData/01_Processing/spam_assassin_corpus/spam_1\\00149.c07359393107925a86798dd72d6a56b3\n",
      "SpamData/01_Processing/spam_assassin_corpus/spam_1\\00150.f97c73fa56460a6afc6d9418ad76b5b5\n",
      "SpamData/01_Processing/spam_assassin_corpus/spam_1\\00151.34bbdbf089edc6f58080753a166a3cfc\n",
      "SpamData/01_Processing/spam_assassin_corpus/spam_1\\00152.8ed8aaed94054e507af5b9c760dd7be6\n",
      "SpamData/01_Processing/spam_assassin_corpus/spam_1\\00153.6a5ffe584834ea334041ab958cadcadb\n",
      "SpamData/01_Processing/spam_assassin_corpus/spam_1\\00154.b6c448ccff434e2dbe2c7c200a36aa31\n",
      "SpamData/01_Processing/spam_assassin_corpus/spam_1\\00155.1c37ce73590cc67186717a491ed0db5f\n",
      "SpamData/01_Processing/spam_assassin_corpus/spam_1\\00156.0b541afe96820e3bb8f900b565608269\n",
      "SpamData/01_Processing/spam_assassin_corpus/spam_1\\00157.52b0a260de7c64f539b0e5d16198b5bf\n",
      "SpamData/01_Processing/spam_assassin_corpus/spam_1\\00158.9c8bf53ed738031b4bfab819c4b3ef13\n",
      "SpamData/01_Processing/spam_assassin_corpus/spam_1\\00159.b16f070a576c2eb1533aa9e2cf8e6b77\n",
      "SpamData/01_Processing/spam_assassin_corpus/spam_1\\00160.cec5f611ae665ff0add6c4928d47f2be\n",
      "SpamData/01_Processing/spam_assassin_corpus/spam_1\\00161.ae33257753c9bdaaadc9221347868496\n",
      "SpamData/01_Processing/spam_assassin_corpus/spam_1\\00162.6d0397cc491b214db1e84e19bb49177a\n",
      "SpamData/01_Processing/spam_assassin_corpus/spam_1\\00163.244a217b150d2129cbdc52b96d992382\n",
      "SpamData/01_Processing/spam_assassin_corpus/spam_1\\00164.8536500ed9cadc8397a63b697d043c0b\n",
      "SpamData/01_Processing/spam_assassin_corpus/spam_1\\00165.45db168e8e1a78a66972b9f50c47b6dc\n",
      "SpamData/01_Processing/spam_assassin_corpus/spam_1\\00166.1b7ca83ece36a955e80c7f32efe5fd3d\n",
      "SpamData/01_Processing/spam_assassin_corpus/spam_1\\00167.af33a21e8b279ee28d5e70a6ef1dc86a\n",
      "SpamData/01_Processing/spam_assassin_corpus/spam_1\\00168.7422ce438a3d745e2cafb7430e5ddb0f\n",
      "SpamData/01_Processing/spam_assassin_corpus/spam_1\\00169.86721d6b50e889ed39c7d302adb2a5ab\n",
      "SpamData/01_Processing/spam_assassin_corpus/spam_1\\00170.33a973aa9bb7d122bdfbd96d44332996\n",
      "SpamData/01_Processing/spam_assassin_corpus/spam_1\\00171.08c5c55e9c2b4062344655e9ee32b979\n",
      "SpamData/01_Processing/spam_assassin_corpus/spam_1\\00172.7fe063c5f90c46934dc79a83d9fdabfe\n",
      "SpamData/01_Processing/spam_assassin_corpus/spam_1\\00173.e10eb62e2c7808674c43d6a5e9e08a1c\n",
      "SpamData/01_Processing/spam_assassin_corpus/spam_1\\00174.516721408a0d043ffc5258ecc49e907a\n",
      "SpamData/01_Processing/spam_assassin_corpus/spam_1\\00175.e672ac062c93c15915d4d264c4282b47\n",
      "SpamData/01_Processing/spam_assassin_corpus/spam_1\\00176.79f82496c612ea28f45f13ca5c47f8c2\n",
      "SpamData/01_Processing/spam_assassin_corpus/spam_1\\00177.56ed33af0cb1d0f700cc2d26a866870b\n",
      "SpamData/01_Processing/spam_assassin_corpus/spam_1\\00178.cdecf0f56ddc0bf61e922a131dc806c2\n",
      "SpamData/01_Processing/spam_assassin_corpus/spam_1\\00179.2174c80cb3eff623dfc991e51a53eb99\n",
      "SpamData/01_Processing/spam_assassin_corpus/spam_1\\00180.13a95a2542a0fd01ff24303561cca949\n",
      "SpamData/01_Processing/spam_assassin_corpus/spam_1\\00181.a9ce64eb710cb3f00a7d7db7911291ab\n",
      "SpamData/01_Processing/spam_assassin_corpus/spam_1\\00182.1b9ba0f95506a6f2bf256f40fad0687d\n",
      "SpamData/01_Processing/spam_assassin_corpus/spam_1\\00183.38d9e73b56e7a59ca1472e08076a9b71\n",
      "SpamData/01_Processing/spam_assassin_corpus/spam_1\\00184.ead42d7ed872c504c79928a5f0a2b2eb\n",
      "SpamData/01_Processing/spam_assassin_corpus/spam_1\\00185.8ca19012fa3f2a906f23c3b41f11ffed\n",
      "SpamData/01_Processing/spam_assassin_corpus/spam_1\\00186.a66b4fc4ab114c9cb37e1a31d1ea1aeb\n",
      "SpamData/01_Processing/spam_assassin_corpus/spam_1\\00187.efd97ab2034b3384606e21db00014ecb\n",
      "SpamData/01_Processing/spam_assassin_corpus/spam_1\\00188.3d145a97a4ccf05a36a1f2795b4c331d\n",
      "SpamData/01_Processing/spam_assassin_corpus/spam_1\\00189.58d4489891c5ab450678438eb8cc4a3e\n",
      "SpamData/01_Processing/spam_assassin_corpus/spam_1\\00190.dbaebac8c91d57cf7c9b9a431606ce54\n",
      "SpamData/01_Processing/spam_assassin_corpus/spam_1\\00191.9ff80a41f015b7a6c409732e41c0df07\n",
      "SpamData/01_Processing/spam_assassin_corpus/spam_1\\00192.e5a6bb15ae1e965f3b823c75e435651a\n",
      "SpamData/01_Processing/spam_assassin_corpus/spam_1\\00193.c04ef77bc3dbaa5762760a6ea138df0e\n",
      "SpamData/01_Processing/spam_assassin_corpus/spam_1\\00194.767c323b4ae7a4909397e42cbd0c56a4\n",
      "SpamData/01_Processing/spam_assassin_corpus/spam_1\\00195.0a543c2780491168160570bb6708af86\n",
      "SpamData/01_Processing/spam_assassin_corpus/spam_1\\00196.dd21040c7757d477c967ae71b537810e\n",
      "SpamData/01_Processing/spam_assassin_corpus/spam_1\\00197.5a921df53d215a60d557c68754559e93\n",
      "SpamData/01_Processing/spam_assassin_corpus/spam_1\\00198.aad7df5b8be674a0ce09c8040ef53f1e\n",
      "SpamData/01_Processing/spam_assassin_corpus/spam_1\\00199.9be6cec49c53210152780926cdeb59ff\n",
      "SpamData/01_Processing/spam_assassin_corpus/spam_1\\00200.bacd4b2168049778b480367ca670254f\n",
      "SpamData/01_Processing/spam_assassin_corpus/spam_1\\00201.00020fc9911604f6cae7ae0f598ad29d\n",
      "SpamData/01_Processing/spam_assassin_corpus/spam_1\\00202.d5b52386f66bd36cd1508319c82cf671\n",
      "SpamData/01_Processing/spam_assassin_corpus/spam_1\\00203.3956f8506171ffd90a0060cafad4fdea\n",
      "SpamData/01_Processing/spam_assassin_corpus/spam_1\\00204.a008813ddeb2d5febd1fc676c07e9760\n",
      "SpamData/01_Processing/spam_assassin_corpus/spam_1\\00205.312e72065386636132fa6c4a1fde871e\n",
      "SpamData/01_Processing/spam_assassin_corpus/spam_1\\00206.0c8362d7e86ddcaf39829800ac40e2ca\n",
      "SpamData/01_Processing/spam_assassin_corpus/spam_1\\00207.0b71ac81a360455c1514f5872564b1e1\n",
      "SpamData/01_Processing/spam_assassin_corpus/spam_1\\00208.369921416af87a0b70f133632131b184\n",
      "SpamData/01_Processing/spam_assassin_corpus/spam_1\\00209.5276f967533f2ce0209c1eff631a86ff\n",
      "SpamData/01_Processing/spam_assassin_corpus/spam_1\\00210.050ffd105bd4e006771ee63cabc59978\n",
      "SpamData/01_Processing/spam_assassin_corpus/spam_1\\00211.d976c6049e8448e7c407c124b580e0ba\n",
      "SpamData/01_Processing/spam_assassin_corpus/spam_1\\00212.a9947ad74a529a35d11538e1df60cd73\n",
      "SpamData/01_Processing/spam_assassin_corpus/spam_1\\00213.8c42a1c257aa30ff3b3ba668cca59408\n",
      "SpamData/01_Processing/spam_assassin_corpus/spam_1\\00214.1367039e50dc6b7adb0f2aa8aba83216\n",
      "SpamData/01_Processing/spam_assassin_corpus/spam_1\\00215.f571ecd203e8d39296419bffc47e4a6a\n",
      "SpamData/01_Processing/spam_assassin_corpus/spam_1\\00216.89c1ede0b81fb09f7334f47a5183410a\n",
      "SpamData/01_Processing/spam_assassin_corpus/spam_1\\00217.43b4ef3d9c56cf42be9c37b546a19e78\n",
      "SpamData/01_Processing/spam_assassin_corpus/spam_1\\00218.917ed95f5c90c1d9d15d2528b0bd1e79\n",
      "SpamData/01_Processing/spam_assassin_corpus/spam_1\\00219.eaf6c0ff67706c784f67f5c1225028a1\n",
      "SpamData/01_Processing/spam_assassin_corpus/spam_1\\00220.cf7d03e161582887dc589229e2896e26\n",
      "SpamData/01_Processing/spam_assassin_corpus/spam_1\\00221.c4dfeecf0cacc9469540337f5baf69db\n",
      "SpamData/01_Processing/spam_assassin_corpus/spam_1\\00222.77293b7002c5749b9d31a99b2f4e0366\n",
      "SpamData/01_Processing/spam_assassin_corpus/spam_1\\00223.349b9b0748ee72bad60729ffaae2cc00\n",
      "SpamData/01_Processing/spam_assassin_corpus/spam_1\\00224.0654fe0af51e1dcefa0eb66eb932f55f\n",
      "SpamData/01_Processing/spam_assassin_corpus/spam_1\\00225.b1ca16fa2be1be1d68f5e3bf2603f3cb\n",
      "SpamData/01_Processing/spam_assassin_corpus/spam_1\\00226.e0e2704cde3bbd561a98042f4a3baf5f\n",
      "SpamData/01_Processing/spam_assassin_corpus/spam_1\\00227.1171cc6d8c586141b4110a2abdccba00\n",
      "SpamData/01_Processing/spam_assassin_corpus/spam_1\\00228.cf58326ab05a757c7e759acc8d6b360d\n",
      "SpamData/01_Processing/spam_assassin_corpus/spam_1\\00229.4c37dd3d98b8d6fb2694b6f83061ca5a\n",
      "SpamData/01_Processing/spam_assassin_corpus/spam_1\\00230.214f8d9a756aee75e292056c1f65a005\n",
      "SpamData/01_Processing/spam_assassin_corpus/spam_1\\00231.77a5d20da55f185c1bb7a3949332d364\n",
      "SpamData/01_Processing/spam_assassin_corpus/spam_1\\00232.2d55046b9cf0b192ad6332545ef2a334\n",
      "SpamData/01_Processing/spam_assassin_corpus/spam_1\\00233.a268478ca6f03604012ffff8dd3de396\n",
      "SpamData/01_Processing/spam_assassin_corpus/spam_1\\00234.6b386bd178f4ae52c67b6c6d15ece489\n",
      "SpamData/01_Processing/spam_assassin_corpus/spam_1\\00235.45b5f386cf62b5865d9d4440d8b78aab\n",
      "SpamData/01_Processing/spam_assassin_corpus/spam_1\\00236.2772a068fff32e2f8d7f8a94bd9280cd\n",
      "SpamData/01_Processing/spam_assassin_corpus/spam_1\\00237.9cee6fd8bdd653d21d92158e702adf50\n",
      "SpamData/01_Processing/spam_assassin_corpus/spam_1\\00238.e3e16467d10137fa9a99b1701d76ae94\n",
      "SpamData/01_Processing/spam_assassin_corpus/spam_1\\00239.2f1370f9cba5ab21297eadb2af40b051\n",
      "SpamData/01_Processing/spam_assassin_corpus/spam_1\\00240.2ff7f745285653a238214d975859406b\n",
      "SpamData/01_Processing/spam_assassin_corpus/spam_1\\00241.c28ade5771085a8fddd054a219566b7c\n",
      "SpamData/01_Processing/spam_assassin_corpus/spam_1\\00242.e030c8b1f053037aeffb062f3a34b523\n",
      "SpamData/01_Processing/spam_assassin_corpus/spam_1\\00243.c6e70273fe1cf9e56e26bb6bbeef415d\n",
      "SpamData/01_Processing/spam_assassin_corpus/spam_1\\00244.5cac9708afd7f9f00e9bf64eeb127f0a\n",
      "SpamData/01_Processing/spam_assassin_corpus/spam_1\\00245.f129d5e7df2eebd03948bb4f33fa7107\n",
      "SpamData/01_Processing/spam_assassin_corpus/spam_1\\00246.4dc5830a5a3e1fda805613b61822bac8\n",
      "SpamData/01_Processing/spam_assassin_corpus/spam_1\\00247.4f7c67c9792706fa90fe218d4b092b7a\n",
      "SpamData/01_Processing/spam_assassin_corpus/spam_1\\00248.b243bca51ee69d6e428ca2f45f0fe41b\n",
      "SpamData/01_Processing/spam_assassin_corpus/spam_1\\00249.5f45607c1bffe89f60ba1ec9f878039a\n",
      "SpamData/01_Processing/spam_assassin_corpus/spam_1\\00250.32279787338af8a5de4cfbc0b837718e\n",
      "SpamData/01_Processing/spam_assassin_corpus/spam_1\\00251.6b4b7e79e1706156839a00817d774e37\n",
      "SpamData/01_Processing/spam_assassin_corpus/spam_1\\00252.7e355e0c5fd1de609684544262435579\n",
      "SpamData/01_Processing/spam_assassin_corpus/spam_1\\00253.83b95b05e275286eddcf557ea581e754\n",
      "SpamData/01_Processing/spam_assassin_corpus/spam_1\\00254.e3e30f2b37ef8db36aa652bb3e563b61\n",
      "SpamData/01_Processing/spam_assassin_corpus/spam_1\\00255.aeff2fdf2ba6b8b49686df3575859a48\n",
      "SpamData/01_Processing/spam_assassin_corpus/spam_1\\00256.edd9bfb44729edf3c4f177814fd8c9e1\n",
      "SpamData/01_Processing/spam_assassin_corpus/spam_1\\00257.5c8ef87f8b11d2515df71a7fe46a70b6\n",
      "SpamData/01_Processing/spam_assassin_corpus/spam_1\\00258.4af5bde7fabd4e797b85cf95bcbbb45a\n",
      "SpamData/01_Processing/spam_assassin_corpus/spam_1\\00259.7b838a90b63541213eff9099e1a1aa3c\n",
      "SpamData/01_Processing/spam_assassin_corpus/spam_1\\00260.c75ce8b8d8bfc55723426979d260bf61\n",
      "SpamData/01_Processing/spam_assassin_corpus/spam_1\\00261.12b64e557e52daf5fc5a52e47df2f4e3\n",
      "SpamData/01_Processing/spam_assassin_corpus/spam_1\\00262.678598cbe253f19239da03b65dac7392\n",
      "SpamData/01_Processing/spam_assassin_corpus/spam_1\\00263.13fc73e09ae15e0023bdb13d0a010f2d\n",
      "SpamData/01_Processing/spam_assassin_corpus/spam_1\\00264.02b614f34aa0d5970959123b9386b285\n",
      "SpamData/01_Processing/spam_assassin_corpus/spam_1\\00265.d2acd28cf29d90c9b7a1297b219187b3\n",
      "SpamData/01_Processing/spam_assassin_corpus/spam_1\\00266.3cf1dcf8df07100b1530493e11f80a25\n",
      "SpamData/01_Processing/spam_assassin_corpus/spam_1\\00267.ef433fb350170f28a1567cbc24900e53\n",
      "SpamData/01_Processing/spam_assassin_corpus/spam_1\\00268.9b64189b6da55d1e0a30026ca73eb0da\n",
      "SpamData/01_Processing/spam_assassin_corpus/spam_1\\00269.e85c3ef79a5cf21ee1ef7b8df17760e1\n",
      "SpamData/01_Processing/spam_assassin_corpus/spam_1\\00270.5dcd9ce3be2992222b9038d7bf75a23a\n",
      "SpamData/01_Processing/spam_assassin_corpus/spam_1\\00271.85110ef4815c81ccea879857b0b062ed\n",
      "SpamData/01_Processing/spam_assassin_corpus/spam_1\\00272.8353b9140b08dab4be0e8ce53f09172b\n",
      "SpamData/01_Processing/spam_assassin_corpus/spam_1\\00273.0c7d73771d79e84e2aab8c909c5bb210\n",
      "SpamData/01_Processing/spam_assassin_corpus/spam_1\\00274.ecb5ce751d8768ef609c171b84ca07a9\n",
      "SpamData/01_Processing/spam_assassin_corpus/spam_1\\00275.4675c4cce2bf27adaafeef693d562f8b\n",
      "SpamData/01_Processing/spam_assassin_corpus/spam_1\\00276.a6e447390e371ddba7cee092bb0ec98f\n",
      "SpamData/01_Processing/spam_assassin_corpus/spam_1\\00277.64128ce1653bc4e1bde9ffe2f83db557\n",
      "SpamData/01_Processing/spam_assassin_corpus/spam_1\\00278.b62c5fc23a2f87760696cb9fa51f073c\n",
      "SpamData/01_Processing/spam_assassin_corpus/spam_1\\00279.1d58a13e343c1e53aca2ed2121a3f815\n",
      "SpamData/01_Processing/spam_assassin_corpus/spam_1\\00280.026da2bd191f11081b8d8428134b0c66\n",
      "SpamData/01_Processing/spam_assassin_corpus/spam_1\\00281.db28f3aab77ff478279d8de20d572b42\n",
      "SpamData/01_Processing/spam_assassin_corpus/spam_1\\00282.0e230e05877f40a522bfb93aa3e314f3\n",
      "SpamData/01_Processing/spam_assassin_corpus/spam_1\\00283.e8e42ee52f919afd2a453983f1256b1d\n",
      "SpamData/01_Processing/spam_assassin_corpus/spam_1\\00284.4cdf4c9e9404c79c85ab5ac12ce39e85\n",
      "SpamData/01_Processing/spam_assassin_corpus/spam_1\\00285.8a06c91fcdf4a1ae8ca928f3ef3feecb\n",
      "SpamData/01_Processing/spam_assassin_corpus/spam_1\\00286.efd0b8f0c9c779b7a0ad93505c9b0bae\n",
      "SpamData/01_Processing/spam_assassin_corpus/spam_1\\00287.b0495a4dbdff36654c3b3ee2f92bdbf3\n",
      "SpamData/01_Processing/spam_assassin_corpus/spam_1\\00288.8c8bc71976c3b67d900ebd8eeab8a0f5\n",
      "SpamData/01_Processing/spam_assassin_corpus/spam_1\\00289.61a681a72c71512f115ad65033acc7c9\n",
      "SpamData/01_Processing/spam_assassin_corpus/spam_1\\00290.eb053a191b7509a9399aa16717630414\n",
      "SpamData/01_Processing/spam_assassin_corpus/spam_1\\00291.7aa227e74e89bdd529a3875459d0d5a2\n",
      "SpamData/01_Processing/spam_assassin_corpus/spam_1\\00292.dbf78a2aaa230d288eb80ab843804252\n",
      "SpamData/01_Processing/spam_assassin_corpus/spam_1\\00293.f4e9fd5549f9063ad5559c094edf08f2\n",
      "SpamData/01_Processing/spam_assassin_corpus/spam_1\\00294.df27a988d82cc82296e33e6d727ac47e\n",
      "SpamData/01_Processing/spam_assassin_corpus/spam_1\\00295.b028688ce4ea3693f4ed591b8ca3f72e\n",
      "SpamData/01_Processing/spam_assassin_corpus/spam_1\\00296.0087354f4bb7c4e756124632a4a7e80a\n",
      "SpamData/01_Processing/spam_assassin_corpus/spam_1\\00297.3350c2dbbb0272c27b2c7773d7012356\n",
      "SpamData/01_Processing/spam_assassin_corpus/spam_1\\00298.90b548a0816ca0783f012bb9c69166cc\n",
      "SpamData/01_Processing/spam_assassin_corpus/spam_1\\00299.f786faed64bef7134e52fafa17ea861f\n",
      "SpamData/01_Processing/spam_assassin_corpus/spam_1\\00300.834f370a21ca4f1774d5724b5443411c\n",
      "SpamData/01_Processing/spam_assassin_corpus/spam_1\\00301.68fe7955b96d085360ca916289e8e716\n",
      "SpamData/01_Processing/spam_assassin_corpus/spam_1\\00302.544366fa4cd0f5d210dd8443a1c2c95a\n",
      "SpamData/01_Processing/spam_assassin_corpus/spam_1\\00303.22239f1393297a691eb5df3dfe7a5001\n",
      "SpamData/01_Processing/spam_assassin_corpus/spam_1\\00304.ed5fbfc3e6f2be662f29f43f172a1fb3\n",
      "SpamData/01_Processing/spam_assassin_corpus/spam_1\\00305.f80c21904d6d4f6facd036450a588b0d\n",
      "SpamData/01_Processing/spam_assassin_corpus/spam_1\\00306.729a42414b91e9b2bddf273c514c50d7\n",
      "SpamData/01_Processing/spam_assassin_corpus/spam_1\\00307.7ed50c6d80c6e37c8cc1b132f4a19e4d\n",
      "SpamData/01_Processing/spam_assassin_corpus/spam_1\\00308.c80d7cb2a6981efac408b429d42d2b89\n",
      "SpamData/01_Processing/spam_assassin_corpus/spam_1\\00309.d9efb4713f45f4e1237d3f9b757d0916\n",
      "SpamData/01_Processing/spam_assassin_corpus/spam_1\\00310.3f652995aadb0bf696dd10c89ce30afc\n",
      "SpamData/01_Processing/spam_assassin_corpus/spam_1\\00311.9797029f3ee441b00f3b7521e573cb96\n",
      "SpamData/01_Processing/spam_assassin_corpus/spam_1\\00312.75c839d7d4f6da9e860a11b617904fb5\n",
      "SpamData/01_Processing/spam_assassin_corpus/spam_1\\00313.fab744bfd5a128fca39b69df9811c086\n",
      "SpamData/01_Processing/spam_assassin_corpus/spam_1\\00314.8f7993db02bde4d724e1eff9d2d35db1\n",
      "SpamData/01_Processing/spam_assassin_corpus/spam_1\\00315.0ee82a2e087ffcf6efbd30b36499ead6\n",
      "SpamData/01_Processing/spam_assassin_corpus/spam_1\\00316.311d11f764c6e452b2f0208b53b94ea2\n",
      "SpamData/01_Processing/spam_assassin_corpus/spam_1\\00317.22fe43af6f4c707c4f1bdc56af959a8e\n",
      "SpamData/01_Processing/spam_assassin_corpus/spam_1\\00318.7ce7e3cbbf4fa9c30a67b7ecdda2342e\n",
      "SpamData/01_Processing/spam_assassin_corpus/spam_1\\00319.a99dff9c010e00ec182ed5701556d330\n",
      "SpamData/01_Processing/spam_assassin_corpus/spam_1\\00320.20dcbb5b047b8e2f212ee78267ee27ad\n",
      "SpamData/01_Processing/spam_assassin_corpus/spam_1\\00321.22ec127de780c31da00ae5e1c1aa32e4\n",
      "SpamData/01_Processing/spam_assassin_corpus/spam_1\\00322.7d39d31fb7aad32c15dff84c14019b8c\n",
      "SpamData/01_Processing/spam_assassin_corpus/spam_1\\00323.9e36bf05304c99f2133a4c03c49533a9\n",
      "SpamData/01_Processing/spam_assassin_corpus/spam_1\\00324.6f320a8c6b5f8e4bc47d475b3d4e86ef\n",
      "SpamData/01_Processing/spam_assassin_corpus/spam_1\\00325.58d1a52f435030dc38568bc12a3d76a2\n",
      "SpamData/01_Processing/spam_assassin_corpus/spam_1\\00326.5ec68244bb085cb140deb79563abd7b3\n",
      "SpamData/01_Processing/spam_assassin_corpus/spam_1\\00327.7f21bc8575786a0e00341a6407b9f286\n",
      "SpamData/01_Processing/spam_assassin_corpus/spam_1\\00328.73c1a9f83d3b1247522c26eb6d74c215\n",
      "SpamData/01_Processing/spam_assassin_corpus/spam_1\\00329.af4af411fb1268d1461b29fa2d2145a3\n",
      "SpamData/01_Processing/spam_assassin_corpus/spam_1\\00330.c5f7346dec1e6fe6ed324d8e78a2b46e\n",
      "SpamData/01_Processing/spam_assassin_corpus/spam_1\\00331.a61788d316e7393c8bbf8ee19b24c713\n",
      "SpamData/01_Processing/spam_assassin_corpus/spam_1\\00332.580b62752adefb845db173e375271cb5\n",
      "SpamData/01_Processing/spam_assassin_corpus/spam_1\\00333.4bb36a535cb3d738f30f985f1e10a786\n",
      "SpamData/01_Processing/spam_assassin_corpus/spam_1\\00334.a1038f98abb76b403d068afb57bfb290\n",
      "SpamData/01_Processing/spam_assassin_corpus/spam_1\\00335.f71c6e9b23487811a44e6aeaa50e73a5\n",
      "SpamData/01_Processing/spam_assassin_corpus/spam_1\\00336.92409253178027f58e2c072a7e82791e\n",
      "SpamData/01_Processing/spam_assassin_corpus/spam_1\\00337.813498483bc80a24c002e6e7e8e0f2cb\n",
      "SpamData/01_Processing/spam_assassin_corpus/spam_1\\00338.a595ffbb6cbcf3a5058293051ebaabf4\n",
      "SpamData/01_Processing/spam_assassin_corpus/spam_1\\00339.16bd110d8aa11e7d9398287c27b1b389\n",
      "SpamData/01_Processing/spam_assassin_corpus/spam_1\\00340.520783fd73bb73df88d6effd04e1f55d\n",
      "SpamData/01_Processing/spam_assassin_corpus/spam_1\\00341.99b463b92346291f5848137f4a253966\n",
      "SpamData/01_Processing/spam_assassin_corpus/spam_1\\00342.0dab365fab3be83284b08ac5783335da\n",
      "SpamData/01_Processing/spam_assassin_corpus/spam_1\\00343.37d895b3a54847548875136ad6b0192d\n",
      "SpamData/01_Processing/spam_assassin_corpus/spam_1\\00344.17882edad13c2c761e6d8d99eef5a346\n",
      "SpamData/01_Processing/spam_assassin_corpus/spam_1\\00345.613b3c2aeac033eebb379c91b8ce9fba\n",
      "SpamData/01_Processing/spam_assassin_corpus/spam_1\\00346.1ae83883f566cdf6ff18958a33a215b3\n",
      "SpamData/01_Processing/spam_assassin_corpus/spam_1\\00347.0958e79c14164f0f902d863f41156c0b\n",
      "SpamData/01_Processing/spam_assassin_corpus/spam_1\\00348.1948d1e6b724e8abf4b8f0fc024ac627\n",
      "SpamData/01_Processing/spam_assassin_corpus/spam_1\\00349.dd7982f40576ff4897c18efc813e38bf\n",
      "SpamData/01_Processing/spam_assassin_corpus/spam_1\\00350.c2658f17a328efdf045b38ab38db472f\n",
      "SpamData/01_Processing/spam_assassin_corpus/spam_1\\00351.fd1b8a6cd42e81125fb38c2660cd9317\n",
      "SpamData/01_Processing/spam_assassin_corpus/spam_1\\00352.19a8ba03f566612e0b9e124609d9dbd0\n",
      "SpamData/01_Processing/spam_assassin_corpus/spam_1\\00353.464ef65be6651440e15675faeb15a7ca\n",
      "SpamData/01_Processing/spam_assassin_corpus/spam_1\\00354.dca4b8984863a76ffd01a33888498288\n",
      "SpamData/01_Processing/spam_assassin_corpus/spam_1\\00355.e10c2eba9316a09e612e6675ce339d5e\n",
      "SpamData/01_Processing/spam_assassin_corpus/spam_1\\00356.ea7eb32330fa6bf65270023c0d99e2c5\n",
      "SpamData/01_Processing/spam_assassin_corpus/spam_1\\00357.b523d4209d633d6fdf86b93bc19e3aa2\n",
      "SpamData/01_Processing/spam_assassin_corpus/spam_1\\00358.2cf55d91739f3530d1f4bc8bc9bc0b12\n",
      "SpamData/01_Processing/spam_assassin_corpus/spam_1\\00359.4ab70de20a198b736ed01940c9745384\n",
      "SpamData/01_Processing/spam_assassin_corpus/spam_1\\00360.3c1e6c84cb93d024c1f1aa85cd56ac9c\n",
      "SpamData/01_Processing/spam_assassin_corpus/spam_1\\00361.e91ac048b0ede961d3f51009eee1c620\n",
      "SpamData/01_Processing/spam_assassin_corpus/spam_1\\00362.be7a346be8746732d4dc27bc549d7441\n",
      "SpamData/01_Processing/spam_assassin_corpus/spam_1\\00363.e6935b8f87c5984a5c6f6656afa1afb4\n",
      "SpamData/01_Processing/spam_assassin_corpus/spam_1\\00364.11dba84b95e0471927d1ebc8ff0017ef\n",
      "SpamData/01_Processing/spam_assassin_corpus/spam_1\\00365.da6795d02b44e4d5e168d62718f3e7c9\n",
      "SpamData/01_Processing/spam_assassin_corpus/spam_1\\00366.f0bfcc3c84da11ae1154c6c593362f69\n",
      "SpamData/01_Processing/spam_assassin_corpus/spam_1\\00367.9688cdee9dfe720c297672c8f60d998f\n",
      "SpamData/01_Processing/spam_assassin_corpus/spam_1\\00368.2c1ab4bc7f408e0fcb22dca9b2d5a113\n",
      "SpamData/01_Processing/spam_assassin_corpus/spam_1\\00369.845eeb9573484bd88a6a6224c7068d81\n",
      "SpamData/01_Processing/spam_assassin_corpus/spam_1\\00370.549e569ab1b84fb13a4ea7d61f98f86d\n",
      "SpamData/01_Processing/spam_assassin_corpus/spam_1\\00371.3bc80f63aa7c64a56eb77fc82ce22e7f\n",
      "SpamData/01_Processing/spam_assassin_corpus/spam_1\\00372.4ebcb6306af1946c3ff1b2bc933e1203\n",
      "SpamData/01_Processing/spam_assassin_corpus/spam_1\\00373.ebe8670ac56b04125c25100a36ab0510\n",
      "SpamData/01_Processing/spam_assassin_corpus/spam_1\\00374.8942e17f10389fe620e1e96cba52c9aa\n",
      "SpamData/01_Processing/spam_assassin_corpus/spam_1\\00375.1130c29a255fa277c5acbee4d08edacd\n",
      "SpamData/01_Processing/spam_assassin_corpus/spam_1\\00376.f4ed5f002f9b6b320a67f1da9cacbe72\n",
      "SpamData/01_Processing/spam_assassin_corpus/spam_1\\00377.e30c013b7392bf14f132258aa82b1b25\n",
      "SpamData/01_Processing/spam_assassin_corpus/spam_1\\00378.143069173c8ee0047916f124032367d1\n",
      "SpamData/01_Processing/spam_assassin_corpus/spam_1\\00379.f04dedf09dce65a80fbe1fd831abefd0\n",
      "SpamData/01_Processing/spam_assassin_corpus/spam_1\\00380.a262abe251ca7cc3026e4e146d9cf817\n",
      "SpamData/01_Processing/spam_assassin_corpus/spam_1\\00381.7d436777379ad18167e4614190b206cf\n",
      "SpamData/01_Processing/spam_assassin_corpus/spam_1\\00382.98464d934c8402ef42e6dbdb07b18a65\n",
      "SpamData/01_Processing/spam_assassin_corpus/spam_1\\00383.1aa9a8211d1de540d6e3852e230e5a9d\n",
      "SpamData/01_Processing/spam_assassin_corpus/spam_1\\00384.2054d62f06fd10e4018a43e156b32acf\n",
      "SpamData/01_Processing/spam_assassin_corpus/spam_1\\00385.51089b24dee5a89d38ee1b505b470c68\n",
      "SpamData/01_Processing/spam_assassin_corpus/spam_1\\00386.6074f269f0bd1aec1546f9e654e8fcfe\n",
      "SpamData/01_Processing/spam_assassin_corpus/spam_1\\00387.8562ea27520ea0fa6030679792f2fb72\n",
      "SpamData/01_Processing/spam_assassin_corpus/spam_1\\00388.53eae0055e66fcb7194f9cca080fdefe\n",
      "SpamData/01_Processing/spam_assassin_corpus/spam_1\\00389.6222f886a2658f890c49f1853beea193\n",
      "SpamData/01_Processing/spam_assassin_corpus/spam_1\\00390.ce19abc8034db9e6b435d494a91db87a\n",
      "SpamData/01_Processing/spam_assassin_corpus/spam_1\\00391.e2c76e9dc5ef65b90275138f73eb475b\n",
      "SpamData/01_Processing/spam_assassin_corpus/spam_1\\00392.ffefdd973d6b1bf1243937030e3bd07f\n",
      "SpamData/01_Processing/spam_assassin_corpus/spam_1\\00393.13d4d84cb98ea19954f895c629520bf8\n",
      "SpamData/01_Processing/spam_assassin_corpus/spam_1\\00394.cca39f925676ecca947eaed2b600fe70\n",
      "SpamData/01_Processing/spam_assassin_corpus/spam_1\\00395.f9df5b3574ef5ba6143c08a1fa301886\n",
      "SpamData/01_Processing/spam_assassin_corpus/spam_1\\00396.6fc0d31374c02ec5614f503a09a37211\n",
      "SpamData/01_Processing/spam_assassin_corpus/spam_1\\00397.1a99f98a5b996f99f3661e9609782932\n",
      "SpamData/01_Processing/spam_assassin_corpus/spam_1\\00398.1939605e3c713ff2ef852b1fbf10b0bb\n",
      "SpamData/01_Processing/spam_assassin_corpus/spam_1\\00399.cd1239166aa4d43f7c3127c3b48b3f18\n",
      "SpamData/01_Processing/spam_assassin_corpus/spam_1\\00400.cc74b7994a7282f32ee2a3b7e3634d31\n",
      "SpamData/01_Processing/spam_assassin_corpus/spam_1\\00401.309e29417819ce39d8599047d50933cc\n",
      "SpamData/01_Processing/spam_assassin_corpus/spam_1\\00402.9fd8762dd436ec868d4c22a17d8ccc3d\n",
      "SpamData/01_Processing/spam_assassin_corpus/spam_1\\00403.46d0face754b6bb7dce8b3ea560f75fb\n",
      "SpamData/01_Processing/spam_assassin_corpus/spam_1\\00404.b4bbecbee92f735a845f589582e7695d\n",
      "SpamData/01_Processing/spam_assassin_corpus/spam_1\\00405.3163fff27ff95b91afd656f0025c6a83\n",
      "SpamData/01_Processing/spam_assassin_corpus/spam_1\\00406.05e2214fea602970426862295f9b4a2e\n",
      "SpamData/01_Processing/spam_assassin_corpus/spam_1\\00407.7a447442b07fa08de0b69e907ce3ca53\n",
      "SpamData/01_Processing/spam_assassin_corpus/spam_1\\00408.22230b84aee00e439ae1938e025d5005\n",
      "SpamData/01_Processing/spam_assassin_corpus/spam_1\\00409.e59f63e813b6766a9a4ddf0790634ca3\n",
      "SpamData/01_Processing/spam_assassin_corpus/spam_1\\00410.b3134c2bf520f95f9b90d4aef4fdd683\n",
      "SpamData/01_Processing/spam_assassin_corpus/spam_1\\00411.fae7b15cc1f966d92c2cedc872893268\n",
      "SpamData/01_Processing/spam_assassin_corpus/spam_1\\00412.700e6d74e5f886eb75017714a6aeb735\n",
      "SpamData/01_Processing/spam_assassin_corpus/spam_1\\00413.28e8cb47d7429bf78c711079da50fcd4\n",
      "SpamData/01_Processing/spam_assassin_corpus/spam_1\\00414.b2312673ca5358901c801eb44c00e310\n",
      "SpamData/01_Processing/spam_assassin_corpus/spam_1\\00415.6faccf48ec514344fc850e8b3c154528\n",
      "SpamData/01_Processing/spam_assassin_corpus/spam_1\\00416.bff1badad869f205fdb54f311f060734\n",
      "SpamData/01_Processing/spam_assassin_corpus/spam_1\\00417.7b196fd20fd308e0afa9032ccb02474b\n",
      "SpamData/01_Processing/spam_assassin_corpus/spam_1\\00418.6321175c76411371c109eafc99563d2c\n",
      "SpamData/01_Processing/spam_assassin_corpus/spam_1\\00419.141092086514a246ff2ff8d4bc523400\n",
      "SpamData/01_Processing/spam_assassin_corpus/spam_1\\00420.e208f7d65551c01efaa3b4ee4bc4df3c\n",
      "SpamData/01_Processing/spam_assassin_corpus/spam_1\\00421.ca2fe949a956845a9ba81c649a7db6c0\n",
      "SpamData/01_Processing/spam_assassin_corpus/spam_1\\00422.7d5baf3fe64de8647b41aeb820ada876\n",
      "SpamData/01_Processing/spam_assassin_corpus/spam_1\\00423.bee32224fd8c9c8c06e2099d9c2adccd\n",
      "SpamData/01_Processing/spam_assassin_corpus/spam_1\\00424.9acca894169b3162d76ebddb69097f3c\n",
      "SpamData/01_Processing/spam_assassin_corpus/spam_1\\00425.1434e0ab4e5235b64825b4c2a0999d76\n",
      "SpamData/01_Processing/spam_assassin_corpus/spam_1\\00426.36b36cbe96efe9001c4d80363ea7ed4e\n",
      "SpamData/01_Processing/spam_assassin_corpus/spam_1\\00427.fa1252c91a3b89bb64bc2bc217725e26\n",
      "SpamData/01_Processing/spam_assassin_corpus/spam_1\\00428.a7bbcb15affd49a93d516d5ed5700d66\n",
      "SpamData/01_Processing/spam_assassin_corpus/spam_1\\00429.0061e48e64f9ce93ffae69bba9151357\n",
      "SpamData/01_Processing/spam_assassin_corpus/spam_1\\00430.d2179c2841013fea688db8bbcf60b3b0\n",
      "SpamData/01_Processing/spam_assassin_corpus/spam_1\\00431.12b2043fed99f1202eb0677969d1a61e\n",
      "SpamData/01_Processing/spam_assassin_corpus/spam_1\\00432.40ceb2dcb26e292ea6fd8669dfc9b4c5\n",
      "SpamData/01_Processing/spam_assassin_corpus/spam_1\\00433.8ac2ba68fca4bccc0856abe31002a8e9\n",
      "SpamData/01_Processing/spam_assassin_corpus/spam_1\\00434.8507c67a652e01636df9b92a0a397193\n",
      "SpamData/01_Processing/spam_assassin_corpus/spam_1\\00435.69467ebbdbdd2d891624bf8fccda579f\n",
      "SpamData/01_Processing/spam_assassin_corpus/spam_1\\00436.4ef1bd17d9202e4229485da7a47afd6c\n",
      "SpamData/01_Processing/spam_assassin_corpus/spam_1\\00437.defdb75139dbe5cdd027cbab9f704a27\n",
      "SpamData/01_Processing/spam_assassin_corpus/spam_1\\00438.41295e1df4b651b7611316331b8468e4\n",
      "SpamData/01_Processing/spam_assassin_corpus/spam_1\\00439.6f4246a5e3336b6ecb5624e209e0b59f\n",
      "SpamData/01_Processing/spam_assassin_corpus/spam_1\\00440.647d9eb44fd0cb069ea92be204966a8e\n",
      "SpamData/01_Processing/spam_assassin_corpus/spam_1\\00441.77768298934252b2fa200e7d9482993b\n",
      "SpamData/01_Processing/spam_assassin_corpus/spam_1\\00442.6a4db031f5561b90c04bb3d3aee31e85\n",
      "SpamData/01_Processing/spam_assassin_corpus/spam_1\\00443.cac50573829d4df1111b6ead28212e73\n",
      "SpamData/01_Processing/spam_assassin_corpus/spam_1\\00444.33afc8c1f9cea3100ca8502e8a785259\n"
     ]
    },
    {
     "name": "stdout",
     "output_type": "stream",
     "text": [
      "SpamData/01_Processing/spam_assassin_corpus/spam_1\\00445.94d3ccfafc541255ff46625091d333e4\n",
      "SpamData/01_Processing/spam_assassin_corpus/spam_1\\00446.a54877313142d56c24d499d761c48fb1\n",
      "SpamData/01_Processing/spam_assassin_corpus/spam_1\\00447.bd5eb01e94f6d127465bf325513b2516\n",
      "SpamData/01_Processing/spam_assassin_corpus/spam_1\\00448.a6ac96e93ef03ec1a638c577c6940f5e\n",
      "SpamData/01_Processing/spam_assassin_corpus/spam_1\\00449.7d33f465cb813806296901ee541841d6\n",
      "SpamData/01_Processing/spam_assassin_corpus/spam_1\\00450.93d3d59fcdd0f8fda9ef4678535182e8\n",
      "SpamData/01_Processing/spam_assassin_corpus/spam_1\\00451.5af88ff99e71a8984ac293c250b37d34\n",
      "SpamData/01_Processing/spam_assassin_corpus/spam_1\\00452.ed43fc952c31c82aa29646edfbecb03f\n",
      "SpamData/01_Processing/spam_assassin_corpus/spam_1\\00453.456abc0bc83034492888f63725796d5b\n",
      "SpamData/01_Processing/spam_assassin_corpus/spam_1\\00454.1bb460b3ade9801644e4eb60e18d1f8d\n",
      "SpamData/01_Processing/spam_assassin_corpus/spam_1\\00455.c48d026b0aae9a1a14e9ab1193a2a5f3\n",
      "SpamData/01_Processing/spam_assassin_corpus/spam_1\\00456.b700dd37219f192d25cfc87f5c97a86d\n",
      "SpamData/01_Processing/spam_assassin_corpus/spam_1\\00457.f8db516c753eff2c82cfb89b33bd2620\n",
      "SpamData/01_Processing/spam_assassin_corpus/spam_1\\00458.62211764fde0dd7128ea4146268b40dd\n",
      "SpamData/01_Processing/spam_assassin_corpus/spam_1\\00459.e71f7a769d6b09c6d75bfbe8711dbbbe\n",
      "SpamData/01_Processing/spam_assassin_corpus/spam_1\\00460.8996dc28ab56dd7b6f35b956deceaf22\n",
      "SpamData/01_Processing/spam_assassin_corpus/spam_1\\00461.1a27d007492d1c665d07db820b7dc3b8\n",
      "SpamData/01_Processing/spam_assassin_corpus/spam_1\\00462.868771c8074e480f540a1d2e6a5ac7cb\n",
      "SpamData/01_Processing/spam_assassin_corpus/spam_1\\00463.45bff4629688e8031231a8b64a4eef06\n",
      "SpamData/01_Processing/spam_assassin_corpus/spam_1\\00464.8240aba24840864cb7439fc03f94ef6e\n",
      "SpamData/01_Processing/spam_assassin_corpus/spam_1\\00465.ca5d79d0e5dadee322c117789196ebb4\n",
      "SpamData/01_Processing/spam_assassin_corpus/spam_1\\00466.ecb11c98ec4511b5422b20476d935bd1\n",
      "SpamData/01_Processing/spam_assassin_corpus/spam_1\\00467.5b733c506b7165424a0d4a298e67970f\n",
      "SpamData/01_Processing/spam_assassin_corpus/spam_1\\00468.77534696791a755fb0fb8be8c2704ed8\n",
      "SpamData/01_Processing/spam_assassin_corpus/spam_1\\00469.ee3b2f31459cc2ec43ae7cae00d40cf6\n",
      "SpamData/01_Processing/spam_assassin_corpus/spam_1\\00470.32f31d3d1598f840a6471fa25332336d\n",
      "SpamData/01_Processing/spam_assassin_corpus/spam_1\\00471.fc87286572c99b7a554dc8c86f34506c\n",
      "SpamData/01_Processing/spam_assassin_corpus/spam_1\\00472.713268dfca421e165c1ac59bab045e00\n",
      "SpamData/01_Processing/spam_assassin_corpus/spam_1\\00473.7086ec944a1245a002b04547a433c887\n",
      "SpamData/01_Processing/spam_assassin_corpus/spam_1\\00474.30772a1ac9e824976fc6676844d68b76\n",
      "SpamData/01_Processing/spam_assassin_corpus/spam_1\\00475.71f75afb1960d619af86e1c64dcb11fc\n",
      "SpamData/01_Processing/spam_assassin_corpus/spam_1\\00476.af3a29817853a5c56bae5257c2d4b742\n",
      "SpamData/01_Processing/spam_assassin_corpus/spam_1\\00477.24ef7a042f97482f884387c75249380c\n",
      "SpamData/01_Processing/spam_assassin_corpus/spam_1\\00478.6c50ff18ef92c52a3342f1c9f090740b\n",
      "SpamData/01_Processing/spam_assassin_corpus/spam_1\\00479.a2cd6780001042d8203b05a6ab0f34ac\n",
      "SpamData/01_Processing/spam_assassin_corpus/spam_1\\00480.a5931465ca6f5b22eff24943b5c8b17d\n",
      "SpamData/01_Processing/spam_assassin_corpus/spam_1\\00481.5c95b526e965fa325044123c4ce29c1f\n",
      "SpamData/01_Processing/spam_assassin_corpus/spam_1\\00482.980c7ceb9333bc5027cd8d1d360a8c6f\n",
      "SpamData/01_Processing/spam_assassin_corpus/spam_1\\00483.50c5dda7dd4710798c15a85ade6e9f93\n",
      "SpamData/01_Processing/spam_assassin_corpus/spam_1\\00484.a34bda1ad8a88b5b21b13b8ad05d0dd3\n",
      "SpamData/01_Processing/spam_assassin_corpus/spam_1\\00485.a5d28b804adbceff7fd75ed9fc8138bb\n",
      "SpamData/01_Processing/spam_assassin_corpus/spam_1\\00486.c0a2036a3da75d6d5ac6d19ab4b3d6ec\n",
      "SpamData/01_Processing/spam_assassin_corpus/spam_1\\00487.139a2f4e8edbbdd64441536308169d74\n",
      "SpamData/01_Processing/spam_assassin_corpus/spam_1\\00488.29e96da757cc5566c848833e26abdd65\n",
      "SpamData/01_Processing/spam_assassin_corpus/spam_1\\00489.023c1d77de9365cad956a4c9118aee4b\n",
      "SpamData/01_Processing/spam_assassin_corpus/spam_1\\00490.f0020a3ea5546c122f688b39f4380c95\n",
      "SpamData/01_Processing/spam_assassin_corpus/spam_1\\00491.28cb63173ed4740180e45e6248db5584\n",
      "SpamData/01_Processing/spam_assassin_corpus/spam_1\\00492.73db79fb9ad03aff1e08deb73b83203c\n",
      "SpamData/01_Processing/spam_assassin_corpus/spam_1\\00493.1c5f59825f7a246187c137614fb1ea82\n",
      "SpamData/01_Processing/spam_assassin_corpus/spam_1\\00494.fd2efa67e63247ee89cdcf3a6fe7906d\n",
      "SpamData/01_Processing/spam_assassin_corpus/spam_1\\00495.e22a609b7dc412c120d09e11544c67fb\n",
      "SpamData/01_Processing/spam_assassin_corpus/spam_1\\00496.1a37de098f6c8847c3c7839d73cc7106\n",
      "SpamData/01_Processing/spam_assassin_corpus/spam_1\\00497.ebf699da617b11135f3aa9173b9781b9\n",
      "SpamData/01_Processing/spam_assassin_corpus/spam_1\\00498.48c3098854d339353f1a28a13b196017\n",
      "SpamData/01_Processing/spam_assassin_corpus/spam_1\\00499.988506a852cf86b396771a8bdc8cf839\n",
      "SpamData/01_Processing/spam_assassin_corpus/spam_1\\00500.85b72f09f6778a085dc8b6821965a76f\n",
      "SpamData/01_Processing/spam_assassin_corpus/spam_1\\cmds\n"
     ]
    }
   ],
   "source": [
    "email_body_generator(SPAM_1_PATH)"
   ]
  },
  {
   "cell_type": "code",
   "execution_count": 21,
   "metadata": {},
   "outputs": [],
   "source": [
    "def email_body_generator(path):\n",
    "    \n",
    "    for root,dirnames,filenames in walk(path):\n",
    "        \n",
    "        for file_name in filenames:\n",
    "            \n",
    "            filepath=join(root,file_name)\n",
    "            \n",
    "            stream=open(filepath,encoding='latin-1')\n",
    "            is_body=False\n",
    "            lines=[] #empty-list\n",
    "            \n",
    "            for line in stream:\n",
    "                \n",
    "                if is_body:\n",
    "                    lines.append(line)\n",
    "                elif line=='\\n':\n",
    "                    is_body=True\n",
    "                    \n",
    "            stream.close()\n",
    "            \n",
    "            email_body='\\n'.join(lines)\n",
    "            \n",
    "            yield file_name, email_body"
   ]
  },
  {
   "cell_type": "code",
   "execution_count": 225,
   "metadata": {},
   "outputs": [],
   "source": [
    "import numpy as np\n",
    "import pandas as pd"
   ]
  },
  {
   "cell_type": "code",
   "execution_count": 23,
   "metadata": {},
   "outputs": [],
   "source": [
    "def df_from_directory(path, classification):\n",
    "    \n",
    "    rows=[] #empty-list\n",
    "    \n",
    "    row_names=[] #empty-list\n",
    "    \n",
    "    for file_name, email_body in email_body_generator(path):\n",
    "        \n",
    "        rows.append({'MESSAGE':email_body,'CATEGORY':classification})\n",
    "        \n",
    "        row_names.append(file_name)\n",
    "        \n",
    "    return pd.DataFrame(data=rows, index=row_names)"
   ]
  },
  {
   "cell_type": "code",
   "execution_count": 24,
   "metadata": {},
   "outputs": [
    {
     "data": {
      "text/html": [
       "<div>\n",
       "<style scoped>\n",
       "    .dataframe tbody tr th:only-of-type {\n",
       "        vertical-align: middle;\n",
       "    }\n",
       "\n",
       "    .dataframe tbody tr th {\n",
       "        vertical-align: top;\n",
       "    }\n",
       "\n",
       "    .dataframe thead th {\n",
       "        text-align: right;\n",
       "    }\n",
       "</style>\n",
       "<table border=\"1\" class=\"dataframe\">\n",
       "  <thead>\n",
       "    <tr style=\"text-align: right;\">\n",
       "      <th></th>\n",
       "      <th>MESSAGE</th>\n",
       "      <th>CATEGORY</th>\n",
       "    </tr>\n",
       "  </thead>\n",
       "  <tbody>\n",
       "    <tr>\n",
       "      <th>00001.7848dde101aa985090474a91ec93fcf0</th>\n",
       "      <td>&lt;!DOCTYPE HTML PUBLIC \"-//W3C//DTD HTML 4.0 Tr...</td>\n",
       "      <td>1</td>\n",
       "    </tr>\n",
       "    <tr>\n",
       "      <th>00002.d94f1b97e48ed3b553b3508d116e6a09</th>\n",
       "      <td>1) Fight The Risk of Cancer!\\n\\nhttp://www.adc...</td>\n",
       "      <td>1</td>\n",
       "    </tr>\n",
       "    <tr>\n",
       "      <th>00003.2ee33bc6eacdb11f38d052c44819ba6c</th>\n",
       "      <td>1) Fight The Risk of Cancer!\\n\\nhttp://www.adc...</td>\n",
       "      <td>1</td>\n",
       "    </tr>\n",
       "    <tr>\n",
       "      <th>00004.eac8de8d759b7e74154f142194282724</th>\n",
       "      <td>##############################################...</td>\n",
       "      <td>1</td>\n",
       "    </tr>\n",
       "    <tr>\n",
       "      <th>00005.57696a39d7d84318ce497886896bf90d</th>\n",
       "      <td>I thought you might like these:\\n\\n1) Slim Dow...</td>\n",
       "      <td>1</td>\n",
       "    </tr>\n",
       "    <tr>\n",
       "      <th>...</th>\n",
       "      <td>...</td>\n",
       "      <td>...</td>\n",
       "    </tr>\n",
       "    <tr>\n",
       "      <th>00497.ebf699da617b11135f3aa9173b9781b9</th>\n",
       "      <td>&lt;html&gt;\\n\\n&lt;head&gt;\\n\\n&lt;title&gt;Untitled Document&lt;/...</td>\n",
       "      <td>1</td>\n",
       "    </tr>\n",
       "    <tr>\n",
       "      <th>00498.48c3098854d339353f1a28a13b196017</th>\n",
       "      <td>This is an HTML email message.  If you see thi...</td>\n",
       "      <td>1</td>\n",
       "    </tr>\n",
       "    <tr>\n",
       "      <th>00499.988506a852cf86b396771a8bdc8cf839</th>\n",
       "      <td>&lt;html&gt;\\n\\n&lt;head&gt;\\n\\n&lt;/head&gt;\\n\\n  &lt;body backgro...</td>\n",
       "      <td>1</td>\n",
       "    </tr>\n",
       "    <tr>\n",
       "      <th>00500.85b72f09f6778a085dc8b6821965a76f</th>\n",
       "      <td>&lt;STYLE type=\"text/css\"&gt;\\n\\n&lt;!--\\n\\nP{\\n\\n  fon...</td>\n",
       "      <td>1</td>\n",
       "    </tr>\n",
       "    <tr>\n",
       "      <th>cmds</th>\n",
       "      <td></td>\n",
       "      <td>1</td>\n",
       "    </tr>\n",
       "  </tbody>\n",
       "</table>\n",
       "<p>501 rows × 2 columns</p>\n",
       "</div>"
      ],
      "text/plain": [
       "                                                                                  MESSAGE  \\\n",
       "00001.7848dde101aa985090474a91ec93fcf0  <!DOCTYPE HTML PUBLIC \"-//W3C//DTD HTML 4.0 Tr...   \n",
       "00002.d94f1b97e48ed3b553b3508d116e6a09  1) Fight The Risk of Cancer!\\n\\nhttp://www.adc...   \n",
       "00003.2ee33bc6eacdb11f38d052c44819ba6c  1) Fight The Risk of Cancer!\\n\\nhttp://www.adc...   \n",
       "00004.eac8de8d759b7e74154f142194282724  ##############################################...   \n",
       "00005.57696a39d7d84318ce497886896bf90d  I thought you might like these:\\n\\n1) Slim Dow...   \n",
       "...                                                                                   ...   \n",
       "00497.ebf699da617b11135f3aa9173b9781b9  <html>\\n\\n<head>\\n\\n<title>Untitled Document</...   \n",
       "00498.48c3098854d339353f1a28a13b196017  This is an HTML email message.  If you see thi...   \n",
       "00499.988506a852cf86b396771a8bdc8cf839  <html>\\n\\n<head>\\n\\n</head>\\n\\n  <body backgro...   \n",
       "00500.85b72f09f6778a085dc8b6821965a76f  <STYLE type=\"text/css\">\\n\\n<!--\\n\\nP{\\n\\n  fon...   \n",
       "cmds                                                                                        \n",
       "\n",
       "                                        CATEGORY  \n",
       "00001.7848dde101aa985090474a91ec93fcf0         1  \n",
       "00002.d94f1b97e48ed3b553b3508d116e6a09         1  \n",
       "00003.2ee33bc6eacdb11f38d052c44819ba6c         1  \n",
       "00004.eac8de8d759b7e74154f142194282724         1  \n",
       "00005.57696a39d7d84318ce497886896bf90d         1  \n",
       "...                                          ...  \n",
       "00497.ebf699da617b11135f3aa9173b9781b9         1  \n",
       "00498.48c3098854d339353f1a28a13b196017         1  \n",
       "00499.988506a852cf86b396771a8bdc8cf839         1  \n",
       "00500.85b72f09f6778a085dc8b6821965a76f         1  \n",
       "cmds                                           1  \n",
       "\n",
       "[501 rows x 2 columns]"
      ]
     },
     "execution_count": 24,
     "metadata": {},
     "output_type": "execute_result"
    }
   ],
   "source": [
    "df_from_directory(SPAM_1_PATH,1)"
   ]
  },
  {
   "cell_type": "code",
   "execution_count": 25,
   "metadata": {},
   "outputs": [],
   "source": [
    "SPAM_2_PATH = 'SpamData/01_Processing/spam_assassin_corpus/spam_2'\n",
    "SPAM_CAT = 1"
   ]
  },
  {
   "cell_type": "code",
   "execution_count": 26,
   "metadata": {},
   "outputs": [
    {
     "data": {
      "text/html": [
       "<div>\n",
       "<style scoped>\n",
       "    .dataframe tbody tr th:only-of-type {\n",
       "        vertical-align: middle;\n",
       "    }\n",
       "\n",
       "    .dataframe tbody tr th {\n",
       "        vertical-align: top;\n",
       "    }\n",
       "\n",
       "    .dataframe thead th {\n",
       "        text-align: right;\n",
       "    }\n",
       "</style>\n",
       "<table border=\"1\" class=\"dataframe\">\n",
       "  <thead>\n",
       "    <tr style=\"text-align: right;\">\n",
       "      <th></th>\n",
       "      <th>MESSAGE</th>\n",
       "      <th>CATEGORY</th>\n",
       "    </tr>\n",
       "  </thead>\n",
       "  <tbody>\n",
       "    <tr>\n",
       "      <th>00001.317e78fa8ee2f54cd4890fdc09ba8176</th>\n",
       "      <td>Greetings!\\n\\n\\n\\nYou are receiving this lette...</td>\n",
       "      <td>1</td>\n",
       "    </tr>\n",
       "    <tr>\n",
       "      <th>00002.9438920e9a55591b18e60d1ed37d992b</th>\n",
       "      <td>&lt;html&gt;\\n\\n&lt;body&gt;\\n\\n&lt;center&gt;\\n\\n&lt;h3&gt;\\n\\n&lt;font ...</td>\n",
       "      <td>1</td>\n",
       "    </tr>\n",
       "    <tr>\n",
       "      <th>00003.590eff932f8704d8b0fcbe69d023b54d</th>\n",
       "      <td>&lt;html&gt;\\n\\n&lt;body&gt;\\n\\n&lt;center&gt;\\n\\n&lt;b&gt;\\n\\n&lt;font c...</td>\n",
       "      <td>1</td>\n",
       "    </tr>\n",
       "    <tr>\n",
       "      <th>00004.bdcc075fa4beb5157b5dd6cd41d8887b</th>\n",
       "      <td>&lt;html&gt;\\n\\n&lt;body&gt;\\n\\n&lt;center&gt;\\n\\n&lt;b&gt;\\n\\n&lt;font c...</td>\n",
       "      <td>1</td>\n",
       "    </tr>\n",
       "    <tr>\n",
       "      <th>00005.ed0aba4d386c5e62bc737cf3f0ed9589</th>\n",
       "      <td>&lt;html&gt;&lt;xbody&gt;\\n\\n&lt;hr width = \"100%\"&gt;\\n\\n&lt;cente...</td>\n",
       "      <td>1</td>\n",
       "    </tr>\n",
       "    <tr>\n",
       "      <th>...</th>\n",
       "      <td>...</td>\n",
       "      <td>...</td>\n",
       "    </tr>\n",
       "    <tr>\n",
       "      <th>01397.f75f0dd0dd923faefa3e9cc5ecb8c906</th>\n",
       "      <td>This is a multi-part message in MIME format.\\n...</td>\n",
       "      <td>1</td>\n",
       "    </tr>\n",
       "    <tr>\n",
       "      <th>01398.8ca7045aae4184d56e8509dc5ad6d979</th>\n",
       "      <td>Dear Subscriber,\\n\\n\\n\\nIf I could show you a ...</td>\n",
       "      <td>1</td>\n",
       "    </tr>\n",
       "    <tr>\n",
       "      <th>01399.2319643317e2c5193d574e40a71809c2</th>\n",
       "      <td>****Mid-Summer Customer Appreciation SALE!****...</td>\n",
       "      <td>1</td>\n",
       "    </tr>\n",
       "    <tr>\n",
       "      <th>01400.b444b69845db2fa0a4693ca04e6ac5c5</th>\n",
       "      <td>ATTN:SIR/MADAN      \\n\\n\\n\\n                  ...</td>\n",
       "      <td>1</td>\n",
       "    </tr>\n",
       "    <tr>\n",
       "      <th>cmds</th>\n",
       "      <td></td>\n",
       "      <td>1</td>\n",
       "    </tr>\n",
       "  </tbody>\n",
       "</table>\n",
       "<p>1397 rows × 2 columns</p>\n",
       "</div>"
      ],
      "text/plain": [
       "                                                                                  MESSAGE  \\\n",
       "00001.317e78fa8ee2f54cd4890fdc09ba8176  Greetings!\\n\\n\\n\\nYou are receiving this lette...   \n",
       "00002.9438920e9a55591b18e60d1ed37d992b  <html>\\n\\n<body>\\n\\n<center>\\n\\n<h3>\\n\\n<font ...   \n",
       "00003.590eff932f8704d8b0fcbe69d023b54d  <html>\\n\\n<body>\\n\\n<center>\\n\\n<b>\\n\\n<font c...   \n",
       "00004.bdcc075fa4beb5157b5dd6cd41d8887b  <html>\\n\\n<body>\\n\\n<center>\\n\\n<b>\\n\\n<font c...   \n",
       "00005.ed0aba4d386c5e62bc737cf3f0ed9589  <html><xbody>\\n\\n<hr width = \"100%\">\\n\\n<cente...   \n",
       "...                                                                                   ...   \n",
       "01397.f75f0dd0dd923faefa3e9cc5ecb8c906  This is a multi-part message in MIME format.\\n...   \n",
       "01398.8ca7045aae4184d56e8509dc5ad6d979  Dear Subscriber,\\n\\n\\n\\nIf I could show you a ...   \n",
       "01399.2319643317e2c5193d574e40a71809c2  ****Mid-Summer Customer Appreciation SALE!****...   \n",
       "01400.b444b69845db2fa0a4693ca04e6ac5c5  ATTN:SIR/MADAN      \\n\\n\\n\\n                  ...   \n",
       "cmds                                                                                        \n",
       "\n",
       "                                        CATEGORY  \n",
       "00001.317e78fa8ee2f54cd4890fdc09ba8176         1  \n",
       "00002.9438920e9a55591b18e60d1ed37d992b         1  \n",
       "00003.590eff932f8704d8b0fcbe69d023b54d         1  \n",
       "00004.bdcc075fa4beb5157b5dd6cd41d8887b         1  \n",
       "00005.ed0aba4d386c5e62bc737cf3f0ed9589         1  \n",
       "...                                          ...  \n",
       "01397.f75f0dd0dd923faefa3e9cc5ecb8c906         1  \n",
       "01398.8ca7045aae4184d56e8509dc5ad6d979         1  \n",
       "01399.2319643317e2c5193d574e40a71809c2         1  \n",
       "01400.b444b69845db2fa0a4693ca04e6ac5c5         1  \n",
       "cmds                                           1  \n",
       "\n",
       "[1397 rows x 2 columns]"
      ]
     },
     "execution_count": 26,
     "metadata": {},
     "output_type": "execute_result"
    }
   ],
   "source": [
    "df_from_directory(SPAM_2_PATH, SPAM_CAT)"
   ]
  },
  {
   "cell_type": "code",
   "execution_count": 27,
   "metadata": {},
   "outputs": [],
   "source": [
    "spam_emails = df_from_directory(SPAM_1_PATH, SPAM_CAT)"
   ]
  },
  {
   "cell_type": "code",
   "execution_count": 28,
   "metadata": {},
   "outputs": [],
   "source": [
    "spam_emails =spam_emails.append(df_from_directory(SPAM_2_PATH, SPAM_CAT))"
   ]
  },
  {
   "cell_type": "code",
   "execution_count": 29,
   "metadata": {},
   "outputs": [
    {
     "data": {
      "text/plain": [
       "(1898, 2)"
      ]
     },
     "execution_count": 29,
     "metadata": {},
     "output_type": "execute_result"
    }
   ],
   "source": [
    "spam_emails.shape"
   ]
  },
  {
   "cell_type": "code",
   "execution_count": 30,
   "metadata": {},
   "outputs": [
    {
     "data": {
      "text/html": [
       "<div>\n",
       "<style scoped>\n",
       "    .dataframe tbody tr th:only-of-type {\n",
       "        vertical-align: middle;\n",
       "    }\n",
       "\n",
       "    .dataframe tbody tr th {\n",
       "        vertical-align: top;\n",
       "    }\n",
       "\n",
       "    .dataframe thead th {\n",
       "        text-align: right;\n",
       "    }\n",
       "</style>\n",
       "<table border=\"1\" class=\"dataframe\">\n",
       "  <thead>\n",
       "    <tr style=\"text-align: right;\">\n",
       "      <th></th>\n",
       "      <th>MESSAGE</th>\n",
       "      <th>CATEGORY</th>\n",
       "    </tr>\n",
       "  </thead>\n",
       "  <tbody>\n",
       "    <tr>\n",
       "      <th>00001.7848dde101aa985090474a91ec93fcf0</th>\n",
       "      <td>&lt;!DOCTYPE HTML PUBLIC \"-//W3C//DTD HTML 4.0 Tr...</td>\n",
       "      <td>1</td>\n",
       "    </tr>\n",
       "    <tr>\n",
       "      <th>00002.d94f1b97e48ed3b553b3508d116e6a09</th>\n",
       "      <td>1) Fight The Risk of Cancer!\\n\\nhttp://www.adc...</td>\n",
       "      <td>1</td>\n",
       "    </tr>\n",
       "    <tr>\n",
       "      <th>00003.2ee33bc6eacdb11f38d052c44819ba6c</th>\n",
       "      <td>1) Fight The Risk of Cancer!\\n\\nhttp://www.adc...</td>\n",
       "      <td>1</td>\n",
       "    </tr>\n",
       "    <tr>\n",
       "      <th>00004.eac8de8d759b7e74154f142194282724</th>\n",
       "      <td>##############################################...</td>\n",
       "      <td>1</td>\n",
       "    </tr>\n",
       "    <tr>\n",
       "      <th>00005.57696a39d7d84318ce497886896bf90d</th>\n",
       "      <td>I thought you might like these:\\n\\n1) Slim Dow...</td>\n",
       "      <td>1</td>\n",
       "    </tr>\n",
       "  </tbody>\n",
       "</table>\n",
       "</div>"
      ],
      "text/plain": [
       "                                                                                  MESSAGE  \\\n",
       "00001.7848dde101aa985090474a91ec93fcf0  <!DOCTYPE HTML PUBLIC \"-//W3C//DTD HTML 4.0 Tr...   \n",
       "00002.d94f1b97e48ed3b553b3508d116e6a09  1) Fight The Risk of Cancer!\\n\\nhttp://www.adc...   \n",
       "00003.2ee33bc6eacdb11f38d052c44819ba6c  1) Fight The Risk of Cancer!\\n\\nhttp://www.adc...   \n",
       "00004.eac8de8d759b7e74154f142194282724  ##############################################...   \n",
       "00005.57696a39d7d84318ce497886896bf90d  I thought you might like these:\\n\\n1) Slim Dow...   \n",
       "\n",
       "                                        CATEGORY  \n",
       "00001.7848dde101aa985090474a91ec93fcf0         1  \n",
       "00002.d94f1b97e48ed3b553b3508d116e6a09         1  \n",
       "00003.2ee33bc6eacdb11f38d052c44819ba6c         1  \n",
       "00004.eac8de8d759b7e74154f142194282724         1  \n",
       "00005.57696a39d7d84318ce497886896bf90d         1  "
      ]
     },
     "execution_count": 30,
     "metadata": {},
     "output_type": "execute_result"
    }
   ],
   "source": [
    "spam_emails.head()"
   ]
  },
  {
   "cell_type": "code",
   "execution_count": 31,
   "metadata": {},
   "outputs": [
    {
     "data": {
      "text/html": [
       "<div>\n",
       "<style scoped>\n",
       "    .dataframe tbody tr th:only-of-type {\n",
       "        vertical-align: middle;\n",
       "    }\n",
       "\n",
       "    .dataframe tbody tr th {\n",
       "        vertical-align: top;\n",
       "    }\n",
       "\n",
       "    .dataframe thead th {\n",
       "        text-align: right;\n",
       "    }\n",
       "</style>\n",
       "<table border=\"1\" class=\"dataframe\">\n",
       "  <thead>\n",
       "    <tr style=\"text-align: right;\">\n",
       "      <th></th>\n",
       "      <th>MESSAGE</th>\n",
       "      <th>CATEGORY</th>\n",
       "    </tr>\n",
       "  </thead>\n",
       "  <tbody>\n",
       "    <tr>\n",
       "      <th>01397.f75f0dd0dd923faefa3e9cc5ecb8c906</th>\n",
       "      <td>This is a multi-part message in MIME format.\\n...</td>\n",
       "      <td>1</td>\n",
       "    </tr>\n",
       "    <tr>\n",
       "      <th>01398.8ca7045aae4184d56e8509dc5ad6d979</th>\n",
       "      <td>Dear Subscriber,\\n\\n\\n\\nIf I could show you a ...</td>\n",
       "      <td>1</td>\n",
       "    </tr>\n",
       "    <tr>\n",
       "      <th>01399.2319643317e2c5193d574e40a71809c2</th>\n",
       "      <td>****Mid-Summer Customer Appreciation SALE!****...</td>\n",
       "      <td>1</td>\n",
       "    </tr>\n",
       "    <tr>\n",
       "      <th>01400.b444b69845db2fa0a4693ca04e6ac5c5</th>\n",
       "      <td>ATTN:SIR/MADAN      \\n\\n\\n\\n                  ...</td>\n",
       "      <td>1</td>\n",
       "    </tr>\n",
       "    <tr>\n",
       "      <th>cmds</th>\n",
       "      <td></td>\n",
       "      <td>1</td>\n",
       "    </tr>\n",
       "  </tbody>\n",
       "</table>\n",
       "</div>"
      ],
      "text/plain": [
       "                                                                                  MESSAGE  \\\n",
       "01397.f75f0dd0dd923faefa3e9cc5ecb8c906  This is a multi-part message in MIME format.\\n...   \n",
       "01398.8ca7045aae4184d56e8509dc5ad6d979  Dear Subscriber,\\n\\n\\n\\nIf I could show you a ...   \n",
       "01399.2319643317e2c5193d574e40a71809c2  ****Mid-Summer Customer Appreciation SALE!****...   \n",
       "01400.b444b69845db2fa0a4693ca04e6ac5c5  ATTN:SIR/MADAN      \\n\\n\\n\\n                  ...   \n",
       "cmds                                                                                        \n",
       "\n",
       "                                        CATEGORY  \n",
       "01397.f75f0dd0dd923faefa3e9cc5ecb8c906         1  \n",
       "01398.8ca7045aae4184d56e8509dc5ad6d979         1  \n",
       "01399.2319643317e2c5193d574e40a71809c2         1  \n",
       "01400.b444b69845db2fa0a4693ca04e6ac5c5         1  \n",
       "cmds                                           1  "
      ]
     },
     "execution_count": 31,
     "metadata": {},
     "output_type": "execute_result"
    }
   ],
   "source": [
    "spam_emails.tail()"
   ]
  },
  {
   "cell_type": "code",
   "execution_count": 32,
   "metadata": {},
   "outputs": [],
   "source": [
    "EASY_NONSPAM_1_PATH = 'SpamData/01_Processing/spam_assassin_corpus/easy_ham_1'\n",
    "EASY_NONSPAM_2_PATH = 'SpamData/01_Processing/spam_assassin_corpus/easy_ham_2'\n",
    "HAM_CAT = 0"
   ]
  },
  {
   "cell_type": "code",
   "execution_count": 33,
   "metadata": {},
   "outputs": [
    {
     "data": {
      "text/plain": [
       "(3902, 2)"
      ]
     },
     "execution_count": 33,
     "metadata": {},
     "output_type": "execute_result"
    }
   ],
   "source": [
    "ham_emails = df_from_directory(EASY_NONSPAM_1_PATH, HAM_CAT)\n",
    "ham_emails = ham_emails.append(df_from_directory(EASY_NONSPAM_2_PATH, HAM_CAT))\n",
    "ham_emails.shape"
   ]
  },
  {
   "cell_type": "code",
   "execution_count": 34,
   "metadata": {},
   "outputs": [
    {
     "name": "stdout",
     "output_type": "stream",
     "text": [
      "Shape of entire dataframe is  (5800, 2)\n"
     ]
    }
   ],
   "source": [
    "data = pd.concat([spam_emails, ham_emails])\n",
    "print('Shape of entire dataframe is ', data.shape)"
   ]
  },
  {
   "cell_type": "code",
   "execution_count": 35,
   "metadata": {},
   "outputs": [
    {
     "data": {
      "text/html": [
       "<div>\n",
       "<style scoped>\n",
       "    .dataframe tbody tr th:only-of-type {\n",
       "        vertical-align: middle;\n",
       "    }\n",
       "\n",
       "    .dataframe tbody tr th {\n",
       "        vertical-align: top;\n",
       "    }\n",
       "\n",
       "    .dataframe thead th {\n",
       "        text-align: right;\n",
       "    }\n",
       "</style>\n",
       "<table border=\"1\" class=\"dataframe\">\n",
       "  <thead>\n",
       "    <tr style=\"text-align: right;\">\n",
       "      <th></th>\n",
       "      <th>MESSAGE</th>\n",
       "      <th>CATEGORY</th>\n",
       "    </tr>\n",
       "  </thead>\n",
       "  <tbody>\n",
       "    <tr>\n",
       "      <th>00001.7848dde101aa985090474a91ec93fcf0</th>\n",
       "      <td>&lt;!DOCTYPE HTML PUBLIC \"-//W3C//DTD HTML 4.0 Tr...</td>\n",
       "      <td>1</td>\n",
       "    </tr>\n",
       "    <tr>\n",
       "      <th>00002.d94f1b97e48ed3b553b3508d116e6a09</th>\n",
       "      <td>1) Fight The Risk of Cancer!\\n\\nhttp://www.adc...</td>\n",
       "      <td>1</td>\n",
       "    </tr>\n",
       "    <tr>\n",
       "      <th>00003.2ee33bc6eacdb11f38d052c44819ba6c</th>\n",
       "      <td>1) Fight The Risk of Cancer!\\n\\nhttp://www.adc...</td>\n",
       "      <td>1</td>\n",
       "    </tr>\n",
       "    <tr>\n",
       "      <th>00004.eac8de8d759b7e74154f142194282724</th>\n",
       "      <td>##############################################...</td>\n",
       "      <td>1</td>\n",
       "    </tr>\n",
       "    <tr>\n",
       "      <th>00005.57696a39d7d84318ce497886896bf90d</th>\n",
       "      <td>I thought you might like these:\\n\\n1) Slim Dow...</td>\n",
       "      <td>1</td>\n",
       "    </tr>\n",
       "  </tbody>\n",
       "</table>\n",
       "</div>"
      ],
      "text/plain": [
       "                                                                                  MESSAGE  \\\n",
       "00001.7848dde101aa985090474a91ec93fcf0  <!DOCTYPE HTML PUBLIC \"-//W3C//DTD HTML 4.0 Tr...   \n",
       "00002.d94f1b97e48ed3b553b3508d116e6a09  1) Fight The Risk of Cancer!\\n\\nhttp://www.adc...   \n",
       "00003.2ee33bc6eacdb11f38d052c44819ba6c  1) Fight The Risk of Cancer!\\n\\nhttp://www.adc...   \n",
       "00004.eac8de8d759b7e74154f142194282724  ##############################################...   \n",
       "00005.57696a39d7d84318ce497886896bf90d  I thought you might like these:\\n\\n1) Slim Dow...   \n",
       "\n",
       "                                        CATEGORY  \n",
       "00001.7848dde101aa985090474a91ec93fcf0         1  \n",
       "00002.d94f1b97e48ed3b553b3508d116e6a09         1  \n",
       "00003.2ee33bc6eacdb11f38d052c44819ba6c         1  \n",
       "00004.eac8de8d759b7e74154f142194282724         1  \n",
       "00005.57696a39d7d84318ce497886896bf90d         1  "
      ]
     },
     "execution_count": 35,
     "metadata": {},
     "output_type": "execute_result"
    }
   ],
   "source": [
    "data.head()"
   ]
  },
  {
   "cell_type": "code",
   "execution_count": 36,
   "metadata": {},
   "outputs": [
    {
     "data": {
      "text/html": [
       "<div>\n",
       "<style scoped>\n",
       "    .dataframe tbody tr th:only-of-type {\n",
       "        vertical-align: middle;\n",
       "    }\n",
       "\n",
       "    .dataframe tbody tr th {\n",
       "        vertical-align: top;\n",
       "    }\n",
       "\n",
       "    .dataframe thead th {\n",
       "        text-align: right;\n",
       "    }\n",
       "</style>\n",
       "<table border=\"1\" class=\"dataframe\">\n",
       "  <thead>\n",
       "    <tr style=\"text-align: right;\">\n",
       "      <th></th>\n",
       "      <th>MESSAGE</th>\n",
       "      <th>CATEGORY</th>\n",
       "    </tr>\n",
       "  </thead>\n",
       "  <tbody>\n",
       "    <tr>\n",
       "      <th>01396.61983fbe6ec43f55fd44e30fce24ffa6</th>\n",
       "      <td>http://news.bbc.co.uk/1/hi/england/2515127.stm...</td>\n",
       "      <td>0</td>\n",
       "    </tr>\n",
       "    <tr>\n",
       "      <th>01397.9f9ef4c2a8dc012d80f2ce2d3473d3b7</th>\n",
       "      <td>&gt; &gt;-- be careful when using this one.) Also, t...</td>\n",
       "      <td>0</td>\n",
       "    </tr>\n",
       "    <tr>\n",
       "      <th>01398.169b51731fe569f42169ae8f948ec676</th>\n",
       "      <td>&gt;&gt;&gt;&gt;&gt; \"SM\" == Skip Montanaro &lt;skip@pobox.com&gt; ...</td>\n",
       "      <td>0</td>\n",
       "    </tr>\n",
       "    <tr>\n",
       "      <th>01399.ca6b00b7b341bbde9a9ea3dd6a7bf896</th>\n",
       "      <td>So then, \"Mark Hammond\" &lt;mhammond@skippinet.co...</td>\n",
       "      <td>0</td>\n",
       "    </tr>\n",
       "    <tr>\n",
       "      <th>01400.f897f0931e461e7b2e964d28e927c35e</th>\n",
       "      <td>Hi there,\\n\\n\\n\\nNow this is probably of no us...</td>\n",
       "      <td>0</td>\n",
       "    </tr>\n",
       "  </tbody>\n",
       "</table>\n",
       "</div>"
      ],
      "text/plain": [
       "                                                                                  MESSAGE  \\\n",
       "01396.61983fbe6ec43f55fd44e30fce24ffa6  http://news.bbc.co.uk/1/hi/england/2515127.stm...   \n",
       "01397.9f9ef4c2a8dc012d80f2ce2d3473d3b7  > >-- be careful when using this one.) Also, t...   \n",
       "01398.169b51731fe569f42169ae8f948ec676  >>>>> \"SM\" == Skip Montanaro <skip@pobox.com> ...   \n",
       "01399.ca6b00b7b341bbde9a9ea3dd6a7bf896  So then, \"Mark Hammond\" <mhammond@skippinet.co...   \n",
       "01400.f897f0931e461e7b2e964d28e927c35e  Hi there,\\n\\n\\n\\nNow this is probably of no us...   \n",
       "\n",
       "                                        CATEGORY  \n",
       "01396.61983fbe6ec43f55fd44e30fce24ffa6         0  \n",
       "01397.9f9ef4c2a8dc012d80f2ce2d3473d3b7         0  \n",
       "01398.169b51731fe569f42169ae8f948ec676         0  \n",
       "01399.ca6b00b7b341bbde9a9ea3dd6a7bf896         0  \n",
       "01400.f897f0931e461e7b2e964d28e927c35e         0  "
      ]
     },
     "execution_count": 36,
     "metadata": {},
     "output_type": "execute_result"
    }
   ],
   "source": [
    "data.tail()"
   ]
  },
  {
   "cell_type": "code",
   "execution_count": 37,
   "metadata": {},
   "outputs": [
    {
     "data": {
      "text/plain": [
       "NoneType"
      ]
     },
     "execution_count": 37,
     "metadata": {},
     "output_type": "execute_result"
    }
   ],
   "source": [
    "my_var=None\n",
    "type(my_var)"
   ]
  },
  {
   "cell_type": "code",
   "execution_count": 38,
   "metadata": {},
   "outputs": [
    {
     "data": {
      "text/plain": [
       "00001.7848dde101aa985090474a91ec93fcf0    False\n",
       "00002.d94f1b97e48ed3b553b3508d116e6a09    False\n",
       "00003.2ee33bc6eacdb11f38d052c44819ba6c    False\n",
       "00004.eac8de8d759b7e74154f142194282724    False\n",
       "00005.57696a39d7d84318ce497886896bf90d    False\n",
       "                                          ...  \n",
       "01396.61983fbe6ec43f55fd44e30fce24ffa6    False\n",
       "01397.9f9ef4c2a8dc012d80f2ce2d3473d3b7    False\n",
       "01398.169b51731fe569f42169ae8f948ec676    False\n",
       "01399.ca6b00b7b341bbde9a9ea3dd6a7bf896    False\n",
       "01400.f897f0931e461e7b2e964d28e927c35e    False\n",
       "Name: MESSAGE, Length: 5800, dtype: bool"
      ]
     },
     "execution_count": 38,
     "metadata": {},
     "output_type": "execute_result"
    }
   ],
   "source": [
    "data['MESSAGE'].isnull()"
   ]
  },
  {
   "cell_type": "code",
   "execution_count": 39,
   "metadata": {},
   "outputs": [
    {
     "data": {
      "text/plain": [
       "False"
      ]
     },
     "execution_count": 39,
     "metadata": {},
     "output_type": "execute_result"
    }
   ],
   "source": [
    "data['MESSAGE'].isnull().any()"
   ]
  },
  {
   "cell_type": "code",
   "execution_count": 40,
   "metadata": {},
   "outputs": [
    {
     "data": {
      "text/plain": [
       "0"
      ]
     },
     "execution_count": 40,
     "metadata": {},
     "output_type": "execute_result"
    }
   ],
   "source": [
    "data['MESSAGE'].isnull().sum()"
   ]
  },
  {
   "cell_type": "code",
   "execution_count": 41,
   "metadata": {},
   "outputs": [
    {
     "data": {
      "text/plain": [
       "str"
      ]
     },
     "execution_count": 41,
     "metadata": {},
     "output_type": "execute_result"
    }
   ],
   "source": [
    "myname=''\n",
    "type(myname)"
   ]
  },
  {
   "cell_type": "code",
   "execution_count": 42,
   "metadata": {},
   "outputs": [
    {
     "data": {
      "text/plain": [
       "0"
      ]
     },
     "execution_count": 42,
     "metadata": {},
     "output_type": "execute_result"
    }
   ],
   "source": [
    "len(myname)"
   ]
  },
  {
   "cell_type": "code",
   "execution_count": 43,
   "metadata": {},
   "outputs": [
    {
     "data": {
      "text/plain": [
       "True"
      ]
     },
     "execution_count": 43,
     "metadata": {},
     "output_type": "execute_result"
    }
   ],
   "source": [
    "(data['MESSAGE'].str.len()==0).any()"
   ]
  },
  {
   "cell_type": "code",
   "execution_count": 44,
   "metadata": {},
   "outputs": [
    {
     "data": {
      "text/plain": [
       "4"
      ]
     },
     "execution_count": 44,
     "metadata": {},
     "output_type": "execute_result"
    }
   ],
   "source": [
    "(data['MESSAGE'].str.len()==0).sum()"
   ]
  },
  {
   "cell_type": "code",
   "execution_count": 45,
   "metadata": {},
   "outputs": [
    {
     "data": {
      "text/plain": [
       "4"
      ]
     },
     "execution_count": 45,
     "metadata": {},
     "output_type": "execute_result"
    }
   ],
   "source": [
    "(data.MESSAGE.str.len()==0).sum()"
   ]
  },
  {
   "cell_type": "code",
   "execution_count": 46,
   "metadata": {},
   "outputs": [
    {
     "data": {
      "text/plain": [
       "Index(['cmds', 'cmds', 'cmds', '.yestee_antony.txt'], dtype='object')"
      ]
     },
     "execution_count": 46,
     "metadata": {},
     "output_type": "execute_result"
    }
   ],
   "source": [
    "data[data.MESSAGE.str.len()==0].index"
   ]
  },
  {
   "cell_type": "code",
   "execution_count": 47,
   "metadata": {},
   "outputs": [
    {
     "name": "stdout",
     "output_type": "stream",
     "text": [
      "4399\n"
     ]
    }
   ],
   "source": [
    "print(data.index.get_loc('.yestee_antony.txt'))"
   ]
  },
  {
   "cell_type": "code",
   "execution_count": 48,
   "metadata": {},
   "outputs": [
    {
     "data": {
      "text/plain": [
       "MESSAGE     >  OK, I guess that sysctl.conf is the best wa...\n",
       "CATEGORY                                                    0\n",
       "Name: 00180.72b2a009f9799b96a4235b1fbac35eb4, dtype: object"
      ]
     },
     "execution_count": 48,
     "metadata": {},
     "output_type": "execute_result"
    }
   ],
   "source": [
    "data.iloc[4579]"
   ]
  },
  {
   "cell_type": "code",
   "execution_count": 49,
   "metadata": {},
   "outputs": [
    {
     "data": {
      "text/html": [
       "<div>\n",
       "<style scoped>\n",
       "    .dataframe tbody tr th:only-of-type {\n",
       "        vertical-align: middle;\n",
       "    }\n",
       "\n",
       "    .dataframe tbody tr th {\n",
       "        vertical-align: top;\n",
       "    }\n",
       "\n",
       "    .dataframe thead th {\n",
       "        text-align: right;\n",
       "    }\n",
       "</style>\n",
       "<table border=\"1\" class=\"dataframe\">\n",
       "  <thead>\n",
       "    <tr style=\"text-align: right;\">\n",
       "      <th></th>\n",
       "      <th>MESSAGE</th>\n",
       "      <th>CATEGORY</th>\n",
       "    </tr>\n",
       "  </thead>\n",
       "  <tbody>\n",
       "    <tr>\n",
       "      <th>00176.d346b5e8e81c7459364a76408be5860d</th>\n",
       "      <td>On Wed, Jul 31, 2002 at 12:02:01PM +0100, Sate...</td>\n",
       "      <td>0</td>\n",
       "    </tr>\n",
       "    <tr>\n",
       "      <th>00177.0bac33d77bd12fc4da3395a535f2a664</th>\n",
       "      <td>I have 3rd degree burn scars on both hands. I ...</td>\n",
       "      <td>0</td>\n",
       "    </tr>\n",
       "    <tr>\n",
       "      <th>00178.f23e3d8a5c020bfba4914a4f2a945937</th>\n",
       "      <td>Quoting Brian Foster &lt;blf@utvinternet.ie&gt;:\\n\\n...</td>\n",
       "      <td>0</td>\n",
       "    </tr>\n",
       "    <tr>\n",
       "      <th>00179.d15992f3e182d401cc37a1b79c251d03</th>\n",
       "      <td>OK, I guess that sysctl.conf is the best way ...</td>\n",
       "      <td>0</td>\n",
       "    </tr>\n",
       "    <tr>\n",
       "      <th>00180.72b2a009f9799b96a4235b1fbac35eb4</th>\n",
       "      <td>&gt;  OK, I guess that sysctl.conf is the best wa...</td>\n",
       "      <td>0</td>\n",
       "    </tr>\n",
       "    <tr>\n",
       "      <th>00181.d2bdbc9c256b67a7fa484e989449328b</th>\n",
       "      <td>John P. Looney wrote:\\n\\n&gt;  OK, I guess that s...</td>\n",
       "      <td>0</td>\n",
       "    </tr>\n",
       "    <tr>\n",
       "      <th>00182.025cc878aad27ae621db5b5628540989</th>\n",
       "      <td>On Wed, Jul 31, 2002 at 04:24:17PM +0100, Kenn...</td>\n",
       "      <td>0</td>\n",
       "    </tr>\n",
       "    <tr>\n",
       "      <th>00183.c41caba7916cc619cd4e2543eb1aea40</th>\n",
       "      <td>John P. Looney wrote:\\n\\n&gt;  OK, I guess that s...</td>\n",
       "      <td>0</td>\n",
       "    </tr>\n",
       "    <tr>\n",
       "      <th>00184.1d7301eb34c99d53e37f7e891b847ede</th>\n",
       "      <td>Lacking a DOS boot disk, I just looked for a d...</td>\n",
       "      <td>0</td>\n",
       "    </tr>\n",
       "    <tr>\n",
       "      <th>00185.b6902dc0d90f39f906bae90a74907357</th>\n",
       "      <td>\"Good\" ol dos fdisk /mbr should do the twick\\n...</td>\n",
       "      <td>0</td>\n",
       "    </tr>\n",
       "  </tbody>\n",
       "</table>\n",
       "</div>"
      ],
      "text/plain": [
       "                                                                                  MESSAGE  \\\n",
       "00176.d346b5e8e81c7459364a76408be5860d  On Wed, Jul 31, 2002 at 12:02:01PM +0100, Sate...   \n",
       "00177.0bac33d77bd12fc4da3395a535f2a664  I have 3rd degree burn scars on both hands. I ...   \n",
       "00178.f23e3d8a5c020bfba4914a4f2a945937  Quoting Brian Foster <blf@utvinternet.ie>:\\n\\n...   \n",
       "00179.d15992f3e182d401cc37a1b79c251d03   OK, I guess that sysctl.conf is the best way ...   \n",
       "00180.72b2a009f9799b96a4235b1fbac35eb4  >  OK, I guess that sysctl.conf is the best wa...   \n",
       "00181.d2bdbc9c256b67a7fa484e989449328b  John P. Looney wrote:\\n\\n>  OK, I guess that s...   \n",
       "00182.025cc878aad27ae621db5b5628540989  On Wed, Jul 31, 2002 at 04:24:17PM +0100, Kenn...   \n",
       "00183.c41caba7916cc619cd4e2543eb1aea40  John P. Looney wrote:\\n\\n>  OK, I guess that s...   \n",
       "00184.1d7301eb34c99d53e37f7e891b847ede  Lacking a DOS boot disk, I just looked for a d...   \n",
       "00185.b6902dc0d90f39f906bae90a74907357  \"Good\" ol dos fdisk /mbr should do the twick\\n...   \n",
       "\n",
       "                                        CATEGORY  \n",
       "00176.d346b5e8e81c7459364a76408be5860d         0  \n",
       "00177.0bac33d77bd12fc4da3395a535f2a664         0  \n",
       "00178.f23e3d8a5c020bfba4914a4f2a945937         0  \n",
       "00179.d15992f3e182d401cc37a1b79c251d03         0  \n",
       "00180.72b2a009f9799b96a4235b1fbac35eb4         0  \n",
       "00181.d2bdbc9c256b67a7fa484e989449328b         0  \n",
       "00182.025cc878aad27ae621db5b5628540989         0  \n",
       "00183.c41caba7916cc619cd4e2543eb1aea40         0  \n",
       "00184.1d7301eb34c99d53e37f7e891b847ede         0  \n",
       "00185.b6902dc0d90f39f906bae90a74907357         0  "
      ]
     },
     "execution_count": 49,
     "metadata": {},
     "output_type": "execute_result"
    }
   ],
   "source": [
    "data[4575:4585]"
   ]
  },
  {
   "cell_type": "code",
   "execution_count": 50,
   "metadata": {
    "scrolled": false
   },
   "outputs": [],
   "source": [
    "data.drop(data[data.MESSAGE.str.len()==0].index,inplace=True)"
   ]
  },
  {
   "cell_type": "code",
   "execution_count": 51,
   "metadata": {},
   "outputs": [],
   "source": [
    "document_ids=range(0,len(data.index))\n",
    "data['DOC_ID']=document_ids"
   ]
  },
  {
   "cell_type": "code",
   "execution_count": 52,
   "metadata": {},
   "outputs": [
    {
     "data": {
      "text/plain": [
       "00001.7848dde101aa985090474a91ec93fcf0       0\n",
       "00002.d94f1b97e48ed3b553b3508d116e6a09       1\n",
       "00003.2ee33bc6eacdb11f38d052c44819ba6c       2\n",
       "00004.eac8de8d759b7e74154f142194282724       3\n",
       "00005.57696a39d7d84318ce497886896bf90d       4\n",
       "                                          ... \n",
       "01396.61983fbe6ec43f55fd44e30fce24ffa6    5791\n",
       "01397.9f9ef4c2a8dc012d80f2ce2d3473d3b7    5792\n",
       "01398.169b51731fe569f42169ae8f948ec676    5793\n",
       "01399.ca6b00b7b341bbde9a9ea3dd6a7bf896    5794\n",
       "01400.f897f0931e461e7b2e964d28e927c35e    5795\n",
       "Name: DOC_ID, Length: 5796, dtype: int32"
      ]
     },
     "execution_count": 52,
     "metadata": {},
     "output_type": "execute_result"
    }
   ],
   "source": [
    "data.DOC_ID"
   ]
  },
  {
   "cell_type": "code",
   "execution_count": 53,
   "metadata": {},
   "outputs": [
    {
     "data": {
      "text/plain": [
       "00001.7848dde101aa985090474a91ec93fcf0       0\n",
       "00002.d94f1b97e48ed3b553b3508d116e6a09       1\n",
       "00003.2ee33bc6eacdb11f38d052c44819ba6c       2\n",
       "00004.eac8de8d759b7e74154f142194282724       3\n",
       "00005.57696a39d7d84318ce497886896bf90d       4\n",
       "                                          ... \n",
       "01396.61983fbe6ec43f55fd44e30fce24ffa6    5791\n",
       "01397.9f9ef4c2a8dc012d80f2ce2d3473d3b7    5792\n",
       "01398.169b51731fe569f42169ae8f948ec676    5793\n",
       "01399.ca6b00b7b341bbde9a9ea3dd6a7bf896    5794\n",
       "01400.f897f0931e461e7b2e964d28e927c35e    5795\n",
       "Name: DOC_ID, Length: 5796, dtype: int32"
      ]
     },
     "execution_count": 53,
     "metadata": {},
     "output_type": "execute_result"
    }
   ],
   "source": [
    "data['DOC_ID']"
   ]
  },
  {
   "cell_type": "code",
   "execution_count": 54,
   "metadata": {},
   "outputs": [
    {
     "data": {
      "text/html": [
       "<div>\n",
       "<style scoped>\n",
       "    .dataframe tbody tr th:only-of-type {\n",
       "        vertical-align: middle;\n",
       "    }\n",
       "\n",
       "    .dataframe tbody tr th {\n",
       "        vertical-align: top;\n",
       "    }\n",
       "\n",
       "    .dataframe thead th {\n",
       "        text-align: right;\n",
       "    }\n",
       "</style>\n",
       "<table border=\"1\" class=\"dataframe\">\n",
       "  <thead>\n",
       "    <tr style=\"text-align: right;\">\n",
       "      <th></th>\n",
       "      <th>MESSAGE</th>\n",
       "      <th>CATEGORY</th>\n",
       "      <th>DOC_ID</th>\n",
       "    </tr>\n",
       "  </thead>\n",
       "  <tbody>\n",
       "    <tr>\n",
       "      <th>00001.7848dde101aa985090474a91ec93fcf0</th>\n",
       "      <td>&lt;!DOCTYPE HTML PUBLIC \"-//W3C//DTD HTML 4.0 Tr...</td>\n",
       "      <td>1</td>\n",
       "      <td>0</td>\n",
       "    </tr>\n",
       "    <tr>\n",
       "      <th>00002.d94f1b97e48ed3b553b3508d116e6a09</th>\n",
       "      <td>1) Fight The Risk of Cancer!\\n\\nhttp://www.adc...</td>\n",
       "      <td>1</td>\n",
       "      <td>1</td>\n",
       "    </tr>\n",
       "    <tr>\n",
       "      <th>00003.2ee33bc6eacdb11f38d052c44819ba6c</th>\n",
       "      <td>1) Fight The Risk of Cancer!\\n\\nhttp://www.adc...</td>\n",
       "      <td>1</td>\n",
       "      <td>2</td>\n",
       "    </tr>\n",
       "    <tr>\n",
       "      <th>00004.eac8de8d759b7e74154f142194282724</th>\n",
       "      <td>##############################################...</td>\n",
       "      <td>1</td>\n",
       "      <td>3</td>\n",
       "    </tr>\n",
       "    <tr>\n",
       "      <th>00005.57696a39d7d84318ce497886896bf90d</th>\n",
       "      <td>I thought you might like these:\\n\\n1) Slim Dow...</td>\n",
       "      <td>1</td>\n",
       "      <td>4</td>\n",
       "    </tr>\n",
       "  </tbody>\n",
       "</table>\n",
       "</div>"
      ],
      "text/plain": [
       "                                                                                  MESSAGE  \\\n",
       "00001.7848dde101aa985090474a91ec93fcf0  <!DOCTYPE HTML PUBLIC \"-//W3C//DTD HTML 4.0 Tr...   \n",
       "00002.d94f1b97e48ed3b553b3508d116e6a09  1) Fight The Risk of Cancer!\\n\\nhttp://www.adc...   \n",
       "00003.2ee33bc6eacdb11f38d052c44819ba6c  1) Fight The Risk of Cancer!\\n\\nhttp://www.adc...   \n",
       "00004.eac8de8d759b7e74154f142194282724  ##############################################...   \n",
       "00005.57696a39d7d84318ce497886896bf90d  I thought you might like these:\\n\\n1) Slim Dow...   \n",
       "\n",
       "                                        CATEGORY  DOC_ID  \n",
       "00001.7848dde101aa985090474a91ec93fcf0         1       0  \n",
       "00002.d94f1b97e48ed3b553b3508d116e6a09         1       1  \n",
       "00003.2ee33bc6eacdb11f38d052c44819ba6c         1       2  \n",
       "00004.eac8de8d759b7e74154f142194282724         1       3  \n",
       "00005.57696a39d7d84318ce497886896bf90d         1       4  "
      ]
     },
     "execution_count": 54,
     "metadata": {},
     "output_type": "execute_result"
    }
   ],
   "source": [
    "data.head()"
   ]
  },
  {
   "cell_type": "code",
   "execution_count": 55,
   "metadata": {},
   "outputs": [],
   "source": [
    "data['FILE_NAME']=data.index"
   ]
  },
  {
   "cell_type": "code",
   "execution_count": 56,
   "metadata": {},
   "outputs": [
    {
     "data": {
      "text/html": [
       "<div>\n",
       "<style scoped>\n",
       "    .dataframe tbody tr th:only-of-type {\n",
       "        vertical-align: middle;\n",
       "    }\n",
       "\n",
       "    .dataframe tbody tr th {\n",
       "        vertical-align: top;\n",
       "    }\n",
       "\n",
       "    .dataframe thead th {\n",
       "        text-align: right;\n",
       "    }\n",
       "</style>\n",
       "<table border=\"1\" class=\"dataframe\">\n",
       "  <thead>\n",
       "    <tr style=\"text-align: right;\">\n",
       "      <th></th>\n",
       "      <th>MESSAGE</th>\n",
       "      <th>CATEGORY</th>\n",
       "      <th>DOC_ID</th>\n",
       "      <th>FILE_NAME</th>\n",
       "    </tr>\n",
       "  </thead>\n",
       "  <tbody>\n",
       "    <tr>\n",
       "      <th>00001.7848dde101aa985090474a91ec93fcf0</th>\n",
       "      <td>&lt;!DOCTYPE HTML PUBLIC \"-//W3C//DTD HTML 4.0 Tr...</td>\n",
       "      <td>1</td>\n",
       "      <td>0</td>\n",
       "      <td>00001.7848dde101aa985090474a91ec93fcf0</td>\n",
       "    </tr>\n",
       "    <tr>\n",
       "      <th>00002.d94f1b97e48ed3b553b3508d116e6a09</th>\n",
       "      <td>1) Fight The Risk of Cancer!\\n\\nhttp://www.adc...</td>\n",
       "      <td>1</td>\n",
       "      <td>1</td>\n",
       "      <td>00002.d94f1b97e48ed3b553b3508d116e6a09</td>\n",
       "    </tr>\n",
       "    <tr>\n",
       "      <th>00003.2ee33bc6eacdb11f38d052c44819ba6c</th>\n",
       "      <td>1) Fight The Risk of Cancer!\\n\\nhttp://www.adc...</td>\n",
       "      <td>1</td>\n",
       "      <td>2</td>\n",
       "      <td>00003.2ee33bc6eacdb11f38d052c44819ba6c</td>\n",
       "    </tr>\n",
       "    <tr>\n",
       "      <th>00004.eac8de8d759b7e74154f142194282724</th>\n",
       "      <td>##############################################...</td>\n",
       "      <td>1</td>\n",
       "      <td>3</td>\n",
       "      <td>00004.eac8de8d759b7e74154f142194282724</td>\n",
       "    </tr>\n",
       "    <tr>\n",
       "      <th>00005.57696a39d7d84318ce497886896bf90d</th>\n",
       "      <td>I thought you might like these:\\n\\n1) Slim Dow...</td>\n",
       "      <td>1</td>\n",
       "      <td>4</td>\n",
       "      <td>00005.57696a39d7d84318ce497886896bf90d</td>\n",
       "    </tr>\n",
       "  </tbody>\n",
       "</table>\n",
       "</div>"
      ],
      "text/plain": [
       "                                                                                  MESSAGE  \\\n",
       "00001.7848dde101aa985090474a91ec93fcf0  <!DOCTYPE HTML PUBLIC \"-//W3C//DTD HTML 4.0 Tr...   \n",
       "00002.d94f1b97e48ed3b553b3508d116e6a09  1) Fight The Risk of Cancer!\\n\\nhttp://www.adc...   \n",
       "00003.2ee33bc6eacdb11f38d052c44819ba6c  1) Fight The Risk of Cancer!\\n\\nhttp://www.adc...   \n",
       "00004.eac8de8d759b7e74154f142194282724  ##############################################...   \n",
       "00005.57696a39d7d84318ce497886896bf90d  I thought you might like these:\\n\\n1) Slim Dow...   \n",
       "\n",
       "                                        CATEGORY  DOC_ID  \\\n",
       "00001.7848dde101aa985090474a91ec93fcf0         1       0   \n",
       "00002.d94f1b97e48ed3b553b3508d116e6a09         1       1   \n",
       "00003.2ee33bc6eacdb11f38d052c44819ba6c         1       2   \n",
       "00004.eac8de8d759b7e74154f142194282724         1       3   \n",
       "00005.57696a39d7d84318ce497886896bf90d         1       4   \n",
       "\n",
       "                                                                     FILE_NAME  \n",
       "00001.7848dde101aa985090474a91ec93fcf0  00001.7848dde101aa985090474a91ec93fcf0  \n",
       "00002.d94f1b97e48ed3b553b3508d116e6a09  00002.d94f1b97e48ed3b553b3508d116e6a09  \n",
       "00003.2ee33bc6eacdb11f38d052c44819ba6c  00003.2ee33bc6eacdb11f38d052c44819ba6c  \n",
       "00004.eac8de8d759b7e74154f142194282724  00004.eac8de8d759b7e74154f142194282724  \n",
       "00005.57696a39d7d84318ce497886896bf90d  00005.57696a39d7d84318ce497886896bf90d  "
      ]
     },
     "execution_count": 56,
     "metadata": {},
     "output_type": "execute_result"
    }
   ],
   "source": [
    "data.head()"
   ]
  },
  {
   "cell_type": "code",
   "execution_count": 57,
   "metadata": {},
   "outputs": [],
   "source": [
    "#data.index=data['DOC_ID']\n",
    "\n",
    "data.set_index(['DOC_ID'],inplace=True)"
   ]
  },
  {
   "cell_type": "code",
   "execution_count": 58,
   "metadata": {},
   "outputs": [
    {
     "data": {
      "text/html": [
       "<div>\n",
       "<style scoped>\n",
       "    .dataframe tbody tr th:only-of-type {\n",
       "        vertical-align: middle;\n",
       "    }\n",
       "\n",
       "    .dataframe tbody tr th {\n",
       "        vertical-align: top;\n",
       "    }\n",
       "\n",
       "    .dataframe thead th {\n",
       "        text-align: right;\n",
       "    }\n",
       "</style>\n",
       "<table border=\"1\" class=\"dataframe\">\n",
       "  <thead>\n",
       "    <tr style=\"text-align: right;\">\n",
       "      <th></th>\n",
       "      <th>MESSAGE</th>\n",
       "      <th>CATEGORY</th>\n",
       "      <th>FILE_NAME</th>\n",
       "    </tr>\n",
       "    <tr>\n",
       "      <th>DOC_ID</th>\n",
       "      <th></th>\n",
       "      <th></th>\n",
       "      <th></th>\n",
       "    </tr>\n",
       "  </thead>\n",
       "  <tbody>\n",
       "    <tr>\n",
       "      <th>0</th>\n",
       "      <td>&lt;!DOCTYPE HTML PUBLIC \"-//W3C//DTD HTML 4.0 Tr...</td>\n",
       "      <td>1</td>\n",
       "      <td>00001.7848dde101aa985090474a91ec93fcf0</td>\n",
       "    </tr>\n",
       "    <tr>\n",
       "      <th>1</th>\n",
       "      <td>1) Fight The Risk of Cancer!\\n\\nhttp://www.adc...</td>\n",
       "      <td>1</td>\n",
       "      <td>00002.d94f1b97e48ed3b553b3508d116e6a09</td>\n",
       "    </tr>\n",
       "    <tr>\n",
       "      <th>2</th>\n",
       "      <td>1) Fight The Risk of Cancer!\\n\\nhttp://www.adc...</td>\n",
       "      <td>1</td>\n",
       "      <td>00003.2ee33bc6eacdb11f38d052c44819ba6c</td>\n",
       "    </tr>\n",
       "    <tr>\n",
       "      <th>3</th>\n",
       "      <td>##############################################...</td>\n",
       "      <td>1</td>\n",
       "      <td>00004.eac8de8d759b7e74154f142194282724</td>\n",
       "    </tr>\n",
       "    <tr>\n",
       "      <th>4</th>\n",
       "      <td>I thought you might like these:\\n\\n1) Slim Dow...</td>\n",
       "      <td>1</td>\n",
       "      <td>00005.57696a39d7d84318ce497886896bf90d</td>\n",
       "    </tr>\n",
       "    <tr>\n",
       "      <th>...</th>\n",
       "      <td>...</td>\n",
       "      <td>...</td>\n",
       "      <td>...</td>\n",
       "    </tr>\n",
       "    <tr>\n",
       "      <th>5791</th>\n",
       "      <td>http://news.bbc.co.uk/1/hi/england/2515127.stm...</td>\n",
       "      <td>0</td>\n",
       "      <td>01396.61983fbe6ec43f55fd44e30fce24ffa6</td>\n",
       "    </tr>\n",
       "    <tr>\n",
       "      <th>5792</th>\n",
       "      <td>&gt; &gt;-- be careful when using this one.) Also, t...</td>\n",
       "      <td>0</td>\n",
       "      <td>01397.9f9ef4c2a8dc012d80f2ce2d3473d3b7</td>\n",
       "    </tr>\n",
       "    <tr>\n",
       "      <th>5793</th>\n",
       "      <td>&gt;&gt;&gt;&gt;&gt; \"SM\" == Skip Montanaro &lt;skip@pobox.com&gt; ...</td>\n",
       "      <td>0</td>\n",
       "      <td>01398.169b51731fe569f42169ae8f948ec676</td>\n",
       "    </tr>\n",
       "    <tr>\n",
       "      <th>5794</th>\n",
       "      <td>So then, \"Mark Hammond\" &lt;mhammond@skippinet.co...</td>\n",
       "      <td>0</td>\n",
       "      <td>01399.ca6b00b7b341bbde9a9ea3dd6a7bf896</td>\n",
       "    </tr>\n",
       "    <tr>\n",
       "      <th>5795</th>\n",
       "      <td>Hi there,\\n\\n\\n\\nNow this is probably of no us...</td>\n",
       "      <td>0</td>\n",
       "      <td>01400.f897f0931e461e7b2e964d28e927c35e</td>\n",
       "    </tr>\n",
       "  </tbody>\n",
       "</table>\n",
       "<p>5796 rows × 3 columns</p>\n",
       "</div>"
      ],
      "text/plain": [
       "                                                  MESSAGE  CATEGORY  \\\n",
       "DOC_ID                                                                \n",
       "0       <!DOCTYPE HTML PUBLIC \"-//W3C//DTD HTML 4.0 Tr...         1   \n",
       "1       1) Fight The Risk of Cancer!\\n\\nhttp://www.adc...         1   \n",
       "2       1) Fight The Risk of Cancer!\\n\\nhttp://www.adc...         1   \n",
       "3       ##############################################...         1   \n",
       "4       I thought you might like these:\\n\\n1) Slim Dow...         1   \n",
       "...                                                   ...       ...   \n",
       "5791    http://news.bbc.co.uk/1/hi/england/2515127.stm...         0   \n",
       "5792    > >-- be careful when using this one.) Also, t...         0   \n",
       "5793    >>>>> \"SM\" == Skip Montanaro <skip@pobox.com> ...         0   \n",
       "5794    So then, \"Mark Hammond\" <mhammond@skippinet.co...         0   \n",
       "5795    Hi there,\\n\\n\\n\\nNow this is probably of no us...         0   \n",
       "\n",
       "                                     FILE_NAME  \n",
       "DOC_ID                                          \n",
       "0       00001.7848dde101aa985090474a91ec93fcf0  \n",
       "1       00002.d94f1b97e48ed3b553b3508d116e6a09  \n",
       "2       00003.2ee33bc6eacdb11f38d052c44819ba6c  \n",
       "3       00004.eac8de8d759b7e74154f142194282724  \n",
       "4       00005.57696a39d7d84318ce497886896bf90d  \n",
       "...                                        ...  \n",
       "5791    01396.61983fbe6ec43f55fd44e30fce24ffa6  \n",
       "5792    01397.9f9ef4c2a8dc012d80f2ce2d3473d3b7  \n",
       "5793    01398.169b51731fe569f42169ae8f948ec676  \n",
       "5794    01399.ca6b00b7b341bbde9a9ea3dd6a7bf896  \n",
       "5795    01400.f897f0931e461e7b2e964d28e927c35e  \n",
       "\n",
       "[5796 rows x 3 columns]"
      ]
     },
     "execution_count": 58,
     "metadata": {},
     "output_type": "execute_result"
    }
   ],
   "source": [
    "data"
   ]
  },
  {
   "cell_type": "code",
   "execution_count": 59,
   "metadata": {},
   "outputs": [],
   "source": [
    "DATA_JSON_FILE='SpamData/01_Processing/email-text-data.json'"
   ]
  },
  {
   "cell_type": "code",
   "execution_count": 60,
   "metadata": {},
   "outputs": [],
   "source": [
    "data.to_json(DATA_JSON_FILE)"
   ]
  },
  {
   "cell_type": "code",
   "execution_count": 61,
   "metadata": {},
   "outputs": [],
   "source": [
    "# data visualisation....pie charts and donut charts\n",
    "import matplotlib.pyplot as plt"
   ]
  },
  {
   "cell_type": "code",
   "execution_count": 62,
   "metadata": {},
   "outputs": [
    {
     "data": {
      "text/plain": [
       "(5796, 3)"
      ]
     },
     "execution_count": 62,
     "metadata": {},
     "output_type": "execute_result"
    }
   ],
   "source": [
    "data.shape"
   ]
  },
  {
   "cell_type": "code",
   "execution_count": 63,
   "metadata": {},
   "outputs": [
    {
     "data": {
      "text/plain": [
       "0    3900\n",
       "1    1896\n",
       "Name: CATEGORY, dtype: int64"
      ]
     },
     "execution_count": 63,
     "metadata": {},
     "output_type": "execute_result"
    }
   ],
   "source": [
    "data.CATEGORY.value_counts()"
   ]
  },
  {
   "cell_type": "code",
   "execution_count": 64,
   "metadata": {},
   "outputs": [
    {
     "data": {
      "text/plain": [
       "3900"
      ]
     },
     "execution_count": 64,
     "metadata": {},
     "output_type": "execute_result"
    }
   ],
   "source": [
    "amount_of_ham=data.CATEGORY.value_counts()[0]\n",
    "amount_of_ham"
   ]
  },
  {
   "cell_type": "code",
   "execution_count": 65,
   "metadata": {},
   "outputs": [
    {
     "data": {
      "text/plain": [
       "1896"
      ]
     },
     "execution_count": 65,
     "metadata": {},
     "output_type": "execute_result"
    }
   ],
   "source": [
    "amount_of_spam=data.CATEGORY.value_counts()[1]\n",
    "amount_of_spam"
   ]
  },
  {
   "cell_type": "code",
   "execution_count": 66,
   "metadata": {},
   "outputs": [
    {
     "data": {
      "image/png": "[encoded data removed]",
      "text/plain": [
       "<Figure size 400x400 with 1 Axes>"
      ]
     },
     "metadata": {},
     "output_type": "display_data"
    }
   ],
   "source": [
    "custom_colours = ['#046E3A', 'violet']\n",
    "category_names=['Spam','Legit_mail']\n",
    "sizes=[amount_of_spam,amount_of_ham]\n",
    "\n",
    "plt.figure(figsize=(2,2),dpi=200)\n",
    "\n",
    "plt.pie(x=sizes,labels=category_names,textprops={'fontsize':6},colors=custom_colours,\n",
    "        explode=[0.0,0.05],autopct='%1.2f%%',startangle=90)\n",
    "\n",
    "plt.show()"
   ]
  },
  {
   "cell_type": "code",
   "execution_count": 67,
   "metadata": {},
   "outputs": [],
   "source": [
    "#Donut Charts"
   ]
  },
  {
   "cell_type": "code",
   "execution_count": 68,
   "metadata": {},
   "outputs": [
    {
     "data": {
      "image/png": "[encoded data removed]",
      "text/plain": [
       "<Figure size 454x454 with 1 Axes>"
      ]
     },
     "metadata": {},
     "output_type": "display_data"
    }
   ],
   "source": [
    "# a proper donut chart....\n",
    "category_names = ['Spam', 'Legit Mail']\n",
    "sizes = [amount_of_spam, amount_of_ham]\n",
    "\n",
    "plt.figure(figsize=(2, 2), dpi=227)\n",
    "plt.pie(sizes, labels=category_names, textprops={'fontsize': 6}, startangle=90, \n",
    "       autopct='%1.0f%%', colors=custom_colours, pctdistance=0.8,explode=[0.02,0.02])\n",
    "\n",
    "\n",
    "centre_circle = plt.Circle((0, 0), radius =0.6,color='white')\n",
    "plt.gca().add_artist(centre_circle)\n",
    "\n",
    "\n",
    "\n",
    "\n",
    "plt.show()"
   ]
  },
  {
   "cell_type": "markdown",
   "metadata": {},
   "source": [
    "##  Natural Language Processing"
   ]
  },
  {
   "cell_type": "code",
   "execution_count": 69,
   "metadata": {},
   "outputs": [],
   "source": [
    "# Natural language processing\n",
    "msg = 'The quick BROWN fox, is jumping over a  lazy dog!!!!'"
   ]
  },
  {
   "cell_type": "code",
   "execution_count": 70,
   "metadata": {},
   "outputs": [
    {
     "data": {
      "text/plain": [
       "'the quick brown fox, is jumping over a  lazy dog!!!!'"
      ]
     },
     "execution_count": 70,
     "metadata": {},
     "output_type": "execute_result"
    }
   ],
   "source": [
    "msg.lower()"
   ]
  },
  {
   "cell_type": "code",
   "execution_count": 71,
   "metadata": {},
   "outputs": [
    {
     "data": {
      "text/plain": [
       "'THE QUICK BROWN FOX, IS JUMPING OVER A  LAZY DOG!!!!'"
      ]
     },
     "execution_count": 71,
     "metadata": {},
     "output_type": "execute_result"
    }
   ],
   "source": [
    "msg.upper()"
   ]
  },
  {
   "cell_type": "code",
   "execution_count": 72,
   "metadata": {},
   "outputs": [],
   "source": [
    "# importing NLTK\n",
    "import nltk\n",
    "from nltk.stem import PorterStemmer\n",
    "from nltk.stem import SnowballStemmer\n",
    "from nltk.corpus import stopwords\n",
    "from nltk.tokenize import word_tokenize\n",
    "from bs4 import BeautifulSoup"
   ]
  },
  {
   "cell_type": "code",
   "execution_count": 73,
   "metadata": {},
   "outputs": [
    {
     "name": "stderr",
     "output_type": "stream",
     "text": [
      "[nltk_data] Downloading package punkt to\n",
      "[nltk_data]     C:\\Users\\prade\\AppData\\Roaming\\nltk_data...\n",
      "[nltk_data]   Package punkt is already up-to-date!\n"
     ]
    },
    {
     "data": {
      "text/plain": [
       "True"
      ]
     },
     "execution_count": 73,
     "metadata": {},
     "output_type": "execute_result"
    }
   ],
   "source": [
    "nltk.download('punkt')"
   ]
  },
  {
   "cell_type": "code",
   "execution_count": 74,
   "metadata": {},
   "outputs": [
    {
     "name": "stderr",
     "output_type": "stream",
     "text": [
      "[nltk_data] Downloading package stopwords to\n",
      "[nltk_data]     C:\\Users\\prade\\AppData\\Roaming\\nltk_data...\n",
      "[nltk_data]   Package stopwords is already up-to-date!\n"
     ]
    },
    {
     "data": {
      "text/plain": [
       "True"
      ]
     },
     "execution_count": 74,
     "metadata": {},
     "output_type": "execute_result"
    }
   ],
   "source": [
    "nltk.download('stopwords')"
   ]
  },
  {
   "cell_type": "code",
   "execution_count": 75,
   "metadata": {},
   "outputs": [
    {
     "name": "stderr",
     "output_type": "stream",
     "text": [
      "[nltk_data] Downloading package gutenberg to\n",
      "[nltk_data]     C:\\Users\\prade\\AppData\\Roaming\\nltk_data...\n",
      "[nltk_data]   Package gutenberg is already up-to-date!\n",
      "[nltk_data] Downloading package shakespeare to\n",
      "[nltk_data]     C:\\Users\\prade\\AppData\\Roaming\\nltk_data...\n",
      "[nltk_data]   Package shakespeare is already up-to-date!\n"
     ]
    },
    {
     "data": {
      "text/plain": [
       "True"
      ]
     },
     "execution_count": 75,
     "metadata": {},
     "output_type": "execute_result"
    }
   ],
   "source": [
    "# will be used only for word cloud generation.\n",
    "nltk.download('gutenberg')\n",
    "nltk.download('shakespeare')"
   ]
  },
  {
   "cell_type": "code",
   "execution_count": 76,
   "metadata": {},
   "outputs": [
    {
     "data": {
      "text/plain": [
       "['all', 'work', 'and', 'no', 'play', 'makes', 'jack', 'a', 'dull', 'boy', '.']"
      ]
     },
     "execution_count": 76,
     "metadata": {},
     "output_type": "execute_result"
    }
   ],
   "source": [
    "# converting to lower case and then tokenising...\n",
    "msg = 'All work and no Play makes jack a DULL Boy.'\n",
    "word_tokenize(msg.lower())"
   ]
  },
  {
   "cell_type": "code",
   "execution_count": 77,
   "metadata": {},
   "outputs": [
    {
     "data": {
      "text/plain": [
       "['i', 'me', 'my', 'myself', 'we', 'our', 'ours', 'ourselves', 'you', \"you're\"]"
      ]
     },
     "execution_count": 77,
     "metadata": {},
     "output_type": "execute_result"
    }
   ],
   "source": [
    "stopwords.words('english')[:10]"
   ]
  },
  {
   "cell_type": "code",
   "execution_count": 78,
   "metadata": {},
   "outputs": [
    {
     "data": {
      "text/plain": [
       "179"
      ]
     },
     "execution_count": 78,
     "metadata": {},
     "output_type": "execute_result"
    }
   ],
   "source": [
    "len(stopwords.words('english'))"
   ]
  },
  {
   "cell_type": "code",
   "execution_count": 79,
   "metadata": {},
   "outputs": [
    {
     "data": {
      "text/plain": [
       "list"
      ]
     },
     "execution_count": 79,
     "metadata": {},
     "output_type": "execute_result"
    }
   ],
   "source": [
    "type(stopwords.words('english'))"
   ]
  },
  {
   "cell_type": "code",
   "execution_count": 80,
   "metadata": {},
   "outputs": [
    {
     "data": {
      "text/plain": [
       "list"
      ]
     },
     "execution_count": 80,
     "metadata": {},
     "output_type": "execute_result"
    }
   ],
   "source": [
    "stop_words=stopwords.words('english')\n",
    "type(stop_words)"
   ]
  },
  {
   "cell_type": "code",
   "execution_count": 81,
   "metadata": {},
   "outputs": [
    {
     "data": {
      "text/plain": [
       "set"
      ]
     },
     "execution_count": 81,
     "metadata": {},
     "output_type": "execute_result"
    }
   ],
   "source": [
    "stop_words=set(stop_words)\n",
    "type(stop_words)"
   ]
  },
  {
   "cell_type": "code",
   "execution_count": 82,
   "metadata": {},
   "outputs": [
    {
     "data": {
      "text/plain": [
       "179"
      ]
     },
     "execution_count": 82,
     "metadata": {},
     "output_type": "execute_result"
    }
   ],
   "source": [
    "len(stop_words)"
   ]
  },
  {
   "cell_type": "code",
   "execution_count": 83,
   "metadata": {},
   "outputs": [
    {
     "name": "stdout",
     "output_type": "stream",
     "text": [
      "Found it\n"
     ]
    }
   ],
   "source": [
    "if 'we'  in stop_words: print('Found it')"
   ]
  },
  {
   "cell_type": "code",
   "execution_count": 84,
   "metadata": {},
   "outputs": [
    {
     "name": "stdout",
     "output_type": "stream",
     "text": [
      "Not Found it\n"
     ]
    }
   ],
   "source": [
    "if 'WE'  not in stop_words: print('Not Found it')"
   ]
  },
  {
   "cell_type": "code",
   "execution_count": 85,
   "metadata": {},
   "outputs": [
    {
     "name": "stdout",
     "output_type": "stream",
     "text": [
      "not in here\n"
     ]
    }
   ],
   "source": [
    "if 'nucot' not in stop_words: print('not in here')"
   ]
  },
  {
   "cell_type": "code",
   "execution_count": 86,
   "metadata": {},
   "outputs": [
    {
     "name": "stdout",
     "output_type": "stream",
     "text": [
      "['work', 'play', 'makes', 'jack', 'dull', 'boy', '.', '.']\n"
     ]
    }
   ],
   "source": [
    "msg = 'All work and no play makes Jack a dull boy. To be or not to be. THIS THIS THIS this'\n",
    "\n",
    "words=word_tokenize(msg.lower())\n",
    "\n",
    "filtered_words=[] #Empty list\n",
    "\n",
    "for word in words:\n",
    "    if word not in stop_words:\n",
    "        filtered_words.append(word)\n",
    "        \n",
    "print(filtered_words)"
   ]
  },
  {
   "cell_type": "code",
   "execution_count": 87,
   "metadata": {},
   "outputs": [
    {
     "name": "stdout",
     "output_type": "stream",
     "text": [
      "['work', 'play', 'make', 'jack', 'dull', 'boy', '.', '.', 'nobodi', 'play', 'expect', 'spanish', 'inquisit', '!', 'fish', 'fish']\n"
     ]
    }
   ],
   "source": [
    "msg = 'All work and no play makes Jack a dull boy. or not to be. Nobody Playing expects the Spanish Inquisition! Fish Fishes '\n",
    "\n",
    "\n",
    "words=word_tokenize(msg.lower())\n",
    "stemmer=PorterStemmer()\n",
    "#stemmer=SnowballStemmer('english')\n",
    "\n",
    "filtered_words=[] #Empty list\n",
    "\n",
    "for word in words:\n",
    "    if word not in stop_words:\n",
    "        stemmed_word=stemmer.stem(word)\n",
    "        filtered_words.append(stemmed_word)\n",
    "        \n",
    "print(filtered_words)"
   ]
  },
  {
   "cell_type": "code",
   "execution_count": 88,
   "metadata": {},
   "outputs": [
    {
     "data": {
      "text/plain": [
       "True"
      ]
     },
     "execution_count": 88,
     "metadata": {},
     "output_type": "execute_result"
    }
   ],
   "source": [
    "'p'.isalpha()"
   ]
  },
  {
   "cell_type": "code",
   "execution_count": 89,
   "metadata": {},
   "outputs": [],
   "source": [
    "#p.isalpha()"
   ]
  },
  {
   "cell_type": "code",
   "execution_count": 90,
   "metadata": {},
   "outputs": [
    {
     "data": {
      "text/plain": [
       "'All work and no play makes Jack a dull boy. or not to be. Nobody Playing expects the Spanish Inquisition! Fish Fishes '"
      ]
     },
     "execution_count": 90,
     "metadata": {},
     "output_type": "execute_result"
    }
   ],
   "source": [
    "msg"
   ]
  },
  {
   "cell_type": "code",
   "execution_count": 91,
   "metadata": {},
   "outputs": [
    {
     "data": {
      "text/plain": [
       "False"
      ]
     },
     "execution_count": 91,
     "metadata": {},
     "output_type": "execute_result"
    }
   ],
   "source": [
    "msg.isalpha()"
   ]
  },
  {
   "cell_type": "code",
   "execution_count": 92,
   "metadata": {},
   "outputs": [
    {
     "data": {
      "text/plain": [
       "False"
      ]
     },
     "execution_count": 92,
     "metadata": {},
     "output_type": "execute_result"
    }
   ],
   "source": [
    "'2'.isalpha()"
   ]
  },
  {
   "cell_type": "code",
   "execution_count": 93,
   "metadata": {},
   "outputs": [
    {
     "data": {
      "text/plain": [
       "False"
      ]
     },
     "execution_count": 93,
     "metadata": {},
     "output_type": "execute_result"
    }
   ],
   "source": [
    "'?'.isalpha()"
   ]
  },
  {
   "cell_type": "code",
   "execution_count": 94,
   "metadata": {},
   "outputs": [
    {
     "data": {
      "text/plain": [
       "False"
      ]
     },
     "execution_count": 94,
     "metadata": {},
     "output_type": "execute_result"
    }
   ],
   "source": [
    "''.isalpha()"
   ]
  },
  {
   "cell_type": "code",
   "execution_count": 95,
   "metadata": {},
   "outputs": [
    {
     "data": {
      "text/plain": [
       "False"
      ]
     },
     "execution_count": 95,
     "metadata": {},
     "output_type": "execute_result"
    }
   ],
   "source": [
    "' '.isalpha()"
   ]
  },
  {
   "cell_type": "code",
   "execution_count": 96,
   "metadata": {},
   "outputs": [
    {
     "data": {
      "text/plain": [
       "True"
      ]
     },
     "execution_count": 96,
     "metadata": {},
     "output_type": "execute_result"
    }
   ],
   "source": [
    "'pradeep'.isalpha()"
   ]
  },
  {
   "cell_type": "code",
   "execution_count": 97,
   "metadata": {},
   "outputs": [
    {
     "data": {
      "text/plain": [
       "False"
      ]
     },
     "execution_count": 97,
     "metadata": {},
     "output_type": "execute_result"
    }
   ],
   "source": [
    "'pradeep reddy'.isalpha()"
   ]
  },
  {
   "cell_type": "code",
   "execution_count": 98,
   "metadata": {},
   "outputs": [
    {
     "data": {
      "text/plain": [
       "False"
      ]
     },
     "execution_count": 98,
     "metadata": {},
     "output_type": "execute_result"
    }
   ],
   "source": [
    "'pradeep_reddy'.isalpha()"
   ]
  },
  {
   "cell_type": "code",
   "execution_count": 99,
   "metadata": {},
   "outputs": [
    {
     "data": {
      "text/plain": [
       "False"
      ]
     },
     "execution_count": 99,
     "metadata": {},
     "output_type": "execute_result"
    }
   ],
   "source": [
    "'pradeep.reddy'.isalpha()"
   ]
  },
  {
   "cell_type": "code",
   "execution_count": 100,
   "metadata": {},
   "outputs": [
    {
     "data": {
      "text/plain": [
       "False"
      ]
     },
     "execution_count": 100,
     "metadata": {},
     "output_type": "execute_result"
    }
   ],
   "source": [
    "'pradeep,reddy'.isalpha()"
   ]
  },
  {
   "cell_type": "code",
   "execution_count": 101,
   "metadata": {},
   "outputs": [
    {
     "name": "stdout",
     "output_type": "stream",
     "text": [
      "['work', 'play', 'make', 'jack', 'dull', 'boy', 'nobodi', 'expect', 'spanish', 'inquisit']\n"
     ]
    }
   ],
   "source": [
    "msg = ' All work and no play makes Jack a dull boy. To be or not to be.??? ;;@@***^^ Nobody expects the Spanish Inquisition!'\n",
    "\n",
    "words = word_tokenize(msg.lower())\n",
    "stemmer = SnowballStemmer('english')\n",
    "filtered_words = []\n",
    "\n",
    "for word in words:\n",
    "     if word not in stop_words and word.isalpha():\n",
    "            stemmed_word = stemmer.stem(word)\n",
    "            filtered_words.append(stemmed_word)\n",
    "\n",
    "print(filtered_words)"
   ]
  },
  {
   "cell_type": "code",
   "execution_count": 102,
   "metadata": {},
   "outputs": [],
   "source": [
    "html_doc = \"\"\"\n",
    "\n",
    "<html><head><title>The Dormouse's story</title></head>\n",
    "<body>\n",
    "<p class=\"title\"><b>The Dormouse's story</b></p>\n",
    "\n",
    "<p class=\"story\">Once upon a time there were three little sisters; and their names were\n",
    "<a href=\"http://example.com/elsie\" class=\"sister\" id=\"link1\">Elsie</a>,\n",
    "<a href=\"http://example.com/lacie\" class=\"sister\" id=\"link2\">Lacie</a> and\n",
    "<a href=\"http://example.com/tillie\" class=\"sister\" id=\"link3\">Tillie</a>;\n",
    "and they lived at the bottom of a well.</p>\n",
    "\n",
    "<p class=\"story\">...</p>\n",
    "\n",
    "\n",
    "\n",
    "\"\"\""
   ]
  },
  {
   "cell_type": "code",
   "execution_count": 103,
   "metadata": {},
   "outputs": [
    {
     "data": {
      "text/plain": [
       "\n",
       "<html><head><title>The Dormouse's story</title></head>\n",
       "<body>\n",
       "<p class=\"title\"><b>The Dormouse's story</b></p>\n",
       "<p class=\"story\">Once upon a time there were three little sisters; and their names were\n",
       "<a class=\"sister\" href=\"http://example.com/elsie\" id=\"link1\">Elsie</a>,\n",
       "<a class=\"sister\" href=\"http://example.com/lacie\" id=\"link2\">Lacie</a> and\n",
       "<a class=\"sister\" href=\"http://example.com/tillie\" id=\"link3\">Tillie</a>;\n",
       "and they lived at the bottom of a well.</p>\n",
       "<p class=\"story\">...</p>\n",
       "</body></html>"
      ]
     },
     "execution_count": 103,
     "metadata": {},
     "output_type": "execute_result"
    }
   ],
   "source": [
    "soup=BeautifulSoup(html_doc,'html.parser')\n",
    "soup"
   ]
  },
  {
   "cell_type": "code",
   "execution_count": 104,
   "metadata": {},
   "outputs": [
    {
     "name": "stdout",
     "output_type": "stream",
     "text": [
      "<html>\n",
      " <head>\n",
      "  <title>\n",
      "   The Dormouse's story\n",
      "  </title>\n",
      " </head>\n",
      " <body>\n",
      "  <p class=\"title\">\n",
      "   <b>\n",
      "    The Dormouse's story\n",
      "   </b>\n",
      "  </p>\n",
      "  <p class=\"story\">\n",
      "   Once upon a time there were three little sisters; and their names were\n",
      "   <a class=\"sister\" href=\"http://example.com/elsie\" id=\"link1\">\n",
      "    Elsie\n",
      "   </a>\n",
      "   ,\n",
      "   <a class=\"sister\" href=\"http://example.com/lacie\" id=\"link2\">\n",
      "    Lacie\n",
      "   </a>\n",
      "   and\n",
      "   <a class=\"sister\" href=\"http://example.com/tillie\" id=\"link3\">\n",
      "    Tillie\n",
      "   </a>\n",
      "   ;\n",
      "and they lived at the bottom of a well.\n",
      "  </p>\n",
      "  <p class=\"story\">\n",
      "   ...\n",
      "  </p>\n",
      " </body>\n",
      "</html>\n"
     ]
    }
   ],
   "source": [
    "print(soup.prettify())"
   ]
  },
  {
   "cell_type": "code",
   "execution_count": 105,
   "metadata": {},
   "outputs": [
    {
     "data": {
      "text/plain": [
       "\"\\nThe Dormouse's story\\n\\nThe Dormouse's story\\nOnce upon a time there were three little sisters; and their names were\\nElsie,\\nLacie and\\nTillie;\\nand they lived at the bottom of a well.\\n...\\n\""
      ]
     },
     "execution_count": 105,
     "metadata": {},
     "output_type": "execute_result"
    }
   ],
   "source": [
    "cleaned_msg=soup.get_text()\n",
    "cleaned_msg"
   ]
  },
  {
   "cell_type": "code",
   "execution_count": 106,
   "metadata": {},
   "outputs": [
    {
     "data": {
      "text/html": [
       "<div>\n",
       "<style scoped>\n",
       "    .dataframe tbody tr th:only-of-type {\n",
       "        vertical-align: middle;\n",
       "    }\n",
       "\n",
       "    .dataframe tbody tr th {\n",
       "        vertical-align: top;\n",
       "    }\n",
       "\n",
       "    .dataframe thead th {\n",
       "        text-align: right;\n",
       "    }\n",
       "</style>\n",
       "<table border=\"1\" class=\"dataframe\">\n",
       "  <thead>\n",
       "    <tr style=\"text-align: right;\">\n",
       "      <th></th>\n",
       "      <th>MESSAGE</th>\n",
       "      <th>CATEGORY</th>\n",
       "      <th>FILE_NAME</th>\n",
       "    </tr>\n",
       "    <tr>\n",
       "      <th>DOC_ID</th>\n",
       "      <th></th>\n",
       "      <th></th>\n",
       "      <th></th>\n",
       "    </tr>\n",
       "  </thead>\n",
       "  <tbody>\n",
       "    <tr>\n",
       "      <th>0</th>\n",
       "      <td>&lt;!DOCTYPE HTML PUBLIC \"-//W3C//DTD HTML 4.0 Tr...</td>\n",
       "      <td>1</td>\n",
       "      <td>00001.7848dde101aa985090474a91ec93fcf0</td>\n",
       "    </tr>\n",
       "    <tr>\n",
       "      <th>1</th>\n",
       "      <td>1) Fight The Risk of Cancer!\\n\\nhttp://www.adc...</td>\n",
       "      <td>1</td>\n",
       "      <td>00002.d94f1b97e48ed3b553b3508d116e6a09</td>\n",
       "    </tr>\n",
       "    <tr>\n",
       "      <th>2</th>\n",
       "      <td>1) Fight The Risk of Cancer!\\n\\nhttp://www.adc...</td>\n",
       "      <td>1</td>\n",
       "      <td>00003.2ee33bc6eacdb11f38d052c44819ba6c</td>\n",
       "    </tr>\n",
       "    <tr>\n",
       "      <th>3</th>\n",
       "      <td>##############################################...</td>\n",
       "      <td>1</td>\n",
       "      <td>00004.eac8de8d759b7e74154f142194282724</td>\n",
       "    </tr>\n",
       "    <tr>\n",
       "      <th>4</th>\n",
       "      <td>I thought you might like these:\\n\\n1) Slim Dow...</td>\n",
       "      <td>1</td>\n",
       "      <td>00005.57696a39d7d84318ce497886896bf90d</td>\n",
       "    </tr>\n",
       "    <tr>\n",
       "      <th>5</th>\n",
       "      <td>A POWERHOUSE GIFTING PROGRAM You Don't Want To...</td>\n",
       "      <td>1</td>\n",
       "      <td>00006.5ab5620d3d7c6c0db76234556a16f6c1</td>\n",
       "    </tr>\n",
       "    <tr>\n",
       "      <th>6</th>\n",
       "      <td>Help wanted.  We are a 14 year old fortune 500...</td>\n",
       "      <td>1</td>\n",
       "      <td>00007.d8521faf753ff9ee989122f6816f87d7</td>\n",
       "    </tr>\n",
       "    <tr>\n",
       "      <th>7</th>\n",
       "      <td>&lt;html&gt;\\n\\n&lt;head&gt;\\n\\n&lt;title&gt;ReliaQuote - Save U...</td>\n",
       "      <td>1</td>\n",
       "      <td>00008.dfd941deb10f5eed78b1594b131c9266</td>\n",
       "    </tr>\n",
       "  </tbody>\n",
       "</table>\n",
       "</div>"
      ],
      "text/plain": [
       "                                                  MESSAGE  CATEGORY  \\\n",
       "DOC_ID                                                                \n",
       "0       <!DOCTYPE HTML PUBLIC \"-//W3C//DTD HTML 4.0 Tr...         1   \n",
       "1       1) Fight The Risk of Cancer!\\n\\nhttp://www.adc...         1   \n",
       "2       1) Fight The Risk of Cancer!\\n\\nhttp://www.adc...         1   \n",
       "3       ##############################################...         1   \n",
       "4       I thought you might like these:\\n\\n1) Slim Dow...         1   \n",
       "5       A POWERHOUSE GIFTING PROGRAM You Don't Want To...         1   \n",
       "6       Help wanted.  We are a 14 year old fortune 500...         1   \n",
       "7       <html>\\n\\n<head>\\n\\n<title>ReliaQuote - Save U...         1   \n",
       "\n",
       "                                     FILE_NAME  \n",
       "DOC_ID                                          \n",
       "0       00001.7848dde101aa985090474a91ec93fcf0  \n",
       "1       00002.d94f1b97e48ed3b553b3508d116e6a09  \n",
       "2       00003.2ee33bc6eacdb11f38d052c44819ba6c  \n",
       "3       00004.eac8de8d759b7e74154f142194282724  \n",
       "4       00005.57696a39d7d84318ce497886896bf90d  \n",
       "5       00006.5ab5620d3d7c6c0db76234556a16f6c1  \n",
       "6       00007.d8521faf753ff9ee989122f6816f87d7  \n",
       "7       00008.dfd941deb10f5eed78b1594b131c9266  "
      ]
     },
     "execution_count": 106,
     "metadata": {},
     "output_type": "execute_result"
    }
   ],
   "source": [
    "data.head(8)"
   ]
  },
  {
   "cell_type": "code",
   "execution_count": 107,
   "metadata": {},
   "outputs": [],
   "source": [
    "#data.at[3, 'MESSAGE'] #data.at[3, 'MESSAGE']"
   ]
  },
  {
   "cell_type": "code",
   "execution_count": 108,
   "metadata": {},
   "outputs": [],
   "source": [
    "#data.loc[3, 'MESSAGE'] #using locations"
   ]
  },
  {
   "cell_type": "code",
   "execution_count": 109,
   "metadata": {},
   "outputs": [],
   "source": [
    "#data.iat[4, 0]  #data.iat[4, 0] #using index locations"
   ]
  },
  {
   "cell_type": "code",
   "execution_count": 110,
   "metadata": {},
   "outputs": [],
   "source": [
    "#data.iat[4, 0]  #using index locations"
   ]
  },
  {
   "cell_type": "code",
   "execution_count": 111,
   "metadata": {},
   "outputs": [
    {
     "name": "stdout",
     "output_type": "stream",
     "text": [
      "##################################################\n",
      "\n",
      "#                                                #\n",
      "\n",
      "#                 Adult Club                     #\n",
      "\n",
      "#           Offers FREE Membership               #\n",
      "\n",
      "#                                                #\n",
      "\n",
      "##################################################\n",
      "\n",
      "\n",
      "\n",
      "&gt;&gt;&gt;&gt;&gt;  INSTANT ACCESS TO ALL SITES NOW\n",
      "\n",
      "&gt;&gt;&gt;&gt;&gt;  Your User Name And Password is.\n",
      "\n",
      "&gt;&gt;&gt;&gt;&gt;  User Name: zzzz@spamassassin.taint.org\n",
      "\n",
      "&gt;&gt;&gt;&gt;&gt;  Password: 760382\n",
      "\n",
      "\n",
      "\n",
      "5 of the Best Adult Sites on the Internet for FREE!\n",
      "\n",
      "---------------------------------------\n",
      "\n",
      "NEWS 08/18/02\n",
      "\n",
      "With just over 2.9 Million Members that signed up for FREE, Last month there were 721,184 New\n",
      "\n",
      "Members. Are you one of them yet???\n",
      "\n",
      "---------------------------------------\n",
      "\n",
      "Our Membership FAQ\n",
      "\n",
      "\n",
      "\n",
      "Q. Why are you offering free access to 5 adult membership sites for free?\n",
      "\n",
      "A. I have advertisers that pay me for ad space so you don't have to pay for membership.\n",
      "\n",
      "\n",
      "\n",
      "Q. Is it true my membership is for life?\n",
      "\n",
      "A. Absolutely you'll never have to pay a cent the advertisers do.\n",
      "\n",
      "\n",
      "\n",
      "Q. Can I give my account to my friends and family?\n",
      "\n",
      "A. Yes, as long they are over the age of 18.\n",
      "\n",
      "\n",
      "\n",
      "Q. Do I have to sign up for all 5 membership sites?\n",
      "\n",
      "A. No just one to get access to all of them.\n",
      "\n",
      "\n",
      "\n",
      "Q. How do I get started?\n",
      "\n",
      "A. Click on one of the following links below to become a member.\n",
      "\n",
      "\n",
      "\n",
      "- These are multi million dollar operations with policies and rules.\n",
      "\n",
      "- Fill in the required info and they won't charge you for the Free pass!\n",
      "\n",
      "- If you don't believe us, just read their terms and conditions.\n",
      "\n",
      "\n",
      "\n",
      "---------------------------\n",
      "\n",
      "\n",
      "\n",
      "# 5. &gt; Adults Farm\n",
      "\n",
      "http://80.71.66.8/farm/?aid=760382\n",
      "\n",
      "Girls and Animals Getting Freaky....FREE Lifetime Membership!!\n",
      "\n",
      "\n",
      "\n",
      "# 4. &gt; Sexy Celebes\n",
      "\n",
      "http://80.71.66.8/celebst/?aid=760382\n",
      "\n",
      "Thousands Of XXX Celebes doing it...FREE Lifetime Membership!!\n",
      "\n",
      "\n",
      "\n",
      "# 3. &gt; Play House Porn\n",
      "\n",
      "http://80.71.66.8/mega/?aid=760382\n",
      "\n",
      "Live Feeds From 60 Sites And Web Cams...FREE Lifetime Membership!!\n",
      "\n",
      "\n",
      "\n",
      "# 2. &gt; Asian Sex Fantasies\n",
      "\n",
      "http://80.71.66.8/asian/?aid=760382\n",
      "\n",
      "Japanese Schoolgirls, Live Sex Shows ...FREE Lifetime Membership!!\n",
      "\n",
      "\n",
      "\n",
      "# 1. &gt; Lesbian Lace\n",
      "\n",
      "http://80.71.66.8/lesbian/?aid=760382\n",
      "\n",
      "Girls and Girls Getting Freaky! ...FREE Lifetime Membership!!\n",
      "\n",
      "\n",
      "\n",
      "--------------------------\n",
      "\n",
      "\n",
      "\n",
      "Jennifer Simpson, Miami, FL\n",
      "\n",
      "Your FREE lifetime membership has entertained my boyffriend and I for\n",
      "\n",
      "the last two years!  Your Adult Sites are the best on the net!\n",
      "\n",
      "\n",
      "\n",
      "Joe Morgan Manhattan, NY\n",
      "\n",
      "Your live sex shows and live sex cams are unbelievable. The best part\n",
      "\n",
      "about your porn sites, is that they're absolutely FREE!\n",
      "\n",
      "\n",
      "\n",
      "--------------------------\n",
      "\n",
      "\n",
      "\n",
      "\n",
      "\n",
      "\n",
      "\n",
      "\n",
      "\n",
      "\n",
      "\n",
      "\n",
      "\n",
      "\n",
      "\n",
      "\n",
      "\n",
      "\n",
      "\n",
      "Removal Instructions:\n",
      "\n",
      "\n",
      "\n",
      "You have received this advertisement because you have opted in to receive free adult internet\n",
      "\n",
      "offers and specials through our affiliated websites. If you do not wish to receive further emails\n",
      "\n",
      "or have received the email in error you may opt-out of our database here\n",
      "\n",
      "http://80.71.66.8/optout/ . Please allow 24 hours for removal.\n",
      "\n",
      "\n",
      "\n",
      "vonolmosatkirekpups\n",
      "\n"
     ]
    }
   ],
   "source": [
    "soup = BeautifulSoup(data.at[3, 'MESSAGE'], 'html.parser')\n",
    "print(soup.prettify())"
   ]
  },
  {
   "cell_type": "code",
   "execution_count": 112,
   "metadata": {},
   "outputs": [],
   "source": [
    "# lowercase, tokenise, remove stop words, stem, remove punctuations, remove HTML tags\n",
    "# I want a function that will do all of the above...\n",
    "# input to the function will be\n",
    "# message, stemmer , stop words....."
   ]
  },
  {
   "cell_type": "code",
   "execution_count": 113,
   "metadata": {},
   "outputs": [],
   "source": [
    "def clean_msg_no_html(message, stemmer=PorterStemmer(), \n",
    "                 stop_words=set(stopwords.words('english'))):\n",
    "    \n",
    "    \n",
    "    soup = BeautifulSoup(message, 'html.parser')\n",
    "    cleaned_text = soup.get_text()\n",
    "    \n",
    "    words = word_tokenize(cleaned_text.lower())\n",
    "    \n",
    "    filtered_words = []\n",
    "    \n",
    "    \n",
    "    for word in words:\n",
    "        # Removes the stop words and punctuation\n",
    "        if word not in stop_words and word.isalpha():\n",
    "            filtered_words.append(stemmer.stem(word))\n",
    "\n",
    "    \n",
    "    return filtered_words"
   ]
  },
  {
   "cell_type": "code",
   "execution_count": 114,
   "metadata": {},
   "outputs": [
    {
     "data": {
      "text/plain": [
       "\"##################################################\\n\\n#                                                #\\n\\n#                 Adult Club                     #\\n\\n#           Offers FREE Membership               #\\n\\n#                                                #\\n\\n##################################################\\n\\n\\n\\n>>>>>  INSTANT ACCESS TO ALL SITES NOW\\n\\n>>>>>  Your User Name And Password is.\\n\\n>>>>>  User Name: zzzz@spamassassin.taint.org\\n\\n>>>>>  Password: 760382\\n\\n\\n\\n5 of the Best Adult Sites on the Internet for FREE!\\n\\n---------------------------------------\\n\\nNEWS 08/18/02\\n\\nWith just over 2.9 Million Members that signed up for FREE, Last month there were 721,184 New\\n\\nMembers. Are you one of them yet???\\n\\n---------------------------------------\\n\\nOur Membership FAQ\\n\\n\\n\\nQ. Why are you offering free access to 5 adult membership sites for free?\\n\\nA. I have advertisers that pay me for ad space so you don't have to pay for membership.\\n\\n\\n\\nQ. Is it true my membership is for life?\\n\\nA. Absolutely you'll never have to pay a cent the advertisers do.\\n\\n\\n\\nQ. Can I give my account to my friends and family?\\n\\nA. Yes, as long they are over the age of 18.\\n\\n\\n\\nQ. Do I have to sign up for all 5 membership sites?\\n\\nA. No just one to get access to all of them.\\n\\n\\n\\nQ. How do I get started?\\n\\nA. Click on one of the following links below to become a member.\\n\\n\\n\\n- These are multi million dollar operations with policies and rules.\\n\\n- Fill in the required info and they won't charge you for the Free pass!\\n\\n- If you don't believe us, just read their terms and conditions.\\n\\n\\n\\n---------------------------\\n\\n\\n\\n# 5. > Adults Farm\\n\\nhttp://80.71.66.8/farm/?aid=760382\\n\\nGirls and Animals Getting Freaky....FREE Lifetime Membership!!\\n\\n\\n\\n# 4. > Sexy Celebes\\n\\nhttp://80.71.66.8/celebst/?aid=760382\\n\\nThousands Of XXX Celebes doing it...FREE Lifetime Membership!!\\n\\n\\n\\n# 3. > Play House Porn\\n\\nhttp://80.71.66.8/mega/?aid=760382\\n\\nLive Feeds From 60 Sites And Web Cams...FREE Lifetime Membership!!\\n\\n\\n\\n# 2. > Asian Sex Fantasies\\n\\nhttp://80.71.66.8/asian/?aid=760382\\n\\nJapanese Schoolgirls, Live Sex Shows ...FREE Lifetime Membership!!\\n\\n\\n\\n# 1. > Lesbian Lace\\n\\nhttp://80.71.66.8/lesbian/?aid=760382\\n\\nGirls and Girls Getting Freaky! ...FREE Lifetime Membership!!\\n\\n\\n\\n--------------------------\\n\\n\\n\\nJennifer Simpson, Miami, FL\\n\\nYour FREE lifetime membership has entertained my boyffriend and I for\\n\\nthe last two years!  Your Adult Sites are the best on the net!\\n\\n\\n\\nJoe Morgan Manhattan, NY\\n\\nYour live sex shows and live sex cams are unbelievable. The best part\\n\\nabout your porn sites, is that they're absolutely FREE!\\n\\n\\n\\n--------------------------\\n\\n\\n\\n\\n\\n\\n\\n\\n\\n\\n\\n\\n\\n\\n\\n\\n\\n\\n\\nRemoval Instructions:\\n\\n\\n\\nYou have received this advertisement because you have opted in to receive free adult internet\\n\\noffers and specials through our affiliated websites. If you do not wish to receive further emails\\n\\nor have received the email in error you may opt-out of our database here\\n\\nhttp://80.71.66.8/optout/ . Please allow 24 hours for removal.\\n\\n\\n\\nvonolmosatkirekpups\\n\\n\\n\""
      ]
     },
     "execution_count": 114,
     "metadata": {},
     "output_type": "execute_result"
    }
   ],
   "source": [
    "data.at[3, 'MESSAGE']"
   ]
  },
  {
   "cell_type": "code",
   "execution_count": 115,
   "metadata": {},
   "outputs": [
    {
     "data": {
      "text/plain": [
       "['adult',\n",
       " 'club',\n",
       " 'offer',\n",
       " 'free',\n",
       " 'membership',\n",
       " 'instant',\n",
       " 'access',\n",
       " 'site',\n",
       " 'user',\n",
       " 'name',\n",
       " 'password',\n",
       " 'user',\n",
       " 'name',\n",
       " 'zzzz',\n",
       " 'password',\n",
       " 'best',\n",
       " 'adult',\n",
       " 'site',\n",
       " 'internet',\n",
       " 'free',\n",
       " 'news',\n",
       " 'million',\n",
       " 'member',\n",
       " 'sign',\n",
       " 'free',\n",
       " 'last',\n",
       " 'month',\n",
       " 'new',\n",
       " 'member',\n",
       " 'one',\n",
       " 'yet',\n",
       " 'membership',\n",
       " 'faq',\n",
       " 'offer',\n",
       " 'free',\n",
       " 'access',\n",
       " 'adult',\n",
       " 'membership',\n",
       " 'site',\n",
       " 'free',\n",
       " 'advertis',\n",
       " 'pay',\n",
       " 'ad',\n",
       " 'space',\n",
       " 'pay',\n",
       " 'membership',\n",
       " 'true',\n",
       " 'membership',\n",
       " 'life',\n",
       " 'absolut',\n",
       " 'never',\n",
       " 'pay',\n",
       " 'cent',\n",
       " 'advertis',\n",
       " 'give',\n",
       " 'account',\n",
       " 'friend',\n",
       " 'famili',\n",
       " 'ye',\n",
       " 'long',\n",
       " 'age',\n",
       " 'sign',\n",
       " 'membership',\n",
       " 'site',\n",
       " 'one',\n",
       " 'get',\n",
       " 'access',\n",
       " 'get',\n",
       " 'start',\n",
       " 'click',\n",
       " 'one',\n",
       " 'follow',\n",
       " 'link',\n",
       " 'becom',\n",
       " 'member',\n",
       " 'multi',\n",
       " 'million',\n",
       " 'dollar',\n",
       " 'oper',\n",
       " 'polici',\n",
       " 'rule',\n",
       " 'fill',\n",
       " 'requir',\n",
       " 'info',\n",
       " 'wo',\n",
       " 'charg',\n",
       " 'free',\n",
       " 'pass',\n",
       " 'believ',\n",
       " 'us',\n",
       " 'read',\n",
       " 'term',\n",
       " 'condit',\n",
       " 'adult',\n",
       " 'farm',\n",
       " 'http',\n",
       " 'girl',\n",
       " 'anim',\n",
       " 'get',\n",
       " 'freaki',\n",
       " 'free',\n",
       " 'lifetim',\n",
       " 'membership',\n",
       " 'sexi',\n",
       " 'celeb',\n",
       " 'http',\n",
       " 'thousand',\n",
       " 'xxx',\n",
       " 'celeb',\n",
       " 'free',\n",
       " 'lifetim',\n",
       " 'membership',\n",
       " 'play',\n",
       " 'hous',\n",
       " 'porn',\n",
       " 'http',\n",
       " 'live',\n",
       " 'feed',\n",
       " 'site',\n",
       " 'web',\n",
       " 'cam',\n",
       " 'free',\n",
       " 'lifetim',\n",
       " 'membership',\n",
       " 'asian',\n",
       " 'sex',\n",
       " 'fantasi',\n",
       " 'http',\n",
       " 'japanes',\n",
       " 'schoolgirl',\n",
       " 'live',\n",
       " 'sex',\n",
       " 'show',\n",
       " 'free',\n",
       " 'lifetim',\n",
       " 'membership',\n",
       " 'lesbian',\n",
       " 'lace',\n",
       " 'http',\n",
       " 'girl',\n",
       " 'girl',\n",
       " 'get',\n",
       " 'freaki',\n",
       " 'free',\n",
       " 'lifetim',\n",
       " 'membership',\n",
       " 'jennif',\n",
       " 'simpson',\n",
       " 'miami',\n",
       " 'fl',\n",
       " 'free',\n",
       " 'lifetim',\n",
       " 'membership',\n",
       " 'entertain',\n",
       " 'boyffriend',\n",
       " 'last',\n",
       " 'two',\n",
       " 'year',\n",
       " 'adult',\n",
       " 'site',\n",
       " 'best',\n",
       " 'net',\n",
       " 'joe',\n",
       " 'morgan',\n",
       " 'manhattan',\n",
       " 'ny',\n",
       " 'live',\n",
       " 'sex',\n",
       " 'show',\n",
       " 'live',\n",
       " 'sex',\n",
       " 'cam',\n",
       " 'unbeliev',\n",
       " 'best',\n",
       " 'part',\n",
       " 'porn',\n",
       " 'site',\n",
       " 'absolut',\n",
       " 'free',\n",
       " 'remov',\n",
       " 'instruct',\n",
       " 'receiv',\n",
       " 'advertis',\n",
       " 'opt',\n",
       " 'receiv',\n",
       " 'free',\n",
       " 'adult',\n",
       " 'internet',\n",
       " 'offer',\n",
       " 'special',\n",
       " 'affili',\n",
       " 'websit',\n",
       " 'wish',\n",
       " 'receiv',\n",
       " 'email',\n",
       " 'receiv',\n",
       " 'email',\n",
       " 'error',\n",
       " 'may',\n",
       " 'databas',\n",
       " 'http',\n",
       " 'pleas',\n",
       " 'allow',\n",
       " 'hour',\n",
       " 'remov',\n",
       " 'vonolmosatkirekpup']"
      ]
     },
     "execution_count": 115,
     "metadata": {},
     "output_type": "execute_result"
    }
   ],
   "source": [
    "clean_msg_no_html(data.at[3, 'MESSAGE'])"
   ]
  },
  {
   "cell_type": "code",
   "execution_count": 116,
   "metadata": {},
   "outputs": [],
   "source": [
    "# slicing dataframes"
   ]
  },
  {
   "cell_type": "code",
   "execution_count": 117,
   "metadata": {},
   "outputs": [],
   "source": [
    "chetan = data.iloc[0:5, 0:3]"
   ]
  },
  {
   "cell_type": "code",
   "execution_count": 118,
   "metadata": {},
   "outputs": [
    {
     "data": {
      "text/html": [
       "<div>\n",
       "<style scoped>\n",
       "    .dataframe tbody tr th:only-of-type {\n",
       "        vertical-align: middle;\n",
       "    }\n",
       "\n",
       "    .dataframe tbody tr th {\n",
       "        vertical-align: top;\n",
       "    }\n",
       "\n",
       "    .dataframe thead th {\n",
       "        text-align: right;\n",
       "    }\n",
       "</style>\n",
       "<table border=\"1\" class=\"dataframe\">\n",
       "  <thead>\n",
       "    <tr style=\"text-align: right;\">\n",
       "      <th></th>\n",
       "      <th>MESSAGE</th>\n",
       "      <th>CATEGORY</th>\n",
       "      <th>FILE_NAME</th>\n",
       "    </tr>\n",
       "    <tr>\n",
       "      <th>DOC_ID</th>\n",
       "      <th></th>\n",
       "      <th></th>\n",
       "      <th></th>\n",
       "    </tr>\n",
       "  </thead>\n",
       "  <tbody>\n",
       "    <tr>\n",
       "      <th>0</th>\n",
       "      <td>&lt;!DOCTYPE HTML PUBLIC \"-//W3C//DTD HTML 4.0 Tr...</td>\n",
       "      <td>1</td>\n",
       "      <td>00001.7848dde101aa985090474a91ec93fcf0</td>\n",
       "    </tr>\n",
       "    <tr>\n",
       "      <th>1</th>\n",
       "      <td>1) Fight The Risk of Cancer!\\n\\nhttp://www.adc...</td>\n",
       "      <td>1</td>\n",
       "      <td>00002.d94f1b97e48ed3b553b3508d116e6a09</td>\n",
       "    </tr>\n",
       "    <tr>\n",
       "      <th>2</th>\n",
       "      <td>1) Fight The Risk of Cancer!\\n\\nhttp://www.adc...</td>\n",
       "      <td>1</td>\n",
       "      <td>00003.2ee33bc6eacdb11f38d052c44819ba6c</td>\n",
       "    </tr>\n",
       "    <tr>\n",
       "      <th>3</th>\n",
       "      <td>##############################################...</td>\n",
       "      <td>1</td>\n",
       "      <td>00004.eac8de8d759b7e74154f142194282724</td>\n",
       "    </tr>\n",
       "    <tr>\n",
       "      <th>4</th>\n",
       "      <td>I thought you might like these:\\n\\n1) Slim Dow...</td>\n",
       "      <td>1</td>\n",
       "      <td>00005.57696a39d7d84318ce497886896bf90d</td>\n",
       "    </tr>\n",
       "  </tbody>\n",
       "</table>\n",
       "</div>"
      ],
      "text/plain": [
       "                                                  MESSAGE  CATEGORY  \\\n",
       "DOC_ID                                                                \n",
       "0       <!DOCTYPE HTML PUBLIC \"-//W3C//DTD HTML 4.0 Tr...         1   \n",
       "1       1) Fight The Risk of Cancer!\\n\\nhttp://www.adc...         1   \n",
       "2       1) Fight The Risk of Cancer!\\n\\nhttp://www.adc...         1   \n",
       "3       ##############################################...         1   \n",
       "4       I thought you might like these:\\n\\n1) Slim Dow...         1   \n",
       "\n",
       "                                     FILE_NAME  \n",
       "DOC_ID                                          \n",
       "0       00001.7848dde101aa985090474a91ec93fcf0  \n",
       "1       00002.d94f1b97e48ed3b553b3508d116e6a09  \n",
       "2       00003.2ee33bc6eacdb11f38d052c44819ba6c  \n",
       "3       00004.eac8de8d759b7e74154f142194282724  \n",
       "4       00005.57696a39d7d84318ce497886896bf90d  "
      ]
     },
     "execution_count": 118,
     "metadata": {},
     "output_type": "execute_result"
    }
   ],
   "source": [
    "chetan"
   ]
  },
  {
   "cell_type": "code",
   "execution_count": 119,
   "metadata": {},
   "outputs": [],
   "source": [
    "chetan.index =['A','B','C','D','E']"
   ]
  },
  {
   "cell_type": "code",
   "execution_count": 120,
   "metadata": {},
   "outputs": [
    {
     "data": {
      "text/html": [
       "<div>\n",
       "<style scoped>\n",
       "    .dataframe tbody tr th:only-of-type {\n",
       "        vertical-align: middle;\n",
       "    }\n",
       "\n",
       "    .dataframe tbody tr th {\n",
       "        vertical-align: top;\n",
       "    }\n",
       "\n",
       "    .dataframe thead th {\n",
       "        text-align: right;\n",
       "    }\n",
       "</style>\n",
       "<table border=\"1\" class=\"dataframe\">\n",
       "  <thead>\n",
       "    <tr style=\"text-align: right;\">\n",
       "      <th></th>\n",
       "      <th>MESSAGE</th>\n",
       "      <th>CATEGORY</th>\n",
       "      <th>FILE_NAME</th>\n",
       "    </tr>\n",
       "  </thead>\n",
       "  <tbody>\n",
       "    <tr>\n",
       "      <th>A</th>\n",
       "      <td>&lt;!DOCTYPE HTML PUBLIC \"-//W3C//DTD HTML 4.0 Tr...</td>\n",
       "      <td>1</td>\n",
       "      <td>00001.7848dde101aa985090474a91ec93fcf0</td>\n",
       "    </tr>\n",
       "    <tr>\n",
       "      <th>B</th>\n",
       "      <td>1) Fight The Risk of Cancer!\\n\\nhttp://www.adc...</td>\n",
       "      <td>1</td>\n",
       "      <td>00002.d94f1b97e48ed3b553b3508d116e6a09</td>\n",
       "    </tr>\n",
       "    <tr>\n",
       "      <th>C</th>\n",
       "      <td>1) Fight The Risk of Cancer!\\n\\nhttp://www.adc...</td>\n",
       "      <td>1</td>\n",
       "      <td>00003.2ee33bc6eacdb11f38d052c44819ba6c</td>\n",
       "    </tr>\n",
       "    <tr>\n",
       "      <th>D</th>\n",
       "      <td>##############################################...</td>\n",
       "      <td>1</td>\n",
       "      <td>00004.eac8de8d759b7e74154f142194282724</td>\n",
       "    </tr>\n",
       "    <tr>\n",
       "      <th>E</th>\n",
       "      <td>I thought you might like these:\\n\\n1) Slim Dow...</td>\n",
       "      <td>1</td>\n",
       "      <td>00005.57696a39d7d84318ce497886896bf90d</td>\n",
       "    </tr>\n",
       "  </tbody>\n",
       "</table>\n",
       "</div>"
      ],
      "text/plain": [
       "                                             MESSAGE  CATEGORY  \\\n",
       "A  <!DOCTYPE HTML PUBLIC \"-//W3C//DTD HTML 4.0 Tr...         1   \n",
       "B  1) Fight The Risk of Cancer!\\n\\nhttp://www.adc...         1   \n",
       "C  1) Fight The Risk of Cancer!\\n\\nhttp://www.adc...         1   \n",
       "D  ##############################################...         1   \n",
       "E  I thought you might like these:\\n\\n1) Slim Dow...         1   \n",
       "\n",
       "                                FILE_NAME  \n",
       "A  00001.7848dde101aa985090474a91ec93fcf0  \n",
       "B  00002.d94f1b97e48ed3b553b3508d116e6a09  \n",
       "C  00003.2ee33bc6eacdb11f38d052c44819ba6c  \n",
       "D  00004.eac8de8d759b7e74154f142194282724  \n",
       "E  00005.57696a39d7d84318ce497886896bf90d  "
      ]
     },
     "execution_count": 120,
     "metadata": {},
     "output_type": "execute_result"
    }
   ],
   "source": [
    "chetan"
   ]
  },
  {
   "cell_type": "code",
   "execution_count": 121,
   "metadata": {},
   "outputs": [
    {
     "data": {
      "text/plain": [
       "'00005.57696a39d7d84318ce497886896bf90d'"
      ]
     },
     "execution_count": 121,
     "metadata": {},
     "output_type": "execute_result"
    }
   ],
   "source": [
    "chetan.loc['E', 'FILE_NAME']"
   ]
  },
  {
   "cell_type": "code",
   "execution_count": 122,
   "metadata": {},
   "outputs": [
    {
     "data": {
      "text/plain": [
       "'00005.57696a39d7d84318ce497886896bf90d'"
      ]
     },
     "execution_count": 122,
     "metadata": {},
     "output_type": "execute_result"
    }
   ],
   "source": [
    "chetan.iloc[4, 2]"
   ]
  },
  {
   "cell_type": "code",
   "execution_count": 123,
   "metadata": {},
   "outputs": [
    {
     "data": {
      "text/plain": [
       "'00005.57696a39d7d84318ce497886896bf90d'"
      ]
     },
     "execution_count": 123,
     "metadata": {},
     "output_type": "execute_result"
    }
   ],
   "source": [
    "chetan.at['E', 'FILE_NAME']"
   ]
  },
  {
   "cell_type": "code",
   "execution_count": 124,
   "metadata": {},
   "outputs": [
    {
     "data": {
      "text/plain": [
       "'00005.57696a39d7d84318ce497886896bf90d'"
      ]
     },
     "execution_count": 124,
     "metadata": {},
     "output_type": "execute_result"
    }
   ],
   "source": [
    "chetan.iat[4,2]"
   ]
  },
  {
   "cell_type": "code",
   "execution_count": 125,
   "metadata": {},
   "outputs": [
    {
     "data": {
      "text/html": [
       "<div>\n",
       "<style scoped>\n",
       "    .dataframe tbody tr th:only-of-type {\n",
       "        vertical-align: middle;\n",
       "    }\n",
       "\n",
       "    .dataframe tbody tr th {\n",
       "        vertical-align: top;\n",
       "    }\n",
       "\n",
       "    .dataframe thead th {\n",
       "        text-align: right;\n",
       "    }\n",
       "</style>\n",
       "<table border=\"1\" class=\"dataframe\">\n",
       "  <thead>\n",
       "    <tr style=\"text-align: right;\">\n",
       "      <th></th>\n",
       "      <th>MESSAGE</th>\n",
       "      <th>CATEGORY</th>\n",
       "      <th>FILE_NAME</th>\n",
       "    </tr>\n",
       "  </thead>\n",
       "  <tbody>\n",
       "    <tr>\n",
       "      <th>A</th>\n",
       "      <td>&lt;!DOCTYPE HTML PUBLIC \"-//W3C//DTD HTML 4.0 Tr...</td>\n",
       "      <td>1</td>\n",
       "      <td>00001.7848dde101aa985090474a91ec93fcf0</td>\n",
       "    </tr>\n",
       "    <tr>\n",
       "      <th>B</th>\n",
       "      <td>1) Fight The Risk of Cancer!\\n\\nhttp://www.adc...</td>\n",
       "      <td>1</td>\n",
       "      <td>00002.d94f1b97e48ed3b553b3508d116e6a09</td>\n",
       "    </tr>\n",
       "    <tr>\n",
       "      <th>C</th>\n",
       "      <td>1) Fight The Risk of Cancer!\\n\\nhttp://www.adc...</td>\n",
       "      <td>1</td>\n",
       "      <td>00003.2ee33bc6eacdb11f38d052c44819ba6c</td>\n",
       "    </tr>\n",
       "    <tr>\n",
       "      <th>D</th>\n",
       "      <td>##############################################...</td>\n",
       "      <td>1</td>\n",
       "      <td>00004.eac8de8d759b7e74154f142194282724</td>\n",
       "    </tr>\n",
       "    <tr>\n",
       "      <th>E</th>\n",
       "      <td>I thought you might like these:\\n\\n1) Slim Dow...</td>\n",
       "      <td>1</td>\n",
       "      <td>00005.57696a39d7d84318ce497886896bf90d</td>\n",
       "    </tr>\n",
       "  </tbody>\n",
       "</table>\n",
       "</div>"
      ],
      "text/plain": [
       "                                             MESSAGE  CATEGORY  \\\n",
       "A  <!DOCTYPE HTML PUBLIC \"-//W3C//DTD HTML 4.0 Tr...         1   \n",
       "B  1) Fight The Risk of Cancer!\\n\\nhttp://www.adc...         1   \n",
       "C  1) Fight The Risk of Cancer!\\n\\nhttp://www.adc...         1   \n",
       "D  ##############################################...         1   \n",
       "E  I thought you might like these:\\n\\n1) Slim Dow...         1   \n",
       "\n",
       "                                FILE_NAME  \n",
       "A  00001.7848dde101aa985090474a91ec93fcf0  \n",
       "B  00002.d94f1b97e48ed3b553b3508d116e6a09  \n",
       "C  00003.2ee33bc6eacdb11f38d052c44819ba6c  \n",
       "D  00004.eac8de8d759b7e74154f142194282724  \n",
       "E  00005.57696a39d7d84318ce497886896bf90d  "
      ]
     },
     "execution_count": 125,
     "metadata": {},
     "output_type": "execute_result"
    }
   ],
   "source": [
    "chetan"
   ]
  },
  {
   "cell_type": "code",
   "execution_count": 126,
   "metadata": {},
   "outputs": [],
   "source": [
    "chetan.iloc[3,2]='TEST'"
   ]
  },
  {
   "cell_type": "code",
   "execution_count": 127,
   "metadata": {},
   "outputs": [
    {
     "data": {
      "text/html": [
       "<div>\n",
       "<style scoped>\n",
       "    .dataframe tbody tr th:only-of-type {\n",
       "        vertical-align: middle;\n",
       "    }\n",
       "\n",
       "    .dataframe tbody tr th {\n",
       "        vertical-align: top;\n",
       "    }\n",
       "\n",
       "    .dataframe thead th {\n",
       "        text-align: right;\n",
       "    }\n",
       "</style>\n",
       "<table border=\"1\" class=\"dataframe\">\n",
       "  <thead>\n",
       "    <tr style=\"text-align: right;\">\n",
       "      <th></th>\n",
       "      <th>MESSAGE</th>\n",
       "      <th>CATEGORY</th>\n",
       "      <th>FILE_NAME</th>\n",
       "    </tr>\n",
       "  </thead>\n",
       "  <tbody>\n",
       "    <tr>\n",
       "      <th>A</th>\n",
       "      <td>&lt;!DOCTYPE HTML PUBLIC \"-//W3C//DTD HTML 4.0 Tr...</td>\n",
       "      <td>1</td>\n",
       "      <td>00001.7848dde101aa985090474a91ec93fcf0</td>\n",
       "    </tr>\n",
       "    <tr>\n",
       "      <th>B</th>\n",
       "      <td>1) Fight The Risk of Cancer!\\n\\nhttp://www.adc...</td>\n",
       "      <td>1</td>\n",
       "      <td>00002.d94f1b97e48ed3b553b3508d116e6a09</td>\n",
       "    </tr>\n",
       "    <tr>\n",
       "      <th>C</th>\n",
       "      <td>1) Fight The Risk of Cancer!\\n\\nhttp://www.adc...</td>\n",
       "      <td>1</td>\n",
       "      <td>00003.2ee33bc6eacdb11f38d052c44819ba6c</td>\n",
       "    </tr>\n",
       "    <tr>\n",
       "      <th>D</th>\n",
       "      <td>##############################################...</td>\n",
       "      <td>1</td>\n",
       "      <td>TEST</td>\n",
       "    </tr>\n",
       "    <tr>\n",
       "      <th>E</th>\n",
       "      <td>I thought you might like these:\\n\\n1) Slim Dow...</td>\n",
       "      <td>1</td>\n",
       "      <td>00005.57696a39d7d84318ce497886896bf90d</td>\n",
       "    </tr>\n",
       "  </tbody>\n",
       "</table>\n",
       "</div>"
      ],
      "text/plain": [
       "                                             MESSAGE  CATEGORY  \\\n",
       "A  <!DOCTYPE HTML PUBLIC \"-//W3C//DTD HTML 4.0 Tr...         1   \n",
       "B  1) Fight The Risk of Cancer!\\n\\nhttp://www.adc...         1   \n",
       "C  1) Fight The Risk of Cancer!\\n\\nhttp://www.adc...         1   \n",
       "D  ##############################################...         1   \n",
       "E  I thought you might like these:\\n\\n1) Slim Dow...         1   \n",
       "\n",
       "                                FILE_NAME  \n",
       "A  00001.7848dde101aa985090474a91ec93fcf0  \n",
       "B  00002.d94f1b97e48ed3b553b3508d116e6a09  \n",
       "C  00003.2ee33bc6eacdb11f38d052c44819ba6c  \n",
       "D                                    TEST  \n",
       "E  00005.57696a39d7d84318ce497886896bf90d  "
      ]
     },
     "execution_count": 127,
     "metadata": {},
     "output_type": "execute_result"
    }
   ],
   "source": [
    "chetan"
   ]
  },
  {
   "cell_type": "code",
   "execution_count": 128,
   "metadata": {},
   "outputs": [],
   "source": [
    "chetan.at['D','FILE_NAME']='EXAMINATION'"
   ]
  },
  {
   "cell_type": "code",
   "execution_count": 129,
   "metadata": {},
   "outputs": [
    {
     "data": {
      "text/html": [
       "<div>\n",
       "<style scoped>\n",
       "    .dataframe tbody tr th:only-of-type {\n",
       "        vertical-align: middle;\n",
       "    }\n",
       "\n",
       "    .dataframe tbody tr th {\n",
       "        vertical-align: top;\n",
       "    }\n",
       "\n",
       "    .dataframe thead th {\n",
       "        text-align: right;\n",
       "    }\n",
       "</style>\n",
       "<table border=\"1\" class=\"dataframe\">\n",
       "  <thead>\n",
       "    <tr style=\"text-align: right;\">\n",
       "      <th></th>\n",
       "      <th>MESSAGE</th>\n",
       "      <th>CATEGORY</th>\n",
       "      <th>FILE_NAME</th>\n",
       "    </tr>\n",
       "  </thead>\n",
       "  <tbody>\n",
       "    <tr>\n",
       "      <th>A</th>\n",
       "      <td>&lt;!DOCTYPE HTML PUBLIC \"-//W3C//DTD HTML 4.0 Tr...</td>\n",
       "      <td>1</td>\n",
       "      <td>00001.7848dde101aa985090474a91ec93fcf0</td>\n",
       "    </tr>\n",
       "    <tr>\n",
       "      <th>B</th>\n",
       "      <td>1) Fight The Risk of Cancer!\\n\\nhttp://www.adc...</td>\n",
       "      <td>1</td>\n",
       "      <td>00002.d94f1b97e48ed3b553b3508d116e6a09</td>\n",
       "    </tr>\n",
       "    <tr>\n",
       "      <th>C</th>\n",
       "      <td>1) Fight The Risk of Cancer!\\n\\nhttp://www.adc...</td>\n",
       "      <td>1</td>\n",
       "      <td>00003.2ee33bc6eacdb11f38d052c44819ba6c</td>\n",
       "    </tr>\n",
       "    <tr>\n",
       "      <th>D</th>\n",
       "      <td>##############################################...</td>\n",
       "      <td>1</td>\n",
       "      <td>EXAMINATION</td>\n",
       "    </tr>\n",
       "    <tr>\n",
       "      <th>E</th>\n",
       "      <td>I thought you might like these:\\n\\n1) Slim Dow...</td>\n",
       "      <td>1</td>\n",
       "      <td>00005.57696a39d7d84318ce497886896bf90d</td>\n",
       "    </tr>\n",
       "  </tbody>\n",
       "</table>\n",
       "</div>"
      ],
      "text/plain": [
       "                                             MESSAGE  CATEGORY  \\\n",
       "A  <!DOCTYPE HTML PUBLIC \"-//W3C//DTD HTML 4.0 Tr...         1   \n",
       "B  1) Fight The Risk of Cancer!\\n\\nhttp://www.adc...         1   \n",
       "C  1) Fight The Risk of Cancer!\\n\\nhttp://www.adc...         1   \n",
       "D  ##############################################...         1   \n",
       "E  I thought you might like these:\\n\\n1) Slim Dow...         1   \n",
       "\n",
       "                                FILE_NAME  \n",
       "A  00001.7848dde101aa985090474a91ec93fcf0  \n",
       "B  00002.d94f1b97e48ed3b553b3508d116e6a09  \n",
       "C  00003.2ee33bc6eacdb11f38d052c44819ba6c  \n",
       "D                             EXAMINATION  \n",
       "E  00005.57696a39d7d84318ce497886896bf90d  "
      ]
     },
     "execution_count": 129,
     "metadata": {},
     "output_type": "execute_result"
    }
   ],
   "source": [
    "chetan"
   ]
  },
  {
   "cell_type": "code",
   "execution_count": 130,
   "metadata": {},
   "outputs": [],
   "source": [
    "chetan.at['D',2]='results'"
   ]
  },
  {
   "cell_type": "code",
   "execution_count": 131,
   "metadata": {},
   "outputs": [
    {
     "data": {
      "text/html": [
       "<div>\n",
       "<style scoped>\n",
       "    .dataframe tbody tr th:only-of-type {\n",
       "        vertical-align: middle;\n",
       "    }\n",
       "\n",
       "    .dataframe tbody tr th {\n",
       "        vertical-align: top;\n",
       "    }\n",
       "\n",
       "    .dataframe thead th {\n",
       "        text-align: right;\n",
       "    }\n",
       "</style>\n",
       "<table border=\"1\" class=\"dataframe\">\n",
       "  <thead>\n",
       "    <tr style=\"text-align: right;\">\n",
       "      <th></th>\n",
       "      <th>MESSAGE</th>\n",
       "      <th>CATEGORY</th>\n",
       "      <th>FILE_NAME</th>\n",
       "      <th>2</th>\n",
       "    </tr>\n",
       "  </thead>\n",
       "  <tbody>\n",
       "    <tr>\n",
       "      <th>A</th>\n",
       "      <td>&lt;!DOCTYPE HTML PUBLIC \"-//W3C//DTD HTML 4.0 Tr...</td>\n",
       "      <td>1</td>\n",
       "      <td>00001.7848dde101aa985090474a91ec93fcf0</td>\n",
       "      <td>NaN</td>\n",
       "    </tr>\n",
       "    <tr>\n",
       "      <th>B</th>\n",
       "      <td>1) Fight The Risk of Cancer!\\n\\nhttp://www.adc...</td>\n",
       "      <td>1</td>\n",
       "      <td>00002.d94f1b97e48ed3b553b3508d116e6a09</td>\n",
       "      <td>NaN</td>\n",
       "    </tr>\n",
       "    <tr>\n",
       "      <th>C</th>\n",
       "      <td>1) Fight The Risk of Cancer!\\n\\nhttp://www.adc...</td>\n",
       "      <td>1</td>\n",
       "      <td>00003.2ee33bc6eacdb11f38d052c44819ba6c</td>\n",
       "      <td>NaN</td>\n",
       "    </tr>\n",
       "    <tr>\n",
       "      <th>D</th>\n",
       "      <td>##############################################...</td>\n",
       "      <td>1</td>\n",
       "      <td>EXAMINATION</td>\n",
       "      <td>results</td>\n",
       "    </tr>\n",
       "    <tr>\n",
       "      <th>E</th>\n",
       "      <td>I thought you might like these:\\n\\n1) Slim Dow...</td>\n",
       "      <td>1</td>\n",
       "      <td>00005.57696a39d7d84318ce497886896bf90d</td>\n",
       "      <td>NaN</td>\n",
       "    </tr>\n",
       "  </tbody>\n",
       "</table>\n",
       "</div>"
      ],
      "text/plain": [
       "                                             MESSAGE  CATEGORY  \\\n",
       "A  <!DOCTYPE HTML PUBLIC \"-//W3C//DTD HTML 4.0 Tr...         1   \n",
       "B  1) Fight The Risk of Cancer!\\n\\nhttp://www.adc...         1   \n",
       "C  1) Fight The Risk of Cancer!\\n\\nhttp://www.adc...         1   \n",
       "D  ##############################################...         1   \n",
       "E  I thought you might like these:\\n\\n1) Slim Dow...         1   \n",
       "\n",
       "                                FILE_NAME        2  \n",
       "A  00001.7848dde101aa985090474a91ec93fcf0      NaN  \n",
       "B  00002.d94f1b97e48ed3b553b3508d116e6a09      NaN  \n",
       "C  00003.2ee33bc6eacdb11f38d052c44819ba6c      NaN  \n",
       "D                             EXAMINATION  results  \n",
       "E  00005.57696a39d7d84318ce497886896bf90d      NaN  "
      ]
     },
     "execution_count": 131,
     "metadata": {},
     "output_type": "execute_result"
    }
   ],
   "source": [
    "chetan"
   ]
  },
  {
   "cell_type": "code",
   "execution_count": 132,
   "metadata": {},
   "outputs": [],
   "source": [
    "chetan.drop([2],axis=1,inplace=True)"
   ]
  },
  {
   "cell_type": "code",
   "execution_count": 133,
   "metadata": {},
   "outputs": [
    {
     "data": {
      "text/html": [
       "<div>\n",
       "<style scoped>\n",
       "    .dataframe tbody tr th:only-of-type {\n",
       "        vertical-align: middle;\n",
       "    }\n",
       "\n",
       "    .dataframe tbody tr th {\n",
       "        vertical-align: top;\n",
       "    }\n",
       "\n",
       "    .dataframe thead th {\n",
       "        text-align: right;\n",
       "    }\n",
       "</style>\n",
       "<table border=\"1\" class=\"dataframe\">\n",
       "  <thead>\n",
       "    <tr style=\"text-align: right;\">\n",
       "      <th></th>\n",
       "      <th>MESSAGE</th>\n",
       "      <th>CATEGORY</th>\n",
       "      <th>FILE_NAME</th>\n",
       "    </tr>\n",
       "  </thead>\n",
       "  <tbody>\n",
       "    <tr>\n",
       "      <th>A</th>\n",
       "      <td>&lt;!DOCTYPE HTML PUBLIC \"-//W3C//DTD HTML 4.0 Tr...</td>\n",
       "      <td>1</td>\n",
       "      <td>00001.7848dde101aa985090474a91ec93fcf0</td>\n",
       "    </tr>\n",
       "    <tr>\n",
       "      <th>B</th>\n",
       "      <td>1) Fight The Risk of Cancer!\\n\\nhttp://www.adc...</td>\n",
       "      <td>1</td>\n",
       "      <td>00002.d94f1b97e48ed3b553b3508d116e6a09</td>\n",
       "    </tr>\n",
       "    <tr>\n",
       "      <th>C</th>\n",
       "      <td>1) Fight The Risk of Cancer!\\n\\nhttp://www.adc...</td>\n",
       "      <td>1</td>\n",
       "      <td>00003.2ee33bc6eacdb11f38d052c44819ba6c</td>\n",
       "    </tr>\n",
       "    <tr>\n",
       "      <th>D</th>\n",
       "      <td>##############################################...</td>\n",
       "      <td>1</td>\n",
       "      <td>EXAMINATION</td>\n",
       "    </tr>\n",
       "    <tr>\n",
       "      <th>E</th>\n",
       "      <td>I thought you might like these:\\n\\n1) Slim Dow...</td>\n",
       "      <td>1</td>\n",
       "      <td>00005.57696a39d7d84318ce497886896bf90d</td>\n",
       "    </tr>\n",
       "  </tbody>\n",
       "</table>\n",
       "</div>"
      ],
      "text/plain": [
       "                                             MESSAGE  CATEGORY  \\\n",
       "A  <!DOCTYPE HTML PUBLIC \"-//W3C//DTD HTML 4.0 Tr...         1   \n",
       "B  1) Fight The Risk of Cancer!\\n\\nhttp://www.adc...         1   \n",
       "C  1) Fight The Risk of Cancer!\\n\\nhttp://www.adc...         1   \n",
       "D  ##############################################...         1   \n",
       "E  I thought you might like these:\\n\\n1) Slim Dow...         1   \n",
       "\n",
       "                                FILE_NAME  \n",
       "A  00001.7848dde101aa985090474a91ec93fcf0  \n",
       "B  00002.d94f1b97e48ed3b553b3508d116e6a09  \n",
       "C  00003.2ee33bc6eacdb11f38d052c44819ba6c  \n",
       "D                             EXAMINATION  \n",
       "E  00005.57696a39d7d84318ce497886896bf90d  "
      ]
     },
     "execution_count": 133,
     "metadata": {},
     "output_type": "execute_result"
    }
   ],
   "source": [
    "chetan"
   ]
  },
  {
   "cell_type": "code",
   "execution_count": 134,
   "metadata": {},
   "outputs": [],
   "source": [
    "chetan.at['D','2']='results'"
   ]
  },
  {
   "cell_type": "code",
   "execution_count": 135,
   "metadata": {},
   "outputs": [],
   "source": [
    "chetan.at['D',2]='results'"
   ]
  },
  {
   "cell_type": "code",
   "execution_count": 136,
   "metadata": {},
   "outputs": [
    {
     "data": {
      "text/html": [
       "<div>\n",
       "<style scoped>\n",
       "    .dataframe tbody tr th:only-of-type {\n",
       "        vertical-align: middle;\n",
       "    }\n",
       "\n",
       "    .dataframe tbody tr th {\n",
       "        vertical-align: top;\n",
       "    }\n",
       "\n",
       "    .dataframe thead th {\n",
       "        text-align: right;\n",
       "    }\n",
       "</style>\n",
       "<table border=\"1\" class=\"dataframe\">\n",
       "  <thead>\n",
       "    <tr style=\"text-align: right;\">\n",
       "      <th></th>\n",
       "      <th>MESSAGE</th>\n",
       "      <th>CATEGORY</th>\n",
       "      <th>FILE_NAME</th>\n",
       "      <th>2</th>\n",
       "      <th>2</th>\n",
       "    </tr>\n",
       "  </thead>\n",
       "  <tbody>\n",
       "    <tr>\n",
       "      <th>A</th>\n",
       "      <td>&lt;!DOCTYPE HTML PUBLIC \"-//W3C//DTD HTML 4.0 Tr...</td>\n",
       "      <td>1</td>\n",
       "      <td>00001.7848dde101aa985090474a91ec93fcf0</td>\n",
       "      <td>NaN</td>\n",
       "      <td>NaN</td>\n",
       "    </tr>\n",
       "    <tr>\n",
       "      <th>B</th>\n",
       "      <td>1) Fight The Risk of Cancer!\\n\\nhttp://www.adc...</td>\n",
       "      <td>1</td>\n",
       "      <td>00002.d94f1b97e48ed3b553b3508d116e6a09</td>\n",
       "      <td>NaN</td>\n",
       "      <td>NaN</td>\n",
       "    </tr>\n",
       "    <tr>\n",
       "      <th>C</th>\n",
       "      <td>1) Fight The Risk of Cancer!\\n\\nhttp://www.adc...</td>\n",
       "      <td>1</td>\n",
       "      <td>00003.2ee33bc6eacdb11f38d052c44819ba6c</td>\n",
       "      <td>NaN</td>\n",
       "      <td>NaN</td>\n",
       "    </tr>\n",
       "    <tr>\n",
       "      <th>D</th>\n",
       "      <td>##############################################...</td>\n",
       "      <td>1</td>\n",
       "      <td>EXAMINATION</td>\n",
       "      <td>results</td>\n",
       "      <td>results</td>\n",
       "    </tr>\n",
       "    <tr>\n",
       "      <th>E</th>\n",
       "      <td>I thought you might like these:\\n\\n1) Slim Dow...</td>\n",
       "      <td>1</td>\n",
       "      <td>00005.57696a39d7d84318ce497886896bf90d</td>\n",
       "      <td>NaN</td>\n",
       "      <td>NaN</td>\n",
       "    </tr>\n",
       "  </tbody>\n",
       "</table>\n",
       "</div>"
      ],
      "text/plain": [
       "                                             MESSAGE  CATEGORY  \\\n",
       "A  <!DOCTYPE HTML PUBLIC \"-//W3C//DTD HTML 4.0 Tr...         1   \n",
       "B  1) Fight The Risk of Cancer!\\n\\nhttp://www.adc...         1   \n",
       "C  1) Fight The Risk of Cancer!\\n\\nhttp://www.adc...         1   \n",
       "D  ##############################################...         1   \n",
       "E  I thought you might like these:\\n\\n1) Slim Dow...         1   \n",
       "\n",
       "                                FILE_NAME        2        2  \n",
       "A  00001.7848dde101aa985090474a91ec93fcf0      NaN      NaN  \n",
       "B  00002.d94f1b97e48ed3b553b3508d116e6a09      NaN      NaN  \n",
       "C  00003.2ee33bc6eacdb11f38d052c44819ba6c      NaN      NaN  \n",
       "D                             EXAMINATION  results  results  \n",
       "E  00005.57696a39d7d84318ce497886896bf90d      NaN      NaN  "
      ]
     },
     "execution_count": 136,
     "metadata": {},
     "output_type": "execute_result"
    }
   ],
   "source": [
    "chetan"
   ]
  },
  {
   "cell_type": "code",
   "execution_count": 137,
   "metadata": {},
   "outputs": [],
   "source": [
    "chetan.drop([2],axis=1,inplace=True)"
   ]
  },
  {
   "cell_type": "code",
   "execution_count": 138,
   "metadata": {},
   "outputs": [
    {
     "data": {
      "text/html": [
       "<div>\n",
       "<style scoped>\n",
       "    .dataframe tbody tr th:only-of-type {\n",
       "        vertical-align: middle;\n",
       "    }\n",
       "\n",
       "    .dataframe tbody tr th {\n",
       "        vertical-align: top;\n",
       "    }\n",
       "\n",
       "    .dataframe thead th {\n",
       "        text-align: right;\n",
       "    }\n",
       "</style>\n",
       "<table border=\"1\" class=\"dataframe\">\n",
       "  <thead>\n",
       "    <tr style=\"text-align: right;\">\n",
       "      <th></th>\n",
       "      <th>MESSAGE</th>\n",
       "      <th>CATEGORY</th>\n",
       "      <th>FILE_NAME</th>\n",
       "      <th>2</th>\n",
       "    </tr>\n",
       "  </thead>\n",
       "  <tbody>\n",
       "    <tr>\n",
       "      <th>A</th>\n",
       "      <td>&lt;!DOCTYPE HTML PUBLIC \"-//W3C//DTD HTML 4.0 Tr...</td>\n",
       "      <td>1</td>\n",
       "      <td>00001.7848dde101aa985090474a91ec93fcf0</td>\n",
       "      <td>NaN</td>\n",
       "    </tr>\n",
       "    <tr>\n",
       "      <th>B</th>\n",
       "      <td>1) Fight The Risk of Cancer!\\n\\nhttp://www.adc...</td>\n",
       "      <td>1</td>\n",
       "      <td>00002.d94f1b97e48ed3b553b3508d116e6a09</td>\n",
       "      <td>NaN</td>\n",
       "    </tr>\n",
       "    <tr>\n",
       "      <th>C</th>\n",
       "      <td>1) Fight The Risk of Cancer!\\n\\nhttp://www.adc...</td>\n",
       "      <td>1</td>\n",
       "      <td>00003.2ee33bc6eacdb11f38d052c44819ba6c</td>\n",
       "      <td>NaN</td>\n",
       "    </tr>\n",
       "    <tr>\n",
       "      <th>D</th>\n",
       "      <td>##############################################...</td>\n",
       "      <td>1</td>\n",
       "      <td>EXAMINATION</td>\n",
       "      <td>results</td>\n",
       "    </tr>\n",
       "    <tr>\n",
       "      <th>E</th>\n",
       "      <td>I thought you might like these:\\n\\n1) Slim Dow...</td>\n",
       "      <td>1</td>\n",
       "      <td>00005.57696a39d7d84318ce497886896bf90d</td>\n",
       "      <td>NaN</td>\n",
       "    </tr>\n",
       "  </tbody>\n",
       "</table>\n",
       "</div>"
      ],
      "text/plain": [
       "                                             MESSAGE  CATEGORY  \\\n",
       "A  <!DOCTYPE HTML PUBLIC \"-//W3C//DTD HTML 4.0 Tr...         1   \n",
       "B  1) Fight The Risk of Cancer!\\n\\nhttp://www.adc...         1   \n",
       "C  1) Fight The Risk of Cancer!\\n\\nhttp://www.adc...         1   \n",
       "D  ##############################################...         1   \n",
       "E  I thought you might like these:\\n\\n1) Slim Dow...         1   \n",
       "\n",
       "                                FILE_NAME        2  \n",
       "A  00001.7848dde101aa985090474a91ec93fcf0      NaN  \n",
       "B  00002.d94f1b97e48ed3b553b3508d116e6a09      NaN  \n",
       "C  00003.2ee33bc6eacdb11f38d052c44819ba6c      NaN  \n",
       "D                             EXAMINATION  results  \n",
       "E  00005.57696a39d7d84318ce497886896bf90d      NaN  "
      ]
     },
     "execution_count": 138,
     "metadata": {},
     "output_type": "execute_result"
    }
   ],
   "source": [
    "chetan"
   ]
  },
  {
   "cell_type": "code",
   "execution_count": 139,
   "metadata": {},
   "outputs": [],
   "source": [
    "chetan.drop(['2'],axis=1,inplace=True)"
   ]
  },
  {
   "cell_type": "code",
   "execution_count": 140,
   "metadata": {},
   "outputs": [
    {
     "data": {
      "text/html": [
       "<div>\n",
       "<style scoped>\n",
       "    .dataframe tbody tr th:only-of-type {\n",
       "        vertical-align: middle;\n",
       "    }\n",
       "\n",
       "    .dataframe tbody tr th {\n",
       "        vertical-align: top;\n",
       "    }\n",
       "\n",
       "    .dataframe thead th {\n",
       "        text-align: right;\n",
       "    }\n",
       "</style>\n",
       "<table border=\"1\" class=\"dataframe\">\n",
       "  <thead>\n",
       "    <tr style=\"text-align: right;\">\n",
       "      <th></th>\n",
       "      <th>MESSAGE</th>\n",
       "      <th>CATEGORY</th>\n",
       "      <th>FILE_NAME</th>\n",
       "    </tr>\n",
       "  </thead>\n",
       "  <tbody>\n",
       "    <tr>\n",
       "      <th>A</th>\n",
       "      <td>&lt;!DOCTYPE HTML PUBLIC \"-//W3C//DTD HTML 4.0 Tr...</td>\n",
       "      <td>1</td>\n",
       "      <td>00001.7848dde101aa985090474a91ec93fcf0</td>\n",
       "    </tr>\n",
       "    <tr>\n",
       "      <th>B</th>\n",
       "      <td>1) Fight The Risk of Cancer!\\n\\nhttp://www.adc...</td>\n",
       "      <td>1</td>\n",
       "      <td>00002.d94f1b97e48ed3b553b3508d116e6a09</td>\n",
       "    </tr>\n",
       "    <tr>\n",
       "      <th>C</th>\n",
       "      <td>1) Fight The Risk of Cancer!\\n\\nhttp://www.adc...</td>\n",
       "      <td>1</td>\n",
       "      <td>00003.2ee33bc6eacdb11f38d052c44819ba6c</td>\n",
       "    </tr>\n",
       "    <tr>\n",
       "      <th>D</th>\n",
       "      <td>##############################################...</td>\n",
       "      <td>1</td>\n",
       "      <td>EXAMINATION</td>\n",
       "    </tr>\n",
       "    <tr>\n",
       "      <th>E</th>\n",
       "      <td>I thought you might like these:\\n\\n1) Slim Dow...</td>\n",
       "      <td>1</td>\n",
       "      <td>00005.57696a39d7d84318ce497886896bf90d</td>\n",
       "    </tr>\n",
       "  </tbody>\n",
       "</table>\n",
       "</div>"
      ],
      "text/plain": [
       "                                             MESSAGE  CATEGORY  \\\n",
       "A  <!DOCTYPE HTML PUBLIC \"-//W3C//DTD HTML 4.0 Tr...         1   \n",
       "B  1) Fight The Risk of Cancer!\\n\\nhttp://www.adc...         1   \n",
       "C  1) Fight The Risk of Cancer!\\n\\nhttp://www.adc...         1   \n",
       "D  ##############################################...         1   \n",
       "E  I thought you might like these:\\n\\n1) Slim Dow...         1   \n",
       "\n",
       "                                FILE_NAME  \n",
       "A  00001.7848dde101aa985090474a91ec93fcf0  \n",
       "B  00002.d94f1b97e48ed3b553b3508d116e6a09  \n",
       "C  00003.2ee33bc6eacdb11f38d052c44819ba6c  \n",
       "D                             EXAMINATION  \n",
       "E  00005.57696a39d7d84318ce497886896bf90d  "
      ]
     },
     "execution_count": 140,
     "metadata": {},
     "output_type": "execute_result"
    }
   ],
   "source": [
    "chetan"
   ]
  },
  {
   "cell_type": "code",
   "execution_count": 141,
   "metadata": {},
   "outputs": [
    {
     "data": {
      "text/plain": [
       "A    <!DOCTYPE HTML PUBLIC \"-//W3C//DTD HTML 4.0 Tr...\n",
       "B    1) Fight The Risk of Cancer!\\n\\nhttp://www.adc...\n",
       "C    1) Fight The Risk of Cancer!\\n\\nhttp://www.adc...\n",
       "D    ##############################################...\n",
       "E    I thought you might like these:\\n\\n1) Slim Dow...\n",
       "Name: MESSAGE, dtype: object"
      ]
     },
     "execution_count": 141,
     "metadata": {},
     "output_type": "execute_result"
    }
   ],
   "source": [
    "chetan['MESSAGE']"
   ]
  },
  {
   "cell_type": "code",
   "execution_count": 142,
   "metadata": {},
   "outputs": [
    {
     "data": {
      "text/plain": [
       "A    <!DOCTYPE HTML PUBLIC \"-//W3C//DTD HTML 4.0 Tr...\n",
       "B    1) Fight The Risk of Cancer!\\n\\nhttp://www.adc...\n",
       "C    1) Fight The Risk of Cancer!\\n\\nhttp://www.adc...\n",
       "D    ##############################################...\n",
       "E    I thought you might like these:\\n\\n1) Slim Dow...\n",
       "Name: MESSAGE, dtype: object"
      ]
     },
     "execution_count": 142,
     "metadata": {},
     "output_type": "execute_result"
    }
   ],
   "source": [
    "chetan.MESSAGE"
   ]
  },
  {
   "cell_type": "code",
   "execution_count": 143,
   "metadata": {},
   "outputs": [
    {
     "data": {
      "text/plain": [
       "pandas.core.series.Series"
      ]
     },
     "execution_count": 143,
     "metadata": {},
     "output_type": "execute_result"
    }
   ],
   "source": [
    "type(chetan.MESSAGE)"
   ]
  },
  {
   "cell_type": "code",
   "execution_count": 144,
   "metadata": {},
   "outputs": [],
   "source": [
    "first_emails = chetan.MESSAGE.iloc[0:3]"
   ]
  },
  {
   "cell_type": "code",
   "execution_count": 145,
   "metadata": {},
   "outputs": [
    {
     "data": {
      "text/plain": [
       "A    <!DOCTYPE HTML PUBLIC \"-//W3C//DTD HTML 4.0 Tr...\n",
       "B    1) Fight The Risk of Cancer!\\n\\nhttp://www.adc...\n",
       "C    1) Fight The Risk of Cancer!\\n\\nhttp://www.adc...\n",
       "Name: MESSAGE, dtype: object"
      ]
     },
     "execution_count": 145,
     "metadata": {},
     "output_type": "execute_result"
    }
   ],
   "source": [
    "first_emails"
   ]
  },
  {
   "cell_type": "code",
   "execution_count": 146,
   "metadata": {},
   "outputs": [],
   "source": [
    "# clean_msg_no_html.....\n",
    "# apply the above fucntion to my first three emails...\n",
    "# using the pandas apply function"
   ]
  },
  {
   "cell_type": "code",
   "execution_count": 147,
   "metadata": {},
   "outputs": [
    {
     "data": {
      "text/plain": [
       "A    [save, life, insur, spend, life, quot, save, g...\n",
       "B    [fight, risk, cancer, http, slim, guarante, lo...\n",
       "C    [fight, risk, cancer, http, slim, guarante, lo...\n",
       "Name: MESSAGE, dtype: object"
      ]
     },
     "execution_count": 147,
     "metadata": {},
     "output_type": "execute_result"
    }
   ],
   "source": [
    "my_nested_list=first_emails.apply(clean_msg_no_html)\n",
    "my_nested_list"
   ]
  },
  {
   "cell_type": "code",
   "execution_count": 148,
   "metadata": {},
   "outputs": [],
   "source": [
    "my_flat_list =[]\n",
    "\n",
    "for sublist in my_nested_list:\n",
    "    for item in sublist:\n",
    "        my_flat_list.append(item)"
   ]
  },
  {
   "cell_type": "code",
   "execution_count": 149,
   "metadata": {},
   "outputs": [
    {
     "data": {
      "text/plain": [
       "192"
      ]
     },
     "execution_count": 149,
     "metadata": {},
     "output_type": "execute_result"
    }
   ],
   "source": [
    "len(my_flat_list)"
   ]
  },
  {
   "cell_type": "code",
   "execution_count": 150,
   "metadata": {},
   "outputs": [],
   "source": [
    "# List comprehension"
   ]
  },
  {
   "cell_type": "code",
   "execution_count": 151,
   "metadata": {},
   "outputs": [],
   "source": [
    "my_flat_list= [item for sublist in my_nested_list for item in sublist]"
   ]
  },
  {
   "cell_type": "code",
   "execution_count": 152,
   "metadata": {},
   "outputs": [
    {
     "data": {
      "text/plain": [
       "['save',\n",
       " 'life',\n",
       " 'insur',\n",
       " 'spend',\n",
       " 'life',\n",
       " 'quot',\n",
       " 'save',\n",
       " 'g',\n",
       " 'famili',\n",
       " 'financi',\n",
       " 'secur',\n",
       " 'import',\n",
       " 'life',\n",
       " 'quot',\n",
       " 'save',\n",
       " 'ke',\n",
       " 'buy',\n",
       " 'life',\n",
       " 'insur',\n",
       " 'simpl',\n",
       " 'afford',\n",
       " 'provid',\n",
       " 'free',\n",
       " 'access',\n",
       " 'best',\n",
       " 'compani',\n",
       " 'lowest',\n",
       " 'rate',\n",
       " 'life',\n",
       " 'quot',\n",
       " 'save',\n",
       " 'fast',\n",
       " 'save',\n",
       " 'money',\n",
       " 'let',\n",
       " 'us',\n",
       " 'help',\n",
       " 'get',\n",
       " 'start',\n",
       " 'best',\n",
       " 'ue',\n",
       " 'countri',\n",
       " 'new',\n",
       " 'coverag',\n",
       " 'save',\n",
       " 'hundr',\n",
       " 'even',\n",
       " 'usand',\n",
       " 'dollar',\n",
       " 'request',\n",
       " 'free',\n",
       " 'quot',\n",
       " 'lifequot',\n",
       " 'save',\n",
       " 'servic',\n",
       " 'take',\n",
       " 'less',\n",
       " 'minut',\n",
       " 'complet',\n",
       " 'shop',\n",
       " 'compar',\n",
       " 'save',\n",
       " 'type',\n",
       " 'life',\n",
       " 'insur',\n",
       " 'click',\n",
       " 'free',\n",
       " 'quot',\n",
       " 'protect',\n",
       " 'famili',\n",
       " 'best',\n",
       " 'invest',\n",
       " 'r',\n",
       " 'make',\n",
       " 'receipt',\n",
       " 'email',\n",
       " 'error',\n",
       " 'wish',\n",
       " 'remov',\n",
       " 'list',\n",
       " 'pleas',\n",
       " 'click',\n",
       " 'type',\n",
       " 'remov',\n",
       " 'resid',\n",
       " 'state',\n",
       " 'prohibit',\n",
       " 'solicit',\n",
       " 'ce',\n",
       " 'pleas',\n",
       " 'disregard',\n",
       " 'email',\n",
       " 'fight',\n",
       " 'risk',\n",
       " 'cancer',\n",
       " 'http',\n",
       " 'slim',\n",
       " 'guarante',\n",
       " 'lose',\n",
       " 'lb',\n",
       " 'day',\n",
       " 'http',\n",
       " 'get',\n",
       " 'child',\n",
       " 'support',\n",
       " 'deserv',\n",
       " 'free',\n",
       " 'legal',\n",
       " 'advic',\n",
       " 'http',\n",
       " 'join',\n",
       " 'web',\n",
       " 'fastest',\n",
       " 'grow',\n",
       " 'singl',\n",
       " 'commun',\n",
       " 'http',\n",
       " 'start',\n",
       " 'privat',\n",
       " 'photo',\n",
       " 'album',\n",
       " 'onlin',\n",
       " 'http',\n",
       " 'wonder',\n",
       " 'day',\n",
       " 'offer',\n",
       " 'manag',\n",
       " 'prizemama',\n",
       " 'wish',\n",
       " 'leav',\n",
       " 'list',\n",
       " 'pleas',\n",
       " 'use',\n",
       " 'link',\n",
       " 'http',\n",
       " 'ilug',\n",
       " 'irish',\n",
       " 'linux',\n",
       " 'user',\n",
       " 'group',\n",
       " 'ilug',\n",
       " 'http',\n",
       " 'un',\n",
       " 'subscript',\n",
       " 'inform',\n",
       " 'list',\n",
       " 'maintain',\n",
       " 'listmast',\n",
       " 'fight',\n",
       " 'risk',\n",
       " 'cancer',\n",
       " 'http',\n",
       " 'slim',\n",
       " 'guarante',\n",
       " 'lose',\n",
       " 'lb',\n",
       " 'day',\n",
       " 'http',\n",
       " 'get',\n",
       " 'child',\n",
       " 'support',\n",
       " 'deserv',\n",
       " 'free',\n",
       " 'legal',\n",
       " 'advic',\n",
       " 'http',\n",
       " 'join',\n",
       " 'web',\n",
       " 'fastest',\n",
       " 'grow',\n",
       " 'singl',\n",
       " 'commun',\n",
       " 'http',\n",
       " 'start',\n",
       " 'privat',\n",
       " 'photo',\n",
       " 'album',\n",
       " 'onlin',\n",
       " 'http',\n",
       " 'wonder',\n",
       " 'day',\n",
       " 'offer',\n",
       " 'manag',\n",
       " 'prizemama',\n",
       " 'wish',\n",
       " 'leav',\n",
       " 'list',\n",
       " 'pleas',\n",
       " 'use',\n",
       " 'link',\n",
       " 'http',\n",
       " 'zzzz']"
      ]
     },
     "execution_count": 152,
     "metadata": {},
     "output_type": "execute_result"
    }
   ],
   "source": [
    "my_flat_list"
   ]
  },
  {
   "cell_type": "code",
   "execution_count": 153,
   "metadata": {},
   "outputs": [
    {
     "data": {
      "text/plain": [
       "192"
      ]
     },
     "execution_count": 153,
     "metadata": {},
     "output_type": "execute_result"
    }
   ],
   "source": [
    "len(my_flat_list)"
   ]
  },
  {
   "cell_type": "code",
   "execution_count": 154,
   "metadata": {},
   "outputs": [
    {
     "data": {
      "text/plain": [
       "(5796, 3)"
      ]
     },
     "execution_count": 154,
     "metadata": {},
     "output_type": "execute_result"
    }
   ],
   "source": [
    "data.shape"
   ]
  },
  {
   "cell_type": "code",
   "execution_count": 155,
   "metadata": {},
   "outputs": [
    {
     "name": "stderr",
     "output_type": "stream",
     "text": [
      "C:\\Users\\prade\\anaconda3\\lib\\site-packages\\bs4\\__init__.py:414: MarkupResemblesLocatorWarning: \"http://www.post-gazette.com/columnists/20020905brian5\n",
      "\" looks like a URL. Beautiful Soup is not an HTTP client. You should probably use an HTTP client like requests to get the document behind the URL, and feed that document to Beautiful Soup.\n",
      "  warnings.warn(\n"
     ]
    }
   ],
   "source": [
    "nested_list= data.MESSAGE.apply(clean_msg_no_html)"
   ]
  },
  {
   "cell_type": "code",
   "execution_count": 156,
   "metadata": {},
   "outputs": [
    {
     "data": {
      "text/plain": [
       "DOC_ID\n",
       "0       [save, life, insur, spend, life, quot, save, g...\n",
       "1       [fight, risk, cancer, http, slim, guarante, lo...\n",
       "2       [fight, risk, cancer, http, slim, guarante, lo...\n",
       "3       [adult, club, offer, free, membership, instant...\n",
       "4       [thought, might, like, slim, guarante, lose, l...\n",
       "                              ...                        \n",
       "5791    [http, bizarr, collect, stuf, anim, could, fet...\n",
       "5792    [care, use, one, also, realli, cute, thing, ja...\n",
       "5793    [sm, skip, montanaro, write, jeremi, put, anot...\n",
       "5794    [mark, hammond, like, given, zodb, sound, attr...\n",
       "5795    [hi, probabl, use, whatsoev, also, problem, re...\n",
       "Name: MESSAGE, Length: 5796, dtype: object"
      ]
     },
     "execution_count": 156,
     "metadata": {},
     "output_type": "execute_result"
    }
   ],
   "source": [
    "nested_list"
   ]
  },
  {
   "cell_type": "code",
   "execution_count": 157,
   "metadata": {},
   "outputs": [
    {
     "data": {
      "text/plain": [
       "DOC_ID\n",
       "0    [save, life, insur, spend, life, quot, save, g...\n",
       "1    [fight, risk, cancer, http, slim, guarante, lo...\n",
       "2    [fight, risk, cancer, http, slim, guarante, lo...\n",
       "3    [adult, club, offer, free, membership, instant...\n",
       "4    [thought, might, like, slim, guarante, lose, l...\n",
       "Name: MESSAGE, dtype: object"
      ]
     },
     "execution_count": 157,
     "metadata": {},
     "output_type": "execute_result"
    }
   ],
   "source": [
    "nested_list.head()"
   ]
  },
  {
   "cell_type": "code",
   "execution_count": 158,
   "metadata": {},
   "outputs": [],
   "source": [
    "number_of_processed_words_in_the_messages = [item for sublist in nested_list for item in sublist]"
   ]
  },
  {
   "cell_type": "code",
   "execution_count": 159,
   "metadata": {},
   "outputs": [
    {
     "name": "stdout",
     "output_type": "stream",
     "text": [
      "Total words Extracted from 5796 mails: 759578\n"
     ]
    }
   ],
   "source": [
    "print ( 'Total words Extracted from 5796 mails:', len(number_of_processed_words_in_the_messages))"
   ]
  },
  {
   "cell_type": "code",
   "execution_count": 160,
   "metadata": {},
   "outputs": [
    {
     "data": {
      "text/plain": [
       "(1896, 3)"
      ]
     },
     "execution_count": 160,
     "metadata": {},
     "output_type": "execute_result"
    }
   ],
   "source": [
    "data[data.CATEGORY ==1].shape"
   ]
  },
  {
   "cell_type": "code",
   "execution_count": 161,
   "metadata": {},
   "outputs": [
    {
     "data": {
      "text/plain": [
       "(3900, 3)"
      ]
     },
     "execution_count": 161,
     "metadata": {},
     "output_type": "execute_result"
    }
   ],
   "source": [
    "data[data.CATEGORY ==0].shape"
   ]
  },
  {
   "cell_type": "code",
   "execution_count": 162,
   "metadata": {},
   "outputs": [
    {
     "data": {
      "text/html": [
       "<div>\n",
       "<style scoped>\n",
       "    .dataframe tbody tr th:only-of-type {\n",
       "        vertical-align: middle;\n",
       "    }\n",
       "\n",
       "    .dataframe tbody tr th {\n",
       "        vertical-align: top;\n",
       "    }\n",
       "\n",
       "    .dataframe thead th {\n",
       "        text-align: right;\n",
       "    }\n",
       "</style>\n",
       "<table border=\"1\" class=\"dataframe\">\n",
       "  <thead>\n",
       "    <tr style=\"text-align: right;\">\n",
       "      <th></th>\n",
       "      <th>MESSAGE</th>\n",
       "      <th>CATEGORY</th>\n",
       "      <th>FILE_NAME</th>\n",
       "    </tr>\n",
       "    <tr>\n",
       "      <th>DOC_ID</th>\n",
       "      <th></th>\n",
       "      <th></th>\n",
       "      <th></th>\n",
       "    </tr>\n",
       "  </thead>\n",
       "  <tbody>\n",
       "    <tr>\n",
       "      <th>0</th>\n",
       "      <td>&lt;!DOCTYPE HTML PUBLIC \"-//W3C//DTD HTML 4.0 Tr...</td>\n",
       "      <td>1</td>\n",
       "      <td>00001.7848dde101aa985090474a91ec93fcf0</td>\n",
       "    </tr>\n",
       "    <tr>\n",
       "      <th>1</th>\n",
       "      <td>1) Fight The Risk of Cancer!\\n\\nhttp://www.adc...</td>\n",
       "      <td>1</td>\n",
       "      <td>00002.d94f1b97e48ed3b553b3508d116e6a09</td>\n",
       "    </tr>\n",
       "    <tr>\n",
       "      <th>2</th>\n",
       "      <td>1) Fight The Risk of Cancer!\\n\\nhttp://www.adc...</td>\n",
       "      <td>1</td>\n",
       "      <td>00003.2ee33bc6eacdb11f38d052c44819ba6c</td>\n",
       "    </tr>\n",
       "    <tr>\n",
       "      <th>3</th>\n",
       "      <td>##############################################...</td>\n",
       "      <td>1</td>\n",
       "      <td>00004.eac8de8d759b7e74154f142194282724</td>\n",
       "    </tr>\n",
       "    <tr>\n",
       "      <th>4</th>\n",
       "      <td>I thought you might like these:\\n\\n1) Slim Dow...</td>\n",
       "      <td>1</td>\n",
       "      <td>00005.57696a39d7d84318ce497886896bf90d</td>\n",
       "    </tr>\n",
       "  </tbody>\n",
       "</table>\n",
       "</div>"
      ],
      "text/plain": [
       "                                                  MESSAGE  CATEGORY  \\\n",
       "DOC_ID                                                                \n",
       "0       <!DOCTYPE HTML PUBLIC \"-//W3C//DTD HTML 4.0 Tr...         1   \n",
       "1       1) Fight The Risk of Cancer!\\n\\nhttp://www.adc...         1   \n",
       "2       1) Fight The Risk of Cancer!\\n\\nhttp://www.adc...         1   \n",
       "3       ##############################################...         1   \n",
       "4       I thought you might like these:\\n\\n1) Slim Dow...         1   \n",
       "\n",
       "                                     FILE_NAME  \n",
       "DOC_ID                                          \n",
       "0       00001.7848dde101aa985090474a91ec93fcf0  \n",
       "1       00002.d94f1b97e48ed3b553b3508d116e6a09  \n",
       "2       00003.2ee33bc6eacdb11f38d052c44819ba6c  \n",
       "3       00004.eac8de8d759b7e74154f142194282724  \n",
       "4       00005.57696a39d7d84318ce497886896bf90d  "
      ]
     },
     "execution_count": 162,
     "metadata": {},
     "output_type": "execute_result"
    }
   ],
   "source": [
    "data[data.CATEGORY ==1].head()"
   ]
  },
  {
   "cell_type": "code",
   "execution_count": 163,
   "metadata": {},
   "outputs": [
    {
     "data": {
      "text/html": [
       "<div>\n",
       "<style scoped>\n",
       "    .dataframe tbody tr th:only-of-type {\n",
       "        vertical-align: middle;\n",
       "    }\n",
       "\n",
       "    .dataframe tbody tr th {\n",
       "        vertical-align: top;\n",
       "    }\n",
       "\n",
       "    .dataframe thead th {\n",
       "        text-align: right;\n",
       "    }\n",
       "</style>\n",
       "<table border=\"1\" class=\"dataframe\">\n",
       "  <thead>\n",
       "    <tr style=\"text-align: right;\">\n",
       "      <th></th>\n",
       "      <th>MESSAGE</th>\n",
       "      <th>CATEGORY</th>\n",
       "      <th>FILE_NAME</th>\n",
       "    </tr>\n",
       "    <tr>\n",
       "      <th>DOC_ID</th>\n",
       "      <th></th>\n",
       "      <th></th>\n",
       "      <th></th>\n",
       "    </tr>\n",
       "  </thead>\n",
       "  <tbody>\n",
       "    <tr>\n",
       "      <th>1891</th>\n",
       "      <td>&lt;html&gt;\\n\\n&lt;head&gt;\\n\\n&lt;meta http-equiv=\"content-...</td>\n",
       "      <td>1</td>\n",
       "      <td>01396.e80a10644810bc2ae3c1b58c5fd38dfa</td>\n",
       "    </tr>\n",
       "    <tr>\n",
       "      <th>1892</th>\n",
       "      <td>This is a multi-part message in MIME format.\\n...</td>\n",
       "      <td>1</td>\n",
       "      <td>01397.f75f0dd0dd923faefa3e9cc5ecb8c906</td>\n",
       "    </tr>\n",
       "    <tr>\n",
       "      <th>1893</th>\n",
       "      <td>Dear Subscriber,\\n\\n\\n\\nIf I could show you a ...</td>\n",
       "      <td>1</td>\n",
       "      <td>01398.8ca7045aae4184d56e8509dc5ad6d979</td>\n",
       "    </tr>\n",
       "    <tr>\n",
       "      <th>1894</th>\n",
       "      <td>****Mid-Summer Customer Appreciation SALE!****...</td>\n",
       "      <td>1</td>\n",
       "      <td>01399.2319643317e2c5193d574e40a71809c2</td>\n",
       "    </tr>\n",
       "    <tr>\n",
       "      <th>1895</th>\n",
       "      <td>ATTN:SIR/MADAN      \\n\\n\\n\\n                  ...</td>\n",
       "      <td>1</td>\n",
       "      <td>01400.b444b69845db2fa0a4693ca04e6ac5c5</td>\n",
       "    </tr>\n",
       "  </tbody>\n",
       "</table>\n",
       "</div>"
      ],
      "text/plain": [
       "                                                  MESSAGE  CATEGORY  \\\n",
       "DOC_ID                                                                \n",
       "1891    <html>\\n\\n<head>\\n\\n<meta http-equiv=\"content-...         1   \n",
       "1892    This is a multi-part message in MIME format.\\n...         1   \n",
       "1893    Dear Subscriber,\\n\\n\\n\\nIf I could show you a ...         1   \n",
       "1894    ****Mid-Summer Customer Appreciation SALE!****...         1   \n",
       "1895    ATTN:SIR/MADAN      \\n\\n\\n\\n                  ...         1   \n",
       "\n",
       "                                     FILE_NAME  \n",
       "DOC_ID                                          \n",
       "1891    01396.e80a10644810bc2ae3c1b58c5fd38dfa  \n",
       "1892    01397.f75f0dd0dd923faefa3e9cc5ecb8c906  \n",
       "1893    01398.8ca7045aae4184d56e8509dc5ad6d979  \n",
       "1894    01399.2319643317e2c5193d574e40a71809c2  \n",
       "1895    01400.b444b69845db2fa0a4693ca04e6ac5c5  "
      ]
     },
     "execution_count": 163,
     "metadata": {},
     "output_type": "execute_result"
    }
   ],
   "source": [
    "data[data.CATEGORY ==1].tail()"
   ]
  },
  {
   "cell_type": "code",
   "execution_count": 164,
   "metadata": {},
   "outputs": [
    {
     "data": {
      "text/html": [
       "<div>\n",
       "<style scoped>\n",
       "    .dataframe tbody tr th:only-of-type {\n",
       "        vertical-align: middle;\n",
       "    }\n",
       "\n",
       "    .dataframe tbody tr th {\n",
       "        vertical-align: top;\n",
       "    }\n",
       "\n",
       "    .dataframe thead th {\n",
       "        text-align: right;\n",
       "    }\n",
       "</style>\n",
       "<table border=\"1\" class=\"dataframe\">\n",
       "  <thead>\n",
       "    <tr style=\"text-align: right;\">\n",
       "      <th></th>\n",
       "      <th>MESSAGE</th>\n",
       "      <th>CATEGORY</th>\n",
       "      <th>FILE_NAME</th>\n",
       "    </tr>\n",
       "    <tr>\n",
       "      <th>DOC_ID</th>\n",
       "      <th></th>\n",
       "      <th></th>\n",
       "      <th></th>\n",
       "    </tr>\n",
       "  </thead>\n",
       "  <tbody>\n",
       "    <tr>\n",
       "      <th>1896</th>\n",
       "      <td>Date:        Wed, 21 Aug 2002 10:54:46 -05...</td>\n",
       "      <td>0</td>\n",
       "      <td>00001.7c53336b37003a9286aba55d2945844c</td>\n",
       "    </tr>\n",
       "    <tr>\n",
       "      <th>1897</th>\n",
       "      <td>Martin A posted:\\n\\nTassos Papadopoulos, the G...</td>\n",
       "      <td>0</td>\n",
       "      <td>00002.9c4069e25e1ef370c078db7ee85ff9ac</td>\n",
       "    </tr>\n",
       "    <tr>\n",
       "      <th>1898</th>\n",
       "      <td>Man Threatens Explosion In Moscow \\n\\n\\n\\nThur...</td>\n",
       "      <td>0</td>\n",
       "      <td>00003.860e3c3cee1b42ead714c5c874fe25f7</td>\n",
       "    </tr>\n",
       "    <tr>\n",
       "      <th>1899</th>\n",
       "      <td>Klez: The Virus That Won't Die\\n\\n \\n\\nAlready...</td>\n",
       "      <td>0</td>\n",
       "      <td>00004.864220c5b6930b209cc287c361c99af1</td>\n",
       "    </tr>\n",
       "    <tr>\n",
       "      <th>1900</th>\n",
       "      <td>&gt;  in adding cream to spaghetti carbonara, whi...</td>\n",
       "      <td>0</td>\n",
       "      <td>00005.bf27cdeaf0b8c4647ecd61b1d09da613</td>\n",
       "    </tr>\n",
       "  </tbody>\n",
       "</table>\n",
       "</div>"
      ],
      "text/plain": [
       "                                                  MESSAGE  CATEGORY  \\\n",
       "DOC_ID                                                                \n",
       "1896        Date:        Wed, 21 Aug 2002 10:54:46 -05...         0   \n",
       "1897    Martin A posted:\\n\\nTassos Papadopoulos, the G...         0   \n",
       "1898    Man Threatens Explosion In Moscow \\n\\n\\n\\nThur...         0   \n",
       "1899    Klez: The Virus That Won't Die\\n\\n \\n\\nAlready...         0   \n",
       "1900    >  in adding cream to spaghetti carbonara, whi...         0   \n",
       "\n",
       "                                     FILE_NAME  \n",
       "DOC_ID                                          \n",
       "1896    00001.7c53336b37003a9286aba55d2945844c  \n",
       "1897    00002.9c4069e25e1ef370c078db7ee85ff9ac  \n",
       "1898    00003.860e3c3cee1b42ead714c5c874fe25f7  \n",
       "1899    00004.864220c5b6930b209cc287c361c99af1  \n",
       "1900    00005.bf27cdeaf0b8c4647ecd61b1d09da613  "
      ]
     },
     "execution_count": 164,
     "metadata": {},
     "output_type": "execute_result"
    }
   ],
   "source": [
    "data[data.CATEGORY ==0].head()"
   ]
  },
  {
   "cell_type": "code",
   "execution_count": 165,
   "metadata": {},
   "outputs": [
    {
     "data": {
      "text/html": [
       "<div>\n",
       "<style scoped>\n",
       "    .dataframe tbody tr th:only-of-type {\n",
       "        vertical-align: middle;\n",
       "    }\n",
       "\n",
       "    .dataframe tbody tr th {\n",
       "        vertical-align: top;\n",
       "    }\n",
       "\n",
       "    .dataframe thead th {\n",
       "        text-align: right;\n",
       "    }\n",
       "</style>\n",
       "<table border=\"1\" class=\"dataframe\">\n",
       "  <thead>\n",
       "    <tr style=\"text-align: right;\">\n",
       "      <th></th>\n",
       "      <th>MESSAGE</th>\n",
       "      <th>CATEGORY</th>\n",
       "      <th>FILE_NAME</th>\n",
       "    </tr>\n",
       "    <tr>\n",
       "      <th>DOC_ID</th>\n",
       "      <th></th>\n",
       "      <th></th>\n",
       "      <th></th>\n",
       "    </tr>\n",
       "  </thead>\n",
       "  <tbody>\n",
       "    <tr>\n",
       "      <th>5791</th>\n",
       "      <td>http://news.bbc.co.uk/1/hi/england/2515127.stm...</td>\n",
       "      <td>0</td>\n",
       "      <td>01396.61983fbe6ec43f55fd44e30fce24ffa6</td>\n",
       "    </tr>\n",
       "    <tr>\n",
       "      <th>5792</th>\n",
       "      <td>&gt; &gt;-- be careful when using this one.) Also, t...</td>\n",
       "      <td>0</td>\n",
       "      <td>01397.9f9ef4c2a8dc012d80f2ce2d3473d3b7</td>\n",
       "    </tr>\n",
       "    <tr>\n",
       "      <th>5793</th>\n",
       "      <td>&gt;&gt;&gt;&gt;&gt; \"SM\" == Skip Montanaro &lt;skip@pobox.com&gt; ...</td>\n",
       "      <td>0</td>\n",
       "      <td>01398.169b51731fe569f42169ae8f948ec676</td>\n",
       "    </tr>\n",
       "    <tr>\n",
       "      <th>5794</th>\n",
       "      <td>So then, \"Mark Hammond\" &lt;mhammond@skippinet.co...</td>\n",
       "      <td>0</td>\n",
       "      <td>01399.ca6b00b7b341bbde9a9ea3dd6a7bf896</td>\n",
       "    </tr>\n",
       "    <tr>\n",
       "      <th>5795</th>\n",
       "      <td>Hi there,\\n\\n\\n\\nNow this is probably of no us...</td>\n",
       "      <td>0</td>\n",
       "      <td>01400.f897f0931e461e7b2e964d28e927c35e</td>\n",
       "    </tr>\n",
       "  </tbody>\n",
       "</table>\n",
       "</div>"
      ],
      "text/plain": [
       "                                                  MESSAGE  CATEGORY  \\\n",
       "DOC_ID                                                                \n",
       "5791    http://news.bbc.co.uk/1/hi/england/2515127.stm...         0   \n",
       "5792    > >-- be careful when using this one.) Also, t...         0   \n",
       "5793    >>>>> \"SM\" == Skip Montanaro <skip@pobox.com> ...         0   \n",
       "5794    So then, \"Mark Hammond\" <mhammond@skippinet.co...         0   \n",
       "5795    Hi there,\\n\\n\\n\\nNow this is probably of no us...         0   \n",
       "\n",
       "                                     FILE_NAME  \n",
       "DOC_ID                                          \n",
       "5791    01396.61983fbe6ec43f55fd44e30fce24ffa6  \n",
       "5792    01397.9f9ef4c2a8dc012d80f2ce2d3473d3b7  \n",
       "5793    01398.169b51731fe569f42169ae8f948ec676  \n",
       "5794    01399.ca6b00b7b341bbde9a9ea3dd6a7bf896  \n",
       "5795    01400.f897f0931e461e7b2e964d28e927c35e  "
      ]
     },
     "execution_count": 165,
     "metadata": {},
     "output_type": "execute_result"
    }
   ],
   "source": [
    "data[data.CATEGORY ==0].tail()"
   ]
  },
  {
   "cell_type": "code",
   "execution_count": 166,
   "metadata": {},
   "outputs": [],
   "source": [
    "doc_id_spam=data[data.CATEGORY==1].index"
   ]
  },
  {
   "cell_type": "code",
   "execution_count": 167,
   "metadata": {},
   "outputs": [
    {
     "data": {
      "text/plain": [
       "Int64Index([   0,    1,    2,    3,    4,    5,    6,    7,    8,    9,\n",
       "            ...\n",
       "            1886, 1887, 1888, 1889, 1890, 1891, 1892, 1893, 1894, 1895],\n",
       "           dtype='int64', name='DOC_ID', length=1896)"
      ]
     },
     "execution_count": 167,
     "metadata": {},
     "output_type": "execute_result"
    }
   ],
   "source": [
    "doc_id_spam"
   ]
  },
  {
   "cell_type": "code",
   "execution_count": 168,
   "metadata": {},
   "outputs": [],
   "source": [
    "doc_id_ham=data[data.CATEGORY==0].index"
   ]
  },
  {
   "cell_type": "code",
   "execution_count": 169,
   "metadata": {},
   "outputs": [
    {
     "data": {
      "text/plain": [
       "Int64Index([1896, 1897, 1898, 1899, 1900, 1901, 1902, 1903, 1904, 1905,\n",
       "            ...\n",
       "            5786, 5787, 5788, 5789, 5790, 5791, 5792, 5793, 5794, 5795],\n",
       "           dtype='int64', name='DOC_ID', length=3900)"
      ]
     },
     "execution_count": 169,
     "metadata": {},
     "output_type": "execute_result"
    }
   ],
   "source": [
    "doc_id_ham"
   ]
  },
  {
   "cell_type": "code",
   "execution_count": 170,
   "metadata": {},
   "outputs": [
    {
     "data": {
      "text/plain": [
       "pandas.core.indexes.numeric.Int64Index"
      ]
     },
     "execution_count": 170,
     "metadata": {},
     "output_type": "execute_result"
    }
   ],
   "source": [
    "type(doc_id_spam)"
   ]
  },
  {
   "cell_type": "code",
   "execution_count": 171,
   "metadata": {},
   "outputs": [
    {
     "data": {
      "text/plain": [
       "pandas.core.indexes.numeric.Int64Index"
      ]
     },
     "execution_count": 171,
     "metadata": {},
     "output_type": "execute_result"
    }
   ],
   "source": [
    "type(doc_id_ham)"
   ]
  },
  {
   "cell_type": "code",
   "execution_count": 172,
   "metadata": {},
   "outputs": [
    {
     "data": {
      "text/plain": [
       "pandas.core.series.Series"
      ]
     },
     "execution_count": 172,
     "metadata": {},
     "output_type": "execute_result"
    }
   ],
   "source": [
    "type(nested_list)"
   ]
  },
  {
   "cell_type": "code",
   "execution_count": 173,
   "metadata": {},
   "outputs": [],
   "source": [
    "nested_list_ham = nested_list.loc[doc_id_ham]"
   ]
  },
  {
   "cell_type": "code",
   "execution_count": 174,
   "metadata": {},
   "outputs": [
    {
     "data": {
      "text/plain": [
       "DOC_ID\n",
       "1896    [date, wed, aug, chri, garrigu, ca, reproduc, ...\n",
       "1897    [martin, post, tasso, papadopoulo, greek, scul...\n",
       "1898    [man, threaten, explos, moscow, thursday, augu...\n",
       "1899    [klez, viru, wo, die, alreadi, prolif, viru, e...\n",
       "1900    [ad, cream, spaghetti, carbonara, effect, past...\n",
       "Name: MESSAGE, dtype: object"
      ]
     },
     "execution_count": 174,
     "metadata": {},
     "output_type": "execute_result"
    }
   ],
   "source": [
    "nested_list_ham.head()"
   ]
  },
  {
   "cell_type": "code",
   "execution_count": 175,
   "metadata": {},
   "outputs": [
    {
     "data": {
      "text/plain": [
       "DOC_ID\n",
       "5791    [http, bizarr, collect, stuf, anim, could, fet...\n",
       "5792    [care, use, one, also, realli, cute, thing, ja...\n",
       "5793    [sm, skip, montanaro, write, jeremi, put, anot...\n",
       "5794    [mark, hammond, like, given, zodb, sound, attr...\n",
       "5795    [hi, probabl, use, whatsoev, also, problem, re...\n",
       "Name: MESSAGE, dtype: object"
      ]
     },
     "execution_count": 175,
     "metadata": {},
     "output_type": "execute_result"
    }
   ],
   "source": [
    "nested_list_ham.tail()"
   ]
  },
  {
   "cell_type": "code",
   "execution_count": 176,
   "metadata": {},
   "outputs": [
    {
     "data": {
      "text/plain": [
       "(3900,)"
      ]
     },
     "execution_count": 176,
     "metadata": {},
     "output_type": "execute_result"
    }
   ],
   "source": [
    "nested_list_ham.shape"
   ]
  },
  {
   "cell_type": "code",
   "execution_count": 177,
   "metadata": {},
   "outputs": [
    {
     "data": {
      "text/plain": [
       "3900"
      ]
     },
     "execution_count": 177,
     "metadata": {},
     "output_type": "execute_result"
    }
   ],
   "source": [
    "nested_list_ham.shape[0]"
   ]
  },
  {
   "cell_type": "code",
   "execution_count": 178,
   "metadata": {},
   "outputs": [],
   "source": [
    "nested_list_spam = nested_list.loc[doc_id_spam]"
   ]
  },
  {
   "cell_type": "code",
   "execution_count": 179,
   "metadata": {},
   "outputs": [
    {
     "data": {
      "text/plain": [
       "DOC_ID\n",
       "0    [save, life, insur, spend, life, quot, save, g...\n",
       "1    [fight, risk, cancer, http, slim, guarante, lo...\n",
       "2    [fight, risk, cancer, http, slim, guarante, lo...\n",
       "3    [adult, club, offer, free, membership, instant...\n",
       "4    [thought, might, like, slim, guarante, lose, l...\n",
       "Name: MESSAGE, dtype: object"
      ]
     },
     "execution_count": 179,
     "metadata": {},
     "output_type": "execute_result"
    }
   ],
   "source": [
    "nested_list_spam.head()"
   ]
  },
  {
   "cell_type": "code",
   "execution_count": 180,
   "metadata": {},
   "outputs": [
    {
     "data": {
      "text/plain": [
       "DOC_ID\n",
       "1891    [want, boss, train, home, studi, thousand, peo...\n",
       "1892    [messag, mime, format, prefer, doctor, order, ...\n",
       "1893    [dear, subscrib, could, show, way, get, visito...\n",
       "1894    [custom, appreci, sale, express, appreci, loya...\n",
       "1895    [attn, strictli, confidenti, pleas, introduc, ...\n",
       "Name: MESSAGE, dtype: object"
      ]
     },
     "execution_count": 180,
     "metadata": {},
     "output_type": "execute_result"
    }
   ],
   "source": [
    "nested_list_spam.tail()"
   ]
  },
  {
   "cell_type": "code",
   "execution_count": 181,
   "metadata": {},
   "outputs": [
    {
     "data": {
      "text/plain": [
       "(1896,)"
      ]
     },
     "execution_count": 181,
     "metadata": {},
     "output_type": "execute_result"
    }
   ],
   "source": [
    "nested_list_spam.shape"
   ]
  },
  {
   "cell_type": "code",
   "execution_count": 182,
   "metadata": {},
   "outputs": [
    {
     "data": {
      "text/plain": [
       "1896"
      ]
     },
     "execution_count": 182,
     "metadata": {},
     "output_type": "execute_result"
    }
   ],
   "source": [
    "nested_list_spam.shape[0]"
   ]
  },
  {
   "cell_type": "code",
   "execution_count": 183,
   "metadata": {},
   "outputs": [
    {
     "name": "stdout",
     "output_type": "stream",
     "text": [
      "Total Normal words: 442079\n"
     ]
    }
   ],
   "source": [
    "flat_list_ham =[item for sublist in nested_list_ham for item in sublist]\n",
    "normal_words = pd.Series(flat_list_ham)\n",
    "print('Total Normal words:', normal_words.shape[0])"
   ]
  },
  {
   "cell_type": "code",
   "execution_count": 184,
   "metadata": {},
   "outputs": [
    {
     "name": "stdout",
     "output_type": "stream",
     "text": [
      "Total Spammy words: 317499\n"
     ]
    }
   ],
   "source": [
    "flat_list_spam =[item for sublist in nested_list_spam for item in sublist]\n",
    "spammy_words = pd.Series(flat_list_spam)\n",
    "print('Total Spammy words:', spammy_words.shape[0])"
   ]
  },
  {
   "cell_type": "code",
   "execution_count": 185,
   "metadata": {},
   "outputs": [],
   "source": [
    "# Unique words????"
   ]
  },
  {
   "cell_type": "code",
   "execution_count": 186,
   "metadata": {},
   "outputs": [
    {
     "data": {
      "text/plain": [
       "Samosa    2\n",
       "Tiger     2\n",
       "Apple     2\n",
       "Lion      1\n",
       "Indus     1\n",
       "Ganges    1\n",
       "dtype: int64"
      ]
     },
     "execution_count": 186,
     "metadata": {},
     "output_type": "execute_result"
    }
   ],
   "source": [
    "yestee_list = ['Apple', 'Apple', 'Lion', 'Tiger', 'Tiger', 'Indus', 'Ganges', 'Samosa', 'Samosa']\n",
    "yestee_unique_words = pd.Series(yestee_list).value_counts()\n",
    "yestee_unique_words "
   ]
  },
  {
   "cell_type": "code",
   "execution_count": 187,
   "metadata": {},
   "outputs": [
    {
     "data": {
      "text/plain": [
       "6"
      ]
     },
     "execution_count": 187,
     "metadata": {},
     "output_type": "execute_result"
    }
   ],
   "source": [
    "yestee_unique_words.shape[0]"
   ]
  },
  {
   "cell_type": "code",
   "execution_count": 188,
   "metadata": {},
   "outputs": [],
   "source": [
    "# back to our data....."
   ]
  },
  {
   "cell_type": "code",
   "execution_count": 189,
   "metadata": {},
   "outputs": [
    {
     "data": {
      "text/plain": [
       "http        7563\n",
       "use         3633\n",
       "list        2880\n",
       "one         2373\n",
       "get         2286\n",
       "            ... \n",
       "bonnevil       1\n",
       "vasco          1\n",
       "nagio          1\n",
       "reconis        1\n",
       "avidli         1\n",
       "Length: 20815, dtype: int64"
      ]
     },
     "execution_count": 189,
     "metadata": {},
     "output_type": "execute_result"
    }
   ],
   "source": [
    "normal_words.value_counts()"
   ]
  },
  {
   "cell_type": "code",
   "execution_count": 190,
   "metadata": {},
   "outputs": [
    {
     "data": {
      "text/plain": [
       "20815"
      ]
     },
     "execution_count": 190,
     "metadata": {},
     "output_type": "execute_result"
    }
   ],
   "source": [
    "normal_words.value_counts().shape[0]"
   ]
  },
  {
   "cell_type": "code",
   "execution_count": 191,
   "metadata": {},
   "outputs": [
    {
     "name": "stdout",
     "output_type": "stream",
     "text": [
      "Total Normal words: 20815\n"
     ]
    },
    {
     "data": {
      "text/plain": [
       "http      7563\n",
       "use       3633\n",
       "list      2880\n",
       "one       2373\n",
       "get       2286\n",
       "mail      2255\n",
       "would     2003\n",
       "like      1931\n",
       "messag    1849\n",
       "work      1800\n",
       "dtype: int64"
      ]
     },
     "execution_count": 191,
     "metadata": {},
     "output_type": "execute_result"
    }
   ],
   "source": [
    "flat_list_ham =[item for sublist in nested_list_ham for item in sublist]\n",
    "normal_words = pd.Series(flat_list_ham).value_counts()\n",
    "print('Total Normal words:', normal_words.shape[0])\n",
    "normal_words[:10]"
   ]
  },
  {
   "cell_type": "code",
   "execution_count": 192,
   "metadata": {},
   "outputs": [
    {
     "name": "stdout",
     "output_type": "stream",
     "text": [
      "Total Spammy words: 13242\n"
     ]
    },
    {
     "data": {
      "text/plain": [
       "http      3097\n",
       "email     3090\n",
       "free      2585\n",
       "click     2058\n",
       "receiv    1989\n",
       "list      1971\n",
       "get       1914\n",
       "pleas     1852\n",
       "busi      1792\n",
       "order     1746\n",
       "dtype: int64"
      ]
     },
     "execution_count": 192,
     "metadata": {},
     "output_type": "execute_result"
    }
   ],
   "source": [
    "flat_list_spam =[item for sublist in nested_list_spam for item in sublist]\n",
    "spammy_words = pd.Series(flat_list_spam).value_counts()\n",
    "print('Total Spammy words:', spammy_words.shape[0])\n",
    "spammy_words[:10]"
   ]
  },
  {
   "cell_type": "code",
   "execution_count": 193,
   "metadata": {},
   "outputs": [],
   "source": [
    "#.........Total number of processed words.......761974\n",
    "# ........Total number of spammy words..........320571\n",
    "#.........Total number of normal words..........441403\n",
    "#.........Total number of unique spammy words ..13284\n",
    "#.........Total number of unique normal words...20755"
   ]
  },
  {
   "cell_type": "code",
   "execution_count": 194,
   "metadata": {},
   "outputs": [
    {
     "name": "stderr",
     "output_type": "stream",
     "text": [
      "C:\\Users\\prade\\anaconda3\\lib\\site-packages\\bs4\\__init__.py:414: MarkupResemblesLocatorWarning: \"http://www.post-gazette.com/columnists/20020905brian5\n",
      "\" looks like a URL. Beautiful Soup is not an HTTP client. You should probably use an HTTP client like requests to get the document behind the URL, and feed that document to Beautiful Soup.\n",
      "  warnings.warn(\n"
     ]
    }
   ],
   "source": [
    "stemmed_nested_list = data.MESSAGE.apply(clean_msg_no_html)\n",
    "flat_stemmed_list = [item for sublist in stemmed_nested_list for item in sublist]"
   ]
  },
  {
   "cell_type": "code",
   "execution_count": 195,
   "metadata": {},
   "outputs": [
    {
     "data": {
      "text/plain": [
       "759578"
      ]
     },
     "execution_count": 195,
     "metadata": {},
     "output_type": "execute_result"
    }
   ],
   "source": [
    "len(flat_stemmed_list)"
   ]
  },
  {
   "cell_type": "code",
   "execution_count": 196,
   "metadata": {},
   "outputs": [
    {
     "name": "stdout",
     "output_type": "stream",
     "text": [
      "Nr of unique words 27334\n"
     ]
    },
    {
     "data": {
      "text/plain": [
       "http     10660\n",
       "use       5019\n",
       "list      4851\n",
       "email     4367\n",
       "get       4200\n",
       "dtype: int64"
      ]
     },
     "execution_count": 196,
     "metadata": {},
     "output_type": "execute_result"
    }
   ],
   "source": [
    "unique_words = pd.Series(flat_stemmed_list).value_counts()\n",
    "print('Nr of unique words', unique_words.shape[0])\n",
    "unique_words.head()"
   ]
  },
  {
   "cell_type": "code",
   "execution_count": 197,
   "metadata": {},
   "outputs": [
    {
     "data": {
      "text/plain": [
       "straighten    1\n",
       "aspers        1\n",
       "millbrook     1\n",
       "therfor       1\n",
       "immeasur      1\n",
       "dtype: int64"
      ]
     },
     "execution_count": 197,
     "metadata": {},
     "output_type": "execute_result"
    }
   ],
   "source": [
    "unique_words.tail()"
   ]
  },
  {
   "cell_type": "code",
   "execution_count": 198,
   "metadata": {},
   "outputs": [
    {
     "data": {
      "text/plain": [
       "http        10660\n",
       "use          5019\n",
       "list         4851\n",
       "email        4367\n",
       "get          4200\n",
       "            ...  \n",
       "maxaman        44\n",
       "manner         43\n",
       "gotten         43\n",
       "distinct       43\n",
       "strateg        43\n",
       "Length: 2500, dtype: int64"
      ]
     },
     "execution_count": 198,
     "metadata": {},
     "output_type": "execute_result"
    }
   ],
   "source": [
    "unique_words.head(2500)"
   ]
  },
  {
   "cell_type": "code",
   "execution_count": 199,
   "metadata": {},
   "outputs": [
    {
     "name": "stdout",
     "output_type": "stream",
     "text": [
      "2500 Most common words: \n",
      " http        10660\n",
      "use          5019\n",
      "list         4851\n",
      "email        4367\n",
      "get          4200\n",
      "            ...  \n",
      "maxaman        44\n",
      "manner         43\n",
      "gotten         43\n",
      "distinct       43\n",
      "strateg        43\n",
      "Length: 2500, dtype: int64\n"
     ]
    }
   ],
   "source": [
    "# Extracting a new set of 2500 unique words from unique_words\n",
    "frequent_words = unique_words[0:2500] \n",
    "print('2500 Most common words: \\n', frequent_words)"
   ]
  },
  {
   "cell_type": "code",
   "execution_count": 200,
   "metadata": {},
   "outputs": [
    {
     "data": {
      "text/plain": [
       "pandas.core.series.Series"
      ]
     },
     "execution_count": 200,
     "metadata": {},
     "output_type": "execute_result"
    }
   ],
   "source": [
    "type(frequent_words)"
   ]
  },
  {
   "cell_type": "code",
   "execution_count": 201,
   "metadata": {},
   "outputs": [
    {
     "data": {
      "text/plain": [
       "follow     1012\n",
       "back       1008\n",
       "form        990\n",
       "rate        987\n",
       "month       984\n",
       "everi       979\n",
       "secur       975\n",
       "gener       957\n",
       "price       946\n",
       "url         943\n",
       "still       938\n",
       "comput      925\n",
       "packag      918\n",
       "instal      906\n",
       "avail       901\n",
       "sent        899\n",
       "code        898\n",
       "life        891\n",
       "commun      891\n",
       "version     890\n",
       "dtype: int64"
      ]
     },
     "execution_count": 201,
     "metadata": {},
     "output_type": "execute_result"
    }
   ],
   "source": [
    "frequent_words.iloc[100:120]"
   ]
  },
  {
   "cell_type": "code",
   "execution_count": 202,
   "metadata": {},
   "outputs": [
    {
     "name": "stdout",
     "output_type": "stream",
     "text": [
      "Index(['http', 'use', 'list', 'email', 'get', 'mail', 'one', 'free', 'time',\n",
      "       'work',\n",
      "       ...\n",
      "       'milter', 'tobacco', 'subsequ', 'boom', 'con', 'maxaman', 'manner',\n",
      "       'gotten', 'distinct', 'strateg'],\n",
      "      dtype='object', length=2500)\n"
     ]
    }
   ],
   "source": [
    "print(frequent_words.index)"
   ]
  },
  {
   "cell_type": "code",
   "execution_count": 203,
   "metadata": {},
   "outputs": [],
   "source": [
    "word_ids = list(range(0, 2500))"
   ]
  },
  {
   "cell_type": "code",
   "execution_count": 204,
   "metadata": {},
   "outputs": [
    {
     "data": {
      "text/html": [
       "<div>\n",
       "<style scoped>\n",
       "    .dataframe tbody tr th:only-of-type {\n",
       "        vertical-align: middle;\n",
       "    }\n",
       "\n",
       "    .dataframe tbody tr th {\n",
       "        vertical-align: top;\n",
       "    }\n",
       "\n",
       "    .dataframe thead th {\n",
       "        text-align: right;\n",
       "    }\n",
       "</style>\n",
       "<table border=\"1\" class=\"dataframe\">\n",
       "  <thead>\n",
       "    <tr style=\"text-align: right;\">\n",
       "      <th></th>\n",
       "      <th>VOCAB_WORD</th>\n",
       "    </tr>\n",
       "  </thead>\n",
       "  <tbody>\n",
       "    <tr>\n",
       "      <th>0</th>\n",
       "      <td>http</td>\n",
       "    </tr>\n",
       "    <tr>\n",
       "      <th>1</th>\n",
       "      <td>use</td>\n",
       "    </tr>\n",
       "    <tr>\n",
       "      <th>2</th>\n",
       "      <td>list</td>\n",
       "    </tr>\n",
       "    <tr>\n",
       "      <th>3</th>\n",
       "      <td>email</td>\n",
       "    </tr>\n",
       "    <tr>\n",
       "      <th>4</th>\n",
       "      <td>get</td>\n",
       "    </tr>\n",
       "    <tr>\n",
       "      <th>...</th>\n",
       "      <td>...</td>\n",
       "    </tr>\n",
       "    <tr>\n",
       "      <th>2495</th>\n",
       "      <td>maxaman</td>\n",
       "    </tr>\n",
       "    <tr>\n",
       "      <th>2496</th>\n",
       "      <td>manner</td>\n",
       "    </tr>\n",
       "    <tr>\n",
       "      <th>2497</th>\n",
       "      <td>gotten</td>\n",
       "    </tr>\n",
       "    <tr>\n",
       "      <th>2498</th>\n",
       "      <td>distinct</td>\n",
       "    </tr>\n",
       "    <tr>\n",
       "      <th>2499</th>\n",
       "      <td>strateg</td>\n",
       "    </tr>\n",
       "  </tbody>\n",
       "</table>\n",
       "<p>2500 rows × 1 columns</p>\n",
       "</div>"
      ],
      "text/plain": [
       "     VOCAB_WORD\n",
       "0          http\n",
       "1           use\n",
       "2          list\n",
       "3         email\n",
       "4           get\n",
       "...         ...\n",
       "2495    maxaman\n",
       "2496     manner\n",
       "2497     gotten\n",
       "2498   distinct\n",
       "2499    strateg\n",
       "\n",
       "[2500 rows x 1 columns]"
      ]
     },
     "execution_count": 204,
     "metadata": {},
     "output_type": "execute_result"
    }
   ],
   "source": [
    "pd.DataFrame({'VOCAB_WORD':frequent_words.index})"
   ]
  },
  {
   "cell_type": "code",
   "execution_count": 205,
   "metadata": {},
   "outputs": [
    {
     "data": {
      "text/html": [
       "<div>\n",
       "<style scoped>\n",
       "    .dataframe tbody tr th:only-of-type {\n",
       "        vertical-align: middle;\n",
       "    }\n",
       "\n",
       "    .dataframe tbody tr th {\n",
       "        vertical-align: top;\n",
       "    }\n",
       "\n",
       "    .dataframe thead th {\n",
       "        text-align: right;\n",
       "    }\n",
       "</style>\n",
       "<table border=\"1\" class=\"dataframe\">\n",
       "  <thead>\n",
       "    <tr style=\"text-align: right;\">\n",
       "      <th></th>\n",
       "      <th>VOCAB_WORD</th>\n",
       "    </tr>\n",
       "  </thead>\n",
       "  <tbody>\n",
       "    <tr>\n",
       "      <th>0</th>\n",
       "      <td>http</td>\n",
       "    </tr>\n",
       "    <tr>\n",
       "      <th>1</th>\n",
       "      <td>use</td>\n",
       "    </tr>\n",
       "    <tr>\n",
       "      <th>2</th>\n",
       "      <td>list</td>\n",
       "    </tr>\n",
       "    <tr>\n",
       "      <th>3</th>\n",
       "      <td>email</td>\n",
       "    </tr>\n",
       "    <tr>\n",
       "      <th>4</th>\n",
       "      <td>get</td>\n",
       "    </tr>\n",
       "    <tr>\n",
       "      <th>...</th>\n",
       "      <td>...</td>\n",
       "    </tr>\n",
       "    <tr>\n",
       "      <th>2495</th>\n",
       "      <td>maxaman</td>\n",
       "    </tr>\n",
       "    <tr>\n",
       "      <th>2496</th>\n",
       "      <td>manner</td>\n",
       "    </tr>\n",
       "    <tr>\n",
       "      <th>2497</th>\n",
       "      <td>gotten</td>\n",
       "    </tr>\n",
       "    <tr>\n",
       "      <th>2498</th>\n",
       "      <td>distinct</td>\n",
       "    </tr>\n",
       "    <tr>\n",
       "      <th>2499</th>\n",
       "      <td>strateg</td>\n",
       "    </tr>\n",
       "  </tbody>\n",
       "</table>\n",
       "<p>2500 rows × 1 columns</p>\n",
       "</div>"
      ],
      "text/plain": [
       "     VOCAB_WORD\n",
       "0          http\n",
       "1           use\n",
       "2          list\n",
       "3         email\n",
       "4           get\n",
       "...         ...\n",
       "2495    maxaman\n",
       "2496     manner\n",
       "2497     gotten\n",
       "2498   distinct\n",
       "2499    strateg\n",
       "\n",
       "[2500 rows x 1 columns]"
      ]
     },
     "execution_count": 205,
     "metadata": {},
     "output_type": "execute_result"
    }
   ],
   "source": [
    "vocab=pd.DataFrame({'VOCAB_WORD': frequent_words.index.values})\n",
    "vocab"
   ]
  },
  {
   "cell_type": "code",
   "execution_count": 206,
   "metadata": {},
   "outputs": [],
   "source": [
    "vocab.index.name = 'WORD_ID'"
   ]
  },
  {
   "cell_type": "code",
   "execution_count": 207,
   "metadata": {},
   "outputs": [
    {
     "data": {
      "text/html": [
       "<div>\n",
       "<style scoped>\n",
       "    .dataframe tbody tr th:only-of-type {\n",
       "        vertical-align: middle;\n",
       "    }\n",
       "\n",
       "    .dataframe tbody tr th {\n",
       "        vertical-align: top;\n",
       "    }\n",
       "\n",
       "    .dataframe thead th {\n",
       "        text-align: right;\n",
       "    }\n",
       "</style>\n",
       "<table border=\"1\" class=\"dataframe\">\n",
       "  <thead>\n",
       "    <tr style=\"text-align: right;\">\n",
       "      <th></th>\n",
       "      <th>VOCAB_WORD</th>\n",
       "    </tr>\n",
       "    <tr>\n",
       "      <th>WORD_ID</th>\n",
       "      <th></th>\n",
       "    </tr>\n",
       "  </thead>\n",
       "  <tbody>\n",
       "    <tr>\n",
       "      <th>0</th>\n",
       "      <td>http</td>\n",
       "    </tr>\n",
       "    <tr>\n",
       "      <th>1</th>\n",
       "      <td>use</td>\n",
       "    </tr>\n",
       "    <tr>\n",
       "      <th>2</th>\n",
       "      <td>list</td>\n",
       "    </tr>\n",
       "    <tr>\n",
       "      <th>3</th>\n",
       "      <td>email</td>\n",
       "    </tr>\n",
       "    <tr>\n",
       "      <th>4</th>\n",
       "      <td>get</td>\n",
       "    </tr>\n",
       "    <tr>\n",
       "      <th>...</th>\n",
       "      <td>...</td>\n",
       "    </tr>\n",
       "    <tr>\n",
       "      <th>2495</th>\n",
       "      <td>maxaman</td>\n",
       "    </tr>\n",
       "    <tr>\n",
       "      <th>2496</th>\n",
       "      <td>manner</td>\n",
       "    </tr>\n",
       "    <tr>\n",
       "      <th>2497</th>\n",
       "      <td>gotten</td>\n",
       "    </tr>\n",
       "    <tr>\n",
       "      <th>2498</th>\n",
       "      <td>distinct</td>\n",
       "    </tr>\n",
       "    <tr>\n",
       "      <th>2499</th>\n",
       "      <td>strateg</td>\n",
       "    </tr>\n",
       "  </tbody>\n",
       "</table>\n",
       "<p>2500 rows × 1 columns</p>\n",
       "</div>"
      ],
      "text/plain": [
       "        VOCAB_WORD\n",
       "WORD_ID           \n",
       "0             http\n",
       "1              use\n",
       "2             list\n",
       "3            email\n",
       "4              get\n",
       "...            ...\n",
       "2495       maxaman\n",
       "2496        manner\n",
       "2497        gotten\n",
       "2498      distinct\n",
       "2499       strateg\n",
       "\n",
       "[2500 rows x 1 columns]"
      ]
     },
     "execution_count": 207,
     "metadata": {},
     "output_type": "execute_result"
    }
   ],
   "source": [
    "vocab"
   ]
  },
  {
   "cell_type": "code",
   "execution_count": 208,
   "metadata": {},
   "outputs": [],
   "source": [
    "WORD_ID_FILE = 'SpamData/01_Processing/word-by-id.csv'"
   ]
  },
  {
   "cell_type": "code",
   "execution_count": 209,
   "metadata": {},
   "outputs": [],
   "source": [
    "vocab.to_csv(WORD_ID_FILE, index_label=vocab.index.name, header=vocab.VOCAB_WORD.name)"
   ]
  },
  {
   "cell_type": "code",
   "execution_count": 210,
   "metadata": {},
   "outputs": [
    {
     "data": {
      "text/plain": [
       "WORD_ID\n",
       "0       False\n",
       "1       False\n",
       "2       False\n",
       "3       False\n",
       "4       False\n",
       "        ...  \n",
       "2495    False\n",
       "2496    False\n",
       "2497    False\n",
       "2498    False\n",
       "2499    False\n",
       "Name: VOCAB_WORD, Length: 2500, dtype: bool"
      ]
     },
     "execution_count": 210,
     "metadata": {},
     "output_type": "execute_result"
    }
   ],
   "source": [
    "(vocab.VOCAB_WORD == 'machine')"
   ]
  },
  {
   "cell_type": "code",
   "execution_count": 211,
   "metadata": {},
   "outputs": [
    {
     "data": {
      "text/plain": [
       "False"
      ]
     },
     "execution_count": 211,
     "metadata": {},
     "output_type": "execute_result"
    }
   ],
   "source": [
    "any(vocab.VOCAB_WORD == 'machine')"
   ]
  },
  {
   "cell_type": "code",
   "execution_count": 212,
   "metadata": {},
   "outputs": [
    {
     "data": {
      "text/plain": [
       "True"
      ]
     },
     "execution_count": 212,
     "metadata": {},
     "output_type": "execute_result"
    }
   ],
   "source": [
    "any(vocab.VOCAB_WORD == 'http')"
   ]
  },
  {
   "cell_type": "code",
   "execution_count": 213,
   "metadata": {},
   "outputs": [
    {
     "data": {
      "text/plain": [
       "True"
      ]
     },
     "execution_count": 213,
     "metadata": {},
     "output_type": "execute_result"
    }
   ],
   "source": [
    "'fun' in set(vocab.VOCAB_WORD)"
   ]
  },
  {
   "cell_type": "code",
   "execution_count": 214,
   "metadata": {},
   "outputs": [
    {
     "data": {
      "text/plain": [
       "DOC_ID\n",
       "0       [save, life, insur, spend, life, quot, save, g...\n",
       "1       [fight, risk, cancer, http, slim, guarante, lo...\n",
       "2       [fight, risk, cancer, http, slim, guarante, lo...\n",
       "3       [adult, club, offer, free, membership, instant...\n",
       "4       [thought, might, like, slim, guarante, lose, l...\n",
       "                              ...                        \n",
       "5791    [http, bizarr, collect, stuf, anim, could, fet...\n",
       "5792    [care, use, one, also, realli, cute, thing, ja...\n",
       "5793    [sm, skip, montanaro, write, jeremi, put, anot...\n",
       "5794    [mark, hammond, like, given, zodb, sound, attr...\n",
       "5795    [hi, probabl, use, whatsoev, also, problem, re...\n",
       "Name: MESSAGE, Length: 5796, dtype: object"
      ]
     },
     "execution_count": 214,
     "metadata": {},
     "output_type": "execute_result"
    }
   ],
   "source": [
    "stemmed_nested_list"
   ]
  },
  {
   "cell_type": "code",
   "execution_count": 215,
   "metadata": {},
   "outputs": [],
   "source": [
    "# find the longest email in the stemmed_nest_list"
   ]
  },
  {
   "cell_type": "code",
   "execution_count": 216,
   "metadata": {},
   "outputs": [
    {
     "data": {
      "text/plain": [
       "7671"
      ]
     },
     "execution_count": 216,
     "metadata": {},
     "output_type": "execute_result"
    }
   ],
   "source": [
    "max(stemmed_nested_list.apply(len))"
   ]
  },
  {
   "cell_type": "code",
   "execution_count": 217,
   "metadata": {},
   "outputs": [
    {
     "data": {
      "text/plain": [
       "0"
      ]
     },
     "execution_count": 217,
     "metadata": {},
     "output_type": "execute_result"
    }
   ],
   "source": [
    "min(stemmed_nested_list.apply(len))"
   ]
  },
  {
   "cell_type": "code",
   "execution_count": 218,
   "metadata": {},
   "outputs": [
    {
     "name": "stdout",
     "output_type": "stream",
     "text": [
      "[92, 56, 44, 206, 45, 161, 47, 162, 203, 44] \n",
      "\n",
      "7671\n"
     ]
    }
   ],
   "source": [
    "# finding the length of the emails using a for loop...\n",
    "\n",
    "clean_email_lengths = []\n",
    "\n",
    "for sublist in stemmed_nested_list:\n",
    "    clean_email_lengths.append(len(sublist))\n",
    "print(clean_email_lengths[:10], '\\n')\n",
    "\n",
    "my_big_mail = max(clean_email_lengths)\n",
    "\n",
    "print(my_big_mail)"
   ]
  },
  {
   "cell_type": "code",
   "execution_count": 219,
   "metadata": {},
   "outputs": [],
   "source": [
    "# doing the same with list comprehension\n",
    "clean_email_lengths = [len(sublist) for sublist in stemmed_nested_list]"
   ]
  },
  {
   "cell_type": "code",
   "execution_count": 220,
   "metadata": {},
   "outputs": [
    {
     "name": "stdout",
     "output_type": "stream",
     "text": [
      "5796\n"
     ]
    }
   ],
   "source": [
    "print(len(clean_email_lengths))"
   ]
  },
  {
   "cell_type": "code",
   "execution_count": 221,
   "metadata": {},
   "outputs": [
    {
     "data": {
      "text/plain": [
       "7671"
      ]
     },
     "execution_count": 221,
     "metadata": {},
     "output_type": "execute_result"
    }
   ],
   "source": [
    "max(clean_email_lengths)"
   ]
  },
  {
   "cell_type": "code",
   "execution_count": 222,
   "metadata": {},
   "outputs": [
    {
     "data": {
      "text/plain": [
       "0"
      ]
     },
     "execution_count": 222,
     "metadata": {},
     "output_type": "execute_result"
    }
   ],
   "source": [
    "min(clean_email_lengths)"
   ]
  },
  {
   "cell_type": "code",
   "execution_count": 223,
   "metadata": {},
   "outputs": [],
   "source": [
    "# out of the program\n",
    "example_list = [10, 200, 50, 59, 99, 102827, 11, 0, 12020, 12, 16, 8989]"
   ]
  },
  {
   "cell_type": "code",
   "execution_count": 226,
   "metadata": {},
   "outputs": [
    {
     "name": "stdout",
     "output_type": "stream",
     "text": [
      "MAX VALUE IS AT: 5               MIN VALUE IS AT: 7\n"
     ]
    }
   ],
   "source": [
    "print('MAX VALUE IS AT:',     np.argmax(example_list), '              MIN VALUE IS AT:',     np.argmin(example_list))"
   ]
  },
  {
   "cell_type": "code",
   "execution_count": 227,
   "metadata": {},
   "outputs": [
    {
     "data": {
      "text/plain": [
       "5775"
      ]
     },
     "execution_count": 227,
     "metadata": {},
     "output_type": "execute_result"
    }
   ],
   "source": [
    "# where does the longest email lie in my dataframe???\n",
    "\n",
    "np.argmax(clean_email_lengths)"
   ]
  },
  {
   "cell_type": "code",
   "execution_count": 228,
   "metadata": {},
   "outputs": [
    {
     "data": {
      "text/html": [
       "<div>\n",
       "<style scoped>\n",
       "    .dataframe tbody tr th:only-of-type {\n",
       "        vertical-align: middle;\n",
       "    }\n",
       "\n",
       "    .dataframe tbody tr th {\n",
       "        vertical-align: top;\n",
       "    }\n",
       "\n",
       "    .dataframe thead th {\n",
       "        text-align: right;\n",
       "    }\n",
       "</style>\n",
       "<table border=\"1\" class=\"dataframe\">\n",
       "  <thead>\n",
       "    <tr style=\"text-align: right;\">\n",
       "      <th></th>\n",
       "      <th>MESSAGE</th>\n",
       "      <th>CATEGORY</th>\n",
       "      <th>FILE_NAME</th>\n",
       "    </tr>\n",
       "    <tr>\n",
       "      <th>DOC_ID</th>\n",
       "      <th></th>\n",
       "      <th></th>\n",
       "      <th></th>\n",
       "    </tr>\n",
       "  </thead>\n",
       "  <tbody>\n",
       "    <tr>\n",
       "      <th>5773</th>\n",
       "      <td>\\n\\nForwarded-by: Nev Dull &lt;nev@sleepycat.com&gt;...</td>\n",
       "      <td>0</td>\n",
       "      <td>01378.363deaa0f90db14de13a4a676703826d</td>\n",
       "    </tr>\n",
       "    <tr>\n",
       "      <th>5774</th>\n",
       "      <td>use Perl Daily Headline Mailer\\n\\n\\n\\nCall for...</td>\n",
       "      <td>0</td>\n",
       "      <td>01379.7b9367f184ed0a8c46b6c8562b86caf8</td>\n",
       "    </tr>\n",
       "    <tr>\n",
       "      <th>5775</th>\n",
       "      <td>------------------------ Yahoo! Groups Sponsor...</td>\n",
       "      <td>0</td>\n",
       "      <td>01380.e3fad5af747d3a110008f94a046bf31b</td>\n",
       "    </tr>\n",
       "    <tr>\n",
       "      <th>5776</th>\n",
       "      <td>use Perl Daily Newsletter\\n\\n\\n\\nIn this issue...</td>\n",
       "      <td>0</td>\n",
       "      <td>01381.044d1085f7fec8bb04229da3d7887424</td>\n",
       "    </tr>\n",
       "    <tr>\n",
       "      <th>5777</th>\n",
       "      <td>Hi....\\n\\n\\n\\ni installed razor an SpamAssassi...</td>\n",
       "      <td>0</td>\n",
       "      <td>01382.492cd22357b171e9cbbb2ed73f9d551f</td>\n",
       "    </tr>\n",
       "    <tr>\n",
       "      <th>5778</th>\n",
       "      <td>\\n\\n\\n\\nYea.. this isn't newsworthy...\\n\\n\\n\\n...</td>\n",
       "      <td>0</td>\n",
       "      <td>01383.d00e3ef3abf47cc520aa8162bccd3a25</td>\n",
       "    </tr>\n",
       "  </tbody>\n",
       "</table>\n",
       "</div>"
      ],
      "text/plain": [
       "                                                  MESSAGE  CATEGORY  \\\n",
       "DOC_ID                                                                \n",
       "5773    \\n\\nForwarded-by: Nev Dull <nev@sleepycat.com>...         0   \n",
       "5774    use Perl Daily Headline Mailer\\n\\n\\n\\nCall for...         0   \n",
       "5775    ------------------------ Yahoo! Groups Sponsor...         0   \n",
       "5776    use Perl Daily Newsletter\\n\\n\\n\\nIn this issue...         0   \n",
       "5777    Hi....\\n\\n\\n\\ni installed razor an SpamAssassi...         0   \n",
       "5778    \\n\\n\\n\\nYea.. this isn't newsworthy...\\n\\n\\n\\n...         0   \n",
       "\n",
       "                                     FILE_NAME  \n",
       "DOC_ID                                          \n",
       "5773    01378.363deaa0f90db14de13a4a676703826d  \n",
       "5774    01379.7b9367f184ed0a8c46b6c8562b86caf8  \n",
       "5775    01380.e3fad5af747d3a110008f94a046bf31b  \n",
       "5776    01381.044d1085f7fec8bb04229da3d7887424  \n",
       "5777    01382.492cd22357b171e9cbbb2ed73f9d551f  \n",
       "5778    01383.d00e3ef3abf47cc520aa8162bccd3a25  "
      ]
     },
     "execution_count": 228,
     "metadata": {},
     "output_type": "execute_result"
    }
   ],
   "source": [
    "data.loc[5773:5778]"
   ]
  },
  {
   "cell_type": "code",
   "execution_count": 229,
   "metadata": {},
   "outputs": [
    {
     "data": {
      "text/plain": [
       "22"
      ]
     },
     "execution_count": 229,
     "metadata": {},
     "output_type": "execute_result"
    }
   ],
   "source": [
    "# where does the smallest email lie in my dataframe???\n",
    "\n",
    "np.argmin(clean_email_lengths)"
   ]
  },
  {
   "cell_type": "code",
   "execution_count": 230,
   "metadata": {},
   "outputs": [
    {
     "data": {
      "text/html": [
       "<div>\n",
       "<style scoped>\n",
       "    .dataframe tbody tr th:only-of-type {\n",
       "        vertical-align: middle;\n",
       "    }\n",
       "\n",
       "    .dataframe tbody tr th {\n",
       "        vertical-align: top;\n",
       "    }\n",
       "\n",
       "    .dataframe thead th {\n",
       "        text-align: right;\n",
       "    }\n",
       "</style>\n",
       "<table border=\"1\" class=\"dataframe\">\n",
       "  <thead>\n",
       "    <tr style=\"text-align: right;\">\n",
       "      <th></th>\n",
       "      <th>MESSAGE</th>\n",
       "      <th>CATEGORY</th>\n",
       "      <th>FILE_NAME</th>\n",
       "    </tr>\n",
       "    <tr>\n",
       "      <th>DOC_ID</th>\n",
       "      <th></th>\n",
       "      <th></th>\n",
       "      <th></th>\n",
       "    </tr>\n",
       "  </thead>\n",
       "  <tbody>\n",
       "    <tr>\n",
       "      <th>20</th>\n",
       "      <td>CENTRAL BANK OF NIGERIA\\n\\nFOREIGN REMITTANCE ...</td>\n",
       "      <td>1</td>\n",
       "      <td>00021.effe1449462a9d7ad7af0f1c94b1a237</td>\n",
       "    </tr>\n",
       "    <tr>\n",
       "      <th>21</th>\n",
       "      <td>--===_SecAtt_000_1fheucnqggtggp\\n\\nContent-Typ...</td>\n",
       "      <td>1</td>\n",
       "      <td>00022.8203cdf03888f656dc0381701148f73d</td>\n",
       "    </tr>\n",
       "    <tr>\n",
       "      <th>22</th>\n",
       "      <td>------=_NextPart_000_00B2_83B03D1E.C6530E24\\n\\...</td>\n",
       "      <td>1</td>\n",
       "      <td>00023.b6d27c684f5fc803cfa1060adb2d0805</td>\n",
       "    </tr>\n",
       "    <tr>\n",
       "      <th>23</th>\n",
       "      <td>This is a multi-part message in MIME format.\\n...</td>\n",
       "      <td>1</td>\n",
       "      <td>00024.6b5437b14d403176c3f046c871b5b52f</td>\n",
       "    </tr>\n",
       "    <tr>\n",
       "      <th>24</th>\n",
       "      <td>&lt;HTML&gt;&lt;HEAD&gt;\\n\\n&lt;META http-equiv=3DContent-Typ...</td>\n",
       "      <td>1</td>\n",
       "      <td>00025.619ab8051359048795e3cd09e82ad1a0</td>\n",
       "    </tr>\n",
       "    <tr>\n",
       "      <th>25</th>\n",
       "      <td>DEAR FRIEND,I AM MRS.  SESE-SEKO WIDOW OF LATE...</td>\n",
       "      <td>1</td>\n",
       "      <td>00026.da18dbed27ae933172f7a70f860c6ad0</td>\n",
       "    </tr>\n",
       "  </tbody>\n",
       "</table>\n",
       "</div>"
      ],
      "text/plain": [
       "                                                  MESSAGE  CATEGORY  \\\n",
       "DOC_ID                                                                \n",
       "20      CENTRAL BANK OF NIGERIA\\n\\nFOREIGN REMITTANCE ...         1   \n",
       "21      --===_SecAtt_000_1fheucnqggtggp\\n\\nContent-Typ...         1   \n",
       "22      ------=_NextPart_000_00B2_83B03D1E.C6530E24\\n\\...         1   \n",
       "23      This is a multi-part message in MIME format.\\n...         1   \n",
       "24      <HTML><HEAD>\\n\\n<META http-equiv=3DContent-Typ...         1   \n",
       "25      DEAR FRIEND,I AM MRS.  SESE-SEKO WIDOW OF LATE...         1   \n",
       "\n",
       "                                     FILE_NAME  \n",
       "DOC_ID                                          \n",
       "20      00021.effe1449462a9d7ad7af0f1c94b1a237  \n",
       "21      00022.8203cdf03888f656dc0381701148f73d  \n",
       "22      00023.b6d27c684f5fc803cfa1060adb2d0805  \n",
       "23      00024.6b5437b14d403176c3f046c871b5b52f  \n",
       "24      00025.619ab8051359048795e3cd09e82ad1a0  \n",
       "25      00026.da18dbed27ae933172f7a70f860c6ad0  "
      ]
     },
     "execution_count": 230,
     "metadata": {},
     "output_type": "execute_result"
    }
   ],
   "source": [
    "data.loc[20:25]"
   ]
  },
  {
   "cell_type": "code",
   "execution_count": 231,
   "metadata": {},
   "outputs": [
    {
     "name": "stdout",
     "output_type": "stream",
     "text": [
      "2832\n"
     ]
    }
   ],
   "source": [
    "print(len(data.MESSAGE.loc[22]))"
   ]
  },
  {
   "cell_type": "code",
   "execution_count": 232,
   "metadata": {},
   "outputs": [],
   "source": [
    "# Generating a sparse matrix -----Compact Matrix..."
   ]
  },
  {
   "cell_type": "code",
   "execution_count": 233,
   "metadata": {},
   "outputs": [
    {
     "data": {
      "text/plain": [
       "DOC_ID\n",
       "0       [save, life, insur, spend, life, quot, save, g...\n",
       "1       [fight, risk, cancer, http, slim, guarante, lo...\n",
       "2       [fight, risk, cancer, http, slim, guarante, lo...\n",
       "3       [adult, club, offer, free, membership, instant...\n",
       "4       [thought, might, like, slim, guarante, lose, l...\n",
       "                              ...                        \n",
       "5791    [http, bizarr, collect, stuf, anim, could, fet...\n",
       "5792    [care, use, one, also, realli, cute, thing, ja...\n",
       "5793    [sm, skip, montanaro, write, jeremi, put, anot...\n",
       "5794    [mark, hammond, like, given, zodb, sound, attr...\n",
       "5795    [hi, probabl, use, whatsoev, also, problem, re...\n",
       "Name: MESSAGE, Length: 5796, dtype: object"
      ]
     },
     "execution_count": 233,
     "metadata": {},
     "output_type": "execute_result"
    }
   ],
   "source": [
    "stemmed_nested_list"
   ]
  },
  {
   "cell_type": "code",
   "execution_count": 234,
   "metadata": {},
   "outputs": [
    {
     "data": {
      "text/plain": [
       "pandas.core.series.Series"
      ]
     },
     "execution_count": 234,
     "metadata": {},
     "output_type": "execute_result"
    }
   ],
   "source": [
    "type(stemmed_nested_list)"
   ]
  },
  {
   "cell_type": "code",
   "execution_count": 235,
   "metadata": {},
   "outputs": [],
   "source": [
    "stemmed_nested_list_after_tolist=stemmed_nested_list.tolist()"
   ]
  },
  {
   "cell_type": "code",
   "execution_count": 236,
   "metadata": {},
   "outputs": [
    {
     "data": {
      "text/plain": [
       "list"
      ]
     },
     "execution_count": 236,
     "metadata": {},
     "output_type": "execute_result"
    }
   ],
   "source": [
    "type(stemmed_nested_list_after_tolist)"
   ]
  },
  {
   "cell_type": "code",
   "execution_count": 237,
   "metadata": {},
   "outputs": [],
   "source": [
    "#stemmed_nested_list_after_tolist"
   ]
  },
  {
   "cell_type": "code",
   "execution_count": 238,
   "metadata": {},
   "outputs": [
    {
     "data": {
      "text/html": [
       "<div>\n",
       "<style scoped>\n",
       "    .dataframe tbody tr th:only-of-type {\n",
       "        vertical-align: middle;\n",
       "    }\n",
       "\n",
       "    .dataframe tbody tr th {\n",
       "        vertical-align: top;\n",
       "    }\n",
       "\n",
       "    .dataframe thead th {\n",
       "        text-align: right;\n",
       "    }\n",
       "</style>\n",
       "<table border=\"1\" class=\"dataframe\">\n",
       "  <thead>\n",
       "    <tr style=\"text-align: right;\">\n",
       "      <th></th>\n",
       "      <th>0</th>\n",
       "      <th>1</th>\n",
       "      <th>2</th>\n",
       "    </tr>\n",
       "  </thead>\n",
       "  <tbody>\n",
       "    <tr>\n",
       "      <th>0</th>\n",
       "      <td>Apple</td>\n",
       "      <td>Orange</td>\n",
       "      <td>Apricot</td>\n",
       "    </tr>\n",
       "    <tr>\n",
       "      <th>1</th>\n",
       "      <td>Brinjal</td>\n",
       "      <td>Beans</td>\n",
       "      <td>cabbage</td>\n",
       "    </tr>\n",
       "  </tbody>\n",
       "</table>\n",
       "</div>"
      ],
      "text/plain": [
       "         0       1        2\n",
       "0    Apple  Orange  Apricot\n",
       "1  Brinjal   Beans  cabbage"
      ]
     },
     "execution_count": 238,
     "metadata": {},
     "output_type": "execute_result"
    }
   ],
   "source": [
    "# Example not in the program....outside\n",
    "# Making a DF from a nested list...\n",
    "example_nested_list = [['Apple', 'Orange', 'Apricot'],['Brinjal', 'Beans','cabbage'] ]\n",
    "example_nested_list_df = pd.DataFrame.from_records(example_nested_list)\n",
    "example_nested_list_df"
   ]
  },
  {
   "cell_type": "code",
   "execution_count": 239,
   "metadata": {},
   "outputs": [
    {
     "data": {
      "text/html": [
       "<div>\n",
       "<style scoped>\n",
       "    .dataframe tbody tr th:only-of-type {\n",
       "        vertical-align: middle;\n",
       "    }\n",
       "\n",
       "    .dataframe tbody tr th {\n",
       "        vertical-align: top;\n",
       "    }\n",
       "\n",
       "    .dataframe thead th {\n",
       "        text-align: right;\n",
       "    }\n",
       "</style>\n",
       "<table border=\"1\" class=\"dataframe\">\n",
       "  <thead>\n",
       "    <tr style=\"text-align: right;\">\n",
       "      <th></th>\n",
       "      <th>0</th>\n",
       "      <th>1</th>\n",
       "      <th>2</th>\n",
       "      <th>3</th>\n",
       "      <th>4</th>\n",
       "      <th>5</th>\n",
       "      <th>6</th>\n",
       "      <th>7</th>\n",
       "      <th>8</th>\n",
       "      <th>9</th>\n",
       "      <th>...</th>\n",
       "      <th>7661</th>\n",
       "      <th>7662</th>\n",
       "      <th>7663</th>\n",
       "      <th>7664</th>\n",
       "      <th>7665</th>\n",
       "      <th>7666</th>\n",
       "      <th>7667</th>\n",
       "      <th>7668</th>\n",
       "      <th>7669</th>\n",
       "      <th>7670</th>\n",
       "    </tr>\n",
       "  </thead>\n",
       "  <tbody>\n",
       "    <tr>\n",
       "      <th>0</th>\n",
       "      <td>save</td>\n",
       "      <td>life</td>\n",
       "      <td>insur</td>\n",
       "      <td>spend</td>\n",
       "      <td>life</td>\n",
       "      <td>quot</td>\n",
       "      <td>save</td>\n",
       "      <td>g</td>\n",
       "      <td>famili</td>\n",
       "      <td>financi</td>\n",
       "      <td>...</td>\n",
       "      <td>None</td>\n",
       "      <td>None</td>\n",
       "      <td>None</td>\n",
       "      <td>None</td>\n",
       "      <td>None</td>\n",
       "      <td>None</td>\n",
       "      <td>None</td>\n",
       "      <td>None</td>\n",
       "      <td>None</td>\n",
       "      <td>None</td>\n",
       "    </tr>\n",
       "    <tr>\n",
       "      <th>1</th>\n",
       "      <td>fight</td>\n",
       "      <td>risk</td>\n",
       "      <td>cancer</td>\n",
       "      <td>http</td>\n",
       "      <td>slim</td>\n",
       "      <td>guarante</td>\n",
       "      <td>lose</td>\n",
       "      <td>lb</td>\n",
       "      <td>day</td>\n",
       "      <td>http</td>\n",
       "      <td>...</td>\n",
       "      <td>None</td>\n",
       "      <td>None</td>\n",
       "      <td>None</td>\n",
       "      <td>None</td>\n",
       "      <td>None</td>\n",
       "      <td>None</td>\n",
       "      <td>None</td>\n",
       "      <td>None</td>\n",
       "      <td>None</td>\n",
       "      <td>None</td>\n",
       "    </tr>\n",
       "    <tr>\n",
       "      <th>2</th>\n",
       "      <td>fight</td>\n",
       "      <td>risk</td>\n",
       "      <td>cancer</td>\n",
       "      <td>http</td>\n",
       "      <td>slim</td>\n",
       "      <td>guarante</td>\n",
       "      <td>lose</td>\n",
       "      <td>lb</td>\n",
       "      <td>day</td>\n",
       "      <td>http</td>\n",
       "      <td>...</td>\n",
       "      <td>None</td>\n",
       "      <td>None</td>\n",
       "      <td>None</td>\n",
       "      <td>None</td>\n",
       "      <td>None</td>\n",
       "      <td>None</td>\n",
       "      <td>None</td>\n",
       "      <td>None</td>\n",
       "      <td>None</td>\n",
       "      <td>None</td>\n",
       "    </tr>\n",
       "    <tr>\n",
       "      <th>3</th>\n",
       "      <td>adult</td>\n",
       "      <td>club</td>\n",
       "      <td>offer</td>\n",
       "      <td>free</td>\n",
       "      <td>membership</td>\n",
       "      <td>instant</td>\n",
       "      <td>access</td>\n",
       "      <td>site</td>\n",
       "      <td>user</td>\n",
       "      <td>name</td>\n",
       "      <td>...</td>\n",
       "      <td>None</td>\n",
       "      <td>None</td>\n",
       "      <td>None</td>\n",
       "      <td>None</td>\n",
       "      <td>None</td>\n",
       "      <td>None</td>\n",
       "      <td>None</td>\n",
       "      <td>None</td>\n",
       "      <td>None</td>\n",
       "      <td>None</td>\n",
       "    </tr>\n",
       "    <tr>\n",
       "      <th>4</th>\n",
       "      <td>thought</td>\n",
       "      <td>might</td>\n",
       "      <td>like</td>\n",
       "      <td>slim</td>\n",
       "      <td>guarante</td>\n",
       "      <td>lose</td>\n",
       "      <td>lb</td>\n",
       "      <td>day</td>\n",
       "      <td>http</td>\n",
       "      <td>fight</td>\n",
       "      <td>...</td>\n",
       "      <td>None</td>\n",
       "      <td>None</td>\n",
       "      <td>None</td>\n",
       "      <td>None</td>\n",
       "      <td>None</td>\n",
       "      <td>None</td>\n",
       "      <td>None</td>\n",
       "      <td>None</td>\n",
       "      <td>None</td>\n",
       "      <td>None</td>\n",
       "    </tr>\n",
       "    <tr>\n",
       "      <th>...</th>\n",
       "      <td>...</td>\n",
       "      <td>...</td>\n",
       "      <td>...</td>\n",
       "      <td>...</td>\n",
       "      <td>...</td>\n",
       "      <td>...</td>\n",
       "      <td>...</td>\n",
       "      <td>...</td>\n",
       "      <td>...</td>\n",
       "      <td>...</td>\n",
       "      <td>...</td>\n",
       "      <td>...</td>\n",
       "      <td>...</td>\n",
       "      <td>...</td>\n",
       "      <td>...</td>\n",
       "      <td>...</td>\n",
       "      <td>...</td>\n",
       "      <td>...</td>\n",
       "      <td>...</td>\n",
       "      <td>...</td>\n",
       "      <td>...</td>\n",
       "    </tr>\n",
       "    <tr>\n",
       "      <th>5791</th>\n",
       "      <td>http</td>\n",
       "      <td>bizarr</td>\n",
       "      <td>collect</td>\n",
       "      <td>stuf</td>\n",
       "      <td>anim</td>\n",
       "      <td>could</td>\n",
       "      <td>fetch</td>\n",
       "      <td>sold</td>\n",
       "      <td>cornwal</td>\n",
       "      <td>museum</td>\n",
       "      <td>...</td>\n",
       "      <td>None</td>\n",
       "      <td>None</td>\n",
       "      <td>None</td>\n",
       "      <td>None</td>\n",
       "      <td>None</td>\n",
       "      <td>None</td>\n",
       "      <td>None</td>\n",
       "      <td>None</td>\n",
       "      <td>None</td>\n",
       "      <td>None</td>\n",
       "    </tr>\n",
       "    <tr>\n",
       "      <th>5792</th>\n",
       "      <td>care</td>\n",
       "      <td>use</td>\n",
       "      <td>one</td>\n",
       "      <td>also</td>\n",
       "      <td>realli</td>\n",
       "      <td>cute</td>\n",
       "      <td>thing</td>\n",
       "      <td>japanes</td>\n",
       "      <td>av</td>\n",
       "      <td>girl</td>\n",
       "      <td>...</td>\n",
       "      <td>None</td>\n",
       "      <td>None</td>\n",
       "      <td>None</td>\n",
       "      <td>None</td>\n",
       "      <td>None</td>\n",
       "      <td>None</td>\n",
       "      <td>None</td>\n",
       "      <td>None</td>\n",
       "      <td>None</td>\n",
       "      <td>None</td>\n",
       "    </tr>\n",
       "    <tr>\n",
       "      <th>5793</th>\n",
       "      <td>sm</td>\n",
       "      <td>skip</td>\n",
       "      <td>montanaro</td>\n",
       "      <td>write</td>\n",
       "      <td>jeremi</td>\n",
       "      <td>put</td>\n",
       "      <td>anoth</td>\n",
       "      <td>way</td>\n",
       "      <td>interest</td>\n",
       "      <td>hear</td>\n",
       "      <td>...</td>\n",
       "      <td>None</td>\n",
       "      <td>None</td>\n",
       "      <td>None</td>\n",
       "      <td>None</td>\n",
       "      <td>None</td>\n",
       "      <td>None</td>\n",
       "      <td>None</td>\n",
       "      <td>None</td>\n",
       "      <td>None</td>\n",
       "      <td>None</td>\n",
       "    </tr>\n",
       "    <tr>\n",
       "      <th>5794</th>\n",
       "      <td>mark</td>\n",
       "      <td>hammond</td>\n",
       "      <td>like</td>\n",
       "      <td>given</td>\n",
       "      <td>zodb</td>\n",
       "      <td>sound</td>\n",
       "      <td>attract</td>\n",
       "      <td>would</td>\n",
       "      <td>packag</td>\n",
       "      <td>hundr</td>\n",
       "      <td>...</td>\n",
       "      <td>None</td>\n",
       "      <td>None</td>\n",
       "      <td>None</td>\n",
       "      <td>None</td>\n",
       "      <td>None</td>\n",
       "      <td>None</td>\n",
       "      <td>None</td>\n",
       "      <td>None</td>\n",
       "      <td>None</td>\n",
       "      <td>None</td>\n",
       "    </tr>\n",
       "    <tr>\n",
       "      <th>5795</th>\n",
       "      <td>hi</td>\n",
       "      <td>probabl</td>\n",
       "      <td>use</td>\n",
       "      <td>whatsoev</td>\n",
       "      <td>also</td>\n",
       "      <td>problem</td>\n",
       "      <td>regard</td>\n",
       "      <td>nvidia</td>\n",
       "      <td>two</td>\n",
       "      <td>machin</td>\n",
       "      <td>...</td>\n",
       "      <td>None</td>\n",
       "      <td>None</td>\n",
       "      <td>None</td>\n",
       "      <td>None</td>\n",
       "      <td>None</td>\n",
       "      <td>None</td>\n",
       "      <td>None</td>\n",
       "      <td>None</td>\n",
       "      <td>None</td>\n",
       "      <td>None</td>\n",
       "    </tr>\n",
       "  </tbody>\n",
       "</table>\n",
       "<p>5796 rows × 7671 columns</p>\n",
       "</div>"
      ],
      "text/plain": [
       "         0        1          2         3           4         5        6     \\\n",
       "0        save     life      insur     spend        life      quot     save   \n",
       "1       fight     risk     cancer      http        slim  guarante     lose   \n",
       "2       fight     risk     cancer      http        slim  guarante     lose   \n",
       "3       adult     club      offer      free  membership   instant   access   \n",
       "4     thought    might       like      slim    guarante      lose       lb   \n",
       "...       ...      ...        ...       ...         ...       ...      ...   \n",
       "5791     http   bizarr    collect      stuf        anim     could    fetch   \n",
       "5792     care      use        one      also      realli      cute    thing   \n",
       "5793       sm     skip  montanaro     write      jeremi       put    anoth   \n",
       "5794     mark  hammond       like     given        zodb     sound  attract   \n",
       "5795       hi  probabl        use  whatsoev        also   problem   regard   \n",
       "\n",
       "         7         8        9     ...  7661  7662  7663  7664  7665  7666  \\\n",
       "0           g    famili  financi  ...  None  None  None  None  None  None   \n",
       "1          lb       day     http  ...  None  None  None  None  None  None   \n",
       "2          lb       day     http  ...  None  None  None  None  None  None   \n",
       "3        site      user     name  ...  None  None  None  None  None  None   \n",
       "4         day      http    fight  ...  None  None  None  None  None  None   \n",
       "...       ...       ...      ...  ...   ...   ...   ...   ...   ...   ...   \n",
       "5791     sold   cornwal   museum  ...  None  None  None  None  None  None   \n",
       "5792  japanes        av     girl  ...  None  None  None  None  None  None   \n",
       "5793      way  interest     hear  ...  None  None  None  None  None  None   \n",
       "5794    would    packag    hundr  ...  None  None  None  None  None  None   \n",
       "5795   nvidia       two   machin  ...  None  None  None  None  None  None   \n",
       "\n",
       "      7667  7668  7669  7670  \n",
       "0     None  None  None  None  \n",
       "1     None  None  None  None  \n",
       "2     None  None  None  None  \n",
       "3     None  None  None  None  \n",
       "4     None  None  None  None  \n",
       "...    ...   ...   ...   ...  \n",
       "5791  None  None  None  None  \n",
       "5792  None  None  None  None  \n",
       "5793  None  None  None  None  \n",
       "5794  None  None  None  None  \n",
       "5795  None  None  None  None  \n",
       "\n",
       "[5796 rows x 7671 columns]"
      ]
     },
     "execution_count": 239,
     "metadata": {},
     "output_type": "execute_result"
    }
   ],
   "source": [
    "word_columns_df_1 = pd.DataFrame.from_records(stemmed_nested_list)\n",
    "word_columns_df_1"
   ]
  },
  {
   "cell_type": "code",
   "execution_count": 240,
   "metadata": {},
   "outputs": [
    {
     "data": {
      "text/html": [
       "<div>\n",
       "<style scoped>\n",
       "    .dataframe tbody tr th:only-of-type {\n",
       "        vertical-align: middle;\n",
       "    }\n",
       "\n",
       "    .dataframe tbody tr th {\n",
       "        vertical-align: top;\n",
       "    }\n",
       "\n",
       "    .dataframe thead th {\n",
       "        text-align: right;\n",
       "    }\n",
       "</style>\n",
       "<table border=\"1\" class=\"dataframe\">\n",
       "  <thead>\n",
       "    <tr style=\"text-align: right;\">\n",
       "      <th></th>\n",
       "      <th>0</th>\n",
       "      <th>1</th>\n",
       "      <th>2</th>\n",
       "      <th>3</th>\n",
       "      <th>4</th>\n",
       "      <th>5</th>\n",
       "      <th>6</th>\n",
       "      <th>7</th>\n",
       "      <th>8</th>\n",
       "      <th>9</th>\n",
       "      <th>...</th>\n",
       "      <th>7661</th>\n",
       "      <th>7662</th>\n",
       "      <th>7663</th>\n",
       "      <th>7664</th>\n",
       "      <th>7665</th>\n",
       "      <th>7666</th>\n",
       "      <th>7667</th>\n",
       "      <th>7668</th>\n",
       "      <th>7669</th>\n",
       "      <th>7670</th>\n",
       "    </tr>\n",
       "  </thead>\n",
       "  <tbody>\n",
       "    <tr>\n",
       "      <th>0</th>\n",
       "      <td>save</td>\n",
       "      <td>life</td>\n",
       "      <td>insur</td>\n",
       "      <td>spend</td>\n",
       "      <td>life</td>\n",
       "      <td>quot</td>\n",
       "      <td>save</td>\n",
       "      <td>g</td>\n",
       "      <td>famili</td>\n",
       "      <td>financi</td>\n",
       "      <td>...</td>\n",
       "      <td>None</td>\n",
       "      <td>None</td>\n",
       "      <td>None</td>\n",
       "      <td>None</td>\n",
       "      <td>None</td>\n",
       "      <td>None</td>\n",
       "      <td>None</td>\n",
       "      <td>None</td>\n",
       "      <td>None</td>\n",
       "      <td>None</td>\n",
       "    </tr>\n",
       "    <tr>\n",
       "      <th>1</th>\n",
       "      <td>fight</td>\n",
       "      <td>risk</td>\n",
       "      <td>cancer</td>\n",
       "      <td>http</td>\n",
       "      <td>slim</td>\n",
       "      <td>guarante</td>\n",
       "      <td>lose</td>\n",
       "      <td>lb</td>\n",
       "      <td>day</td>\n",
       "      <td>http</td>\n",
       "      <td>...</td>\n",
       "      <td>None</td>\n",
       "      <td>None</td>\n",
       "      <td>None</td>\n",
       "      <td>None</td>\n",
       "      <td>None</td>\n",
       "      <td>None</td>\n",
       "      <td>None</td>\n",
       "      <td>None</td>\n",
       "      <td>None</td>\n",
       "      <td>None</td>\n",
       "    </tr>\n",
       "    <tr>\n",
       "      <th>2</th>\n",
       "      <td>fight</td>\n",
       "      <td>risk</td>\n",
       "      <td>cancer</td>\n",
       "      <td>http</td>\n",
       "      <td>slim</td>\n",
       "      <td>guarante</td>\n",
       "      <td>lose</td>\n",
       "      <td>lb</td>\n",
       "      <td>day</td>\n",
       "      <td>http</td>\n",
       "      <td>...</td>\n",
       "      <td>None</td>\n",
       "      <td>None</td>\n",
       "      <td>None</td>\n",
       "      <td>None</td>\n",
       "      <td>None</td>\n",
       "      <td>None</td>\n",
       "      <td>None</td>\n",
       "      <td>None</td>\n",
       "      <td>None</td>\n",
       "      <td>None</td>\n",
       "    </tr>\n",
       "    <tr>\n",
       "      <th>3</th>\n",
       "      <td>adult</td>\n",
       "      <td>club</td>\n",
       "      <td>offer</td>\n",
       "      <td>free</td>\n",
       "      <td>membership</td>\n",
       "      <td>instant</td>\n",
       "      <td>access</td>\n",
       "      <td>site</td>\n",
       "      <td>user</td>\n",
       "      <td>name</td>\n",
       "      <td>...</td>\n",
       "      <td>None</td>\n",
       "      <td>None</td>\n",
       "      <td>None</td>\n",
       "      <td>None</td>\n",
       "      <td>None</td>\n",
       "      <td>None</td>\n",
       "      <td>None</td>\n",
       "      <td>None</td>\n",
       "      <td>None</td>\n",
       "      <td>None</td>\n",
       "    </tr>\n",
       "    <tr>\n",
       "      <th>4</th>\n",
       "      <td>thought</td>\n",
       "      <td>might</td>\n",
       "      <td>like</td>\n",
       "      <td>slim</td>\n",
       "      <td>guarante</td>\n",
       "      <td>lose</td>\n",
       "      <td>lb</td>\n",
       "      <td>day</td>\n",
       "      <td>http</td>\n",
       "      <td>fight</td>\n",
       "      <td>...</td>\n",
       "      <td>None</td>\n",
       "      <td>None</td>\n",
       "      <td>None</td>\n",
       "      <td>None</td>\n",
       "      <td>None</td>\n",
       "      <td>None</td>\n",
       "      <td>None</td>\n",
       "      <td>None</td>\n",
       "      <td>None</td>\n",
       "      <td>None</td>\n",
       "    </tr>\n",
       "    <tr>\n",
       "      <th>...</th>\n",
       "      <td>...</td>\n",
       "      <td>...</td>\n",
       "      <td>...</td>\n",
       "      <td>...</td>\n",
       "      <td>...</td>\n",
       "      <td>...</td>\n",
       "      <td>...</td>\n",
       "      <td>...</td>\n",
       "      <td>...</td>\n",
       "      <td>...</td>\n",
       "      <td>...</td>\n",
       "      <td>...</td>\n",
       "      <td>...</td>\n",
       "      <td>...</td>\n",
       "      <td>...</td>\n",
       "      <td>...</td>\n",
       "      <td>...</td>\n",
       "      <td>...</td>\n",
       "      <td>...</td>\n",
       "      <td>...</td>\n",
       "      <td>...</td>\n",
       "    </tr>\n",
       "    <tr>\n",
       "      <th>5791</th>\n",
       "      <td>http</td>\n",
       "      <td>bizarr</td>\n",
       "      <td>collect</td>\n",
       "      <td>stuf</td>\n",
       "      <td>anim</td>\n",
       "      <td>could</td>\n",
       "      <td>fetch</td>\n",
       "      <td>sold</td>\n",
       "      <td>cornwal</td>\n",
       "      <td>museum</td>\n",
       "      <td>...</td>\n",
       "      <td>None</td>\n",
       "      <td>None</td>\n",
       "      <td>None</td>\n",
       "      <td>None</td>\n",
       "      <td>None</td>\n",
       "      <td>None</td>\n",
       "      <td>None</td>\n",
       "      <td>None</td>\n",
       "      <td>None</td>\n",
       "      <td>None</td>\n",
       "    </tr>\n",
       "    <tr>\n",
       "      <th>5792</th>\n",
       "      <td>care</td>\n",
       "      <td>use</td>\n",
       "      <td>one</td>\n",
       "      <td>also</td>\n",
       "      <td>realli</td>\n",
       "      <td>cute</td>\n",
       "      <td>thing</td>\n",
       "      <td>japanes</td>\n",
       "      <td>av</td>\n",
       "      <td>girl</td>\n",
       "      <td>...</td>\n",
       "      <td>None</td>\n",
       "      <td>None</td>\n",
       "      <td>None</td>\n",
       "      <td>None</td>\n",
       "      <td>None</td>\n",
       "      <td>None</td>\n",
       "      <td>None</td>\n",
       "      <td>None</td>\n",
       "      <td>None</td>\n",
       "      <td>None</td>\n",
       "    </tr>\n",
       "    <tr>\n",
       "      <th>5793</th>\n",
       "      <td>sm</td>\n",
       "      <td>skip</td>\n",
       "      <td>montanaro</td>\n",
       "      <td>write</td>\n",
       "      <td>jeremi</td>\n",
       "      <td>put</td>\n",
       "      <td>anoth</td>\n",
       "      <td>way</td>\n",
       "      <td>interest</td>\n",
       "      <td>hear</td>\n",
       "      <td>...</td>\n",
       "      <td>None</td>\n",
       "      <td>None</td>\n",
       "      <td>None</td>\n",
       "      <td>None</td>\n",
       "      <td>None</td>\n",
       "      <td>None</td>\n",
       "      <td>None</td>\n",
       "      <td>None</td>\n",
       "      <td>None</td>\n",
       "      <td>None</td>\n",
       "    </tr>\n",
       "    <tr>\n",
       "      <th>5794</th>\n",
       "      <td>mark</td>\n",
       "      <td>hammond</td>\n",
       "      <td>like</td>\n",
       "      <td>given</td>\n",
       "      <td>zodb</td>\n",
       "      <td>sound</td>\n",
       "      <td>attract</td>\n",
       "      <td>would</td>\n",
       "      <td>packag</td>\n",
       "      <td>hundr</td>\n",
       "      <td>...</td>\n",
       "      <td>None</td>\n",
       "      <td>None</td>\n",
       "      <td>None</td>\n",
       "      <td>None</td>\n",
       "      <td>None</td>\n",
       "      <td>None</td>\n",
       "      <td>None</td>\n",
       "      <td>None</td>\n",
       "      <td>None</td>\n",
       "      <td>None</td>\n",
       "    </tr>\n",
       "    <tr>\n",
       "      <th>5795</th>\n",
       "      <td>hi</td>\n",
       "      <td>probabl</td>\n",
       "      <td>use</td>\n",
       "      <td>whatsoev</td>\n",
       "      <td>also</td>\n",
       "      <td>problem</td>\n",
       "      <td>regard</td>\n",
       "      <td>nvidia</td>\n",
       "      <td>two</td>\n",
       "      <td>machin</td>\n",
       "      <td>...</td>\n",
       "      <td>None</td>\n",
       "      <td>None</td>\n",
       "      <td>None</td>\n",
       "      <td>None</td>\n",
       "      <td>None</td>\n",
       "      <td>None</td>\n",
       "      <td>None</td>\n",
       "      <td>None</td>\n",
       "      <td>None</td>\n",
       "      <td>None</td>\n",
       "    </tr>\n",
       "  </tbody>\n",
       "</table>\n",
       "<p>5796 rows × 7671 columns</p>\n",
       "</div>"
      ],
      "text/plain": [
       "         0        1          2         3           4         5        6     \\\n",
       "0        save     life      insur     spend        life      quot     save   \n",
       "1       fight     risk     cancer      http        slim  guarante     lose   \n",
       "2       fight     risk     cancer      http        slim  guarante     lose   \n",
       "3       adult     club      offer      free  membership   instant   access   \n",
       "4     thought    might       like      slim    guarante      lose       lb   \n",
       "...       ...      ...        ...       ...         ...       ...      ...   \n",
       "5791     http   bizarr    collect      stuf        anim     could    fetch   \n",
       "5792     care      use        one      also      realli      cute    thing   \n",
       "5793       sm     skip  montanaro     write      jeremi       put    anoth   \n",
       "5794     mark  hammond       like     given        zodb     sound  attract   \n",
       "5795       hi  probabl        use  whatsoev        also   problem   regard   \n",
       "\n",
       "         7         8        9     ...  7661  7662  7663  7664  7665  7666  \\\n",
       "0           g    famili  financi  ...  None  None  None  None  None  None   \n",
       "1          lb       day     http  ...  None  None  None  None  None  None   \n",
       "2          lb       day     http  ...  None  None  None  None  None  None   \n",
       "3        site      user     name  ...  None  None  None  None  None  None   \n",
       "4         day      http    fight  ...  None  None  None  None  None  None   \n",
       "...       ...       ...      ...  ...   ...   ...   ...   ...   ...   ...   \n",
       "5791     sold   cornwal   museum  ...  None  None  None  None  None  None   \n",
       "5792  japanes        av     girl  ...  None  None  None  None  None  None   \n",
       "5793      way  interest     hear  ...  None  None  None  None  None  None   \n",
       "5794    would    packag    hundr  ...  None  None  None  None  None  None   \n",
       "5795   nvidia       two   machin  ...  None  None  None  None  None  None   \n",
       "\n",
       "      7667  7668  7669  7670  \n",
       "0     None  None  None  None  \n",
       "1     None  None  None  None  \n",
       "2     None  None  None  None  \n",
       "3     None  None  None  None  \n",
       "4     None  None  None  None  \n",
       "...    ...   ...   ...   ...  \n",
       "5791  None  None  None  None  \n",
       "5792  None  None  None  None  \n",
       "5793  None  None  None  None  \n",
       "5794  None  None  None  None  \n",
       "5795  None  None  None  None  \n",
       "\n",
       "[5796 rows x 7671 columns]"
      ]
     },
     "execution_count": 240,
     "metadata": {},
     "output_type": "execute_result"
    }
   ],
   "source": [
    "word_columns_df = pd.DataFrame.from_records(stemmed_nested_list_after_tolist)\n",
    "word_columns_df "
   ]
  },
  {
   "cell_type": "code",
   "execution_count": 241,
   "metadata": {},
   "outputs": [
    {
     "data": {
      "text/plain": [
       "(5796, 7671)"
      ]
     },
     "execution_count": 241,
     "metadata": {},
     "output_type": "execute_result"
    }
   ],
   "source": [
    "word_columns_df.shape"
   ]
  },
  {
   "cell_type": "code",
   "execution_count": 242,
   "metadata": {},
   "outputs": [],
   "source": [
    "from sklearn.model_selection import train_test_split"
   ]
  },
  {
   "cell_type": "code",
   "execution_count": 243,
   "metadata": {},
   "outputs": [],
   "source": [
    "X_train, X_test, y_train, y_test = train_test_split(word_columns_df, data.CATEGORY,\n",
    "                                                   test_size=0.3, random_state=42)"
   ]
  },
  {
   "cell_type": "code",
   "execution_count": 244,
   "metadata": {},
   "outputs": [
    {
     "data": {
      "text/plain": [
       "4057"
      ]
     },
     "execution_count": 244,
     "metadata": {},
     "output_type": "execute_result"
    }
   ],
   "source": [
    "X_train.shape[0]"
   ]
  },
  {
   "cell_type": "code",
   "execution_count": 245,
   "metadata": {},
   "outputs": [
    {
     "data": {
      "text/plain": [
       "0.6999654934437544"
      ]
     },
     "execution_count": 245,
     "metadata": {},
     "output_type": "execute_result"
    }
   ],
   "source": [
    "X_train.shape[0]/word_columns_df.shape[0]"
   ]
  },
  {
   "cell_type": "code",
   "execution_count": 246,
   "metadata": {},
   "outputs": [
    {
     "data": {
      "text/html": [
       "<div>\n",
       "<style scoped>\n",
       "    .dataframe tbody tr th:only-of-type {\n",
       "        vertical-align: middle;\n",
       "    }\n",
       "\n",
       "    .dataframe tbody tr th {\n",
       "        vertical-align: top;\n",
       "    }\n",
       "\n",
       "    .dataframe thead th {\n",
       "        text-align: right;\n",
       "    }\n",
       "</style>\n",
       "<table border=\"1\" class=\"dataframe\">\n",
       "  <thead>\n",
       "    <tr style=\"text-align: right;\">\n",
       "      <th></th>\n",
       "      <th>0</th>\n",
       "      <th>1</th>\n",
       "      <th>2</th>\n",
       "      <th>3</th>\n",
       "      <th>4</th>\n",
       "      <th>5</th>\n",
       "      <th>6</th>\n",
       "      <th>7</th>\n",
       "      <th>8</th>\n",
       "      <th>9</th>\n",
       "      <th>...</th>\n",
       "      <th>7661</th>\n",
       "      <th>7662</th>\n",
       "      <th>7663</th>\n",
       "      <th>7664</th>\n",
       "      <th>7665</th>\n",
       "      <th>7666</th>\n",
       "      <th>7667</th>\n",
       "      <th>7668</th>\n",
       "      <th>7669</th>\n",
       "      <th>7670</th>\n",
       "    </tr>\n",
       "  </thead>\n",
       "  <tbody>\n",
       "    <tr>\n",
       "      <th>4844</th>\n",
       "      <td>ye</td>\n",
       "      <td>inde</td>\n",
       "      <td>agent</td>\n",
       "      <td>directori</td>\n",
       "      <td>verita</td>\n",
       "      <td>cd</td>\n",
       "      <td>unix</td>\n",
       "      <td>subdirectori</td>\n",
       "      <td>file</td>\n",
       "      <td>call</td>\n",
       "      <td>...</td>\n",
       "      <td>None</td>\n",
       "      <td>None</td>\n",
       "      <td>None</td>\n",
       "      <td>None</td>\n",
       "      <td>None</td>\n",
       "      <td>None</td>\n",
       "      <td>None</td>\n",
       "      <td>None</td>\n",
       "      <td>None</td>\n",
       "      <td>None</td>\n",
       "    </tr>\n",
       "    <tr>\n",
       "      <th>4727</th>\n",
       "      <td>problem</td>\n",
       "      <td>come</td>\n",
       "      <td>tri</td>\n",
       "      <td>instal</td>\n",
       "      <td>harddissssk</td>\n",
       "      <td>like</td>\n",
       "      <td>alreadi</td>\n",
       "      <td>mount</td>\n",
       "      <td>http</td>\n",
       "      <td>yahoo</td>\n",
       "      <td>...</td>\n",
       "      <td>None</td>\n",
       "      <td>None</td>\n",
       "      <td>None</td>\n",
       "      <td>None</td>\n",
       "      <td>None</td>\n",
       "      <td>None</td>\n",
       "      <td>None</td>\n",
       "      <td>None</td>\n",
       "      <td>None</td>\n",
       "      <td>None</td>\n",
       "    </tr>\n",
       "    <tr>\n",
       "      <th>5022</th>\n",
       "      <td>origin</td>\n",
       "      <td>messag</td>\n",
       "      <td>date</td>\n",
       "      <td>mon</td>\n",
       "      <td>aug</td>\n",
       "      <td>chad</td>\n",
       "      <td>norwood</td>\n",
       "      <td>sven</td>\n",
       "      <td>cc</td>\n",
       "      <td>subject</td>\n",
       "      <td>...</td>\n",
       "      <td>None</td>\n",
       "      <td>None</td>\n",
       "      <td>None</td>\n",
       "      <td>None</td>\n",
       "      <td>None</td>\n",
       "      <td>None</td>\n",
       "      <td>None</td>\n",
       "      <td>None</td>\n",
       "      <td>None</td>\n",
       "      <td>None</td>\n",
       "    </tr>\n",
       "    <tr>\n",
       "      <th>3504</th>\n",
       "      <td>inlin</td>\n",
       "      <td>folk</td>\n",
       "      <td>sever</td>\n",
       "      <td>major</td>\n",
       "      <td>internet</td>\n",
       "      <td>outag</td>\n",
       "      <td>morn</td>\n",
       "      <td>across</td>\n",
       "      <td>major</td>\n",
       "      <td>provid</td>\n",
       "      <td>...</td>\n",
       "      <td>None</td>\n",
       "      <td>None</td>\n",
       "      <td>None</td>\n",
       "      <td>None</td>\n",
       "      <td>None</td>\n",
       "      <td>None</td>\n",
       "      <td>None</td>\n",
       "      <td>None</td>\n",
       "      <td>None</td>\n",
       "      <td>None</td>\n",
       "    </tr>\n",
       "    <tr>\n",
       "      <th>3921</th>\n",
       "      <td>url</td>\n",
       "      <td>http</td>\n",
       "      <td>date</td>\n",
       "      <td>bath</td>\n",
       "      <td>chronicl</td>\n",
       "      <td>None</td>\n",
       "      <td>None</td>\n",
       "      <td>None</td>\n",
       "      <td>None</td>\n",
       "      <td>None</td>\n",
       "      <td>...</td>\n",
       "      <td>None</td>\n",
       "      <td>None</td>\n",
       "      <td>None</td>\n",
       "      <td>None</td>\n",
       "      <td>None</td>\n",
       "      <td>None</td>\n",
       "      <td>None</td>\n",
       "      <td>None</td>\n",
       "      <td>None</td>\n",
       "      <td>None</td>\n",
       "    </tr>\n",
       "  </tbody>\n",
       "</table>\n",
       "<p>5 rows × 7671 columns</p>\n",
       "</div>"
      ],
      "text/plain": [
       "         0       1      2          3            4      5        6     \\\n",
       "4844       ye    inde  agent  directori       verita     cd     unix   \n",
       "4727  problem    come    tri     instal  harddissssk   like  alreadi   \n",
       "5022   origin  messag   date        mon          aug   chad  norwood   \n",
       "3504    inlin    folk  sever      major     internet  outag     morn   \n",
       "3921      url    http   date       bath     chronicl   None     None   \n",
       "\n",
       "              7      8        9     ...  7661  7662  7663  7664  7665  7666  \\\n",
       "4844  subdirectori   file     call  ...  None  None  None  None  None  None   \n",
       "4727         mount   http    yahoo  ...  None  None  None  None  None  None   \n",
       "5022          sven     cc  subject  ...  None  None  None  None  None  None   \n",
       "3504        across  major   provid  ...  None  None  None  None  None  None   \n",
       "3921          None   None     None  ...  None  None  None  None  None  None   \n",
       "\n",
       "      7667  7668  7669  7670  \n",
       "4844  None  None  None  None  \n",
       "4727  None  None  None  None  \n",
       "5022  None  None  None  None  \n",
       "3504  None  None  None  None  \n",
       "3921  None  None  None  None  \n",
       "\n",
       "[5 rows x 7671 columns]"
      ]
     },
     "execution_count": 246,
     "metadata": {},
     "output_type": "execute_result"
    }
   ],
   "source": [
    "X_train.head()"
   ]
  },
  {
   "cell_type": "code",
   "execution_count": 247,
   "metadata": {},
   "outputs": [
    {
     "data": {
      "text/plain": [
       "DOC_ID\n",
       "4844    0\n",
       "4727    0\n",
       "5022    0\n",
       "3504    0\n",
       "3921    0\n",
       "Name: CATEGORY, dtype: int64"
      ]
     },
     "execution_count": 247,
     "metadata": {},
     "output_type": "execute_result"
    }
   ],
   "source": [
    "y_train.head()"
   ]
  },
  {
   "cell_type": "code",
   "execution_count": 248,
   "metadata": {},
   "outputs": [
    {
     "data": {
      "text/html": [
       "<div>\n",
       "<style scoped>\n",
       "    .dataframe tbody tr th:only-of-type {\n",
       "        vertical-align: middle;\n",
       "    }\n",
       "\n",
       "    .dataframe tbody tr th {\n",
       "        vertical-align: top;\n",
       "    }\n",
       "\n",
       "    .dataframe thead th {\n",
       "        text-align: right;\n",
       "    }\n",
       "</style>\n",
       "<table border=\"1\" class=\"dataframe\">\n",
       "  <thead>\n",
       "    <tr style=\"text-align: right;\">\n",
       "      <th></th>\n",
       "      <th>0</th>\n",
       "      <th>1</th>\n",
       "      <th>2</th>\n",
       "      <th>3</th>\n",
       "      <th>4</th>\n",
       "      <th>5</th>\n",
       "      <th>6</th>\n",
       "      <th>7</th>\n",
       "      <th>8</th>\n",
       "      <th>9</th>\n",
       "      <th>...</th>\n",
       "      <th>7661</th>\n",
       "      <th>7662</th>\n",
       "      <th>7663</th>\n",
       "      <th>7664</th>\n",
       "      <th>7665</th>\n",
       "      <th>7666</th>\n",
       "      <th>7667</th>\n",
       "      <th>7668</th>\n",
       "      <th>7669</th>\n",
       "      <th>7670</th>\n",
       "    </tr>\n",
       "  </thead>\n",
       "  <tbody>\n",
       "    <tr>\n",
       "      <th>3772</th>\n",
       "      <td>url</td>\n",
       "      <td>http</td>\n",
       "      <td>date</td>\n",
       "      <td>tue</td>\n",
       "      <td>sep</td>\n",
       "      <td>gmt</td>\n",
       "      <td>wire</td>\n",
       "      <td>urgent</td>\n",
       "      <td>busi</td>\n",
       "      <td>proposit</td>\n",
       "      <td>...</td>\n",
       "      <td>None</td>\n",
       "      <td>None</td>\n",
       "      <td>None</td>\n",
       "      <td>None</td>\n",
       "      <td>None</td>\n",
       "      <td>None</td>\n",
       "      <td>None</td>\n",
       "      <td>None</td>\n",
       "      <td>None</td>\n",
       "      <td>None</td>\n",
       "    </tr>\n",
       "    <tr>\n",
       "      <th>5191</th>\n",
       "      <td>wander</td>\n",
       "      <td>uppsala</td>\n",
       "      <td>sweden</td>\n",
       "      <td>last</td>\n",
       "      <td>week</td>\n",
       "      <td>ran</td>\n",
       "      <td>across</td>\n",
       "      <td>keramik</td>\n",
       "      <td>studio</td>\n",
       "      <td>paula</td>\n",
       "      <td>...</td>\n",
       "      <td>None</td>\n",
       "      <td>None</td>\n",
       "      <td>None</td>\n",
       "      <td>None</td>\n",
       "      <td>None</td>\n",
       "      <td>None</td>\n",
       "      <td>None</td>\n",
       "      <td>None</td>\n",
       "      <td>None</td>\n",
       "      <td>None</td>\n",
       "    </tr>\n",
       "    <tr>\n",
       "      <th>5226</th>\n",
       "      <td>pm</td>\n",
       "      <td>win</td>\n",
       "      <td>trees</td>\n",
       "      <td>wrote</td>\n",
       "      <td>actual</td>\n",
       "      <td>easi</td>\n",
       "      <td>test</td>\n",
       "      <td>experiment</td>\n",
       "      <td>compar</td>\n",
       "      <td>result</td>\n",
       "      <td>...</td>\n",
       "      <td>None</td>\n",
       "      <td>None</td>\n",
       "      <td>None</td>\n",
       "      <td>None</td>\n",
       "      <td>None</td>\n",
       "      <td>None</td>\n",
       "      <td>None</td>\n",
       "      <td>None</td>\n",
       "      <td>None</td>\n",
       "      <td>None</td>\n",
       "    </tr>\n",
       "    <tr>\n",
       "      <th>5390</th>\n",
       "      <td>r</td>\n",
       "      <td>russel</td>\n",
       "      <td>turpin</td>\n",
       "      <td>write</td>\n",
       "      <td>r</td>\n",
       "      <td>hmm</td>\n",
       "      <td>live</td>\n",
       "      <td>life</td>\n",
       "      <td>hous</td>\n",
       "      <td>r</td>\n",
       "      <td>...</td>\n",
       "      <td>None</td>\n",
       "      <td>None</td>\n",
       "      <td>None</td>\n",
       "      <td>None</td>\n",
       "      <td>None</td>\n",
       "      <td>None</td>\n",
       "      <td>None</td>\n",
       "      <td>None</td>\n",
       "      <td>None</td>\n",
       "      <td>None</td>\n",
       "    </tr>\n",
       "    <tr>\n",
       "      <th>860</th>\n",
       "      <td>see</td>\n",
       "      <td>exit</td>\n",
       "      <td>inform</td>\n",
       "      <td>dear</td>\n",
       "      <td>friend</td>\n",
       "      <td>discov</td>\n",
       "      <td>five</td>\n",
       "      <td>internet</td>\n",
       "      <td>busi</td>\n",
       "      <td>set</td>\n",
       "      <td>...</td>\n",
       "      <td>None</td>\n",
       "      <td>None</td>\n",
       "      <td>None</td>\n",
       "      <td>None</td>\n",
       "      <td>None</td>\n",
       "      <td>None</td>\n",
       "      <td>None</td>\n",
       "      <td>None</td>\n",
       "      <td>None</td>\n",
       "      <td>None</td>\n",
       "    </tr>\n",
       "  </tbody>\n",
       "</table>\n",
       "<p>5 rows × 7671 columns</p>\n",
       "</div>"
      ],
      "text/plain": [
       "        0        1       2      3       4       5       6           7     \\\n",
       "3772     url     http    date    tue     sep     gmt    wire      urgent   \n",
       "5191  wander  uppsala  sweden   last    week     ran  across     keramik   \n",
       "5226      pm      win   trees  wrote  actual    easi    test  experiment   \n",
       "5390       r   russel  turpin  write       r     hmm    live        life   \n",
       "860      see     exit  inform   dear  friend  discov    five    internet   \n",
       "\n",
       "        8         9     ...  7661  7662  7663  7664  7665  7666  7667  7668  \\\n",
       "3772    busi  proposit  ...  None  None  None  None  None  None  None  None   \n",
       "5191  studio     paula  ...  None  None  None  None  None  None  None  None   \n",
       "5226  compar    result  ...  None  None  None  None  None  None  None  None   \n",
       "5390    hous         r  ...  None  None  None  None  None  None  None  None   \n",
       "860     busi       set  ...  None  None  None  None  None  None  None  None   \n",
       "\n",
       "      7669  7670  \n",
       "3772  None  None  \n",
       "5191  None  None  \n",
       "5226  None  None  \n",
       "5390  None  None  \n",
       "860   None  None  \n",
       "\n",
       "[5 rows x 7671 columns]"
      ]
     },
     "execution_count": 248,
     "metadata": {},
     "output_type": "execute_result"
    }
   ],
   "source": [
    "X_train.tail()"
   ]
  },
  {
   "cell_type": "code",
   "execution_count": 249,
   "metadata": {},
   "outputs": [
    {
     "data": {
      "text/plain": [
       "DOC_ID\n",
       "3772    0\n",
       "5191    0\n",
       "5226    0\n",
       "5390    0\n",
       "860     1\n",
       "Name: CATEGORY, dtype: int64"
      ]
     },
     "execution_count": 249,
     "metadata": {},
     "output_type": "execute_result"
    }
   ],
   "source": [
    "y_train.tail()"
   ]
  },
  {
   "cell_type": "code",
   "execution_count": 250,
   "metadata": {},
   "outputs": [
    {
     "data": {
      "text/html": [
       "<div>\n",
       "<style scoped>\n",
       "    .dataframe tbody tr th:only-of-type {\n",
       "        vertical-align: middle;\n",
       "    }\n",
       "\n",
       "    .dataframe tbody tr th {\n",
       "        vertical-align: top;\n",
       "    }\n",
       "\n",
       "    .dataframe thead th {\n",
       "        text-align: right;\n",
       "    }\n",
       "</style>\n",
       "<table border=\"1\" class=\"dataframe\">\n",
       "  <thead>\n",
       "    <tr style=\"text-align: right;\">\n",
       "      <th></th>\n",
       "      <th>0</th>\n",
       "      <th>1</th>\n",
       "      <th>2</th>\n",
       "      <th>3</th>\n",
       "      <th>4</th>\n",
       "      <th>5</th>\n",
       "      <th>6</th>\n",
       "      <th>7</th>\n",
       "      <th>8</th>\n",
       "      <th>9</th>\n",
       "      <th>...</th>\n",
       "      <th>7661</th>\n",
       "      <th>7662</th>\n",
       "      <th>7663</th>\n",
       "      <th>7664</th>\n",
       "      <th>7665</th>\n",
       "      <th>7666</th>\n",
       "      <th>7667</th>\n",
       "      <th>7668</th>\n",
       "      <th>7669</th>\n",
       "      <th>7670</th>\n",
       "    </tr>\n",
       "  </thead>\n",
       "  <tbody>\n",
       "    <tr>\n",
       "      <th>4675</th>\n",
       "      <td>interest</td>\n",
       "      <td>alway</td>\n",
       "      <td>wonder</td>\n",
       "      <td>thing</td>\n",
       "      <td>bad</td>\n",
       "      <td>exampl</td>\n",
       "      <td>goto</td>\n",
       "      <td>languag</td>\n",
       "      <td>support</td>\n",
       "      <td>goto</td>\n",
       "      <td>...</td>\n",
       "      <td>None</td>\n",
       "      <td>None</td>\n",
       "      <td>None</td>\n",
       "      <td>None</td>\n",
       "      <td>None</td>\n",
       "      <td>None</td>\n",
       "      <td>None</td>\n",
       "      <td>None</td>\n",
       "      <td>None</td>\n",
       "      <td>None</td>\n",
       "    </tr>\n",
       "    <tr>\n",
       "      <th>4220</th>\n",
       "      <td>url</td>\n",
       "      <td>http</td>\n",
       "      <td>date</td>\n",
       "      <td>final</td>\n",
       "      <td>gdc</td>\n",
       "      <td>europ</td>\n",
       "      <td>review</td>\n",
       "      <td>confernec</td>\n",
       "      <td>session</td>\n",
       "      <td>ect</td>\n",
       "      <td>...</td>\n",
       "      <td>None</td>\n",
       "      <td>None</td>\n",
       "      <td>None</td>\n",
       "      <td>None</td>\n",
       "      <td>None</td>\n",
       "      <td>None</td>\n",
       "      <td>None</td>\n",
       "      <td>None</td>\n",
       "      <td>None</td>\n",
       "      <td>None</td>\n",
       "    </tr>\n",
       "    <tr>\n",
       "      <th>2484</th>\n",
       "      <td>stephen</td>\n",
       "      <td>william</td>\n",
       "      <td>mailto</td>\n",
       "      <td>swilliam</td>\n",
       "      <td>weaken</td>\n",
       "      <td>food</td>\n",
       "      <td>transact</td>\n",
       "      <td>argument</td>\n",
       "      <td>note</td>\n",
       "      <td>neighborhood</td>\n",
       "      <td>...</td>\n",
       "      <td>None</td>\n",
       "      <td>None</td>\n",
       "      <td>None</td>\n",
       "      <td>None</td>\n",
       "      <td>None</td>\n",
       "      <td>None</td>\n",
       "      <td>None</td>\n",
       "      <td>None</td>\n",
       "      <td>None</td>\n",
       "      <td>None</td>\n",
       "    </tr>\n",
       "    <tr>\n",
       "      <th>2418</th>\n",
       "      <td>el</td>\n",
       "      <td>mon</td>\n",
       "      <td>sep</td>\n",
       "      <td>bitbitch</td>\n",
       "      <td>wrote</td>\n",
       "      <td>eugen</td>\n",
       "      <td>mani</td>\n",
       "      <td>homo</td>\n",
       "      <td>friend</td>\n",
       "      <td>lover</td>\n",
       "      <td>...</td>\n",
       "      <td>None</td>\n",
       "      <td>None</td>\n",
       "      <td>None</td>\n",
       "      <td>None</td>\n",
       "      <td>None</td>\n",
       "      <td>None</td>\n",
       "      <td>None</td>\n",
       "      <td>None</td>\n",
       "      <td>None</td>\n",
       "      <td>None</td>\n",
       "    </tr>\n",
       "    <tr>\n",
       "      <th>5110</th>\n",
       "      <td>music</td>\n",
       "      <td>school</td>\n",
       "      <td>joke</td>\n",
       "      <td>american</td>\n",
       "      <td>conductor</td>\n",
       "      <td>european</td>\n",
       "      <td>conductor</td>\n",
       "      <td>talk</td>\n",
       "      <td>european</td>\n",
       "      <td>conductor</td>\n",
       "      <td>...</td>\n",
       "      <td>None</td>\n",
       "      <td>None</td>\n",
       "      <td>None</td>\n",
       "      <td>None</td>\n",
       "      <td>None</td>\n",
       "      <td>None</td>\n",
       "      <td>None</td>\n",
       "      <td>None</td>\n",
       "      <td>None</td>\n",
       "      <td>None</td>\n",
       "    </tr>\n",
       "  </tbody>\n",
       "</table>\n",
       "<p>5 rows × 7671 columns</p>\n",
       "</div>"
      ],
      "text/plain": [
       "          0        1       2         3          4         5          6     \\\n",
       "4675  interest    alway  wonder     thing        bad    exampl       goto   \n",
       "4220       url     http    date     final        gdc     europ     review   \n",
       "2484   stephen  william  mailto  swilliam     weaken      food   transact   \n",
       "2418        el      mon     sep  bitbitch      wrote     eugen       mani   \n",
       "5110     music   school    joke  american  conductor  european  conductor   \n",
       "\n",
       "           7         8             9     ...  7661  7662  7663  7664  7665  \\\n",
       "4675    languag   support          goto  ...  None  None  None  None  None   \n",
       "4220  confernec   session           ect  ...  None  None  None  None  None   \n",
       "2484   argument      note  neighborhood  ...  None  None  None  None  None   \n",
       "2418       homo    friend         lover  ...  None  None  None  None  None   \n",
       "5110       talk  european     conductor  ...  None  None  None  None  None   \n",
       "\n",
       "      7666  7667  7668  7669  7670  \n",
       "4675  None  None  None  None  None  \n",
       "4220  None  None  None  None  None  \n",
       "2484  None  None  None  None  None  \n",
       "2418  None  None  None  None  None  \n",
       "5110  None  None  None  None  None  \n",
       "\n",
       "[5 rows x 7671 columns]"
      ]
     },
     "execution_count": 250,
     "metadata": {},
     "output_type": "execute_result"
    }
   ],
   "source": [
    "X_test.head()"
   ]
  },
  {
   "cell_type": "code",
   "execution_count": 251,
   "metadata": {},
   "outputs": [
    {
     "data": {
      "text/plain": [
       "DOC_ID\n",
       "4675    0\n",
       "4220    0\n",
       "2484    0\n",
       "2418    0\n",
       "5110    0\n",
       "Name: CATEGORY, dtype: int64"
      ]
     },
     "execution_count": 251,
     "metadata": {},
     "output_type": "execute_result"
    }
   ],
   "source": [
    "y_test.head()"
   ]
  },
  {
   "cell_type": "code",
   "execution_count": 252,
   "metadata": {},
   "outputs": [
    {
     "data": {
      "text/html": [
       "<div>\n",
       "<style scoped>\n",
       "    .dataframe tbody tr th:only-of-type {\n",
       "        vertical-align: middle;\n",
       "    }\n",
       "\n",
       "    .dataframe tbody tr th {\n",
       "        vertical-align: top;\n",
       "    }\n",
       "\n",
       "    .dataframe thead th {\n",
       "        text-align: right;\n",
       "    }\n",
       "</style>\n",
       "<table border=\"1\" class=\"dataframe\">\n",
       "  <thead>\n",
       "    <tr style=\"text-align: right;\">\n",
       "      <th></th>\n",
       "      <th>0</th>\n",
       "      <th>1</th>\n",
       "      <th>2</th>\n",
       "      <th>3</th>\n",
       "      <th>4</th>\n",
       "      <th>5</th>\n",
       "      <th>6</th>\n",
       "      <th>7</th>\n",
       "      <th>8</th>\n",
       "      <th>9</th>\n",
       "      <th>...</th>\n",
       "      <th>7661</th>\n",
       "      <th>7662</th>\n",
       "      <th>7663</th>\n",
       "      <th>7664</th>\n",
       "      <th>7665</th>\n",
       "      <th>7666</th>\n",
       "      <th>7667</th>\n",
       "      <th>7668</th>\n",
       "      <th>7669</th>\n",
       "      <th>7670</th>\n",
       "    </tr>\n",
       "  </thead>\n",
       "  <tbody>\n",
       "    <tr>\n",
       "      <th>5295</th>\n",
       "      <td>thu</td>\n",
       "      <td>jul</td>\n",
       "      <td>joseph</td>\n",
       "      <td>barrera</td>\n",
       "      <td>iii</td>\n",
       "      <td>wrote</td>\n",
       "      <td>chri</td>\n",
       "      <td>arkenberg</td>\n",
       "      <td>wrote</td>\n",
       "      <td>cheer</td>\n",
       "      <td>...</td>\n",
       "      <td>None</td>\n",
       "      <td>None</td>\n",
       "      <td>None</td>\n",
       "      <td>None</td>\n",
       "      <td>None</td>\n",
       "      <td>None</td>\n",
       "      <td>None</td>\n",
       "      <td>None</td>\n",
       "      <td>None</td>\n",
       "      <td>None</td>\n",
       "    </tr>\n",
       "    <tr>\n",
       "      <th>5740</th>\n",
       "      <td>securityfocu</td>\n",
       "      <td>linux</td>\n",
       "      <td>newslett</td>\n",
       "      <td>newslett</td>\n",
       "      <td>sponsor</td>\n",
       "      <td>securityfocu</td>\n",
       "      <td>deepsight</td>\n",
       "      <td>threat</td>\n",
       "      <td>manag</td>\n",
       "      <td>system</td>\n",
       "      <td>...</td>\n",
       "      <td>None</td>\n",
       "      <td>None</td>\n",
       "      <td>None</td>\n",
       "      <td>None</td>\n",
       "      <td>None</td>\n",
       "      <td>None</td>\n",
       "      <td>None</td>\n",
       "      <td>None</td>\n",
       "      <td>None</td>\n",
       "      <td>None</td>\n",
       "    </tr>\n",
       "    <tr>\n",
       "      <th>5069</th>\n",
       "      <td>thu</td>\n",
       "      <td>jul</td>\n",
       "      <td>matthia</td>\n",
       "      <td>saou</td>\n",
       "      <td>wrote</td>\n",
       "      <td>upon</td>\n",
       "      <td>time</td>\n",
       "      <td>matthia</td>\n",
       "      <td>wrote</td>\n",
       "      <td>see</td>\n",
       "      <td>...</td>\n",
       "      <td>None</td>\n",
       "      <td>None</td>\n",
       "      <td>None</td>\n",
       "      <td>None</td>\n",
       "      <td>None</td>\n",
       "      <td>None</td>\n",
       "      <td>None</td>\n",
       "      <td>None</td>\n",
       "      <td>None</td>\n",
       "      <td>None</td>\n",
       "    </tr>\n",
       "    <tr>\n",
       "      <th>1293</th>\n",
       "      <td>tremend</td>\n",
       "      <td>save</td>\n",
       "      <td>toner</td>\n",
       "      <td>inkjet</td>\n",
       "      <td>fax</td>\n",
       "      <td>thermal</td>\n",
       "      <td>replenish</td>\n",
       "      <td>toner</td>\n",
       "      <td>go</td>\n",
       "      <td>secret</td>\n",
       "      <td>...</td>\n",
       "      <td>None</td>\n",
       "      <td>None</td>\n",
       "      <td>None</td>\n",
       "      <td>None</td>\n",
       "      <td>None</td>\n",
       "      <td>None</td>\n",
       "      <td>None</td>\n",
       "      <td>None</td>\n",
       "      <td>None</td>\n",
       "      <td>None</td>\n",
       "    </tr>\n",
       "    <tr>\n",
       "      <th>4354</th>\n",
       "      <td>forteana</td>\n",
       "      <td>jayn</td>\n",
       "      <td>ayri</td>\n",
       "      <td>wrote</td>\n",
       "      <td>think</td>\n",
       "      <td>letter</td>\n",
       "      <td>oh</td>\n",
       "      <td>right</td>\n",
       "      <td>give</td>\n",
       "      <td>go</td>\n",
       "      <td>...</td>\n",
       "      <td>None</td>\n",
       "      <td>None</td>\n",
       "      <td>None</td>\n",
       "      <td>None</td>\n",
       "      <td>None</td>\n",
       "      <td>None</td>\n",
       "      <td>None</td>\n",
       "      <td>None</td>\n",
       "      <td>None</td>\n",
       "      <td>None</td>\n",
       "    </tr>\n",
       "  </tbody>\n",
       "</table>\n",
       "<p>5 rows × 7671 columns</p>\n",
       "</div>"
      ],
      "text/plain": [
       "              0      1         2         3        4             5     \\\n",
       "5295           thu    jul    joseph   barrera      iii         wrote   \n",
       "5740  securityfocu  linux  newslett  newslett  sponsor  securityfocu   \n",
       "5069           thu    jul   matthia      saou    wrote          upon   \n",
       "1293       tremend   save     toner    inkjet      fax       thermal   \n",
       "4354      forteana   jayn      ayri     wrote    think        letter   \n",
       "\n",
       "           6          7      8       9     ...  7661  7662  7663  7664  7665  \\\n",
       "5295       chri  arkenberg  wrote   cheer  ...  None  None  None  None  None   \n",
       "5740  deepsight     threat  manag  system  ...  None  None  None  None  None   \n",
       "5069       time    matthia  wrote     see  ...  None  None  None  None  None   \n",
       "1293  replenish      toner     go  secret  ...  None  None  None  None  None   \n",
       "4354         oh      right   give      go  ...  None  None  None  None  None   \n",
       "\n",
       "      7666  7667  7668  7669  7670  \n",
       "5295  None  None  None  None  None  \n",
       "5740  None  None  None  None  None  \n",
       "5069  None  None  None  None  None  \n",
       "1293  None  None  None  None  None  \n",
       "4354  None  None  None  None  None  \n",
       "\n",
       "[5 rows x 7671 columns]"
      ]
     },
     "execution_count": 252,
     "metadata": {},
     "output_type": "execute_result"
    }
   ],
   "source": [
    "X_test.tail()"
   ]
  },
  {
   "cell_type": "code",
   "execution_count": 253,
   "metadata": {},
   "outputs": [
    {
     "data": {
      "text/plain": [
       "DOC_ID\n",
       "5295    0\n",
       "5740    0\n",
       "5069    0\n",
       "1293    1\n",
       "4354    0\n",
       "Name: CATEGORY, dtype: int64"
      ]
     },
     "execution_count": 253,
     "metadata": {},
     "output_type": "execute_result"
    }
   ],
   "source": [
    "y_test.tail()"
   ]
  },
  {
   "cell_type": "code",
   "execution_count": 254,
   "metadata": {},
   "outputs": [
    {
     "data": {
      "text/html": [
       "<div>\n",
       "<style scoped>\n",
       "    .dataframe tbody tr th:only-of-type {\n",
       "        vertical-align: middle;\n",
       "    }\n",
       "\n",
       "    .dataframe tbody tr th {\n",
       "        vertical-align: top;\n",
       "    }\n",
       "\n",
       "    .dataframe thead th {\n",
       "        text-align: right;\n",
       "    }\n",
       "</style>\n",
       "<table border=\"1\" class=\"dataframe\">\n",
       "  <thead>\n",
       "    <tr style=\"text-align: right;\">\n",
       "      <th></th>\n",
       "      <th>VOCAB_WORD</th>\n",
       "    </tr>\n",
       "    <tr>\n",
       "      <th>WORD_ID</th>\n",
       "      <th></th>\n",
       "    </tr>\n",
       "  </thead>\n",
       "  <tbody>\n",
       "    <tr>\n",
       "      <th>0</th>\n",
       "      <td>http</td>\n",
       "    </tr>\n",
       "    <tr>\n",
       "      <th>1</th>\n",
       "      <td>use</td>\n",
       "    </tr>\n",
       "    <tr>\n",
       "      <th>2</th>\n",
       "      <td>list</td>\n",
       "    </tr>\n",
       "    <tr>\n",
       "      <th>3</th>\n",
       "      <td>email</td>\n",
       "    </tr>\n",
       "    <tr>\n",
       "      <th>4</th>\n",
       "      <td>get</td>\n",
       "    </tr>\n",
       "    <tr>\n",
       "      <th>...</th>\n",
       "      <td>...</td>\n",
       "    </tr>\n",
       "    <tr>\n",
       "      <th>2495</th>\n",
       "      <td>maxaman</td>\n",
       "    </tr>\n",
       "    <tr>\n",
       "      <th>2496</th>\n",
       "      <td>manner</td>\n",
       "    </tr>\n",
       "    <tr>\n",
       "      <th>2497</th>\n",
       "      <td>gotten</td>\n",
       "    </tr>\n",
       "    <tr>\n",
       "      <th>2498</th>\n",
       "      <td>distinct</td>\n",
       "    </tr>\n",
       "    <tr>\n",
       "      <th>2499</th>\n",
       "      <td>strateg</td>\n",
       "    </tr>\n",
       "  </tbody>\n",
       "</table>\n",
       "<p>2500 rows × 1 columns</p>\n",
       "</div>"
      ],
      "text/plain": [
       "        VOCAB_WORD\n",
       "WORD_ID           \n",
       "0             http\n",
       "1              use\n",
       "2             list\n",
       "3            email\n",
       "4              get\n",
       "...            ...\n",
       "2495       maxaman\n",
       "2496        manner\n",
       "2497        gotten\n",
       "2498      distinct\n",
       "2499       strateg\n",
       "\n",
       "[2500 rows x 1 columns]"
      ]
     },
     "execution_count": 254,
     "metadata": {},
     "output_type": "execute_result"
    }
   ],
   "source": [
    "vocab"
   ]
  },
  {
   "cell_type": "code",
   "execution_count": 255,
   "metadata": {},
   "outputs": [
    {
     "data": {
      "text/plain": [
       "'http'"
      ]
     },
     "execution_count": 255,
     "metadata": {},
     "output_type": "execute_result"
    }
   ],
   "source": [
    "vocab.at[0,'VOCAB_WORD']"
   ]
  },
  {
   "cell_type": "code",
   "execution_count": 256,
   "metadata": {},
   "outputs": [],
   "source": [
    "# if you know the word, how to get the WORD_ID?"
   ]
  },
  {
   "cell_type": "code",
   "execution_count": 257,
   "metadata": {},
   "outputs": [],
   "source": [
    "word_index = pd.Index(vocab.VOCAB_WORD)"
   ]
  },
  {
   "cell_type": "code",
   "execution_count": 258,
   "metadata": {},
   "outputs": [
    {
     "data": {
      "text/plain": [
       "Index(['http', 'use', 'list', 'email', 'get', 'mail', 'one', 'free', 'time',\n",
       "       'work',\n",
       "       ...\n",
       "       'milter', 'tobacco', 'subsequ', 'boom', 'con', 'maxaman', 'manner',\n",
       "       'gotten', 'distinct', 'strateg'],\n",
       "      dtype='object', name='VOCAB_WORD', length=2500)"
      ]
     },
     "execution_count": 258,
     "metadata": {},
     "output_type": "execute_result"
    }
   ],
   "source": [
    "word_index"
   ]
  },
  {
   "cell_type": "code",
   "execution_count": 259,
   "metadata": {},
   "outputs": [
    {
     "data": {
      "text/plain": [
       "'http'"
      ]
     },
     "execution_count": 259,
     "metadata": {},
     "output_type": "execute_result"
    }
   ],
   "source": [
    "word_index[0]"
   ]
  },
  {
   "cell_type": "code",
   "execution_count": 260,
   "metadata": {},
   "outputs": [
    {
     "data": {
      "text/plain": [
       "pandas.core.indexes.base.Index"
      ]
     },
     "execution_count": 260,
     "metadata": {},
     "output_type": "execute_result"
    }
   ],
   "source": [
    "type(word_index)"
   ]
  },
  {
   "cell_type": "code",
   "execution_count": 261,
   "metadata": {},
   "outputs": [
    {
     "data": {
      "text/plain": [
       "8"
      ]
     },
     "execution_count": 261,
     "metadata": {},
     "output_type": "execute_result"
    }
   ],
   "source": [
    "word_index.get_loc('time')"
   ]
  },
  {
   "cell_type": "code",
   "execution_count": 262,
   "metadata": {},
   "outputs": [
    {
     "data": {
      "text/plain": [
       "0"
      ]
     },
     "execution_count": 262,
     "metadata": {},
     "output_type": "execute_result"
    }
   ],
   "source": [
    "word_index.get_loc('http')"
   ]
  },
  {
   "cell_type": "code",
   "execution_count": 263,
   "metadata": {},
   "outputs": [
    {
     "data": {
      "text/html": [
       "<div>\n",
       "<style scoped>\n",
       "    .dataframe tbody tr th:only-of-type {\n",
       "        vertical-align: middle;\n",
       "    }\n",
       "\n",
       "    .dataframe tbody tr th {\n",
       "        vertical-align: top;\n",
       "    }\n",
       "\n",
       "    .dataframe thead th {\n",
       "        text-align: right;\n",
       "    }\n",
       "</style>\n",
       "<table border=\"1\" class=\"dataframe\">\n",
       "  <thead>\n",
       "    <tr style=\"text-align: right;\">\n",
       "      <th></th>\n",
       "      <th>0</th>\n",
       "      <th>1</th>\n",
       "      <th>2</th>\n",
       "      <th>3</th>\n",
       "      <th>4</th>\n",
       "      <th>5</th>\n",
       "      <th>6</th>\n",
       "      <th>7</th>\n",
       "      <th>8</th>\n",
       "      <th>9</th>\n",
       "      <th>...</th>\n",
       "      <th>7661</th>\n",
       "      <th>7662</th>\n",
       "      <th>7663</th>\n",
       "      <th>7664</th>\n",
       "      <th>7665</th>\n",
       "      <th>7666</th>\n",
       "      <th>7667</th>\n",
       "      <th>7668</th>\n",
       "      <th>7669</th>\n",
       "      <th>7670</th>\n",
       "    </tr>\n",
       "  </thead>\n",
       "  <tbody>\n",
       "    <tr>\n",
       "      <th>4844</th>\n",
       "      <td>ye</td>\n",
       "      <td>inde</td>\n",
       "      <td>agent</td>\n",
       "      <td>directori</td>\n",
       "      <td>verita</td>\n",
       "      <td>cd</td>\n",
       "      <td>unix</td>\n",
       "      <td>subdirectori</td>\n",
       "      <td>file</td>\n",
       "      <td>call</td>\n",
       "      <td>...</td>\n",
       "      <td>None</td>\n",
       "      <td>None</td>\n",
       "      <td>None</td>\n",
       "      <td>None</td>\n",
       "      <td>None</td>\n",
       "      <td>None</td>\n",
       "      <td>None</td>\n",
       "      <td>None</td>\n",
       "      <td>None</td>\n",
       "      <td>None</td>\n",
       "    </tr>\n",
       "    <tr>\n",
       "      <th>4727</th>\n",
       "      <td>problem</td>\n",
       "      <td>come</td>\n",
       "      <td>tri</td>\n",
       "      <td>instal</td>\n",
       "      <td>harddissssk</td>\n",
       "      <td>like</td>\n",
       "      <td>alreadi</td>\n",
       "      <td>mount</td>\n",
       "      <td>http</td>\n",
       "      <td>yahoo</td>\n",
       "      <td>...</td>\n",
       "      <td>None</td>\n",
       "      <td>None</td>\n",
       "      <td>None</td>\n",
       "      <td>None</td>\n",
       "      <td>None</td>\n",
       "      <td>None</td>\n",
       "      <td>None</td>\n",
       "      <td>None</td>\n",
       "      <td>None</td>\n",
       "      <td>None</td>\n",
       "    </tr>\n",
       "    <tr>\n",
       "      <th>5022</th>\n",
       "      <td>origin</td>\n",
       "      <td>messag</td>\n",
       "      <td>date</td>\n",
       "      <td>mon</td>\n",
       "      <td>aug</td>\n",
       "      <td>chad</td>\n",
       "      <td>norwood</td>\n",
       "      <td>sven</td>\n",
       "      <td>cc</td>\n",
       "      <td>subject</td>\n",
       "      <td>...</td>\n",
       "      <td>None</td>\n",
       "      <td>None</td>\n",
       "      <td>None</td>\n",
       "      <td>None</td>\n",
       "      <td>None</td>\n",
       "      <td>None</td>\n",
       "      <td>None</td>\n",
       "      <td>None</td>\n",
       "      <td>None</td>\n",
       "      <td>None</td>\n",
       "    </tr>\n",
       "    <tr>\n",
       "      <th>3504</th>\n",
       "      <td>inlin</td>\n",
       "      <td>folk</td>\n",
       "      <td>sever</td>\n",
       "      <td>major</td>\n",
       "      <td>internet</td>\n",
       "      <td>outag</td>\n",
       "      <td>morn</td>\n",
       "      <td>across</td>\n",
       "      <td>major</td>\n",
       "      <td>provid</td>\n",
       "      <td>...</td>\n",
       "      <td>None</td>\n",
       "      <td>None</td>\n",
       "      <td>None</td>\n",
       "      <td>None</td>\n",
       "      <td>None</td>\n",
       "      <td>None</td>\n",
       "      <td>None</td>\n",
       "      <td>None</td>\n",
       "      <td>None</td>\n",
       "      <td>None</td>\n",
       "    </tr>\n",
       "    <tr>\n",
       "      <th>3921</th>\n",
       "      <td>url</td>\n",
       "      <td>http</td>\n",
       "      <td>date</td>\n",
       "      <td>bath</td>\n",
       "      <td>chronicl</td>\n",
       "      <td>None</td>\n",
       "      <td>None</td>\n",
       "      <td>None</td>\n",
       "      <td>None</td>\n",
       "      <td>None</td>\n",
       "      <td>...</td>\n",
       "      <td>None</td>\n",
       "      <td>None</td>\n",
       "      <td>None</td>\n",
       "      <td>None</td>\n",
       "      <td>None</td>\n",
       "      <td>None</td>\n",
       "      <td>None</td>\n",
       "      <td>None</td>\n",
       "      <td>None</td>\n",
       "      <td>None</td>\n",
       "    </tr>\n",
       "  </tbody>\n",
       "</table>\n",
       "<p>5 rows × 7671 columns</p>\n",
       "</div>"
      ],
      "text/plain": [
       "         0       1      2          3            4      5        6     \\\n",
       "4844       ye    inde  agent  directori       verita     cd     unix   \n",
       "4727  problem    come    tri     instal  harddissssk   like  alreadi   \n",
       "5022   origin  messag   date        mon          aug   chad  norwood   \n",
       "3504    inlin    folk  sever      major     internet  outag     morn   \n",
       "3921      url    http   date       bath     chronicl   None     None   \n",
       "\n",
       "              7      8        9     ...  7661  7662  7663  7664  7665  7666  \\\n",
       "4844  subdirectori   file     call  ...  None  None  None  None  None  None   \n",
       "4727         mount   http    yahoo  ...  None  None  None  None  None  None   \n",
       "5022          sven     cc  subject  ...  None  None  None  None  None  None   \n",
       "3504        across  major   provid  ...  None  None  None  None  None  None   \n",
       "3921          None   None     None  ...  None  None  None  None  None  None   \n",
       "\n",
       "      7667  7668  7669  7670  \n",
       "4844  None  None  None  None  \n",
       "4727  None  None  None  None  \n",
       "5022  None  None  None  None  \n",
       "3504  None  None  None  None  \n",
       "3921  None  None  None  None  \n",
       "\n",
       "[5 rows x 7671 columns]"
      ]
     },
     "execution_count": 263,
     "metadata": {},
     "output_type": "execute_result"
    }
   ],
   "source": [
    "X_train.head()"
   ]
  },
  {
   "cell_type": "code",
   "execution_count": 264,
   "metadata": {},
   "outputs": [
    {
     "data": {
      "text/plain": [
       "DOC_ID\n",
       "4844    0\n",
       "4727    0\n",
       "5022    0\n",
       "3504    0\n",
       "3921    0\n",
       "Name: CATEGORY, dtype: int64"
      ]
     },
     "execution_count": 264,
     "metadata": {},
     "output_type": "execute_result"
    }
   ],
   "source": [
    "y_train.head()"
   ]
  },
  {
   "cell_type": "code",
   "execution_count": 265,
   "metadata": {},
   "outputs": [
    {
     "data": {
      "text/plain": [
       "4844"
      ]
     },
     "execution_count": 265,
     "metadata": {},
     "output_type": "execute_result"
    }
   ],
   "source": [
    "X_train.index[0]"
   ]
  },
  {
   "cell_type": "code",
   "execution_count": 266,
   "metadata": {},
   "outputs": [
    {
     "data": {
      "text/plain": [
       "(265, 1237, 504)"
      ]
     },
     "execution_count": 266,
     "metadata": {},
     "output_type": "execute_result"
    }
   ],
   "source": [
    "word_index.get_loc('ye'), word_index.get_loc('inde'), word_index.get_loc('agent')"
   ]
  },
  {
   "cell_type": "code",
   "execution_count": 267,
   "metadata": {},
   "outputs": [
    {
     "data": {
      "text/plain": [
       "(4844, 4844, 4844)"
      ]
     },
     "execution_count": 267,
     "metadata": {},
     "output_type": "execute_result"
    }
   ],
   "source": [
    "X_train.index[0], X_train.index[0], X_train.index[0]"
   ]
  },
  {
   "cell_type": "code",
   "execution_count": 268,
   "metadata": {},
   "outputs": [
    {
     "data": {
      "text/plain": [
       "0"
      ]
     },
     "execution_count": 268,
     "metadata": {},
     "output_type": "execute_result"
    }
   ],
   "source": [
    "y_train[4844]"
   ]
  },
  {
   "cell_type": "code",
   "execution_count": 269,
   "metadata": {},
   "outputs": [],
   "source": [
    "OCCURENCE = 1"
   ]
  },
  {
   "cell_type": "code",
   "execution_count": 270,
   "metadata": {},
   "outputs": [],
   "source": [
    "my_sample_dict ={'DOC_ID': [4844, 4844, 4844], 'LABEL' : [0,0,0], 'OCCURENCE': [1,1,1], 'WORD_ID':[256,1269,509]}"
   ]
  },
  {
   "cell_type": "code",
   "execution_count": 271,
   "metadata": {},
   "outputs": [],
   "source": [
    "my_sample_dict_df = pd.DataFrame.from_dict(my_sample_dict)"
   ]
  },
  {
   "cell_type": "code",
   "execution_count": 272,
   "metadata": {},
   "outputs": [
    {
     "data": {
      "text/html": [
       "<div>\n",
       "<style scoped>\n",
       "    .dataframe tbody tr th:only-of-type {\n",
       "        vertical-align: middle;\n",
       "    }\n",
       "\n",
       "    .dataframe tbody tr th {\n",
       "        vertical-align: top;\n",
       "    }\n",
       "\n",
       "    .dataframe thead th {\n",
       "        text-align: right;\n",
       "    }\n",
       "</style>\n",
       "<table border=\"1\" class=\"dataframe\">\n",
       "  <thead>\n",
       "    <tr style=\"text-align: right;\">\n",
       "      <th></th>\n",
       "      <th>DOC_ID</th>\n",
       "      <th>LABEL</th>\n",
       "      <th>OCCURENCE</th>\n",
       "      <th>WORD_ID</th>\n",
       "    </tr>\n",
       "  </thead>\n",
       "  <tbody>\n",
       "    <tr>\n",
       "      <th>0</th>\n",
       "      <td>4844</td>\n",
       "      <td>0</td>\n",
       "      <td>1</td>\n",
       "      <td>256</td>\n",
       "    </tr>\n",
       "    <tr>\n",
       "      <th>1</th>\n",
       "      <td>4844</td>\n",
       "      <td>0</td>\n",
       "      <td>1</td>\n",
       "      <td>1269</td>\n",
       "    </tr>\n",
       "    <tr>\n",
       "      <th>2</th>\n",
       "      <td>4844</td>\n",
       "      <td>0</td>\n",
       "      <td>1</td>\n",
       "      <td>509</td>\n",
       "    </tr>\n",
       "  </tbody>\n",
       "</table>\n",
       "</div>"
      ],
      "text/plain": [
       "   DOC_ID  LABEL  OCCURENCE  WORD_ID\n",
       "0    4844      0          1      256\n",
       "1    4844      0          1     1269\n",
       "2    4844      0          1      509"
      ]
     },
     "execution_count": 272,
     "metadata": {},
     "output_type": "execute_result"
    }
   ],
   "source": [
    "my_sample_dict_df"
   ]
  },
  {
   "cell_type": "code",
   "execution_count": 273,
   "metadata": {},
   "outputs": [],
   "source": [
    "def make_sparse_matrix(df,indexed_words,labels):\n",
    "    \n",
    "    nr_rows=df.shape[0]\n",
    "    nr_cols=df.shape[1]\n",
    "    word_set=set(indexed_words)\n",
    "    dict_list=[]\n",
    "    \n",
    "    for i in range(nr_rows):\n",
    "        for j in range(nr_cols):\n",
    "            word=df.iat[i,j]\n",
    "            \n",
    "            if word in word_set:\n",
    "                \n",
    "                doc_id=df.index[i]\n",
    "                category=labels.at[doc_id]\n",
    "                occurence=1\n",
    "                word_id=indexed_words.get_loc(word)\n",
    "                \n",
    "                item={'DOC_ID':doc_id,'LABEL':category,'WORD_ID':word_id,'OCCURENCE':occurence}\n",
    "                dict_list.append(item)\n",
    "                \n",
    "    return pd.DataFrame(dict_list)"
   ]
  },
  {
   "cell_type": "code",
   "execution_count": 274,
   "metadata": {},
   "outputs": [],
   "source": [
    "sparse_train_df = make_sparse_matrix(X_train, word_index, y_train)"
   ]
  },
  {
   "cell_type": "code",
   "execution_count": 275,
   "metadata": {},
   "outputs": [
    {
     "data": {
      "text/html": [
       "<div>\n",
       "<style scoped>\n",
       "    .dataframe tbody tr th:only-of-type {\n",
       "        vertical-align: middle;\n",
       "    }\n",
       "\n",
       "    .dataframe tbody tr th {\n",
       "        vertical-align: top;\n",
       "    }\n",
       "\n",
       "    .dataframe thead th {\n",
       "        text-align: right;\n",
       "    }\n",
       "</style>\n",
       "<table border=\"1\" class=\"dataframe\">\n",
       "  <thead>\n",
       "    <tr style=\"text-align: right;\">\n",
       "      <th></th>\n",
       "      <th>DOC_ID</th>\n",
       "      <th>LABEL</th>\n",
       "      <th>WORD_ID</th>\n",
       "      <th>OCCURENCE</th>\n",
       "    </tr>\n",
       "  </thead>\n",
       "  <tbody>\n",
       "    <tr>\n",
       "      <th>0</th>\n",
       "      <td>4844</td>\n",
       "      <td>0</td>\n",
       "      <td>265</td>\n",
       "      <td>1</td>\n",
       "    </tr>\n",
       "    <tr>\n",
       "      <th>1</th>\n",
       "      <td>4844</td>\n",
       "      <td>0</td>\n",
       "      <td>1237</td>\n",
       "      <td>1</td>\n",
       "    </tr>\n",
       "    <tr>\n",
       "      <th>2</th>\n",
       "      <td>4844</td>\n",
       "      <td>0</td>\n",
       "      <td>504</td>\n",
       "      <td>1</td>\n",
       "    </tr>\n",
       "    <tr>\n",
       "      <th>3</th>\n",
       "      <td>4844</td>\n",
       "      <td>0</td>\n",
       "      <td>308</td>\n",
       "      <td>1</td>\n",
       "    </tr>\n",
       "    <tr>\n",
       "      <th>4</th>\n",
       "      <td>4844</td>\n",
       "      <td>0</td>\n",
       "      <td>254</td>\n",
       "      <td>1</td>\n",
       "    </tr>\n",
       "    <tr>\n",
       "      <th>...</th>\n",
       "      <td>...</td>\n",
       "      <td>...</td>\n",
       "      <td>...</td>\n",
       "      <td>...</td>\n",
       "    </tr>\n",
       "    <tr>\n",
       "      <th>429239</th>\n",
       "      <td>860</td>\n",
       "      <td>1</td>\n",
       "      <td>47</td>\n",
       "      <td>1</td>\n",
       "    </tr>\n",
       "    <tr>\n",
       "      <th>429240</th>\n",
       "      <td>860</td>\n",
       "      <td>1</td>\n",
       "      <td>1433</td>\n",
       "      <td>1</td>\n",
       "    </tr>\n",
       "    <tr>\n",
       "      <th>429241</th>\n",
       "      <td>860</td>\n",
       "      <td>1</td>\n",
       "      <td>26</td>\n",
       "      <td>1</td>\n",
       "    </tr>\n",
       "    <tr>\n",
       "      <th>429242</th>\n",
       "      <td>860</td>\n",
       "      <td>1</td>\n",
       "      <td>21</td>\n",
       "      <td>1</td>\n",
       "    </tr>\n",
       "    <tr>\n",
       "      <th>429243</th>\n",
       "      <td>860</td>\n",
       "      <td>1</td>\n",
       "      <td>126</td>\n",
       "      <td>1</td>\n",
       "    </tr>\n",
       "  </tbody>\n",
       "</table>\n",
       "<p>429244 rows × 4 columns</p>\n",
       "</div>"
      ],
      "text/plain": [
       "        DOC_ID  LABEL  WORD_ID  OCCURENCE\n",
       "0         4844      0      265          1\n",
       "1         4844      0     1237          1\n",
       "2         4844      0      504          1\n",
       "3         4844      0      308          1\n",
       "4         4844      0      254          1\n",
       "...        ...    ...      ...        ...\n",
       "429239     860      1       47          1\n",
       "429240     860      1     1433          1\n",
       "429241     860      1       26          1\n",
       "429242     860      1       21          1\n",
       "429243     860      1      126          1\n",
       "\n",
       "[429244 rows x 4 columns]"
      ]
     },
     "execution_count": 275,
     "metadata": {},
     "output_type": "execute_result"
    }
   ],
   "source": [
    "sparse_train_df"
   ]
  },
  {
   "cell_type": "code",
   "execution_count": 276,
   "metadata": {},
   "outputs": [
    {
     "data": {
      "text/plain": [
       "(429244, 4)"
      ]
     },
     "execution_count": 276,
     "metadata": {},
     "output_type": "execute_result"
    }
   ],
   "source": [
    "sparse_train_df.shape"
   ]
  },
  {
   "cell_type": "code",
   "execution_count": 277,
   "metadata": {},
   "outputs": [],
   "source": [
    "# I have 4,29,256 individual words in this df...some of the words will be repeated...?????"
   ]
  },
  {
   "cell_type": "code",
   "execution_count": 278,
   "metadata": {},
   "outputs": [
    {
     "data": {
      "text/html": [
       "<div>\n",
       "<style scoped>\n",
       "    .dataframe tbody tr th:only-of-type {\n",
       "        vertical-align: middle;\n",
       "    }\n",
       "\n",
       "    .dataframe tbody tr th {\n",
       "        vertical-align: top;\n",
       "    }\n",
       "\n",
       "    .dataframe thead th {\n",
       "        text-align: right;\n",
       "    }\n",
       "</style>\n",
       "<table border=\"1\" class=\"dataframe\">\n",
       "  <thead>\n",
       "    <tr style=\"text-align: right;\">\n",
       "      <th></th>\n",
       "      <th>DOC_ID</th>\n",
       "      <th>LABEL</th>\n",
       "      <th>OCCURENCE</th>\n",
       "      <th>WORD_ID</th>\n",
       "    </tr>\n",
       "  </thead>\n",
       "  <tbody>\n",
       "    <tr>\n",
       "      <th>0</th>\n",
       "      <td>4844</td>\n",
       "      <td>0</td>\n",
       "      <td>1</td>\n",
       "      <td>265</td>\n",
       "    </tr>\n",
       "    <tr>\n",
       "      <th>1</th>\n",
       "      <td>4844</td>\n",
       "      <td>0</td>\n",
       "      <td>1</td>\n",
       "      <td>1268</td>\n",
       "    </tr>\n",
       "    <tr>\n",
       "      <th>2</th>\n",
       "      <td>4844</td>\n",
       "      <td>0</td>\n",
       "      <td>1</td>\n",
       "      <td>508</td>\n",
       "    </tr>\n",
       "    <tr>\n",
       "      <th>3</th>\n",
       "      <td>4844</td>\n",
       "      <td>0</td>\n",
       "      <td>1</td>\n",
       "      <td>265</td>\n",
       "    </tr>\n",
       "    <tr>\n",
       "      <th>4</th>\n",
       "      <td>4844</td>\n",
       "      <td>0</td>\n",
       "      <td>1</td>\n",
       "      <td>265</td>\n",
       "    </tr>\n",
       "    <tr>\n",
       "      <th>5</th>\n",
       "      <td>4844</td>\n",
       "      <td>0</td>\n",
       "      <td>1</td>\n",
       "      <td>265</td>\n",
       "    </tr>\n",
       "  </tbody>\n",
       "</table>\n",
       "</div>"
      ],
      "text/plain": [
       "   DOC_ID  LABEL  OCCURENCE  WORD_ID\n",
       "0    4844      0          1      265\n",
       "1    4844      0          1     1268\n",
       "2    4844      0          1      508\n",
       "3    4844      0          1      265\n",
       "4    4844      0          1      265\n",
       "5    4844      0          1      265"
      ]
     },
     "execution_count": 278,
     "metadata": {},
     "output_type": "execute_result"
    }
   ],
   "source": [
    "# imaginary dataframe\n",
    "my_sample_dict_1 ={'DOC_ID': [4844,4844,4844,4844,4844,4844],  'LABEL': [0,0,0,0,0,0],\n",
    "                   'OCCURENCE': [1,1,1,1,1,1], 'WORD_ID': [265,1268,508,265,265,265]}\n",
    "my_sample_dict_df_1 = pd.DataFrame.from_dict(my_sample_dict_1)# using.from_dict\n",
    "my_sample_dict_df_1 "
   ]
  },
  {
   "cell_type": "code",
   "execution_count": 279,
   "metadata": {},
   "outputs": [
    {
     "data": {
      "text/plain": [
       "(6, 4)"
      ]
     },
     "execution_count": 279,
     "metadata": {},
     "output_type": "execute_result"
    }
   ],
   "source": [
    "my_sample_dict_df_1.shape"
   ]
  },
  {
   "cell_type": "code",
   "execution_count": 280,
   "metadata": {},
   "outputs": [],
   "source": [
    "my_sample_dict_df_1_grouped = my_sample_dict_df_1.groupby(['DOC_ID', 'LABEL','WORD_ID' ]).sum()"
   ]
  },
  {
   "cell_type": "code",
   "execution_count": 281,
   "metadata": {},
   "outputs": [
    {
     "data": {
      "text/html": [
       "<div>\n",
       "<style scoped>\n",
       "    .dataframe tbody tr th:only-of-type {\n",
       "        vertical-align: middle;\n",
       "    }\n",
       "\n",
       "    .dataframe tbody tr th {\n",
       "        vertical-align: top;\n",
       "    }\n",
       "\n",
       "    .dataframe thead th {\n",
       "        text-align: right;\n",
       "    }\n",
       "</style>\n",
       "<table border=\"1\" class=\"dataframe\">\n",
       "  <thead>\n",
       "    <tr style=\"text-align: right;\">\n",
       "      <th></th>\n",
       "      <th></th>\n",
       "      <th></th>\n",
       "      <th>OCCURENCE</th>\n",
       "    </tr>\n",
       "    <tr>\n",
       "      <th>DOC_ID</th>\n",
       "      <th>LABEL</th>\n",
       "      <th>WORD_ID</th>\n",
       "      <th></th>\n",
       "    </tr>\n",
       "  </thead>\n",
       "  <tbody>\n",
       "    <tr>\n",
       "      <th rowspan=\"3\" valign=\"top\">4844</th>\n",
       "      <th rowspan=\"3\" valign=\"top\">0</th>\n",
       "      <th>265</th>\n",
       "      <td>4</td>\n",
       "    </tr>\n",
       "    <tr>\n",
       "      <th>508</th>\n",
       "      <td>1</td>\n",
       "    </tr>\n",
       "    <tr>\n",
       "      <th>1268</th>\n",
       "      <td>1</td>\n",
       "    </tr>\n",
       "  </tbody>\n",
       "</table>\n",
       "</div>"
      ],
      "text/plain": [
       "                      OCCURENCE\n",
       "DOC_ID LABEL WORD_ID           \n",
       "4844   0     265              4\n",
       "             508              1\n",
       "             1268             1"
      ]
     },
     "execution_count": 281,
     "metadata": {},
     "output_type": "execute_result"
    }
   ],
   "source": [
    "my_sample_dict_df_1_grouped"
   ]
  },
  {
   "cell_type": "code",
   "execution_count": 282,
   "metadata": {},
   "outputs": [],
   "source": [
    "my_sample_dict_df_1_grouped = my_sample_dict_df_1_grouped.reset_index()"
   ]
  },
  {
   "cell_type": "code",
   "execution_count": 283,
   "metadata": {},
   "outputs": [
    {
     "data": {
      "text/html": [
       "<div>\n",
       "<style scoped>\n",
       "    .dataframe tbody tr th:only-of-type {\n",
       "        vertical-align: middle;\n",
       "    }\n",
       "\n",
       "    .dataframe tbody tr th {\n",
       "        vertical-align: top;\n",
       "    }\n",
       "\n",
       "    .dataframe thead th {\n",
       "        text-align: right;\n",
       "    }\n",
       "</style>\n",
       "<table border=\"1\" class=\"dataframe\">\n",
       "  <thead>\n",
       "    <tr style=\"text-align: right;\">\n",
       "      <th></th>\n",
       "      <th>DOC_ID</th>\n",
       "      <th>LABEL</th>\n",
       "      <th>WORD_ID</th>\n",
       "      <th>OCCURENCE</th>\n",
       "    </tr>\n",
       "  </thead>\n",
       "  <tbody>\n",
       "    <tr>\n",
       "      <th>0</th>\n",
       "      <td>4844</td>\n",
       "      <td>0</td>\n",
       "      <td>265</td>\n",
       "      <td>4</td>\n",
       "    </tr>\n",
       "    <tr>\n",
       "      <th>1</th>\n",
       "      <td>4844</td>\n",
       "      <td>0</td>\n",
       "      <td>508</td>\n",
       "      <td>1</td>\n",
       "    </tr>\n",
       "    <tr>\n",
       "      <th>2</th>\n",
       "      <td>4844</td>\n",
       "      <td>0</td>\n",
       "      <td>1268</td>\n",
       "      <td>1</td>\n",
       "    </tr>\n",
       "  </tbody>\n",
       "</table>\n",
       "</div>"
      ],
      "text/plain": [
       "   DOC_ID  LABEL  WORD_ID  OCCURENCE\n",
       "0    4844      0      265          4\n",
       "1    4844      0      508          1\n",
       "2    4844      0     1268          1"
      ]
     },
     "execution_count": 283,
     "metadata": {},
     "output_type": "execute_result"
    }
   ],
   "source": [
    "my_sample_dict_df_1_grouped"
   ]
  },
  {
   "cell_type": "code",
   "execution_count": 284,
   "metadata": {},
   "outputs": [
    {
     "data": {
      "text/html": [
       "<div>\n",
       "<style scoped>\n",
       "    .dataframe tbody tr th:only-of-type {\n",
       "        vertical-align: middle;\n",
       "    }\n",
       "\n",
       "    .dataframe tbody tr th {\n",
       "        vertical-align: top;\n",
       "    }\n",
       "\n",
       "    .dataframe thead th {\n",
       "        text-align: right;\n",
       "    }\n",
       "</style>\n",
       "<table border=\"1\" class=\"dataframe\">\n",
       "  <thead>\n",
       "    <tr style=\"text-align: right;\">\n",
       "      <th></th>\n",
       "      <th>DOC_ID</th>\n",
       "      <th>LABEL</th>\n",
       "      <th>WORD_ID</th>\n",
       "      <th>OCCURENCE</th>\n",
       "    </tr>\n",
       "  </thead>\n",
       "  <tbody>\n",
       "    <tr>\n",
       "      <th>0</th>\n",
       "      <td>4844</td>\n",
       "      <td>0</td>\n",
       "      <td>265</td>\n",
       "      <td>4</td>\n",
       "    </tr>\n",
       "    <tr>\n",
       "      <th>1</th>\n",
       "      <td>4844</td>\n",
       "      <td>0</td>\n",
       "      <td>508</td>\n",
       "      <td>1</td>\n",
       "    </tr>\n",
       "    <tr>\n",
       "      <th>2</th>\n",
       "      <td>4844</td>\n",
       "      <td>0</td>\n",
       "      <td>1268</td>\n",
       "      <td>1</td>\n",
       "    </tr>\n",
       "  </tbody>\n",
       "</table>\n",
       "</div>"
      ],
      "text/plain": [
       "   DOC_ID  LABEL  WORD_ID  OCCURENCE\n",
       "0    4844      0      265          4\n",
       "1    4844      0      508          1\n",
       "2    4844      0     1268          1"
      ]
     },
     "execution_count": 284,
     "metadata": {},
     "output_type": "execute_result"
    }
   ],
   "source": [
    "my_sample_dict_df_1_grouped"
   ]
  },
  {
   "cell_type": "code",
   "execution_count": 285,
   "metadata": {},
   "outputs": [
    {
     "data": {
      "text/html": [
       "<div>\n",
       "<style scoped>\n",
       "    .dataframe tbody tr th:only-of-type {\n",
       "        vertical-align: middle;\n",
       "    }\n",
       "\n",
       "    .dataframe tbody tr th {\n",
       "        vertical-align: top;\n",
       "    }\n",
       "\n",
       "    .dataframe thead th {\n",
       "        text-align: right;\n",
       "    }\n",
       "</style>\n",
       "<table border=\"1\" class=\"dataframe\">\n",
       "  <thead>\n",
       "    <tr style=\"text-align: right;\">\n",
       "      <th></th>\n",
       "      <th></th>\n",
       "      <th></th>\n",
       "      <th>OCCURENCE</th>\n",
       "    </tr>\n",
       "    <tr>\n",
       "      <th>DOC_ID</th>\n",
       "      <th>WORD_ID</th>\n",
       "      <th>LABEL</th>\n",
       "      <th></th>\n",
       "    </tr>\n",
       "  </thead>\n",
       "  <tbody>\n",
       "    <tr>\n",
       "      <th rowspan=\"5\" valign=\"top\">0</th>\n",
       "      <th>2</th>\n",
       "      <th>1</th>\n",
       "      <td>1</td>\n",
       "    </tr>\n",
       "    <tr>\n",
       "      <th>3</th>\n",
       "      <th>1</th>\n",
       "      <td>2</td>\n",
       "    </tr>\n",
       "    <tr>\n",
       "      <th>4</th>\n",
       "      <th>1</th>\n",
       "      <td>1</td>\n",
       "    </tr>\n",
       "    <tr>\n",
       "      <th>7</th>\n",
       "      <th>1</th>\n",
       "      <td>3</td>\n",
       "    </tr>\n",
       "    <tr>\n",
       "      <th>11</th>\n",
       "      <th>1</th>\n",
       "      <td>1</td>\n",
       "    </tr>\n",
       "    <tr>\n",
       "      <th>...</th>\n",
       "      <th>...</th>\n",
       "      <th>...</th>\n",
       "      <td>...</td>\n",
       "    </tr>\n",
       "    <tr>\n",
       "      <th rowspan=\"5\" valign=\"top\">5795</th>\n",
       "      <th>2036</th>\n",
       "      <th>0</th>\n",
       "      <td>1</td>\n",
       "    </tr>\n",
       "    <tr>\n",
       "      <th>2039</th>\n",
       "      <th>0</th>\n",
       "      <td>2</td>\n",
       "    </tr>\n",
       "    <tr>\n",
       "      <th>2266</th>\n",
       "      <th>0</th>\n",
       "      <td>1</td>\n",
       "    </tr>\n",
       "    <tr>\n",
       "      <th>2348</th>\n",
       "      <th>0</th>\n",
       "      <td>1</td>\n",
       "    </tr>\n",
       "    <tr>\n",
       "      <th>2352</th>\n",
       "      <th>0</th>\n",
       "      <td>1</td>\n",
       "    </tr>\n",
       "  </tbody>\n",
       "</table>\n",
       "<p>258380 rows × 1 columns</p>\n",
       "</div>"
      ],
      "text/plain": [
       "                      OCCURENCE\n",
       "DOC_ID WORD_ID LABEL           \n",
       "0      2       1              1\n",
       "       3       1              2\n",
       "       4       1              1\n",
       "       7       1              3\n",
       "       11      1              1\n",
       "...                         ...\n",
       "5795   2036    0              1\n",
       "       2039    0              2\n",
       "       2266    0              1\n",
       "       2348    0              1\n",
       "       2352    0              1\n",
       "\n",
       "[258380 rows x 1 columns]"
      ]
     },
     "execution_count": 285,
     "metadata": {},
     "output_type": "execute_result"
    }
   ],
   "source": [
    "train_grouped = sparse_train_df.groupby(['DOC_ID','WORD_ID','LABEL']).sum()\n",
    "train_grouped"
   ]
  },
  {
   "cell_type": "code",
   "execution_count": 286,
   "metadata": {},
   "outputs": [],
   "source": [
    "train_grouped = train_grouped.reset_index()"
   ]
  },
  {
   "cell_type": "code",
   "execution_count": 287,
   "metadata": {},
   "outputs": [
    {
     "data": {
      "text/html": [
       "<div>\n",
       "<style scoped>\n",
       "    .dataframe tbody tr th:only-of-type {\n",
       "        vertical-align: middle;\n",
       "    }\n",
       "\n",
       "    .dataframe tbody tr th {\n",
       "        vertical-align: top;\n",
       "    }\n",
       "\n",
       "    .dataframe thead th {\n",
       "        text-align: right;\n",
       "    }\n",
       "</style>\n",
       "<table border=\"1\" class=\"dataframe\">\n",
       "  <thead>\n",
       "    <tr style=\"text-align: right;\">\n",
       "      <th></th>\n",
       "      <th>DOC_ID</th>\n",
       "      <th>WORD_ID</th>\n",
       "      <th>LABEL</th>\n",
       "      <th>OCCURENCE</th>\n",
       "    </tr>\n",
       "  </thead>\n",
       "  <tbody>\n",
       "    <tr>\n",
       "      <th>0</th>\n",
       "      <td>0</td>\n",
       "      <td>2</td>\n",
       "      <td>1</td>\n",
       "      <td>1</td>\n",
       "    </tr>\n",
       "    <tr>\n",
       "      <th>1</th>\n",
       "      <td>0</td>\n",
       "      <td>3</td>\n",
       "      <td>1</td>\n",
       "      <td>2</td>\n",
       "    </tr>\n",
       "    <tr>\n",
       "      <th>2</th>\n",
       "      <td>0</td>\n",
       "      <td>4</td>\n",
       "      <td>1</td>\n",
       "      <td>1</td>\n",
       "    </tr>\n",
       "    <tr>\n",
       "      <th>3</th>\n",
       "      <td>0</td>\n",
       "      <td>7</td>\n",
       "      <td>1</td>\n",
       "      <td>3</td>\n",
       "    </tr>\n",
       "    <tr>\n",
       "      <th>4</th>\n",
       "      <td>0</td>\n",
       "      <td>11</td>\n",
       "      <td>1</td>\n",
       "      <td>1</td>\n",
       "    </tr>\n",
       "    <tr>\n",
       "      <th>...</th>\n",
       "      <td>...</td>\n",
       "      <td>...</td>\n",
       "      <td>...</td>\n",
       "      <td>...</td>\n",
       "    </tr>\n",
       "    <tr>\n",
       "      <th>258375</th>\n",
       "      <td>5795</td>\n",
       "      <td>2036</td>\n",
       "      <td>0</td>\n",
       "      <td>1</td>\n",
       "    </tr>\n",
       "    <tr>\n",
       "      <th>258376</th>\n",
       "      <td>5795</td>\n",
       "      <td>2039</td>\n",
       "      <td>0</td>\n",
       "      <td>2</td>\n",
       "    </tr>\n",
       "    <tr>\n",
       "      <th>258377</th>\n",
       "      <td>5795</td>\n",
       "      <td>2266</td>\n",
       "      <td>0</td>\n",
       "      <td>1</td>\n",
       "    </tr>\n",
       "    <tr>\n",
       "      <th>258378</th>\n",
       "      <td>5795</td>\n",
       "      <td>2348</td>\n",
       "      <td>0</td>\n",
       "      <td>1</td>\n",
       "    </tr>\n",
       "    <tr>\n",
       "      <th>258379</th>\n",
       "      <td>5795</td>\n",
       "      <td>2352</td>\n",
       "      <td>0</td>\n",
       "      <td>1</td>\n",
       "    </tr>\n",
       "  </tbody>\n",
       "</table>\n",
       "<p>258380 rows × 4 columns</p>\n",
       "</div>"
      ],
      "text/plain": [
       "        DOC_ID  WORD_ID  LABEL  OCCURENCE\n",
       "0            0        2      1          1\n",
       "1            0        3      1          2\n",
       "2            0        4      1          1\n",
       "3            0        7      1          3\n",
       "4            0       11      1          1\n",
       "...        ...      ...    ...        ...\n",
       "258375    5795     2036      0          1\n",
       "258376    5795     2039      0          2\n",
       "258377    5795     2266      0          1\n",
       "258378    5795     2348      0          1\n",
       "258379    5795     2352      0          1\n",
       "\n",
       "[258380 rows x 4 columns]"
      ]
     },
     "execution_count": 287,
     "metadata": {},
     "output_type": "execute_result"
    }
   ],
   "source": [
    "train_grouped"
   ]
  },
  {
   "cell_type": "code",
   "execution_count": 288,
   "metadata": {},
   "outputs": [
    {
     "data": {
      "text/plain": [
       "(258380, 4)"
      ]
     },
     "execution_count": 288,
     "metadata": {},
     "output_type": "execute_result"
    }
   ],
   "source": [
    "train_grouped.shape"
   ]
  },
  {
   "cell_type": "code",
   "execution_count": 289,
   "metadata": {},
   "outputs": [
    {
     "name": "stdout",
     "output_type": "stream",
     "text": [
      "train_grouped.shape is  (258380, 4) ....sparse_train_df.shape is :  (429244, 4)\n"
     ]
    }
   ],
   "source": [
    "print('train_grouped.shape is ', train_grouped.shape, '....sparse_train_df.shape is : ',  sparse_train_df.shape)"
   ]
  },
  {
   "cell_type": "code",
   "execution_count": 290,
   "metadata": {},
   "outputs": [],
   "source": [
    "# what word corresponds to '2009'.....how to find this?"
   ]
  },
  {
   "cell_type": "code",
   "execution_count": 291,
   "metadata": {},
   "outputs": [
    {
     "data": {
      "text/plain": [
       "'strateg'"
      ]
     },
     "execution_count": 291,
     "metadata": {},
     "output_type": "execute_result"
    }
   ],
   "source": [
    "vocab.at[2499, 'VOCAB_WORD']"
   ]
  },
  {
   "cell_type": "code",
   "execution_count": 292,
   "metadata": {},
   "outputs": [
    {
     "data": {
      "text/plain": [
       "0"
      ]
     },
     "execution_count": 292,
     "metadata": {},
     "output_type": "execute_result"
    }
   ],
   "source": [
    "word_index.get_loc('http')"
   ]
  },
  {
   "cell_type": "code",
   "execution_count": 293,
   "metadata": {},
   "outputs": [
    {
     "data": {
      "text/html": [
       "<div>\n",
       "<style scoped>\n",
       "    .dataframe tbody tr th:only-of-type {\n",
       "        vertical-align: middle;\n",
       "    }\n",
       "\n",
       "    .dataframe tbody tr th {\n",
       "        vertical-align: top;\n",
       "    }\n",
       "\n",
       "    .dataframe thead th {\n",
       "        text-align: right;\n",
       "    }\n",
       "</style>\n",
       "<table border=\"1\" class=\"dataframe\">\n",
       "  <thead>\n",
       "    <tr style=\"text-align: right;\">\n",
       "      <th></th>\n",
       "      <th>DOC_ID</th>\n",
       "      <th>WORD_ID</th>\n",
       "      <th>LABEL</th>\n",
       "      <th>OCCURENCE</th>\n",
       "    </tr>\n",
       "  </thead>\n",
       "  <tbody>\n",
       "    <tr>\n",
       "      <th>258370</th>\n",
       "      <td>5795</td>\n",
       "      <td>1921</td>\n",
       "      <td>0</td>\n",
       "      <td>1</td>\n",
       "    </tr>\n",
       "    <tr>\n",
       "      <th>258371</th>\n",
       "      <td>5795</td>\n",
       "      <td>1944</td>\n",
       "      <td>0</td>\n",
       "      <td>1</td>\n",
       "    </tr>\n",
       "    <tr>\n",
       "      <th>258372</th>\n",
       "      <td>5795</td>\n",
       "      <td>1954</td>\n",
       "      <td>0</td>\n",
       "      <td>1</td>\n",
       "    </tr>\n",
       "    <tr>\n",
       "      <th>258373</th>\n",
       "      <td>5795</td>\n",
       "      <td>1983</td>\n",
       "      <td>0</td>\n",
       "      <td>13</td>\n",
       "    </tr>\n",
       "    <tr>\n",
       "      <th>258374</th>\n",
       "      <td>5795</td>\n",
       "      <td>2023</td>\n",
       "      <td>0</td>\n",
       "      <td>1</td>\n",
       "    </tr>\n",
       "    <tr>\n",
       "      <th>258375</th>\n",
       "      <td>5795</td>\n",
       "      <td>2036</td>\n",
       "      <td>0</td>\n",
       "      <td>1</td>\n",
       "    </tr>\n",
       "    <tr>\n",
       "      <th>258376</th>\n",
       "      <td>5795</td>\n",
       "      <td>2039</td>\n",
       "      <td>0</td>\n",
       "      <td>2</td>\n",
       "    </tr>\n",
       "    <tr>\n",
       "      <th>258377</th>\n",
       "      <td>5795</td>\n",
       "      <td>2266</td>\n",
       "      <td>0</td>\n",
       "      <td>1</td>\n",
       "    </tr>\n",
       "    <tr>\n",
       "      <th>258378</th>\n",
       "      <td>5795</td>\n",
       "      <td>2348</td>\n",
       "      <td>0</td>\n",
       "      <td>1</td>\n",
       "    </tr>\n",
       "    <tr>\n",
       "      <th>258379</th>\n",
       "      <td>5795</td>\n",
       "      <td>2352</td>\n",
       "      <td>0</td>\n",
       "      <td>1</td>\n",
       "    </tr>\n",
       "  </tbody>\n",
       "</table>\n",
       "</div>"
      ],
      "text/plain": [
       "        DOC_ID  WORD_ID  LABEL  OCCURENCE\n",
       "258370    5795     1921      0          1\n",
       "258371    5795     1944      0          1\n",
       "258372    5795     1954      0          1\n",
       "258373    5795     1983      0         13\n",
       "258374    5795     2023      0          1\n",
       "258375    5795     2036      0          1\n",
       "258376    5795     2039      0          2\n",
       "258377    5795     2266      0          1\n",
       "258378    5795     2348      0          1\n",
       "258379    5795     2352      0          1"
      ]
     },
     "execution_count": 293,
     "metadata": {},
     "output_type": "execute_result"
    }
   ],
   "source": [
    "train_grouped[-10:]"
   ]
  },
  {
   "cell_type": "code",
   "execution_count": 294,
   "metadata": {},
   "outputs": [
    {
     "data": {
      "text/plain": [
       "'dig'"
      ]
     },
     "execution_count": 294,
     "metadata": {},
     "output_type": "execute_result"
    }
   ],
   "source": [
    "vocab.at[2005, 'VOCAB_WORD']"
   ]
  },
  {
   "cell_type": "code",
   "execution_count": 295,
   "metadata": {},
   "outputs": [
    {
     "data": {
      "text/plain": [
       "\"Hi there,\\n\\n\\n\\nNow this is probably of no use to you whatsoever, but...\\n\\n\\n\\nNot a deb-head, but I also have a problem regards NVidia. I've two machines,\\n\\npretty much the same hardware. \\n\\nathlon 1700XP's, both have NVidia cards, one Gforce3 Ti and a Gforce2MX,\\n\\nboth use the same driver module. \\n\\n\\n\\nBoth have same kernel version albeit it compiled for their particular\\n\\nhardware.\\n\\n\\n\\nOne works perfectly, the other fails to load. When I check with lsmod, I can\\n\\nsee the NVdriver is loaded, but not used ;--(\\n\\nThus when I startx, it bombs out. \\n\\n\\n\\nIU still have X with the default nv driver and crappy accelleration -->\\n\\n650fps with glxgears [should be over 2000fps]\\n\\nIts not a hardware issue with the cards as I swapped them over and get the\\n\\nsame symptoms. \\n\\n\\n\\nI reckon my mobo is cack, I've tried swapping slots around, reserving\\n\\nresources etc all to no avail. \\n\\nShould there be an interrupt for the nv card? I haven't checked the other\\n\\nbox yet.\\n\\n\\n\\nRegards,\\n\\nCW\\n\\n\\n\\n-------------------\\n\\nOn Tue, 03 Dec 2002, Mark Page wrote:\\n\\n\\n\\n> Was running Debian Woody perfectly well until I installed the NVIDIA 3D \\n\\n> tar packages.\\n\\n\\n\\nYou probably stil are ;)\\n\\n\\n\\n> Both the kernel and GLX packages installed with no problem and I then \\n\\n> amended the XFree config file appropriately (according to all \\n\\n> instructions). Neither GDM nor KDM will now fire up returning me to the \\n\\n> console screen. \\n\\n\\n\\nie X is broken. \\n\\n\\n\\n> Running startx I isolated the problem to a failure to load the nvidia\\n\\n> kernel module - By cd'ing to the kernel module file and re-running 'make\\n\\n> install' I can get a workable xserver \\n\\n\\n\\nso you fixed X.\\n\\n\\n\\n> minus the preferences you would get from either gdm or kdm and to be\\n\\n> honest the GUI is horrible.\\n\\n\\n\\nIf X is working and you get a brief Nvidia splash screen then this is\\n\\nlikely nothing to do with the driver itself.  You should be able to use kdm\\n\\nor gdm with the nvidia Xserver.  What exactly did you change in your\\n\\nXF86Config?  Will gdm/kdm not start?\\n\\n\\n\\n> I followed the nvidia suggestion of 'make install \\n\\n> SYSINCLUDE=/path/to/kernel/headers' and whilst this appears to install \\n\\n> ok upon reboot I am back to the same console login and having to go \\n\\n> through the same reinstall of the kernel module. I have tried rewriting \\n\\n> the XF config file to it's original state with no success.\\n\\n\\n\\nWell, this sounds like the NVIDIA kernel module isn't loading on boot.\\n\\nWhen it *is* working do a quick \\n\\n\\n\\n/sbin/lsmod\\n\\n\\n\\nand look for the module name (something like 'NVDriver').  Then put this on\\n\\na new line in \\n\\n\\n\\n/etc/modules\\n\\n\\n\\nin order that linux will load it on boot.  You can just do\\n\\n\\n\\nmodprobe nvdriver\\n\\n\\n\\nto load it by hand.  Your make install did this as well as reinstalling the\\n\\ndriver in /lib etc.  You should also get a message saying loading the\\n\\nnvidia driver taints your kernel (which it does, in the sense that it's not\\n\\nopen source).\\n\\n\\n\\n> Is this a problem anyone else has encountered and what is the best \\n\\n> solution? Can I rid myself of the tar file installations and find some \\n\\n> specific .deb packages?\\n\\n\\n\\nThe nvidia driver source is in the Woody tree.\\n\\n\\n\\nhttp://packages.debian.org/stable/x11/nvidia-kernel-src.html\\n\\n\\n\\nso you can do\\n\\n\\n\\napt-get install nvidia-kernel-src\\n\\n\\n\\nand then compile, although I've always gone the route you're doing now.\\n\\n\\n\\nIdeally the nvidia driver would be a part of the kernel from day 1.\\n\\nHowever, nvidia have not open sourced it (most of the above source is\\n\\npre-compiled object code), but in order for it to work with your specific\\n\\nkernel you must compile against your kernel headers (as you did).  As\\n\\ndebian has lots of potential kernels they can't have one nvdriver package\\n\\nand have chosen instead to provide the source.  Actually I don't know if\\n\\nthey're permitted to distribute binaries by nvidia's license anyway.\\n\\n\\n\\nGavin\\n\\n\\n\\n-- \\n\\nIrish Linux Users' Group: ilug@linux.ie\\n\\nhttp://www.linux.ie/mailman/listinfo/ilug for (un)subscription information.\\n\\nList maintainer: listmaster@linux.ie\\n\\n\\n\\n-- \\n\\nIrish Linux Users' Group: ilug@linux.ie\\n\\nhttp://www.linux.ie/mailman/listinfo/ilug for (un)subscription information.\\n\\nList maintainer: listmaster@linux.ie\\n\\n\\n\\n\\n\""
      ]
     },
     "execution_count": 295,
     "metadata": {},
     "output_type": "execute_result"
    }
   ],
   "source": [
    "data.MESSAGE[5795]"
   ]
  },
  {
   "cell_type": "code",
   "execution_count": 296,
   "metadata": {},
   "outputs": [],
   "source": [
    "TRAINING_DATA_FILE = 'SpamData/02_Training/train-data.txt'"
   ]
  },
  {
   "cell_type": "code",
   "execution_count": 297,
   "metadata": {},
   "outputs": [],
   "source": [
    "np.savetxt(TRAINING_DATA_FILE, train_grouped, fmt='%d')"
   ]
  },
  {
   "cell_type": "code",
   "execution_count": 298,
   "metadata": {},
   "outputs": [],
   "source": [
    "# Example...\n",
    "\n",
    "a = np.array([[11, 12, 13, 14],\n",
    "              [21, 22, 23, 24],\n",
    "              [31, 32, 33, 34]])\n",
    "\n",
    "\n",
    "np.savetxt('tmp.txt', a)"
   ]
  },
  {
   "cell_type": "code",
   "execution_count": 299,
   "metadata": {},
   "outputs": [],
   "source": [
    "np.savetxt('tmp.txt', a, fmt='%1.3f')"
   ]
  },
  {
   "cell_type": "code",
   "execution_count": 300,
   "metadata": {},
   "outputs": [],
   "source": [
    "np.savetxt('tmp.txt', a, fmt='%4d')"
   ]
  },
  {
   "cell_type": "code",
   "execution_count": 301,
   "metadata": {},
   "outputs": [],
   "source": [
    "np.savetxt('tmp.txt', a, fmt='%d')"
   ]
  },
  {
   "cell_type": "code",
   "execution_count": 305,
   "metadata": {},
   "outputs": [],
   "source": [
    "sparse_test_df = make_sparse_matrix(X_test, word_index, y_test)"
   ]
  },
  {
   "cell_type": "code",
   "execution_count": 306,
   "metadata": {},
   "outputs": [
    {
     "data": {
      "text/plain": [
       "(203379, 4)"
      ]
     },
     "execution_count": 306,
     "metadata": {},
     "output_type": "execute_result"
    }
   ],
   "source": [
    "sparse_test_df.shape"
   ]
  },
  {
   "cell_type": "code",
   "execution_count": 307,
   "metadata": {},
   "outputs": [
    {
     "data": {
      "text/html": [
       "<div>\n",
       "<style scoped>\n",
       "    .dataframe tbody tr th:only-of-type {\n",
       "        vertical-align: middle;\n",
       "    }\n",
       "\n",
       "    .dataframe tbody tr th {\n",
       "        vertical-align: top;\n",
       "    }\n",
       "\n",
       "    .dataframe thead th {\n",
       "        text-align: right;\n",
       "    }\n",
       "</style>\n",
       "<table border=\"1\" class=\"dataframe\">\n",
       "  <thead>\n",
       "    <tr style=\"text-align: right;\">\n",
       "      <th></th>\n",
       "      <th>DOC_ID</th>\n",
       "      <th>WORD_ID</th>\n",
       "      <th>LABEL</th>\n",
       "      <th>OCCURENCE</th>\n",
       "    </tr>\n",
       "  </thead>\n",
       "  <tbody>\n",
       "    <tr>\n",
       "      <th>0</th>\n",
       "      <td>8</td>\n",
       "      <td>2</td>\n",
       "      <td>1</td>\n",
       "      <td>1</td>\n",
       "    </tr>\n",
       "    <tr>\n",
       "      <th>1</th>\n",
       "      <td>8</td>\n",
       "      <td>3</td>\n",
       "      <td>1</td>\n",
       "      <td>4</td>\n",
       "    </tr>\n",
       "    <tr>\n",
       "      <th>2</th>\n",
       "      <td>8</td>\n",
       "      <td>4</td>\n",
       "      <td>1</td>\n",
       "      <td>2</td>\n",
       "    </tr>\n",
       "    <tr>\n",
       "      <th>3</th>\n",
       "      <td>8</td>\n",
       "      <td>5</td>\n",
       "      <td>1</td>\n",
       "      <td>1</td>\n",
       "    </tr>\n",
       "    <tr>\n",
       "      <th>4</th>\n",
       "      <td>8</td>\n",
       "      <td>6</td>\n",
       "      <td>1</td>\n",
       "      <td>2</td>\n",
       "    </tr>\n",
       "  </tbody>\n",
       "</table>\n",
       "</div>"
      ],
      "text/plain": [
       "   DOC_ID  WORD_ID  LABEL  OCCURENCE\n",
       "0       8        2      1          1\n",
       "1       8        3      1          4\n",
       "2       8        4      1          2\n",
       "3       8        5      1          1\n",
       "4       8        6      1          2"
      ]
     },
     "execution_count": 307,
     "metadata": {},
     "output_type": "execute_result"
    }
   ],
   "source": [
    "test_grouped = sparse_test_df.groupby(['DOC_ID', 'WORD_ID', 'LABEL']).sum().reset_index()\n",
    "test_grouped.head()"
   ]
  },
  {
   "cell_type": "code",
   "execution_count": 308,
   "metadata": {},
   "outputs": [
    {
     "data": {
      "text/plain": [
       "(117782, 4)"
      ]
     },
     "execution_count": 308,
     "metadata": {},
     "output_type": "execute_result"
    }
   ],
   "source": [
    "test_grouped.shape"
   ]
  },
  {
   "cell_type": "code",
   "execution_count": 309,
   "metadata": {},
   "outputs": [],
   "source": [
    "# saving as a txt file path as below, using np)\n",
    "TEST_DATA_FILE = 'SpamData/02_Training/test-data.txt'\n",
    "np.savetxt(TEST_DATA_FILE, test_grouped, fmt='%d')"
   ]
  },
  {
   "cell_type": "code",
   "execution_count": 310,
   "metadata": {},
   "outputs": [],
   "source": [
    "# How did this begin\n",
    "# how many mails did we have totally....5800...\n",
    "# after initial cleaning we had how many....5796\n",
    "# How many spam.............................1896\n",
    "# how many ham..............................3900\n",
    "# how many in Train data....................4057\n",
    "# how many in test data.....................1739\n",
    "# train_grouped.shape.......................(258311, 4)\n",
    "# test_grouped.shape........................(117612,4)"
   ]
  },
  {
   "cell_type": "code",
   "execution_count": 311,
   "metadata": {},
   "outputs": [],
   "source": [
    "train_doc_ids=set(train_grouped.DOC_ID)\n",
    "test_doc_ids = set(test_grouped.DOC_ID)"
   ]
  },
  {
   "cell_type": "code",
   "execution_count": 312,
   "metadata": {},
   "outputs": [
    {
     "data": {
      "text/plain": [
       "4013"
      ]
     },
     "execution_count": 312,
     "metadata": {},
     "output_type": "execute_result"
    }
   ],
   "source": [
    "len(train_doc_ids)"
   ]
  },
  {
   "cell_type": "code",
   "execution_count": 313,
   "metadata": {},
   "outputs": [
    {
     "data": {
      "text/plain": [
       "1724"
      ]
     },
     "execution_count": 313,
     "metadata": {},
     "output_type": "execute_result"
    }
   ],
   "source": [
    "len(test_doc_ids)"
   ]
  },
  {
   "cell_type": "code",
   "execution_count": 314,
   "metadata": {},
   "outputs": [],
   "source": [
    "# We lost 42 mail after we did the train_grouped\n",
    "# We lost 15 mails after we did the test_grouped\n",
    "# How....\n",
    "# 1) Possibility...we have taken only 2500 words, and the mails that we lost did not have these 2500 words..\n",
    "# 2) We are going to do some more Exploration...as to why we lsot the mails....????\n",
    "# 3) Checking on the test data.......\n",
    "# 4) You can repeat the same on the train data....."
   ]
  },
  {
   "cell_type": "code",
   "execution_count": 315,
   "metadata": {},
   "outputs": [
    {
     "data": {
      "text/plain": [
       "Int64Index([4675, 4220, 2484, 2418, 5110, 1161, 3296,  101, 3337,  401,\n",
       "            ...\n",
       "            3674, 4885, 5120, 1338, 2671, 5295, 5740, 5069, 1293, 4354],\n",
       "           dtype='int64', length=1739)"
      ]
     },
     "execution_count": 315,
     "metadata": {},
     "output_type": "execute_result"
    }
   ],
   "source": [
    "X_test.index"
   ]
  },
  {
   "cell_type": "code",
   "execution_count": 316,
   "metadata": {},
   "outputs": [
    {
     "data": {
      "text/plain": [
       "{134, 179, 240, 274, 298, 339, 439, 471, 670, 734, 765, 945, 1544, 1670, 1700}"
      ]
     },
     "execution_count": 316,
     "metadata": {},
     "output_type": "execute_result"
    }
   ],
   "source": [
    "set(X_test.index.values) - test_doc_ids"
   ]
  },
  {
   "cell_type": "code",
   "execution_count": 317,
   "metadata": {},
   "outputs": [
    {
     "data": {
      "text/plain": [
       "'------=_NextPart_000_00E8_85C13B1D.B7243B86\\n\\nContent-Type: text/html; charset=\"iso-8859-1\"\\n\\nContent-Transfer-Encoding: base64\\n\\n\\n\\n\\n\\nPGh0bWw+DQoNCjxib2R5IGJnY29sb3I9IiNGRkZGRkYiIHRleHQ9IiMwMDAw\\n\\nMDAiPiANCjxwIGFsaWduPSJjZW50ZXIiPjxhIGhyZWY9Imh0dHA6Ly93d3cu\\n\\nZGlyZWN0d2Vic3RvcmUuY29tL3RveXMvaW5kZXguaHRtbCI+PGltZyBzcmM9\\n\\nImh0dHA6Ly93d3cuZGlyZWN0d2Vic3RvcmUuY29tL21waWMuanBnIiB3aWR0\\n\\naD0iNTAwIiBoZWlnaHQ9IjMzOSIgYm9yZGVyPSIwIj48L2E+PGJyPiANCjxm\\n\\nb250IHNpemU9IjMiIGZhY2U9IkFyaWFsLCBIZWx2ZXRpY2EsIHNhbnMtc2Vy\\n\\naWYiPjxhIGhyZWY9Imh0dHA6Ly93d3cuZGlyZWN0d2Vic3RvcmUuY29tL3Rv\\n\\neXMvaW5kZXguaHRtbCI+PGI+RU5URVIgDQpOT1cgaWYgeW91IGFyZSAxOCBh\\n\\nbmQgb3ZlcjwvYj48L2E+PC9mb250PjwvcD4gDQo8cCBhbGlnbj0iY2VudGVy\\n\\nIj48Zm9udCBmYWNlPSJBcmlhbCwgSGVsdmV0aWNhLCBzYW5zLXNlcmlmIiBz\\n\\naXplPSI0IiBjb2xvcj0iI0ZGMDAwMCI+PGI+U1BFQ0lBTCANCk9GRkVSPGJy\\n\\nPiANCjxmb250IHNpemU9IjUiPjMwIERheXMgPGk+RlJFRSBhY2Nlc3M8L2k+\\n\\nIDwvZm9udD48YnI+IA0KdG8gdGhlIGxhcmdlc3QgQWR1bHRzaXRlIG9uIHRo\\n\\nZSB3ZWIuPGJyPiANCjwvYj4gPGZvbnQgc2l6ZT0iMiI+Zm9yIG9yZGVycyBv\\n\\ndmVyICQxMDA8L2ZvbnQ+PC9mb250PjwvcD4gDQo8cCBhbGlnbj0iY2VudGVy\\n\\nIj48Zm9udCBzaXplPSIyIiBmYWNlPSJBcmlhbCwgSGVsdmV0aWNhLCBzYW5z\\n\\nLXNlcmlmIj48Yj48Zm9udCBzaXplPSI0IiBjb2xvcj0iIzAwMDBGRiI+UmVh\\n\\nZHkgDQp0byBnbyBTaG9wcGluZz8gPC9mb250PjwvYj48YnI+IA0KWW91IGNh\\n\\nbiBmZWVsIHNhZmUgc2hvcHBpbmcgb3VyIHNlY3VyZSBvbmxpbmUgc3RvcmUu\\n\\nIDxicj4gDQpZb3VyIHByaXZhY3kgYW5kIGNvbmZpZGVudGlhbGl0eSBpcyBv\\n\\ndXIgcHJpb3JpdHkuIDxicj4gDQpBbGwgb3JkZXJzIGFyZSBwYWNrZWQgaW4g\\n\\nYSBkaXNjcmVldCBwcmlvcml0eSBtYWlsIGJveC4gPGJyPiANCldlIG5ldmVy\\n\\nIHNoYXJlIHlvdXIgaW5mb3JtYXRpb24gd2l0aCBhbnlvbmUuIE9yZGVycyBz\\n\\naGlwcGVkIHdpdGhpbiAyNCBob3Vycy48L2ZvbnQ+PC9wPiANCg0KPHAgYWxp\\n\\nZ249ImNlbnRlciI+PGZvbnQgc2l6ZT0iMyIgZmFjZT0iQXJpYWwsIEhlbHZl\\n\\ndGljYSwgc2Fucy1zZXJpZiI+PGEgaHJlZj0iaHR0cDovL3d3dy5kaXJlY3R3\\n\\nZWJzdG9yZS5jb20vdG95cy9pbmRleC5odG1sIj48Yj48Zm9udCBzaXplPSI1\\n\\nIj5FTlRFUiANCk5PVzwvZm9udD48L2I+PC9hPjwvZm9udD48L3A+IA0KPHAg\\n\\nYWxpZ249ImNlbnRlciI+Jm5ic3A7PC9wPiANCjxwIGFsaWduPSJjZW50ZXIi\\n\\nPiZuYnNwOzwvcD4gDQo8cCBhbGlnbj0iY2VudGVyIj48Zm9udCBzaXplPSIx\\n\\nIiBmYWNlPSJBcmlhbCwgSGVsdmV0aWNhLCBzYW5zLXNlcmlmIj5UaGlzIEUt\\n\\nbWFpbGluZyANCmhhcyBiZWVuIHNlbnQgdG8geW91IGFzIGEgcGVyc29uIGlu\\n\\ndGVyZXN0ZWQgaW4gdGhlIGluZm9ybWF0aW9uIGVuY2xvc2VkLiA8YnI+IA0K\\n\\nSWYgdGhpcyByZWFjaGVkIHlvdSBieSBlcnJvciwgb3IgeW91IGRvIG5vdCB3\\n\\naXNoIHRvIHJlY2VpdmUgdGhpcyBpbmZvcm1hdGlvbiANCm9yIHR5cGUgb2Yg\\n\\naW5mb3JtYXRpb24gaW4gdGhlIGZ1dHVyZSwgPGJyPiANCnBsZWFzZSBjbGlj\\n\\nayBvbiB0aGUgd29yZDxhIGhyZWY9Im1haWx0bzptaW5pcmVtQGZpcmVtYWls\\n\\nLmRlIj4gUkVNT1ZFIDwvYT5hbmQgDQpyZXBseSB0aGlzIGVtYWlsIHRvIHVz\\n\\nLCB5b3Ugd2lsbCBiZSB0YWtlbiBvZmYgb3VyIGxpc3QgaW1tZWRpYXRlbHkg\\n\\nYW5kIE5FVkVSIA0KcmVjZWl2ZSBhbnkgZW1haWxzIGZyb20gdXMuPC9mb250\\n\\nPjwvcD4gDQo8cCBhbGlnbj0iY2VudGVyIj4mbmJzcDs8L3A+IA0KPHAgYWxp\\n\\nZ249ImNlbnRlciI+Jm5ic3A7PC9wPiANCjxwIGFsaWduPSJjZW50ZXIiPiZu\\n\\nYnNwOzwvcD4gDQo8cCBhbGlnbj0iY2VudGVyIj4mbmJzcDs8L3A+IA0KPHAg\\n\\nYWxpZ249ImNlbnRlciI+Jm5ic3A7PC9wPiANCjwvYm9keT4gDQo8L2h0bWw+\\n\\nDQoxMzkzUHdxYjAtMjYxU0JjSDAzNTdtaEdxMS0xMDN1VHVQOTA3NkFyd3gw\\n\\nLTI1Nm5ad2M0NjA2aWtDSzUtNDUyS2VzdzM1NjhFT29JNC00NjFQbDc3\\n\\n\\n'"
      ]
     },
     "execution_count": 317,
     "metadata": {},
     "output_type": "execute_result"
    }
   ],
   "source": [
    "data.MESSAGE[134]"
   ]
  },
  {
   "cell_type": "code",
   "execution_count": 318,
   "metadata": {},
   "outputs": [
    {
     "data": {
      "text/plain": [
       "[]"
      ]
     },
     "execution_count": 318,
     "metadata": {},
     "output_type": "execute_result"
    }
   ],
   "source": [
    "clean_msg_no_html(data.at[134, 'MESSAGE'])"
   ]
  },
  {
   "cell_type": "code",
   "execution_count": 319,
   "metadata": {},
   "outputs": [
    {
     "data": {
      "text/plain": [
       "MESSAGE      ------=_NextPart_000_00E8_85C13B1D.B7243B86\\n\\...\n",
       "CATEGORY                                                     1\n",
       "FILE_NAME               00135.00e388e3b23df6278a8845047ca25160\n",
       "Name: 134, dtype: object"
      ]
     },
     "execution_count": 319,
     "metadata": {},
     "output_type": "execute_result"
    }
   ],
   "source": [
    "data.loc[134]"
   ]
  },
  {
   "cell_type": "code",
   "execution_count": 320,
   "metadata": {},
   "outputs": [],
   "source": [
    "file_number_135 ='SpamData/01_Processing/spam_assassin_corpus/spam_1/00135.00e388e3b23df6278a8845047ca25160'"
   ]
  },
  {
   "cell_type": "code",
   "execution_count": 321,
   "metadata": {},
   "outputs": [],
   "source": [
    "file_number_135_stream = open(file_number_135)\n",
    "message_135 = file_number_135_stream.read()\n",
    "file_number_135_stream.close()"
   ]
  },
  {
   "cell_type": "code",
   "execution_count": 322,
   "metadata": {},
   "outputs": [
    {
     "data": {
      "text/plain": [
       "'From new_adult_toys_0463b54@yahoo.com  Wed Aug 28 11:04:02 2002\\nReturn-Path: <new_adult_toys_0463b54@yahoo.com>\\nDelivered-To: zzzz@localhost.spamassassin.taint.org\\nReceived: from localhost (localhost [127.0.0.1])\\n\\tby phobos.labs.spamassassin.taint.org (Postfix) with ESMTP id 32C7943F99\\n\\tfor <zzzz@localhost>; Wed, 28 Aug 2002 06:03:57 -0400 (EDT)\\nReceived: from phobos [127.0.0.1]\\n\\tby localhost with IMAP (fetchmail-5.9.0)\\n\\tfor zzzz@localhost (single-drop); Wed, 28 Aug 2002 11:03:57 +0100 (IST)\\nReceived: from yahoo.com (IDENT:squid@[211.57.23.142]) by\\n    dogma.slashnull.org (8.11.6/8.11.6) with SMTP id g7RJLTZ22353 for\\n    <webmaster@efi.ie>; Tue, 27 Aug 2002 20:21:30 +0100\\nReceived: from 144.60.76.182 ([144.60.76.182]) by smtp4.cyberecschange.com\\n    with SMTP; 28 Aug 0102 14:16:34 -0100\\nReceived: from pet.vosni.net ([179.59.188.175]) by\\n    smtp-server.tampabayr.com with smtp; 28 Aug 0102 13:11:42 -0900\\nReceived: from 179.125.241.6 ([179.125.241.6]) by smtp-server1.cflrr.com\\n    with asmtp; 28 Aug 0102 04:06:50 -0900\\nReply-To: <new_adult_toys_0463b54@yahoo.com>\\nMessage-Id: <014d73e75c7b$6247c3e0$8ce81ed4@ywdmjl>\\nFrom: <new_adult_toys_0463b54@yahoo.com>\\nTo: <webmaster@efi.ie>\\nSubject: online catalog of articles, adult toys 2009vjtt6-179dML-15\\nDate: Tue, 27 Aug 0102 20:59:44 -0200\\nMIME-Version: 1.0\\nX-Priority: 3 (Normal)\\nX-Msmail-Priority: Normal\\nX-Mailer: QUALCOMM Windows Eudora Version 5.1\\nImportance: Normal\\nContent-Type: multipart/mixed; boundary=\"----=_NextPart_000_00E8_85C13B1D.B7243B86\"\\n\\n------=_NextPart_000_00E8_85C13B1D.B7243B86\\nContent-Type: text/html; charset=\"iso-8859-1\"\\nContent-Transfer-Encoding: base64\\n\\n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\\nLTI1Nm5ad2M0NjA2aWtDSzUtNDUyS2VzdzM1NjhFT29JNC00NjFQbDc3\\n\\n'"
      ]
     },
     "execution_count": 322,
     "metadata": {},
     "output_type": "execute_result"
    }
   ],
   "source": [
    "message_135"
   ]
  },
  {
   "cell_type": "code",
   "execution_count": null,
   "metadata": {},
   "outputs": [],
   "source": []
  },
  {
   "cell_type": "code",
   "execution_count": null,
   "metadata": {},
   "outputs": [],
   "source": []
  },
  {
   "cell_type": "code",
   "execution_count": null,
   "metadata": {},
   "outputs": [],
   "source": []
  }
 ],
 "metadata": {
  "kernelspec": {
   "display_name": "Python 3",
   "language": "python",
   "name": "python3"
  },
  "language_info": {
   "codemirror_mode": {
    "name": "ipython",
    "version": 3
   },
   "file_extension": ".py",
   "mimetype": "text/x-python",
   "name": "python",
   "nbconvert_exporter": "python",
   "pygments_lexer": "ipython3",
   "version": "3.8.3"
  }
 },
 "nbformat": 4,
 "nbformat_minor": 4
}
